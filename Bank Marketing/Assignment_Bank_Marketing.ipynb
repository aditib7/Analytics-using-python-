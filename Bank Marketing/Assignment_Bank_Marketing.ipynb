{
  "nbformat": 4,
  "nbformat_minor": 0,
  "metadata": {
    "colab": {
      "name": "Assignment - Bank Marketing.ipynb",
      "provenance": []
    },
    "kernelspec": {
      "name": "python3",
      "display_name": "Python 3"
    },
    "language_info": {
      "name": "python"
    }
  },
  "cells": [
    {
      "cell_type": "code",
      "metadata": {
        "id": "b4udXRg5Xb3J"
      },
      "source": [
        "import os"
      ],
      "execution_count": null,
      "outputs": []
    },
    {
      "cell_type": "code",
      "metadata": {
        "id": "v-cVOVcax6Z3"
      },
      "source": [
        "from google.colab import files"
      ],
      "execution_count": null,
      "outputs": []
    },
    {
      "cell_type": "code",
      "metadata": {
        "colab": {
          "resources": {
            "http://localhost:8080/nbextensions/google.colab/files.js": {
              "data": "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",
              "ok": true,
              "headers": [
                [
                  "content-type",
                  "application/javascript"
                ]
              ],
              "status": 200,
              "status_text": ""
            }
          },
          "base_uri": "https://localhost:8080/",
          "height": 72
        },
        "id": "96fuUDkcx9s_",
        "outputId": "2da55990-a57e-4d2a-ff8d-73b8d378bb97"
      },
      "source": [
        "uploaded = files.upload()"
      ],
      "execution_count": null,
      "outputs": [
        {
          "output_type": "display_data",
          "data": {
            "text/html": [
              "\n",
              "     <input type=\"file\" id=\"files-2bad9b5c-eeac-4635-8c66-6282aeb113d4\" name=\"files[]\" multiple disabled\n",
              "        style=\"border:none\" />\n",
              "     <output id=\"result-2bad9b5c-eeac-4635-8c66-6282aeb113d4\">\n",
              "      Upload widget is only available when the cell has been executed in the\n",
              "      current browser session. Please rerun this cell to enable.\n",
              "      </output>\n",
              "      <script src=\"/nbextensions/google.colab/files.js\"></script> "
            ],
            "text/plain": [
              "<IPython.core.display.HTML object>"
            ]
          },
          "metadata": {
            "tags": []
          }
        },
        {
          "output_type": "stream",
          "text": [
            "Saving bank_marketing.csv to bank_marketing.csv\n"
          ],
          "name": "stdout"
        }
      ]
    },
    {
      "cell_type": "code",
      "metadata": {
        "id": "c1fm1qQxyKP1"
      },
      "source": [
        "import pandas as pd\n",
        "\n",
        "import numpy as np "
      ],
      "execution_count": null,
      "outputs": []
    },
    {
      "cell_type": "code",
      "metadata": {
        "id": "oXH96p_8yuQz"
      },
      "source": [
        "bank_data = pd.read_csv('bank_marketing.csv')"
      ],
      "execution_count": null,
      "outputs": []
    },
    {
      "cell_type": "code",
      "metadata": {
        "colab": {
          "base_uri": "https://localhost:8080/",
          "height": 241
        },
        "id": "zydDqkl1zLVC",
        "outputId": "c133b188-aee0-49ad-c570-6b3d556c7be4"
      },
      "source": [
        "bank_data.head()"
      ],
      "execution_count": null,
      "outputs": [
        {
          "output_type": "execute_result",
          "data": {
            "text/html": [
              "<div>\n",
              "<style scoped>\n",
              "    .dataframe tbody tr th:only-of-type {\n",
              "        vertical-align: middle;\n",
              "    }\n",
              "\n",
              "    .dataframe tbody tr th {\n",
              "        vertical-align: top;\n",
              "    }\n",
              "\n",
              "    .dataframe thead th {\n",
              "        text-align: right;\n",
              "    }\n",
              "</style>\n",
              "<table border=\"1\" class=\"dataframe\">\n",
              "  <thead>\n",
              "    <tr style=\"text-align: right;\">\n",
              "      <th></th>\n",
              "      <th>Unnamed: 0</th>\n",
              "      <th>age</th>\n",
              "      <th>job</th>\n",
              "      <th>marital</th>\n",
              "      <th>education</th>\n",
              "      <th>default</th>\n",
              "      <th>balance</th>\n",
              "      <th>housing</th>\n",
              "      <th>loan</th>\n",
              "      <th>contact</th>\n",
              "      <th>day</th>\n",
              "      <th>month</th>\n",
              "      <th>duration</th>\n",
              "      <th>campaign</th>\n",
              "      <th>pdays</th>\n",
              "      <th>previous</th>\n",
              "      <th>poutcome</th>\n",
              "      <th>deposit</th>\n",
              "    </tr>\n",
              "  </thead>\n",
              "  <tbody>\n",
              "    <tr>\n",
              "      <th>0</th>\n",
              "      <td>0</td>\n",
              "      <td>41</td>\n",
              "      <td>services</td>\n",
              "      <td>married</td>\n",
              "      <td>unknown</td>\n",
              "      <td>no</td>\n",
              "      <td>88</td>\n",
              "      <td>yes</td>\n",
              "      <td>no</td>\n",
              "      <td>cellular</td>\n",
              "      <td>11</td>\n",
              "      <td>may</td>\n",
              "      <td>105</td>\n",
              "      <td>1</td>\n",
              "      <td>336</td>\n",
              "      <td>2</td>\n",
              "      <td>failure</td>\n",
              "      <td>no</td>\n",
              "    </tr>\n",
              "    <tr>\n",
              "      <th>1</th>\n",
              "      <td>1</td>\n",
              "      <td>56</td>\n",
              "      <td>technician</td>\n",
              "      <td>married</td>\n",
              "      <td>secondary</td>\n",
              "      <td>no</td>\n",
              "      <td>1938</td>\n",
              "      <td>no</td>\n",
              "      <td>yes</td>\n",
              "      <td>cellular</td>\n",
              "      <td>26</td>\n",
              "      <td>feb</td>\n",
              "      <td>229</td>\n",
              "      <td>1</td>\n",
              "      <td>192</td>\n",
              "      <td>4</td>\n",
              "      <td>success</td>\n",
              "      <td>yes</td>\n",
              "    </tr>\n",
              "    <tr>\n",
              "      <th>2</th>\n",
              "      <td>2</td>\n",
              "      <td>30</td>\n",
              "      <td>services</td>\n",
              "      <td>single</td>\n",
              "      <td>secondary</td>\n",
              "      <td>no</td>\n",
              "      <td>245</td>\n",
              "      <td>no</td>\n",
              "      <td>yes</td>\n",
              "      <td>cellular</td>\n",
              "      <td>8</td>\n",
              "      <td>jul</td>\n",
              "      <td>187</td>\n",
              "      <td>2</td>\n",
              "      <td>-1</td>\n",
              "      <td>0</td>\n",
              "      <td>unknown</td>\n",
              "      <td>no</td>\n",
              "    </tr>\n",
              "    <tr>\n",
              "      <th>3</th>\n",
              "      <td>3</td>\n",
              "      <td>34</td>\n",
              "      <td>management</td>\n",
              "      <td>single</td>\n",
              "      <td>tertiary</td>\n",
              "      <td>no</td>\n",
              "      <td>1396</td>\n",
              "      <td>yes</td>\n",
              "      <td>no</td>\n",
              "      <td>cellular</td>\n",
              "      <td>17</td>\n",
              "      <td>jul</td>\n",
              "      <td>630</td>\n",
              "      <td>1</td>\n",
              "      <td>-1</td>\n",
              "      <td>0</td>\n",
              "      <td>unknown</td>\n",
              "      <td>no</td>\n",
              "    </tr>\n",
              "    <tr>\n",
              "      <th>4</th>\n",
              "      <td>4</td>\n",
              "      <td>29</td>\n",
              "      <td>technician</td>\n",
              "      <td>single</td>\n",
              "      <td>secondary</td>\n",
              "      <td>no</td>\n",
              "      <td>-13</td>\n",
              "      <td>yes</td>\n",
              "      <td>no</td>\n",
              "      <td>cellular</td>\n",
              "      <td>14</td>\n",
              "      <td>may</td>\n",
              "      <td>512</td>\n",
              "      <td>3</td>\n",
              "      <td>-1</td>\n",
              "      <td>0</td>\n",
              "      <td>unknown</td>\n",
              "      <td>no</td>\n",
              "    </tr>\n",
              "  </tbody>\n",
              "</table>\n",
              "</div>"
            ],
            "text/plain": [
              "   Unnamed: 0  age         job  marital  ... pdays previous  poutcome deposit\n",
              "0           0   41    services  married  ...   336        2   failure      no\n",
              "1           1   56  technician  married  ...   192        4   success     yes\n",
              "2           2   30    services   single  ...    -1        0   unknown      no\n",
              "3           3   34  management   single  ...    -1        0   unknown      no\n",
              "4           4   29  technician   single  ...    -1        0   unknown      no\n",
              "\n",
              "[5 rows x 18 columns]"
            ]
          },
          "metadata": {
            "tags": []
          },
          "execution_count": 6
        }
      ]
    },
    {
      "cell_type": "code",
      "metadata": {
        "id": "YWfpKOGIJwcP"
      },
      "source": [
        "# there is additional column for index numbers that can be removed\n",
        "\n",
        "bank_data = pd.read_csv('bank_marketing.csv', index_col = 0)"
      ],
      "execution_count": null,
      "outputs": []
    },
    {
      "cell_type": "code",
      "metadata": {
        "colab": {
          "base_uri": "https://localhost:8080/"
        },
        "id": "6s9cKmbhKAFE",
        "outputId": "db8cbf58-cc44-428e-b8db-18b8ced97332"
      },
      "source": [
        "# getting the number of observations across each of the rows and columns in dataframe\n",
        "\n",
        "bank_data.shape"
      ],
      "execution_count": null,
      "outputs": [
        {
          "output_type": "execute_result",
          "data": {
            "text/plain": [
              "(5581, 17)"
            ]
          },
          "metadata": {
            "tags": []
          },
          "execution_count": 8
        }
      ]
    },
    {
      "cell_type": "code",
      "metadata": {
        "colab": {
          "base_uri": "https://localhost:8080/"
        },
        "id": "BkhoZDQ1QAZb",
        "outputId": "55d1bce2-4445-43a9-af98-7a6c6991b027"
      },
      "source": [
        "bank_data.info()"
      ],
      "execution_count": null,
      "outputs": [
        {
          "output_type": "stream",
          "text": [
            "<class 'pandas.core.frame.DataFrame'>\n",
            "Int64Index: 5581 entries, 0 to 5580\n",
            "Data columns (total 17 columns):\n",
            " #   Column     Non-Null Count  Dtype \n",
            "---  ------     --------------  ----- \n",
            " 0   age        5581 non-null   int64 \n",
            " 1   job        5581 non-null   object\n",
            " 2   marital    5581 non-null   object\n",
            " 3   education  5581 non-null   object\n",
            " 4   default    5581 non-null   object\n",
            " 5   balance    5581 non-null   int64 \n",
            " 6   housing    5581 non-null   object\n",
            " 7   loan       5581 non-null   object\n",
            " 8   contact    5581 non-null   object\n",
            " 9   day        5581 non-null   int64 \n",
            " 10  month      5581 non-null   object\n",
            " 11  duration   5581 non-null   int64 \n",
            " 12  campaign   5581 non-null   int64 \n",
            " 13  pdays      5581 non-null   int64 \n",
            " 14  previous   5581 non-null   int64 \n",
            " 15  poutcome   5581 non-null   object\n",
            " 16  deposit    5581 non-null   object\n",
            "dtypes: int64(7), object(10)\n",
            "memory usage: 784.8+ KB\n"
          ],
          "name": "stdout"
        }
      ]
    },
    {
      "cell_type": "markdown",
      "metadata": {
        "id": "5VoqT5n4V5QV"
      },
      "source": [
        "Data types of each of the columns in the given dataframe:\n",
        "\n",
        "'int64' - 'age', 'balance', 'day', 'duration', campaign', 'pdays', 'previous'\n",
        "\n",
        "Rest of the 10 columns in the dataframe are of 'object' data type.\n",
        "\n",
        "---\n",
        "\n",
        "Numeric and Categorical Features in the given dataframe:\n",
        "\n",
        "---\n",
        "\n",
        "The numeric and categorical features are already identified in the assignment question document."
      ]
    },
    {
      "cell_type": "code",
      "metadata": {
        "colab": {
          "base_uri": "https://localhost:8080/"
        },
        "id": "m2pjhLscW5Oc",
        "outputId": "87a96705-892c-44b2-f683-cf649dd5a629"
      },
      "source": [
        "# checking the null values in the dataframe\n",
        "\n",
        "bank_data.isnull().sum()"
      ],
      "execution_count": null,
      "outputs": [
        {
          "output_type": "execute_result",
          "data": {
            "text/plain": [
              "age          0\n",
              "job          0\n",
              "marital      0\n",
              "education    0\n",
              "default      0\n",
              "balance      0\n",
              "housing      0\n",
              "loan         0\n",
              "contact      0\n",
              "day          0\n",
              "month        0\n",
              "duration     0\n",
              "campaign     0\n",
              "pdays        0\n",
              "previous     0\n",
              "poutcome     0\n",
              "deposit      0\n",
              "dtype: int64"
            ]
          },
          "metadata": {
            "tags": []
          },
          "execution_count": 10
        }
      ]
    },
    {
      "cell_type": "markdown",
      "metadata": {
        "id": "nAaFOidHhEWZ"
      },
      "source": [
        "There are no null values across each of the columns in the dataset"
      ]
    },
    {
      "cell_type": "code",
      "metadata": {
        "colab": {
          "base_uri": "https://localhost:8080/"
        },
        "id": "3l4NsN44hMcy",
        "outputId": "ea423e85-c799-496a-d5ab-0be1b438fa78"
      },
      "source": [
        "print(bank_data['age'].value_counts())"
      ],
      "execution_count": null,
      "outputs": [
        {
          "output_type": "stream",
          "text": [
            "31    251\n",
            "33    242\n",
            "34    240\n",
            "32    234\n",
            "35    224\n",
            "     ... \n",
            "92      2\n",
            "18      2\n",
            "93      2\n",
            "88      1\n",
            "89      1\n",
            "Name: age, Length: 73, dtype: int64\n"
          ],
          "name": "stdout"
        }
      ]
    },
    {
      "cell_type": "code",
      "metadata": {
        "colab": {
          "base_uri": "https://localhost:8080/"
        },
        "id": "B_AuKY4Nhkns",
        "outputId": "9fba8f06-1513-4afb-bcf2-a7cd52c7a3e2"
      },
      "source": [
        "bank_data['job'].value_counts()"
      ],
      "execution_count": null,
      "outputs": [
        {
          "output_type": "execute_result",
          "data": {
            "text/plain": [
              "management       1318\n",
              "blue-collar       975\n",
              "technician        887\n",
              "admin.            661\n",
              "services          452\n",
              "retired           397\n",
              "self-employed     206\n",
              "student           182\n",
              "unemployed        170\n",
              "entrepreneur      160\n",
              "housemaid         143\n",
              "unknown            30\n",
              "Name: job, dtype: int64"
            ]
          },
          "metadata": {
            "tags": []
          },
          "execution_count": 12
        }
      ]
    },
    {
      "cell_type": "code",
      "metadata": {
        "colab": {
          "base_uri": "https://localhost:8080/"
        },
        "id": "ViGgXG0ghsdn",
        "outputId": "259d853b-6847-4cca-d9a9-e770f34cfe8c"
      },
      "source": [
        "bank_data['marital'].value_counts()"
      ],
      "execution_count": null,
      "outputs": [
        {
          "output_type": "execute_result",
          "data": {
            "text/plain": [
              "married     3134\n",
              "single      1816\n",
              "divorced     631\n",
              "Name: marital, dtype: int64"
            ]
          },
          "metadata": {
            "tags": []
          },
          "execution_count": 13
        }
      ]
    },
    {
      "cell_type": "code",
      "metadata": {
        "colab": {
          "base_uri": "https://localhost:8080/"
        },
        "id": "5qDxP_FhiGLe",
        "outputId": "8a43abba-d5cb-484d-9379-e0ab57e4b8d2"
      },
      "source": [
        "bank_data['education'].value_counts()"
      ],
      "execution_count": null,
      "outputs": [
        {
          "output_type": "execute_result",
          "data": {
            "text/plain": [
              "secondary    2719\n",
              "tertiary     1871\n",
              "primary       746\n",
              "unknown       245\n",
              "Name: education, dtype: int64"
            ]
          },
          "metadata": {
            "tags": []
          },
          "execution_count": 14
        }
      ]
    },
    {
      "cell_type": "code",
      "metadata": {
        "colab": {
          "base_uri": "https://localhost:8080/"
        },
        "id": "DC7rPG1Vwc9B",
        "outputId": "da62c53f-0790-435b-c4b4-022c1d7ba11c"
      },
      "source": [
        "bank_data['poutcome'].value_counts()"
      ],
      "execution_count": null,
      "outputs": [
        {
          "output_type": "execute_result",
          "data": {
            "text/plain": [
              "unknown    4133\n",
              "failure     632\n",
              "success     539\n",
              "other       277\n",
              "Name: poutcome, dtype: int64"
            ]
          },
          "metadata": {
            "tags": []
          },
          "execution_count": 15
        }
      ]
    },
    {
      "cell_type": "markdown",
      "metadata": {
        "id": "hK8Hx3eIiTeJ"
      },
      "source": [
        "The target variable is of categorical data type and is titled 'deposit' in the given dataset. In this assignment, we are required to build a classification model to predict whether the client will subscribe to a term deposit. Hence, we will first check the relations between the target variable and other features in the dataset and visualize those relations."
      ]
    },
    {
      "cell_type": "code",
      "metadata": {
        "colab": {
          "base_uri": "https://localhost:8080/"
        },
        "id": "91ZJdNo6iQtW",
        "outputId": "ba2401e4-e451-4d0e-d488-2a2ce50acf4e"
      },
      "source": [
        "# checking the counts of values of clients who subscribed to a term deposit and those who did not subscribe to a term deposit\n",
        "\n",
        "bank_data['deposit'].value_counts()"
      ],
      "execution_count": null,
      "outputs": [
        {
          "output_type": "execute_result",
          "data": {
            "text/plain": [
              "no     2959\n",
              "yes    2622\n",
              "Name: deposit, dtype: int64"
            ]
          },
          "metadata": {
            "tags": []
          },
          "execution_count": 16
        }
      ]
    },
    {
      "cell_type": "markdown",
      "metadata": {
        "id": "KPiUFMy1OFGr"
      },
      "source": [
        "The output of above code shows that the given dataset is not an imbalanced dataset as there is a considerable proportion of both the 'yes' and 'no' values in the target variable, 'deposit'. 'yes' values are 47% and 'no' values are 53%. Thus, we can build a classification model without requiring treatment of values as we don't have an imbalanced dataset. "
      ]
    },
    {
      "cell_type": "code",
      "metadata": {
        "colab": {
          "base_uri": "https://localhost:8080/"
        },
        "id": "NjEgqrnG1Nt0",
        "outputId": "106266f7-0243-4505-ebb6-4c25408612e0"
      },
      "source": [
        "# checking the counts of values of number of times the clients were contacted in the previous campaign\n",
        "\n",
        "bank_data['previous'].value_counts()"
      ],
      "execution_count": null,
      "outputs": [
        {
          "output_type": "execute_result",
          "data": {
            "text/plain": [
              "0     4133\n",
              "1      452\n",
              "2      351\n",
              "3      228\n",
              "4      130\n",
              "5       80\n",
              "6       59\n",
              "7       42\n",
              "8       30\n",
              "9       16\n",
              "10      13\n",
              "11       8\n",
              "12       7\n",
              "17       6\n",
              "13       6\n",
              "15       3\n",
              "14       2\n",
              "20       2\n",
              "19       2\n",
              "40       1\n",
              "16       1\n",
              "28       1\n",
              "27       1\n",
              "29       1\n",
              "23       1\n",
              "41       1\n",
              "22       1\n",
              "26       1\n",
              "30       1\n",
              "37       1\n",
              "Name: previous, dtype: int64"
            ]
          },
          "metadata": {
            "tags": []
          },
          "execution_count": 17
        }
      ]
    },
    {
      "cell_type": "code",
      "metadata": {
        "colab": {
          "base_uri": "https://localhost:8080/"
        },
        "id": "J2qdEAwF59g7",
        "outputId": "431e9ab5-0739-4621-8d10-f784a379bfcd"
      },
      "source": [
        "bank_data['contact'].value_counts()"
      ],
      "execution_count": null,
      "outputs": [
        {
          "output_type": "execute_result",
          "data": {
            "text/plain": [
              "cellular     4044\n",
              "unknown      1155\n",
              "telephone     382\n",
              "Name: contact, dtype: int64"
            ]
          },
          "metadata": {
            "tags": []
          },
          "execution_count": 18
        }
      ]
    },
    {
      "cell_type": "code",
      "metadata": {
        "colab": {
          "base_uri": "https://localhost:8080/"
        },
        "id": "c8nWtPjp6ZtB",
        "outputId": "67947e80-0eb4-44ad-fb71-7b8d0f961005"
      },
      "source": [
        "# number of counts of values of contacts done during the second campaign\n",
        "bank_data['campaign'].value_counts()"
      ],
      "execution_count": null,
      "outputs": [
        {
          "output_type": "execute_result",
          "data": {
            "text/plain": [
              "1     2367\n",
              "2     1526\n",
              "3      687\n",
              "4      379\n",
              "5      206\n",
              "6      131\n",
              "7       66\n",
              "8       62\n",
              "9       39\n",
              "10      20\n",
              "11      19\n",
              "13      13\n",
              "12      11\n",
              "14       9\n",
              "15       8\n",
              "17       6\n",
              "21       5\n",
              "16       3\n",
              "18       3\n",
              "24       3\n",
              "22       2\n",
              "32       2\n",
              "19       2\n",
              "20       1\n",
              "28       1\n",
              "23       1\n",
              "33       1\n",
              "31       1\n",
              "25       1\n",
              "41       1\n",
              "43       1\n",
              "26       1\n",
              "30       1\n",
              "27       1\n",
              "63       1\n",
              "Name: campaign, dtype: int64"
            ]
          },
          "metadata": {
            "tags": []
          },
          "execution_count": 19
        }
      ]
    },
    {
      "cell_type": "code",
      "metadata": {
        "colab": {
          "base_uri": "https://localhost:8080/",
          "height": 483
        },
        "id": "g19fqoLyjuxi",
        "outputId": "a19ce9c6-849a-4c34-9d17-51d335dc4986"
      },
      "source": [
        "# checking the proportion of bank clients who made or not made a deposit by their jobs\n",
        "\n",
        "pd.crosstab(index = bank_data['job'], columns = bank_data['deposit'], normalize = True, margins = True)"
      ],
      "execution_count": null,
      "outputs": [
        {
          "output_type": "execute_result",
          "data": {
            "text/html": [
              "<div>\n",
              "<style scoped>\n",
              "    .dataframe tbody tr th:only-of-type {\n",
              "        vertical-align: middle;\n",
              "    }\n",
              "\n",
              "    .dataframe tbody tr th {\n",
              "        vertical-align: top;\n",
              "    }\n",
              "\n",
              "    .dataframe thead th {\n",
              "        text-align: right;\n",
              "    }\n",
              "</style>\n",
              "<table border=\"1\" class=\"dataframe\">\n",
              "  <thead>\n",
              "    <tr style=\"text-align: right;\">\n",
              "      <th>deposit</th>\n",
              "      <th>no</th>\n",
              "      <th>yes</th>\n",
              "      <th>All</th>\n",
              "    </tr>\n",
              "    <tr>\n",
              "      <th>job</th>\n",
              "      <th></th>\n",
              "      <th></th>\n",
              "      <th></th>\n",
              "    </tr>\n",
              "  </thead>\n",
              "  <tbody>\n",
              "    <tr>\n",
              "      <th>admin.</th>\n",
              "      <td>0.063609</td>\n",
              "      <td>0.054829</td>\n",
              "      <td>0.118438</td>\n",
              "    </tr>\n",
              "    <tr>\n",
              "      <th>blue-collar</th>\n",
              "      <td>0.112704</td>\n",
              "      <td>0.061996</td>\n",
              "      <td>0.174700</td>\n",
              "    </tr>\n",
              "    <tr>\n",
              "      <th>entrepreneur</th>\n",
              "      <td>0.018814</td>\n",
              "      <td>0.009855</td>\n",
              "      <td>0.028669</td>\n",
              "    </tr>\n",
              "    <tr>\n",
              "      <th>housemaid</th>\n",
              "      <td>0.014872</td>\n",
              "      <td>0.010751</td>\n",
              "      <td>0.025623</td>\n",
              "    </tr>\n",
              "    <tr>\n",
              "      <th>management</th>\n",
              "      <td>0.116287</td>\n",
              "      <td>0.119871</td>\n",
              "      <td>0.236158</td>\n",
              "    </tr>\n",
              "    <tr>\n",
              "      <th>retired</th>\n",
              "      <td>0.025443</td>\n",
              "      <td>0.045691</td>\n",
              "      <td>0.071134</td>\n",
              "    </tr>\n",
              "    <tr>\n",
              "      <th>self-employed</th>\n",
              "      <td>0.018455</td>\n",
              "      <td>0.018455</td>\n",
              "      <td>0.036911</td>\n",
              "    </tr>\n",
              "    <tr>\n",
              "      <th>services</th>\n",
              "      <td>0.047124</td>\n",
              "      <td>0.033865</td>\n",
              "      <td>0.080989</td>\n",
              "    </tr>\n",
              "    <tr>\n",
              "      <th>student</th>\n",
              "      <td>0.009497</td>\n",
              "      <td>0.023114</td>\n",
              "      <td>0.032611</td>\n",
              "    </tr>\n",
              "    <tr>\n",
              "      <th>technician</th>\n",
              "      <td>0.086185</td>\n",
              "      <td>0.072747</td>\n",
              "      <td>0.158932</td>\n",
              "    </tr>\n",
              "    <tr>\n",
              "      <th>unemployed</th>\n",
              "      <td>0.013976</td>\n",
              "      <td>0.016485</td>\n",
              "      <td>0.030460</td>\n",
              "    </tr>\n",
              "    <tr>\n",
              "      <th>unknown</th>\n",
              "      <td>0.003225</td>\n",
              "      <td>0.002150</td>\n",
              "      <td>0.005375</td>\n",
              "    </tr>\n",
              "    <tr>\n",
              "      <th>All</th>\n",
              "      <td>0.530192</td>\n",
              "      <td>0.469808</td>\n",
              "      <td>1.000000</td>\n",
              "    </tr>\n",
              "  </tbody>\n",
              "</table>\n",
              "</div>"
            ],
            "text/plain": [
              "deposit              no       yes       All\n",
              "job                                        \n",
              "admin.         0.063609  0.054829  0.118438\n",
              "blue-collar    0.112704  0.061996  0.174700\n",
              "entrepreneur   0.018814  0.009855  0.028669\n",
              "housemaid      0.014872  0.010751  0.025623\n",
              "management     0.116287  0.119871  0.236158\n",
              "retired        0.025443  0.045691  0.071134\n",
              "self-employed  0.018455  0.018455  0.036911\n",
              "services       0.047124  0.033865  0.080989\n",
              "student        0.009497  0.023114  0.032611\n",
              "technician     0.086185  0.072747  0.158932\n",
              "unemployed     0.013976  0.016485  0.030460\n",
              "unknown        0.003225  0.002150  0.005375\n",
              "All            0.530192  0.469808  1.000000"
            ]
          },
          "metadata": {
            "tags": []
          },
          "execution_count": 20
        }
      ]
    },
    {
      "cell_type": "markdown",
      "metadata": {
        "id": "86kE1RMww2qd"
      },
      "source": [
        "Interpretation: \n",
        "\n",
        "People in management jobs were the highest among the clients doing toher kinds of jobs mentioned in the dataset. Moreover, clients who are management professionals were the highest in percentage among clients who subscribed and those did not subscribe to the term deposit. Moreover, clients whose jobs are not known or 'unknown' are claimed to be the lowest in proportion among all the clients who subscribed and clients who did not subscribe to a term deposit. Overall, there is not much difference either in numbers or proportion among the clients who subscribed to a term deposit and clients who did not subscribe to a term deposit. "
      ]
    },
    {
      "cell_type": "code",
      "metadata": {
        "colab": {
          "base_uri": "https://localhost:8080/",
          "height": 235
        },
        "id": "I3aGY7rczqGi",
        "outputId": "66d44d22-6583-46a1-d58b-7c73b3df0b28"
      },
      "source": [
        "# checking the proportion of bank clients who made or not made a term deposit by their education level\n",
        "\n",
        "pd.crosstab(index = bank_data['education'], columns = bank_data['deposit'], normalize = True, margins = True)"
      ],
      "execution_count": null,
      "outputs": [
        {
          "output_type": "execute_result",
          "data": {
            "text/html": [
              "<div>\n",
              "<style scoped>\n",
              "    .dataframe tbody tr th:only-of-type {\n",
              "        vertical-align: middle;\n",
              "    }\n",
              "\n",
              "    .dataframe tbody tr th {\n",
              "        vertical-align: top;\n",
              "    }\n",
              "\n",
              "    .dataframe thead th {\n",
              "        text-align: right;\n",
              "    }\n",
              "</style>\n",
              "<table border=\"1\" class=\"dataframe\">\n",
              "  <thead>\n",
              "    <tr style=\"text-align: right;\">\n",
              "      <th>deposit</th>\n",
              "      <th>no</th>\n",
              "      <th>yes</th>\n",
              "      <th>All</th>\n",
              "    </tr>\n",
              "    <tr>\n",
              "      <th>education</th>\n",
              "      <th></th>\n",
              "      <th></th>\n",
              "      <th></th>\n",
              "    </tr>\n",
              "  </thead>\n",
              "  <tbody>\n",
              "    <tr>\n",
              "      <th>primary</th>\n",
              "      <td>0.079556</td>\n",
              "      <td>0.054112</td>\n",
              "      <td>0.133668</td>\n",
              "    </tr>\n",
              "    <tr>\n",
              "      <th>secondary</th>\n",
              "      <td>0.275040</td>\n",
              "      <td>0.212148</td>\n",
              "      <td>0.487189</td>\n",
              "    </tr>\n",
              "    <tr>\n",
              "      <th>tertiary</th>\n",
              "      <td>0.152661</td>\n",
              "      <td>0.182584</td>\n",
              "      <td>0.335245</td>\n",
              "    </tr>\n",
              "    <tr>\n",
              "      <th>unknown</th>\n",
              "      <td>0.022935</td>\n",
              "      <td>0.020964</td>\n",
              "      <td>0.043899</td>\n",
              "    </tr>\n",
              "    <tr>\n",
              "      <th>All</th>\n",
              "      <td>0.530192</td>\n",
              "      <td>0.469808</td>\n",
              "      <td>1.000000</td>\n",
              "    </tr>\n",
              "  </tbody>\n",
              "</table>\n",
              "</div>"
            ],
            "text/plain": [
              "deposit          no       yes       All\n",
              "education                              \n",
              "primary    0.079556  0.054112  0.133668\n",
              "secondary  0.275040  0.212148  0.487189\n",
              "tertiary   0.152661  0.182584  0.335245\n",
              "unknown    0.022935  0.020964  0.043899\n",
              "All        0.530192  0.469808  1.000000"
            ]
          },
          "metadata": {
            "tags": []
          },
          "execution_count": 21
        }
      ]
    },
    {
      "cell_type": "markdown",
      "metadata": {
        "id": "p2f5lEoAz0Dq"
      },
      "source": [
        "Interpretation:\n",
        "\n",
        "The dataset contains highest proportion for clients having the secondary education followed by clients who had tertiary education. Clients who have attained secondary education both subscribed and not subscribed to the term deposit in highest proportion among the clients who are subscribers and non-subscribers respectively. "
      ]
    },
    {
      "cell_type": "code",
      "metadata": {
        "colab": {
          "base_uri": "https://localhost:8080/",
          "height": 204
        },
        "id": "qI8YOPUH0vWX",
        "outputId": "d4edbbe2-a12e-4130-fbba-71578e7c81cd"
      },
      "source": [
        "# checking the proportion of bank clients who made or not made a deposit by their marital status\n",
        "\n",
        "pd.crosstab(index = bank_data['marital'], columns = bank_data['deposit'], normalize = True, margins = True)"
      ],
      "execution_count": null,
      "outputs": [
        {
          "output_type": "execute_result",
          "data": {
            "text/html": [
              "<div>\n",
              "<style scoped>\n",
              "    .dataframe tbody tr th:only-of-type {\n",
              "        vertical-align: middle;\n",
              "    }\n",
              "\n",
              "    .dataframe tbody tr th {\n",
              "        vertical-align: top;\n",
              "    }\n",
              "\n",
              "    .dataframe thead th {\n",
              "        text-align: right;\n",
              "    }\n",
              "</style>\n",
              "<table border=\"1\" class=\"dataframe\">\n",
              "  <thead>\n",
              "    <tr style=\"text-align: right;\">\n",
              "      <th>deposit</th>\n",
              "      <th>no</th>\n",
              "      <th>yes</th>\n",
              "      <th>All</th>\n",
              "    </tr>\n",
              "    <tr>\n",
              "      <th>marital</th>\n",
              "      <th></th>\n",
              "      <th></th>\n",
              "      <th></th>\n",
              "    </tr>\n",
              "  </thead>\n",
              "  <tbody>\n",
              "    <tr>\n",
              "      <th>divorced</th>\n",
              "      <td>0.061817</td>\n",
              "      <td>0.051245</td>\n",
              "      <td>0.113062</td>\n",
              "    </tr>\n",
              "    <tr>\n",
              "      <th>married</th>\n",
              "      <td>0.323777</td>\n",
              "      <td>0.237771</td>\n",
              "      <td>0.561548</td>\n",
              "    </tr>\n",
              "    <tr>\n",
              "      <th>single</th>\n",
              "      <td>0.144598</td>\n",
              "      <td>0.180792</td>\n",
              "      <td>0.325390</td>\n",
              "    </tr>\n",
              "    <tr>\n",
              "      <th>All</th>\n",
              "      <td>0.530192</td>\n",
              "      <td>0.469808</td>\n",
              "      <td>1.000000</td>\n",
              "    </tr>\n",
              "  </tbody>\n",
              "</table>\n",
              "</div>"
            ],
            "text/plain": [
              "deposit         no       yes       All\n",
              "marital                               \n",
              "divorced  0.061817  0.051245  0.113062\n",
              "married   0.323777  0.237771  0.561548\n",
              "single    0.144598  0.180792  0.325390\n",
              "All       0.530192  0.469808  1.000000"
            ]
          },
          "metadata": {
            "tags": []
          },
          "execution_count": 22
        }
      ]
    },
    {
      "cell_type": "markdown",
      "metadata": {
        "id": "y0UWY7HQ08Cx"
      },
      "source": [
        "Clients who are married comprised on the highest proportion of people in the dataset. Moreover, highest proportion of married clients subscribed and not subscribed to the term deposit among each of subscribers and non-subscribers. "
      ]
    },
    {
      "cell_type": "code",
      "metadata": {
        "colab": {
          "base_uri": "https://localhost:8080/",
          "height": 173
        },
        "id": "xWDEBbDZ48Iw",
        "outputId": "e19ac6ae-ce52-4976-b0ef-71d6a0009ba6"
      },
      "source": [
        "# checking the proportion of bank clients who made or not made a deposit by their default credit\n",
        "\n",
        "pd.crosstab(index = bank_data['default'], columns = bank_data['deposit'], normalize = True, margins = True)"
      ],
      "execution_count": null,
      "outputs": [
        {
          "output_type": "execute_result",
          "data": {
            "text/html": [
              "<div>\n",
              "<style scoped>\n",
              "    .dataframe tbody tr th:only-of-type {\n",
              "        vertical-align: middle;\n",
              "    }\n",
              "\n",
              "    .dataframe tbody tr th {\n",
              "        vertical-align: top;\n",
              "    }\n",
              "\n",
              "    .dataframe thead th {\n",
              "        text-align: right;\n",
              "    }\n",
              "</style>\n",
              "<table border=\"1\" class=\"dataframe\">\n",
              "  <thead>\n",
              "    <tr style=\"text-align: right;\">\n",
              "      <th>deposit</th>\n",
              "      <th>no</th>\n",
              "      <th>yes</th>\n",
              "      <th>All</th>\n",
              "    </tr>\n",
              "    <tr>\n",
              "      <th>default</th>\n",
              "      <th></th>\n",
              "      <th></th>\n",
              "      <th></th>\n",
              "    </tr>\n",
              "  </thead>\n",
              "  <tbody>\n",
              "    <tr>\n",
              "      <th>no</th>\n",
              "      <td>0.518724</td>\n",
              "      <td>0.466225</td>\n",
              "      <td>0.984949</td>\n",
              "    </tr>\n",
              "    <tr>\n",
              "      <th>yes</th>\n",
              "      <td>0.011467</td>\n",
              "      <td>0.003584</td>\n",
              "      <td>0.015051</td>\n",
              "    </tr>\n",
              "    <tr>\n",
              "      <th>All</th>\n",
              "      <td>0.530192</td>\n",
              "      <td>0.469808</td>\n",
              "      <td>1.000000</td>\n",
              "    </tr>\n",
              "  </tbody>\n",
              "</table>\n",
              "</div>"
            ],
            "text/plain": [
              "deposit        no       yes       All\n",
              "default                              \n",
              "no       0.518724  0.466225  0.984949\n",
              "yes      0.011467  0.003584  0.015051\n",
              "All      0.530192  0.469808  1.000000"
            ]
          },
          "metadata": {
            "tags": []
          },
          "execution_count": 23
        }
      ]
    },
    {
      "cell_type": "markdown",
      "metadata": {
        "id": "-jvZfrd47Pwc"
      },
      "source": [
        "Clients who had higher proportion of default credit among subscribers and non-subscribers of term deposit did not subscribe to the term deposit. \n",
        "\n",
        "Clients  have higher proportion of no default credit among non-subscribers of term deposit. \n",
        "\n"
      ]
    },
    {
      "cell_type": "code",
      "metadata": {
        "colab": {
          "base_uri": "https://localhost:8080/",
          "height": 173
        },
        "id": "kUNBKKs66-f7",
        "outputId": "dd06b6ab-2237-4fb3-ae48-ae1983d6a237"
      },
      "source": [
        "# checking the proportion of bank clients who made or not made a deposit by their housing loan \n",
        "\n",
        "pd.crosstab(index = bank_data['housing'], columns = bank_data['deposit'], normalize = True, margins = True)"
      ],
      "execution_count": null,
      "outputs": [
        {
          "output_type": "execute_result",
          "data": {
            "text/html": [
              "<div>\n",
              "<style scoped>\n",
              "    .dataframe tbody tr th:only-of-type {\n",
              "        vertical-align: middle;\n",
              "    }\n",
              "\n",
              "    .dataframe tbody tr th {\n",
              "        vertical-align: top;\n",
              "    }\n",
              "\n",
              "    .dataframe thead th {\n",
              "        text-align: right;\n",
              "    }\n",
              "</style>\n",
              "<table border=\"1\" class=\"dataframe\">\n",
              "  <thead>\n",
              "    <tr style=\"text-align: right;\">\n",
              "      <th>deposit</th>\n",
              "      <th>no</th>\n",
              "      <th>yes</th>\n",
              "      <th>All</th>\n",
              "    </tr>\n",
              "    <tr>\n",
              "      <th>housing</th>\n",
              "      <th></th>\n",
              "      <th></th>\n",
              "      <th></th>\n",
              "    </tr>\n",
              "  </thead>\n",
              "  <tbody>\n",
              "    <tr>\n",
              "      <th>no</th>\n",
              "      <td>0.230425</td>\n",
              "      <td>0.294213</td>\n",
              "      <td>0.524637</td>\n",
              "    </tr>\n",
              "    <tr>\n",
              "      <th>yes</th>\n",
              "      <td>0.299767</td>\n",
              "      <td>0.175596</td>\n",
              "      <td>0.475363</td>\n",
              "    </tr>\n",
              "    <tr>\n",
              "      <th>All</th>\n",
              "      <td>0.530192</td>\n",
              "      <td>0.469808</td>\n",
              "      <td>1.000000</td>\n",
              "    </tr>\n",
              "  </tbody>\n",
              "</table>\n",
              "</div>"
            ],
            "text/plain": [
              "deposit        no       yes       All\n",
              "housing                              \n",
              "no       0.230425  0.294213  0.524637\n",
              "yes      0.299767  0.175596  0.475363\n",
              "All      0.530192  0.469808  1.000000"
            ]
          },
          "metadata": {
            "tags": []
          },
          "execution_count": 24
        }
      ]
    },
    {
      "cell_type": "markdown",
      "metadata": {
        "id": "khNJXdMtqShZ"
      },
      "source": [
        "Interpretation:\n",
        "\n",
        "The output of above code shows that more clients subscribe to term deposit when do not have a housing loan and more clients do not subscribe to term deposit when they have a housing loan "
      ]
    },
    {
      "cell_type": "code",
      "metadata": {
        "colab": {
          "base_uri": "https://localhost:8080/",
          "height": 173
        },
        "id": "HqU71Fjn-DqV",
        "outputId": "1f870980-521d-4f58-aa68-d7adfa50753e"
      },
      "source": [
        "# checking the proportion of bank clients who made or not made term deposits by their personal loan \n",
        "\n",
        "pd.crosstab(index = bank_data['loan'], columns = bank_data['deposit'], normalize = True, margins = True)"
      ],
      "execution_count": null,
      "outputs": [
        {
          "output_type": "execute_result",
          "data": {
            "text/html": [
              "<div>\n",
              "<style scoped>\n",
              "    .dataframe tbody tr th:only-of-type {\n",
              "        vertical-align: middle;\n",
              "    }\n",
              "\n",
              "    .dataframe tbody tr th {\n",
              "        vertical-align: top;\n",
              "    }\n",
              "\n",
              "    .dataframe thead th {\n",
              "        text-align: right;\n",
              "    }\n",
              "</style>\n",
              "<table border=\"1\" class=\"dataframe\">\n",
              "  <thead>\n",
              "    <tr style=\"text-align: right;\">\n",
              "      <th>deposit</th>\n",
              "      <th>no</th>\n",
              "      <th>yes</th>\n",
              "      <th>All</th>\n",
              "    </tr>\n",
              "    <tr>\n",
              "      <th>loan</th>\n",
              "      <th></th>\n",
              "      <th></th>\n",
              "      <th></th>\n",
              "    </tr>\n",
              "  </thead>\n",
              "  <tbody>\n",
              "    <tr>\n",
              "      <th>no</th>\n",
              "      <td>0.446515</td>\n",
              "      <td>0.424834</td>\n",
              "      <td>0.871349</td>\n",
              "    </tr>\n",
              "    <tr>\n",
              "      <th>yes</th>\n",
              "      <td>0.083677</td>\n",
              "      <td>0.044974</td>\n",
              "      <td>0.128651</td>\n",
              "    </tr>\n",
              "    <tr>\n",
              "      <th>All</th>\n",
              "      <td>0.530192</td>\n",
              "      <td>0.469808</td>\n",
              "      <td>1.000000</td>\n",
              "    </tr>\n",
              "  </tbody>\n",
              "</table>\n",
              "</div>"
            ],
            "text/plain": [
              "deposit        no       yes       All\n",
              "loan                                 \n",
              "no       0.446515  0.424834  0.871349\n",
              "yes      0.083677  0.044974  0.128651\n",
              "All      0.530192  0.469808  1.000000"
            ]
          },
          "metadata": {
            "tags": []
          },
          "execution_count": 25
        }
      ]
    },
    {
      "cell_type": "markdown",
      "metadata": {
        "id": "hCulqtX6q2AY"
      },
      "source": [
        "Interpretation:\n",
        "\n",
        "The output of above code shows that more clients subscribe to term deposit when do not have a personal loan and there is not much difference between the proportions of clients who subscribe and do not subscribe to term deposit when they do not have personal loan. "
      ]
    },
    {
      "cell_type": "code",
      "metadata": {
        "colab": {
          "base_uri": "https://localhost:8080/"
        },
        "id": "KGNHIGhNzAi4",
        "outputId": "cf70d1b5-224e-40ad-939b-e8c9dd4531b6"
      },
      "source": [
        "# counts of values in 'pdays' column of dataframe\n",
        "bank_data['pdays'].value_counts()"
      ],
      "execution_count": null,
      "outputs": [
        {
          "output_type": "execute_result",
          "data": {
            "text/plain": [
              "-1      4133\n",
              " 92       49\n",
              " 182      46\n",
              " 91       45\n",
              " 183      40\n",
              "        ... \n",
              " 6         1\n",
              " 603       1\n",
              " 749       1\n",
              " 701       1\n",
              " 24        1\n",
              "Name: pdays, Length: 379, dtype: int64"
            ]
          },
          "metadata": {
            "tags": []
          },
          "execution_count": 26
        }
      ]
    },
    {
      "cell_type": "markdown",
      "metadata": {
        "id": "1Ohg5faUzpwc"
      },
      "source": [
        "Observation:\n",
        "\n",
        "The value of -1 in 'pdays' column refers to days passed for those clients who were not contacted in the previous marketing campaign. Hence, the corresponding values in 'poutcome' column for such clients could be labeled as 'unknown'. It is already observed in the counts of values in 'poutcome' column that there are exactly the same 4133 values in this column. Moreover, 'previous' column can also give us similar information in cases of no contacts. There are 4133 values that correspond to number of times clients were contacted in the previous campaign. \n",
        "\n",
        "It is required to be checked whether these specific values in the columns, 'pdays', 'poutcome', and 'previous' are of any significance to the prediction of target variable, 'deposit'. \n",
        "\n"
      ]
    },
    {
      "cell_type": "code",
      "metadata": {
        "colab": {
          "base_uri": "https://localhost:8080/",
          "height": 439
        },
        "id": "2N_q9ZzYzpW8",
        "outputId": "58e7797a-f60b-4d41-a2c6-a7621f92081f"
      },
      "source": [
        "# extracting the rows corresponding to poutcome = 'unknown' to check the relations with the target variable, 'deposit'\n",
        "\n",
        "bank_data.loc[bank_data['poutcome'] == 'unknown', :]"
      ],
      "execution_count": null,
      "outputs": [
        {
          "output_type": "execute_result",
          "data": {
            "text/html": [
              "<div>\n",
              "<style scoped>\n",
              "    .dataframe tbody tr th:only-of-type {\n",
              "        vertical-align: middle;\n",
              "    }\n",
              "\n",
              "    .dataframe tbody tr th {\n",
              "        vertical-align: top;\n",
              "    }\n",
              "\n",
              "    .dataframe thead th {\n",
              "        text-align: right;\n",
              "    }\n",
              "</style>\n",
              "<table border=\"1\" class=\"dataframe\">\n",
              "  <thead>\n",
              "    <tr style=\"text-align: right;\">\n",
              "      <th></th>\n",
              "      <th>age</th>\n",
              "      <th>job</th>\n",
              "      <th>marital</th>\n",
              "      <th>education</th>\n",
              "      <th>default</th>\n",
              "      <th>balance</th>\n",
              "      <th>housing</th>\n",
              "      <th>loan</th>\n",
              "      <th>contact</th>\n",
              "      <th>day</th>\n",
              "      <th>month</th>\n",
              "      <th>duration</th>\n",
              "      <th>campaign</th>\n",
              "      <th>pdays</th>\n",
              "      <th>previous</th>\n",
              "      <th>poutcome</th>\n",
              "      <th>deposit</th>\n",
              "    </tr>\n",
              "  </thead>\n",
              "  <tbody>\n",
              "    <tr>\n",
              "      <th>2</th>\n",
              "      <td>30</td>\n",
              "      <td>services</td>\n",
              "      <td>single</td>\n",
              "      <td>secondary</td>\n",
              "      <td>no</td>\n",
              "      <td>245</td>\n",
              "      <td>no</td>\n",
              "      <td>yes</td>\n",
              "      <td>cellular</td>\n",
              "      <td>8</td>\n",
              "      <td>jul</td>\n",
              "      <td>187</td>\n",
              "      <td>2</td>\n",
              "      <td>-1</td>\n",
              "      <td>0</td>\n",
              "      <td>unknown</td>\n",
              "      <td>no</td>\n",
              "    </tr>\n",
              "    <tr>\n",
              "      <th>3</th>\n",
              "      <td>34</td>\n",
              "      <td>management</td>\n",
              "      <td>single</td>\n",
              "      <td>tertiary</td>\n",
              "      <td>no</td>\n",
              "      <td>1396</td>\n",
              "      <td>yes</td>\n",
              "      <td>no</td>\n",
              "      <td>cellular</td>\n",
              "      <td>17</td>\n",
              "      <td>jul</td>\n",
              "      <td>630</td>\n",
              "      <td>1</td>\n",
              "      <td>-1</td>\n",
              "      <td>0</td>\n",
              "      <td>unknown</td>\n",
              "      <td>no</td>\n",
              "    </tr>\n",
              "    <tr>\n",
              "      <th>4</th>\n",
              "      <td>29</td>\n",
              "      <td>technician</td>\n",
              "      <td>single</td>\n",
              "      <td>secondary</td>\n",
              "      <td>no</td>\n",
              "      <td>-13</td>\n",
              "      <td>yes</td>\n",
              "      <td>no</td>\n",
              "      <td>cellular</td>\n",
              "      <td>14</td>\n",
              "      <td>may</td>\n",
              "      <td>512</td>\n",
              "      <td>3</td>\n",
              "      <td>-1</td>\n",
              "      <td>0</td>\n",
              "      <td>unknown</td>\n",
              "      <td>no</td>\n",
              "    </tr>\n",
              "    <tr>\n",
              "      <th>5</th>\n",
              "      <td>26</td>\n",
              "      <td>unemployed</td>\n",
              "      <td>single</td>\n",
              "      <td>secondary</td>\n",
              "      <td>no</td>\n",
              "      <td>632</td>\n",
              "      <td>no</td>\n",
              "      <td>no</td>\n",
              "      <td>cellular</td>\n",
              "      <td>12</td>\n",
              "      <td>feb</td>\n",
              "      <td>218</td>\n",
              "      <td>1</td>\n",
              "      <td>-1</td>\n",
              "      <td>0</td>\n",
              "      <td>unknown</td>\n",
              "      <td>yes</td>\n",
              "    </tr>\n",
              "    <tr>\n",
              "      <th>7</th>\n",
              "      <td>46</td>\n",
              "      <td>management</td>\n",
              "      <td>married</td>\n",
              "      <td>tertiary</td>\n",
              "      <td>no</td>\n",
              "      <td>3</td>\n",
              "      <td>no</td>\n",
              "      <td>no</td>\n",
              "      <td>cellular</td>\n",
              "      <td>18</td>\n",
              "      <td>aug</td>\n",
              "      <td>92</td>\n",
              "      <td>4</td>\n",
              "      <td>-1</td>\n",
              "      <td>0</td>\n",
              "      <td>unknown</td>\n",
              "      <td>no</td>\n",
              "    </tr>\n",
              "    <tr>\n",
              "      <th>...</th>\n",
              "      <td>...</td>\n",
              "      <td>...</td>\n",
              "      <td>...</td>\n",
              "      <td>...</td>\n",
              "      <td>...</td>\n",
              "      <td>...</td>\n",
              "      <td>...</td>\n",
              "      <td>...</td>\n",
              "      <td>...</td>\n",
              "      <td>...</td>\n",
              "      <td>...</td>\n",
              "      <td>...</td>\n",
              "      <td>...</td>\n",
              "      <td>...</td>\n",
              "      <td>...</td>\n",
              "      <td>...</td>\n",
              "      <td>...</td>\n",
              "    </tr>\n",
              "    <tr>\n",
              "      <th>5573</th>\n",
              "      <td>45</td>\n",
              "      <td>technician</td>\n",
              "      <td>single</td>\n",
              "      <td>secondary</td>\n",
              "      <td>no</td>\n",
              "      <td>410</td>\n",
              "      <td>yes</td>\n",
              "      <td>no</td>\n",
              "      <td>unknown</td>\n",
              "      <td>30</td>\n",
              "      <td>may</td>\n",
              "      <td>891</td>\n",
              "      <td>4</td>\n",
              "      <td>-1</td>\n",
              "      <td>0</td>\n",
              "      <td>unknown</td>\n",
              "      <td>yes</td>\n",
              "    </tr>\n",
              "    <tr>\n",
              "      <th>5574</th>\n",
              "      <td>47</td>\n",
              "      <td>services</td>\n",
              "      <td>married</td>\n",
              "      <td>secondary</td>\n",
              "      <td>no</td>\n",
              "      <td>405</td>\n",
              "      <td>no</td>\n",
              "      <td>yes</td>\n",
              "      <td>cellular</td>\n",
              "      <td>8</td>\n",
              "      <td>aug</td>\n",
              "      <td>994</td>\n",
              "      <td>2</td>\n",
              "      <td>-1</td>\n",
              "      <td>0</td>\n",
              "      <td>unknown</td>\n",
              "      <td>yes</td>\n",
              "    </tr>\n",
              "    <tr>\n",
              "      <th>5575</th>\n",
              "      <td>31</td>\n",
              "      <td>technician</td>\n",
              "      <td>married</td>\n",
              "      <td>secondary</td>\n",
              "      <td>no</td>\n",
              "      <td>589</td>\n",
              "      <td>yes</td>\n",
              "      <td>yes</td>\n",
              "      <td>unknown</td>\n",
              "      <td>21</td>\n",
              "      <td>may</td>\n",
              "      <td>151</td>\n",
              "      <td>1</td>\n",
              "      <td>-1</td>\n",
              "      <td>0</td>\n",
              "      <td>unknown</td>\n",
              "      <td>no</td>\n",
              "    </tr>\n",
              "    <tr>\n",
              "      <th>5576</th>\n",
              "      <td>48</td>\n",
              "      <td>admin.</td>\n",
              "      <td>married</td>\n",
              "      <td>secondary</td>\n",
              "      <td>no</td>\n",
              "      <td>2235</td>\n",
              "      <td>yes</td>\n",
              "      <td>yes</td>\n",
              "      <td>unknown</td>\n",
              "      <td>15</td>\n",
              "      <td>may</td>\n",
              "      <td>755</td>\n",
              "      <td>2</td>\n",
              "      <td>-1</td>\n",
              "      <td>0</td>\n",
              "      <td>unknown</td>\n",
              "      <td>no</td>\n",
              "    </tr>\n",
              "    <tr>\n",
              "      <th>5580</th>\n",
              "      <td>39</td>\n",
              "      <td>services</td>\n",
              "      <td>married</td>\n",
              "      <td>secondary</td>\n",
              "      <td>no</td>\n",
              "      <td>0</td>\n",
              "      <td>yes</td>\n",
              "      <td>no</td>\n",
              "      <td>cellular</td>\n",
              "      <td>8</td>\n",
              "      <td>may</td>\n",
              "      <td>503</td>\n",
              "      <td>1</td>\n",
              "      <td>-1</td>\n",
              "      <td>0</td>\n",
              "      <td>unknown</td>\n",
              "      <td>no</td>\n",
              "    </tr>\n",
              "  </tbody>\n",
              "</table>\n",
              "<p>4133 rows × 17 columns</p>\n",
              "</div>"
            ],
            "text/plain": [
              "      age         job  marital  education  ... pdays  previous poutcome deposit\n",
              "2      30    services   single  secondary  ...    -1         0  unknown      no\n",
              "3      34  management   single   tertiary  ...    -1         0  unknown      no\n",
              "4      29  technician   single  secondary  ...    -1         0  unknown      no\n",
              "5      26  unemployed   single  secondary  ...    -1         0  unknown     yes\n",
              "7      46  management  married   tertiary  ...    -1         0  unknown      no\n",
              "...   ...         ...      ...        ...  ...   ...       ...      ...     ...\n",
              "5573   45  technician   single  secondary  ...    -1         0  unknown     yes\n",
              "5574   47    services  married  secondary  ...    -1         0  unknown     yes\n",
              "5575   31  technician  married  secondary  ...    -1         0  unknown      no\n",
              "5576   48      admin.  married  secondary  ...    -1         0  unknown      no\n",
              "5580   39    services  married  secondary  ...    -1         0  unknown      no\n",
              "\n",
              "[4133 rows x 17 columns]"
            ]
          },
          "metadata": {
            "tags": []
          },
          "execution_count": 27
        }
      ]
    },
    {
      "cell_type": "code",
      "metadata": {
        "colab": {
          "base_uri": "https://localhost:8080/"
        },
        "id": "7qz61ePugcJB",
        "outputId": "2dce701a-969d-4d68-96d5-c762e65f6c5b"
      },
      "source": [
        "bank_data.loc[bank_data['poutcome'] == 'unknown', 'previous'].value_counts()"
      ],
      "execution_count": null,
      "outputs": [
        {
          "output_type": "execute_result",
          "data": {
            "text/plain": [
              "0    4133\n",
              "Name: previous, dtype: int64"
            ]
          },
          "metadata": {
            "tags": []
          },
          "execution_count": 28
        }
      ]
    },
    {
      "cell_type": "markdown",
      "metadata": {
        "id": "KvZmZlA0gly5"
      },
      "source": [
        "The output of above code gives a confirmation that the bank did not contact the clients for the previous campaign corresponding to all the values where 'poutcome' was labeled as 'unknown'. "
      ]
    },
    {
      "cell_type": "code",
      "metadata": {
        "colab": {
          "base_uri": "https://localhost:8080/"
        },
        "id": "uecAJw2E_6tz",
        "outputId": "e0b88d01-5baa-4b9a-ae7b-5b546755a391"
      },
      "source": [
        "# checking the counts of values of 'deposit' for the rows extracted in the code above\n",
        "\n",
        "bank_data.loc[bank_data['poutcome'] == 'unknown', 'deposit'].value_counts()"
      ],
      "execution_count": null,
      "outputs": [
        {
          "output_type": "execute_result",
          "data": {
            "text/plain": [
              "no     2457\n",
              "yes    1676\n",
              "Name: deposit, dtype: int64"
            ]
          },
          "metadata": {
            "tags": []
          },
          "execution_count": 29
        }
      ]
    },
    {
      "cell_type": "markdown",
      "metadata": {
        "id": "EB8zF9lyDKUA"
      },
      "source": [
        "Since the output of above code suggests that there are considerable number of clients that were not contacted in previous campaign, but they have subscribed to the term deposit in the second campaign. Hence, these rows do have some relation with the target variable, 'deposit' and that's why these rows cannot be dropped. \n",
        "\n",
        "There is another column, 'contact' that gives information about the type of contact device used for communication. However, we have observed earlier that some of the values in 'contact' are labeled as 'unknown'. The next step will be to check the patterns in the dataset for rows in which values in 'contact' are labeled 'unknown'.\n"
      ]
    },
    {
      "cell_type": "code",
      "metadata": {
        "colab": {
          "base_uri": "https://localhost:8080/",
          "height": 439
        },
        "id": "eOp13ewBFxCU",
        "outputId": "a6e0f6be-eb11-4451-d413-a19384f77937"
      },
      "source": [
        "# extracting the rows in which values in 'contact' are labeled as 'unknown' in the dataframe\n",
        "\n",
        "bank_data.loc[bank_data['contact'] == 'unknown', :]"
      ],
      "execution_count": null,
      "outputs": [
        {
          "output_type": "execute_result",
          "data": {
            "text/html": [
              "<div>\n",
              "<style scoped>\n",
              "    .dataframe tbody tr th:only-of-type {\n",
              "        vertical-align: middle;\n",
              "    }\n",
              "\n",
              "    .dataframe tbody tr th {\n",
              "        vertical-align: top;\n",
              "    }\n",
              "\n",
              "    .dataframe thead th {\n",
              "        text-align: right;\n",
              "    }\n",
              "</style>\n",
              "<table border=\"1\" class=\"dataframe\">\n",
              "  <thead>\n",
              "    <tr style=\"text-align: right;\">\n",
              "      <th></th>\n",
              "      <th>age</th>\n",
              "      <th>job</th>\n",
              "      <th>marital</th>\n",
              "      <th>education</th>\n",
              "      <th>default</th>\n",
              "      <th>balance</th>\n",
              "      <th>housing</th>\n",
              "      <th>loan</th>\n",
              "      <th>contact</th>\n",
              "      <th>day</th>\n",
              "      <th>month</th>\n",
              "      <th>duration</th>\n",
              "      <th>campaign</th>\n",
              "      <th>pdays</th>\n",
              "      <th>previous</th>\n",
              "      <th>poutcome</th>\n",
              "      <th>deposit</th>\n",
              "    </tr>\n",
              "  </thead>\n",
              "  <tbody>\n",
              "    <tr>\n",
              "      <th>14</th>\n",
              "      <td>38</td>\n",
              "      <td>blue-collar</td>\n",
              "      <td>divorced</td>\n",
              "      <td>secondary</td>\n",
              "      <td>no</td>\n",
              "      <td>2998</td>\n",
              "      <td>yes</td>\n",
              "      <td>no</td>\n",
              "      <td>unknown</td>\n",
              "      <td>11</td>\n",
              "      <td>jun</td>\n",
              "      <td>91</td>\n",
              "      <td>1</td>\n",
              "      <td>-1</td>\n",
              "      <td>0</td>\n",
              "      <td>unknown</td>\n",
              "      <td>no</td>\n",
              "    </tr>\n",
              "    <tr>\n",
              "      <th>19</th>\n",
              "      <td>35</td>\n",
              "      <td>blue-collar</td>\n",
              "      <td>married</td>\n",
              "      <td>primary</td>\n",
              "      <td>no</td>\n",
              "      <td>994</td>\n",
              "      <td>yes</td>\n",
              "      <td>no</td>\n",
              "      <td>unknown</td>\n",
              "      <td>23</td>\n",
              "      <td>may</td>\n",
              "      <td>1349</td>\n",
              "      <td>8</td>\n",
              "      <td>-1</td>\n",
              "      <td>0</td>\n",
              "      <td>unknown</td>\n",
              "      <td>yes</td>\n",
              "    </tr>\n",
              "    <tr>\n",
              "      <th>21</th>\n",
              "      <td>38</td>\n",
              "      <td>blue-collar</td>\n",
              "      <td>married</td>\n",
              "      <td>primary</td>\n",
              "      <td>no</td>\n",
              "      <td>668</td>\n",
              "      <td>no</td>\n",
              "      <td>no</td>\n",
              "      <td>unknown</td>\n",
              "      <td>8</td>\n",
              "      <td>may</td>\n",
              "      <td>238</td>\n",
              "      <td>1</td>\n",
              "      <td>-1</td>\n",
              "      <td>0</td>\n",
              "      <td>unknown</td>\n",
              "      <td>no</td>\n",
              "    </tr>\n",
              "    <tr>\n",
              "      <th>31</th>\n",
              "      <td>28</td>\n",
              "      <td>management</td>\n",
              "      <td>married</td>\n",
              "      <td>secondary</td>\n",
              "      <td>no</td>\n",
              "      <td>292</td>\n",
              "      <td>yes</td>\n",
              "      <td>no</td>\n",
              "      <td>unknown</td>\n",
              "      <td>28</td>\n",
              "      <td>may</td>\n",
              "      <td>507</td>\n",
              "      <td>1</td>\n",
              "      <td>-1</td>\n",
              "      <td>0</td>\n",
              "      <td>unknown</td>\n",
              "      <td>yes</td>\n",
              "    </tr>\n",
              "    <tr>\n",
              "      <th>33</th>\n",
              "      <td>38</td>\n",
              "      <td>services</td>\n",
              "      <td>married</td>\n",
              "      <td>primary</td>\n",
              "      <td>no</td>\n",
              "      <td>175</td>\n",
              "      <td>no</td>\n",
              "      <td>no</td>\n",
              "      <td>unknown</td>\n",
              "      <td>17</td>\n",
              "      <td>jun</td>\n",
              "      <td>132</td>\n",
              "      <td>2</td>\n",
              "      <td>-1</td>\n",
              "      <td>0</td>\n",
              "      <td>unknown</td>\n",
              "      <td>no</td>\n",
              "    </tr>\n",
              "    <tr>\n",
              "      <th>...</th>\n",
              "      <td>...</td>\n",
              "      <td>...</td>\n",
              "      <td>...</td>\n",
              "      <td>...</td>\n",
              "      <td>...</td>\n",
              "      <td>...</td>\n",
              "      <td>...</td>\n",
              "      <td>...</td>\n",
              "      <td>...</td>\n",
              "      <td>...</td>\n",
              "      <td>...</td>\n",
              "      <td>...</td>\n",
              "      <td>...</td>\n",
              "      <td>...</td>\n",
              "      <td>...</td>\n",
              "      <td>...</td>\n",
              "      <td>...</td>\n",
              "    </tr>\n",
              "    <tr>\n",
              "      <th>5571</th>\n",
              "      <td>37</td>\n",
              "      <td>services</td>\n",
              "      <td>single</td>\n",
              "      <td>secondary</td>\n",
              "      <td>no</td>\n",
              "      <td>278</td>\n",
              "      <td>yes</td>\n",
              "      <td>no</td>\n",
              "      <td>unknown</td>\n",
              "      <td>3</td>\n",
              "      <td>jun</td>\n",
              "      <td>1045</td>\n",
              "      <td>3</td>\n",
              "      <td>-1</td>\n",
              "      <td>0</td>\n",
              "      <td>unknown</td>\n",
              "      <td>yes</td>\n",
              "    </tr>\n",
              "    <tr>\n",
              "      <th>5572</th>\n",
              "      <td>45</td>\n",
              "      <td>unknown</td>\n",
              "      <td>married</td>\n",
              "      <td>primary</td>\n",
              "      <td>no</td>\n",
              "      <td>44</td>\n",
              "      <td>no</td>\n",
              "      <td>no</td>\n",
              "      <td>unknown</td>\n",
              "      <td>11</td>\n",
              "      <td>jun</td>\n",
              "      <td>81</td>\n",
              "      <td>1</td>\n",
              "      <td>-1</td>\n",
              "      <td>0</td>\n",
              "      <td>unknown</td>\n",
              "      <td>no</td>\n",
              "    </tr>\n",
              "    <tr>\n",
              "      <th>5573</th>\n",
              "      <td>45</td>\n",
              "      <td>technician</td>\n",
              "      <td>single</td>\n",
              "      <td>secondary</td>\n",
              "      <td>no</td>\n",
              "      <td>410</td>\n",
              "      <td>yes</td>\n",
              "      <td>no</td>\n",
              "      <td>unknown</td>\n",
              "      <td>30</td>\n",
              "      <td>may</td>\n",
              "      <td>891</td>\n",
              "      <td>4</td>\n",
              "      <td>-1</td>\n",
              "      <td>0</td>\n",
              "      <td>unknown</td>\n",
              "      <td>yes</td>\n",
              "    </tr>\n",
              "    <tr>\n",
              "      <th>5575</th>\n",
              "      <td>31</td>\n",
              "      <td>technician</td>\n",
              "      <td>married</td>\n",
              "      <td>secondary</td>\n",
              "      <td>no</td>\n",
              "      <td>589</td>\n",
              "      <td>yes</td>\n",
              "      <td>yes</td>\n",
              "      <td>unknown</td>\n",
              "      <td>21</td>\n",
              "      <td>may</td>\n",
              "      <td>151</td>\n",
              "      <td>1</td>\n",
              "      <td>-1</td>\n",
              "      <td>0</td>\n",
              "      <td>unknown</td>\n",
              "      <td>no</td>\n",
              "    </tr>\n",
              "    <tr>\n",
              "      <th>5576</th>\n",
              "      <td>48</td>\n",
              "      <td>admin.</td>\n",
              "      <td>married</td>\n",
              "      <td>secondary</td>\n",
              "      <td>no</td>\n",
              "      <td>2235</td>\n",
              "      <td>yes</td>\n",
              "      <td>yes</td>\n",
              "      <td>unknown</td>\n",
              "      <td>15</td>\n",
              "      <td>may</td>\n",
              "      <td>755</td>\n",
              "      <td>2</td>\n",
              "      <td>-1</td>\n",
              "      <td>0</td>\n",
              "      <td>unknown</td>\n",
              "      <td>no</td>\n",
              "    </tr>\n",
              "  </tbody>\n",
              "</table>\n",
              "<p>1155 rows × 17 columns</p>\n",
              "</div>"
            ],
            "text/plain": [
              "      age          job   marital  education  ... pdays  previous poutcome deposit\n",
              "14     38  blue-collar  divorced  secondary  ...    -1         0  unknown      no\n",
              "19     35  blue-collar   married    primary  ...    -1         0  unknown     yes\n",
              "21     38  blue-collar   married    primary  ...    -1         0  unknown      no\n",
              "31     28   management   married  secondary  ...    -1         0  unknown     yes\n",
              "33     38     services   married    primary  ...    -1         0  unknown      no\n",
              "...   ...          ...       ...        ...  ...   ...       ...      ...     ...\n",
              "5571   37     services    single  secondary  ...    -1         0  unknown     yes\n",
              "5572   45      unknown   married    primary  ...    -1         0  unknown      no\n",
              "5573   45   technician    single  secondary  ...    -1         0  unknown     yes\n",
              "5575   31   technician   married  secondary  ...    -1         0  unknown      no\n",
              "5576   48       admin.   married  secondary  ...    -1         0  unknown      no\n",
              "\n",
              "[1155 rows x 17 columns]"
            ]
          },
          "metadata": {
            "tags": []
          },
          "execution_count": 30
        }
      ]
    },
    {
      "cell_type": "code",
      "metadata": {
        "colab": {
          "base_uri": "https://localhost:8080/"
        },
        "id": "Xatmq5dcK9gm",
        "outputId": "d5da45c4-ad38-48aa-cf02-a766eeba07c6"
      },
      "source": [
        "# it is observed in the output of above code that the rows in which the values of 'contact' is labeled 'unknown', the corresponding values of\n",
        "# 'poutcome', 'previous', 'pdays' show that these particular clients were not contacted in the previous campaign but in the second campaign\n",
        "# and these clients have no credit in default as suggested by the values in 'default' column. However, we have to verify whether our interpretation is \n",
        "# correct by checking for values across the selected columns\n",
        "\n",
        "bank_data.loc[bank_data['contact'] == 'unknown', ['default', 'poutcome', 'previous', 'pdays', 'deposit']].value_counts()"
      ],
      "execution_count": null,
      "outputs": [
        {
          "output_type": "execute_result",
          "data": {
            "text/plain": [
              "default  poutcome  previous  pdays  deposit\n",
              "no       unknown   0         -1     no         852\n",
              "                                    yes        261\n",
              "yes      unknown   0         -1     no          26\n",
              "                                    yes          5\n",
              "no       success   2          404   no           1\n",
              "                              147   yes          1\n",
              "                   1          651   no           1\n",
              "                              417   yes          1\n",
              "                              378   yes          1\n",
              "         other     41         778   no           1\n",
              "                   6          701   no           1\n",
              "                   1          782   yes          1\n",
              "         failure   3          170   yes          1\n",
              "                   2          384   yes          1\n",
              "                   1          394   yes          1\n",
              "dtype: int64"
            ]
          },
          "metadata": {
            "tags": []
          },
          "execution_count": 31
        }
      ]
    },
    {
      "cell_type": "markdown",
      "metadata": {
        "id": "hs7fBcWrQMe7"
      },
      "source": [
        "Observation:\n",
        "\n",
        "When 'poutcome' = 'unknown', the value of 'unknown' only suggests that the client was not contacted in the previous campaign. But, the values labeled 'unknown' in 'contact' column just suggests that either the person who collected the data committed some errors in the collection procedures or it might be possible that bank officials, who monitored the effectiveness of campaign failed to record the type of communication device used to contact the clients as some of the values in 'previous' column are greater than 0 corresponding to the values labeled 'unknown' in 'contact' column. Thus, these particular clients were contacted during the previous campaign but the information about type of communication device used for making contacts is not available. \n",
        "\n",
        "We can also check the median duration in seconds for the unique values in 'contact' column to further identify patterns"
      ]
    },
    {
      "cell_type": "code",
      "metadata": {
        "colab": {
          "base_uri": "https://localhost:8080/",
          "height": 204
        },
        "id": "kZzB7ZGmSv4m",
        "outputId": "e27d90de-ce1a-4e60-eaa9-5d774a177fea"
      },
      "source": [
        "# checking the type of device used for communication during the campaigns and the median duration for which they were contacted  \n",
        "# by the banks and the relation to subscription to a term deposit\n",
        "\n",
        "pd.pivot_table(bank_data, index = 'contact', columns = 'deposit', values = 'duration', aggfunc = 'median', margins = True)"
      ],
      "execution_count": null,
      "outputs": [
        {
          "output_type": "execute_result",
          "data": {
            "text/html": [
              "<div>\n",
              "<style scoped>\n",
              "    .dataframe tbody tr th:only-of-type {\n",
              "        vertical-align: middle;\n",
              "    }\n",
              "\n",
              "    .dataframe tbody tr th {\n",
              "        vertical-align: top;\n",
              "    }\n",
              "\n",
              "    .dataframe thead th {\n",
              "        text-align: right;\n",
              "    }\n",
              "</style>\n",
              "<table border=\"1\" class=\"dataframe\">\n",
              "  <thead>\n",
              "    <tr style=\"text-align: right;\">\n",
              "      <th>deposit</th>\n",
              "      <th>no</th>\n",
              "      <th>yes</th>\n",
              "      <th>All</th>\n",
              "    </tr>\n",
              "    <tr>\n",
              "      <th>contact</th>\n",
              "      <th></th>\n",
              "      <th></th>\n",
              "      <th></th>\n",
              "    </tr>\n",
              "  </thead>\n",
              "  <tbody>\n",
              "    <tr>\n",
              "      <th>cellular</th>\n",
              "      <td>160.5</td>\n",
              "      <td>392.0</td>\n",
              "      <td>262.0</td>\n",
              "    </tr>\n",
              "    <tr>\n",
              "      <th>telephone</th>\n",
              "      <td>148.0</td>\n",
              "      <td>379.0</td>\n",
              "      <td>252.5</td>\n",
              "    </tr>\n",
              "    <tr>\n",
              "      <th>unknown</th>\n",
              "      <td>167.0</td>\n",
              "      <td>775.0</td>\n",
              "      <td>227.0</td>\n",
              "    </tr>\n",
              "    <tr>\n",
              "      <th>All</th>\n",
              "      <td>161.0</td>\n",
              "      <td>419.5</td>\n",
              "      <td>254.0</td>\n",
              "    </tr>\n",
              "  </tbody>\n",
              "</table>\n",
              "</div>"
            ],
            "text/plain": [
              "deposit       no    yes    All\n",
              "contact                       \n",
              "cellular   160.5  392.0  262.0\n",
              "telephone  148.0  379.0  252.5\n",
              "unknown    167.0  775.0  227.0\n",
              "All        161.0  419.5  254.0"
            ]
          },
          "metadata": {
            "tags": []
          },
          "execution_count": 32
        }
      ]
    },
    {
      "cell_type": "code",
      "metadata": {
        "colab": {
          "base_uri": "https://localhost:8080/",
          "height": 204
        },
        "id": "KvI5U7PJXbUk",
        "outputId": "94e8817f-a9d4-423b-b8e4-da62c542e771"
      },
      "source": [
        "pd.crosstab(index = bank_data['contact'], columns = bank_data['deposit'], normalize = True, margins = True)"
      ],
      "execution_count": null,
      "outputs": [
        {
          "output_type": "execute_result",
          "data": {
            "text/html": [
              "<div>\n",
              "<style scoped>\n",
              "    .dataframe tbody tr th:only-of-type {\n",
              "        vertical-align: middle;\n",
              "    }\n",
              "\n",
              "    .dataframe tbody tr th {\n",
              "        vertical-align: top;\n",
              "    }\n",
              "\n",
              "    .dataframe thead th {\n",
              "        text-align: right;\n",
              "    }\n",
              "</style>\n",
              "<table border=\"1\" class=\"dataframe\">\n",
              "  <thead>\n",
              "    <tr style=\"text-align: right;\">\n",
              "      <th>deposit</th>\n",
              "      <th>no</th>\n",
              "      <th>yes</th>\n",
              "      <th>All</th>\n",
              "    </tr>\n",
              "    <tr>\n",
              "      <th>contact</th>\n",
              "      <th></th>\n",
              "      <th></th>\n",
              "      <th></th>\n",
              "    </tr>\n",
              "  </thead>\n",
              "  <tbody>\n",
              "    <tr>\n",
              "      <th>cellular</th>\n",
              "      <td>0.337932</td>\n",
              "      <td>0.386669</td>\n",
              "      <td>0.724601</td>\n",
              "    </tr>\n",
              "    <tr>\n",
              "      <th>telephone</th>\n",
              "      <td>0.034223</td>\n",
              "      <td>0.034223</td>\n",
              "      <td>0.068447</td>\n",
              "    </tr>\n",
              "    <tr>\n",
              "      <th>unknown</th>\n",
              "      <td>0.158036</td>\n",
              "      <td>0.048916</td>\n",
              "      <td>0.206952</td>\n",
              "    </tr>\n",
              "    <tr>\n",
              "      <th>All</th>\n",
              "      <td>0.530192</td>\n",
              "      <td>0.469808</td>\n",
              "      <td>1.000000</td>\n",
              "    </tr>\n",
              "  </tbody>\n",
              "</table>\n",
              "</div>"
            ],
            "text/plain": [
              "deposit          no       yes       All\n",
              "contact                                \n",
              "cellular   0.337932  0.386669  0.724601\n",
              "telephone  0.034223  0.034223  0.068447\n",
              "unknown    0.158036  0.048916  0.206952\n",
              "All        0.530192  0.469808  1.000000"
            ]
          },
          "metadata": {
            "tags": []
          },
          "execution_count": 33
        }
      ]
    },
    {
      "cell_type": "markdown",
      "metadata": {
        "id": "0p-0_8_AUNrD"
      },
      "source": [
        "Interpretation:\n",
        "\n",
        "The output of above two code expressions show that whenever the communication made by the bank to the clients lasted for more duration, the client subscribed to the term deposit. Moreover, we had observed earlier that number of clients contacted by banks during the campaigns by using cellular communication were the highest. Moreover, more clients contacted by the banks using 'cellular' communication type subscribed to term deposits and more clients contacted by the banks using 'unknown' communication type did not subscribe to term deposits. The proportion of subscribers and non-subscribers of term deposits is same in case of clients contacted by banks using 'cellular' communication type."
      ]
    },
    {
      "cell_type": "code",
      "metadata": {
        "colab": {
          "base_uri": "https://localhost:8080/"
        },
        "id": "gv1WJykBSeM8",
        "outputId": "bab6e079-49bb-4865-a408-50c24e902f7d"
      },
      "source": [
        "bank_data.loc[bank_data['duration'] < 60, 'deposit'].value_counts()"
      ],
      "execution_count": null,
      "outputs": [
        {
          "output_type": "execute_result",
          "data": {
            "text/plain": [
              "no     332\n",
              "yes      7\n",
              "Name: deposit, dtype: int64"
            ]
          },
          "metadata": {
            "tags": []
          },
          "execution_count": 34
        }
      ]
    },
    {
      "cell_type": "code",
      "metadata": {
        "colab": {
          "base_uri": "https://localhost:8080/",
          "height": 439
        },
        "id": "65K76Skuhgwx",
        "outputId": "a2649165-d3f3-4b02-ffd0-fdef5a62c562"
      },
      "source": [
        "# checking the patterns for the rows in values of 'poutcome' are labeled as 'other' in the dataframe\n",
        "\n",
        "bank_data.loc[bank_data['poutcome'] == 'other', :]"
      ],
      "execution_count": null,
      "outputs": [
        {
          "output_type": "execute_result",
          "data": {
            "text/html": [
              "<div>\n",
              "<style scoped>\n",
              "    .dataframe tbody tr th:only-of-type {\n",
              "        vertical-align: middle;\n",
              "    }\n",
              "\n",
              "    .dataframe tbody tr th {\n",
              "        vertical-align: top;\n",
              "    }\n",
              "\n",
              "    .dataframe thead th {\n",
              "        text-align: right;\n",
              "    }\n",
              "</style>\n",
              "<table border=\"1\" class=\"dataframe\">\n",
              "  <thead>\n",
              "    <tr style=\"text-align: right;\">\n",
              "      <th></th>\n",
              "      <th>age</th>\n",
              "      <th>job</th>\n",
              "      <th>marital</th>\n",
              "      <th>education</th>\n",
              "      <th>default</th>\n",
              "      <th>balance</th>\n",
              "      <th>housing</th>\n",
              "      <th>loan</th>\n",
              "      <th>contact</th>\n",
              "      <th>day</th>\n",
              "      <th>month</th>\n",
              "      <th>duration</th>\n",
              "      <th>campaign</th>\n",
              "      <th>pdays</th>\n",
              "      <th>previous</th>\n",
              "      <th>poutcome</th>\n",
              "      <th>deposit</th>\n",
              "    </tr>\n",
              "  </thead>\n",
              "  <tbody>\n",
              "    <tr>\n",
              "      <th>12</th>\n",
              "      <td>56</td>\n",
              "      <td>retired</td>\n",
              "      <td>divorced</td>\n",
              "      <td>primary</td>\n",
              "      <td>no</td>\n",
              "      <td>694</td>\n",
              "      <td>no</td>\n",
              "      <td>no</td>\n",
              "      <td>cellular</td>\n",
              "      <td>29</td>\n",
              "      <td>jan</td>\n",
              "      <td>144</td>\n",
              "      <td>1</td>\n",
              "      <td>102</td>\n",
              "      <td>1</td>\n",
              "      <td>other</td>\n",
              "      <td>yes</td>\n",
              "    </tr>\n",
              "    <tr>\n",
              "      <th>42</th>\n",
              "      <td>32</td>\n",
              "      <td>management</td>\n",
              "      <td>single</td>\n",
              "      <td>tertiary</td>\n",
              "      <td>no</td>\n",
              "      <td>131</td>\n",
              "      <td>yes</td>\n",
              "      <td>no</td>\n",
              "      <td>cellular</td>\n",
              "      <td>11</td>\n",
              "      <td>aug</td>\n",
              "      <td>112</td>\n",
              "      <td>1</td>\n",
              "      <td>81</td>\n",
              "      <td>1</td>\n",
              "      <td>other</td>\n",
              "      <td>no</td>\n",
              "    </tr>\n",
              "    <tr>\n",
              "      <th>112</th>\n",
              "      <td>44</td>\n",
              "      <td>management</td>\n",
              "      <td>married</td>\n",
              "      <td>tertiary</td>\n",
              "      <td>no</td>\n",
              "      <td>445</td>\n",
              "      <td>no</td>\n",
              "      <td>yes</td>\n",
              "      <td>telephone</td>\n",
              "      <td>6</td>\n",
              "      <td>feb</td>\n",
              "      <td>135</td>\n",
              "      <td>2</td>\n",
              "      <td>9</td>\n",
              "      <td>7</td>\n",
              "      <td>other</td>\n",
              "      <td>no</td>\n",
              "    </tr>\n",
              "    <tr>\n",
              "      <th>137</th>\n",
              "      <td>26</td>\n",
              "      <td>technician</td>\n",
              "      <td>single</td>\n",
              "      <td>secondary</td>\n",
              "      <td>no</td>\n",
              "      <td>1105</td>\n",
              "      <td>yes</td>\n",
              "      <td>no</td>\n",
              "      <td>cellular</td>\n",
              "      <td>6</td>\n",
              "      <td>sep</td>\n",
              "      <td>415</td>\n",
              "      <td>1</td>\n",
              "      <td>297</td>\n",
              "      <td>3</td>\n",
              "      <td>other</td>\n",
              "      <td>yes</td>\n",
              "    </tr>\n",
              "    <tr>\n",
              "      <th>149</th>\n",
              "      <td>56</td>\n",
              "      <td>blue-collar</td>\n",
              "      <td>married</td>\n",
              "      <td>secondary</td>\n",
              "      <td>no</td>\n",
              "      <td>1521</td>\n",
              "      <td>yes</td>\n",
              "      <td>yes</td>\n",
              "      <td>cellular</td>\n",
              "      <td>21</td>\n",
              "      <td>nov</td>\n",
              "      <td>19</td>\n",
              "      <td>2</td>\n",
              "      <td>179</td>\n",
              "      <td>3</td>\n",
              "      <td>other</td>\n",
              "      <td>no</td>\n",
              "    </tr>\n",
              "    <tr>\n",
              "      <th>...</th>\n",
              "      <td>...</td>\n",
              "      <td>...</td>\n",
              "      <td>...</td>\n",
              "      <td>...</td>\n",
              "      <td>...</td>\n",
              "      <td>...</td>\n",
              "      <td>...</td>\n",
              "      <td>...</td>\n",
              "      <td>...</td>\n",
              "      <td>...</td>\n",
              "      <td>...</td>\n",
              "      <td>...</td>\n",
              "      <td>...</td>\n",
              "      <td>...</td>\n",
              "      <td>...</td>\n",
              "      <td>...</td>\n",
              "      <td>...</td>\n",
              "    </tr>\n",
              "    <tr>\n",
              "      <th>5532</th>\n",
              "      <td>29</td>\n",
              "      <td>blue-collar</td>\n",
              "      <td>single</td>\n",
              "      <td>secondary</td>\n",
              "      <td>no</td>\n",
              "      <td>2806</td>\n",
              "      <td>no</td>\n",
              "      <td>no</td>\n",
              "      <td>cellular</td>\n",
              "      <td>15</td>\n",
              "      <td>oct</td>\n",
              "      <td>294</td>\n",
              "      <td>1</td>\n",
              "      <td>93</td>\n",
              "      <td>5</td>\n",
              "      <td>other</td>\n",
              "      <td>no</td>\n",
              "    </tr>\n",
              "    <tr>\n",
              "      <th>5551</th>\n",
              "      <td>37</td>\n",
              "      <td>technician</td>\n",
              "      <td>married</td>\n",
              "      <td>secondary</td>\n",
              "      <td>no</td>\n",
              "      <td>0</td>\n",
              "      <td>yes</td>\n",
              "      <td>no</td>\n",
              "      <td>cellular</td>\n",
              "      <td>16</td>\n",
              "      <td>apr</td>\n",
              "      <td>657</td>\n",
              "      <td>4</td>\n",
              "      <td>149</td>\n",
              "      <td>1</td>\n",
              "      <td>other</td>\n",
              "      <td>no</td>\n",
              "    </tr>\n",
              "    <tr>\n",
              "      <th>5558</th>\n",
              "      <td>32</td>\n",
              "      <td>admin.</td>\n",
              "      <td>single</td>\n",
              "      <td>secondary</td>\n",
              "      <td>no</td>\n",
              "      <td>-32</td>\n",
              "      <td>no</td>\n",
              "      <td>no</td>\n",
              "      <td>cellular</td>\n",
              "      <td>29</td>\n",
              "      <td>jan</td>\n",
              "      <td>320</td>\n",
              "      <td>1</td>\n",
              "      <td>185</td>\n",
              "      <td>5</td>\n",
              "      <td>other</td>\n",
              "      <td>no</td>\n",
              "    </tr>\n",
              "    <tr>\n",
              "      <th>5578</th>\n",
              "      <td>27</td>\n",
              "      <td>student</td>\n",
              "      <td>single</td>\n",
              "      <td>secondary</td>\n",
              "      <td>no</td>\n",
              "      <td>91</td>\n",
              "      <td>no</td>\n",
              "      <td>no</td>\n",
              "      <td>telephone</td>\n",
              "      <td>4</td>\n",
              "      <td>dec</td>\n",
              "      <td>157</td>\n",
              "      <td>6</td>\n",
              "      <td>95</td>\n",
              "      <td>37</td>\n",
              "      <td>other</td>\n",
              "      <td>no</td>\n",
              "    </tr>\n",
              "    <tr>\n",
              "      <th>5579</th>\n",
              "      <td>46</td>\n",
              "      <td>blue-collar</td>\n",
              "      <td>married</td>\n",
              "      <td>secondary</td>\n",
              "      <td>no</td>\n",
              "      <td>1568</td>\n",
              "      <td>yes</td>\n",
              "      <td>no</td>\n",
              "      <td>cellular</td>\n",
              "      <td>2</td>\n",
              "      <td>jun</td>\n",
              "      <td>310</td>\n",
              "      <td>1</td>\n",
              "      <td>55</td>\n",
              "      <td>6</td>\n",
              "      <td>other</td>\n",
              "      <td>yes</td>\n",
              "    </tr>\n",
              "  </tbody>\n",
              "</table>\n",
              "<p>277 rows × 17 columns</p>\n",
              "</div>"
            ],
            "text/plain": [
              "      age          job   marital  education  ... pdays  previous poutcome deposit\n",
              "12     56      retired  divorced    primary  ...   102         1    other     yes\n",
              "42     32   management    single   tertiary  ...    81         1    other      no\n",
              "112    44   management   married   tertiary  ...     9         7    other      no\n",
              "137    26   technician    single  secondary  ...   297         3    other     yes\n",
              "149    56  blue-collar   married  secondary  ...   179         3    other      no\n",
              "...   ...          ...       ...        ...  ...   ...       ...      ...     ...\n",
              "5532   29  blue-collar    single  secondary  ...    93         5    other      no\n",
              "5551   37   technician   married  secondary  ...   149         1    other      no\n",
              "5558   32       admin.    single  secondary  ...   185         5    other      no\n",
              "5578   27      student    single  secondary  ...    95        37    other      no\n",
              "5579   46  blue-collar   married  secondary  ...    55         6    other     yes\n",
              "\n",
              "[277 rows x 17 columns]"
            ]
          },
          "metadata": {
            "tags": []
          },
          "execution_count": 35
        }
      ]
    },
    {
      "cell_type": "markdown",
      "metadata": {
        "id": "lpvydLsChj-o"
      },
      "source": [
        "After observing the output of above code expression, it is clear that the rows in which values of 'poutcome' or outcome of the previous campaign are labeled as 'other' could not signify the same meaning as the values labeled as 'unknown' in the 'poutcome' column.  This is because the values in 'previous' column are greater than 0 in output of above code expression that suggests these clients were contacted in the previous campaign. Thus, values labeled as 'other' in 'poutcome' column could signify either that there were some errors in collection of data or that bank officials monitoring the effectiveness of campaign failed to record the details of outcomes of previous campaign for clients. For these clients, the values recorded in 'poutcome' column are labeled as 'other'. "
      ]
    },
    {
      "cell_type": "code",
      "metadata": {
        "colab": {
          "base_uri": "https://localhost:8080/"
        },
        "id": "ViZe60zIkwGv",
        "outputId": "b76e802c-b9c7-4e95-b961-e1202940d910"
      },
      "source": [
        "# checking the counts of subscribers and non-subscribers corresponding to rows in which 'poutcome' is labeled as 'other'\n",
        "\n",
        "bank_data.loc[bank_data['poutcome'] == 'other', 'deposit'].value_counts()"
      ],
      "execution_count": null,
      "outputs": [
        {
          "output_type": "execute_result",
          "data": {
            "text/plain": [
              "yes    152\n",
              "no     125\n",
              "Name: deposit, dtype: int64"
            ]
          },
          "metadata": {
            "tags": []
          },
          "execution_count": 36
        }
      ]
    },
    {
      "cell_type": "code",
      "metadata": {
        "colab": {
          "base_uri": "https://localhost:8080/",
          "height": 297
        },
        "id": "ObzkjfETwJZ6",
        "outputId": "8f3b1689-4ae7-410a-c809-01e20c2b0cd8"
      },
      "source": [
        "# checking the statistical summary of dataset\n",
        "\n",
        "bank_data.describe()"
      ],
      "execution_count": null,
      "outputs": [
        {
          "output_type": "execute_result",
          "data": {
            "text/html": [
              "<div>\n",
              "<style scoped>\n",
              "    .dataframe tbody tr th:only-of-type {\n",
              "        vertical-align: middle;\n",
              "    }\n",
              "\n",
              "    .dataframe tbody tr th {\n",
              "        vertical-align: top;\n",
              "    }\n",
              "\n",
              "    .dataframe thead th {\n",
              "        text-align: right;\n",
              "    }\n",
              "</style>\n",
              "<table border=\"1\" class=\"dataframe\">\n",
              "  <thead>\n",
              "    <tr style=\"text-align: right;\">\n",
              "      <th></th>\n",
              "      <th>age</th>\n",
              "      <th>balance</th>\n",
              "      <th>day</th>\n",
              "      <th>duration</th>\n",
              "      <th>campaign</th>\n",
              "      <th>pdays</th>\n",
              "      <th>previous</th>\n",
              "    </tr>\n",
              "  </thead>\n",
              "  <tbody>\n",
              "    <tr>\n",
              "      <th>count</th>\n",
              "      <td>5581.000000</td>\n",
              "      <td>5581.000000</td>\n",
              "      <td>5581.000000</td>\n",
              "      <td>5581.000000</td>\n",
              "      <td>5581.000000</td>\n",
              "      <td>5581.000000</td>\n",
              "      <td>5581.000000</td>\n",
              "    </tr>\n",
              "    <tr>\n",
              "      <th>mean</th>\n",
              "      <td>41.169683</td>\n",
              "      <td>1514.736786</td>\n",
              "      <td>15.693603</td>\n",
              "      <td>368.175954</td>\n",
              "      <td>2.507436</td>\n",
              "      <td>52.534313</td>\n",
              "      <td>0.849669</td>\n",
              "    </tr>\n",
              "    <tr>\n",
              "      <th>std</th>\n",
              "      <td>11.926044</td>\n",
              "      <td>3266.534626</td>\n",
              "      <td>8.461086</td>\n",
              "      <td>344.131053</td>\n",
              "      <td>2.770717</td>\n",
              "      <td>110.754995</td>\n",
              "      <td>2.311684</td>\n",
              "    </tr>\n",
              "    <tr>\n",
              "      <th>min</th>\n",
              "      <td>18.000000</td>\n",
              "      <td>-3058.000000</td>\n",
              "      <td>1.000000</td>\n",
              "      <td>3.000000</td>\n",
              "      <td>1.000000</td>\n",
              "      <td>-1.000000</td>\n",
              "      <td>0.000000</td>\n",
              "    </tr>\n",
              "    <tr>\n",
              "      <th>25%</th>\n",
              "      <td>32.000000</td>\n",
              "      <td>110.000000</td>\n",
              "      <td>8.000000</td>\n",
              "      <td>137.000000</td>\n",
              "      <td>1.000000</td>\n",
              "      <td>-1.000000</td>\n",
              "      <td>0.000000</td>\n",
              "    </tr>\n",
              "    <tr>\n",
              "      <th>50%</th>\n",
              "      <td>39.000000</td>\n",
              "      <td>542.000000</td>\n",
              "      <td>15.000000</td>\n",
              "      <td>254.000000</td>\n",
              "      <td>2.000000</td>\n",
              "      <td>-1.000000</td>\n",
              "      <td>0.000000</td>\n",
              "    </tr>\n",
              "    <tr>\n",
              "      <th>75%</th>\n",
              "      <td>49.000000</td>\n",
              "      <td>1747.000000</td>\n",
              "      <td>22.000000</td>\n",
              "      <td>485.000000</td>\n",
              "      <td>3.000000</td>\n",
              "      <td>57.000000</td>\n",
              "      <td>1.000000</td>\n",
              "    </tr>\n",
              "    <tr>\n",
              "      <th>max</th>\n",
              "      <td>93.000000</td>\n",
              "      <td>81204.000000</td>\n",
              "      <td>31.000000</td>\n",
              "      <td>3284.000000</td>\n",
              "      <td>63.000000</td>\n",
              "      <td>842.000000</td>\n",
              "      <td>41.000000</td>\n",
              "    </tr>\n",
              "  </tbody>\n",
              "</table>\n",
              "</div>"
            ],
            "text/plain": [
              "               age       balance  ...        pdays     previous\n",
              "count  5581.000000   5581.000000  ...  5581.000000  5581.000000\n",
              "mean     41.169683   1514.736786  ...    52.534313     0.849669\n",
              "std      11.926044   3266.534626  ...   110.754995     2.311684\n",
              "min      18.000000  -3058.000000  ...    -1.000000     0.000000\n",
              "25%      32.000000    110.000000  ...    -1.000000     0.000000\n",
              "50%      39.000000    542.000000  ...    -1.000000     0.000000\n",
              "75%      49.000000   1747.000000  ...    57.000000     1.000000\n",
              "max      93.000000  81204.000000  ...   842.000000    41.000000\n",
              "\n",
              "[8 rows x 7 columns]"
            ]
          },
          "metadata": {
            "tags": []
          },
          "execution_count": 37
        }
      ]
    },
    {
      "cell_type": "code",
      "metadata": {
        "colab": {
          "base_uri": "https://localhost:8080/",
          "height": 266
        },
        "id": "30WbJYHfyj1S",
        "outputId": "c83f7aa0-2c9f-46c9-a82f-ef757d9c8338"
      },
      "source": [
        "# checking the relations between the independent variables in the dataframe\n",
        "\n",
        "bank_datcorr = bank_data.corr()\n",
        "\n",
        "bank_datcorr"
      ],
      "execution_count": null,
      "outputs": [
        {
          "output_type": "execute_result",
          "data": {
            "text/html": [
              "<div>\n",
              "<style scoped>\n",
              "    .dataframe tbody tr th:only-of-type {\n",
              "        vertical-align: middle;\n",
              "    }\n",
              "\n",
              "    .dataframe tbody tr th {\n",
              "        vertical-align: top;\n",
              "    }\n",
              "\n",
              "    .dataframe thead th {\n",
              "        text-align: right;\n",
              "    }\n",
              "</style>\n",
              "<table border=\"1\" class=\"dataframe\">\n",
              "  <thead>\n",
              "    <tr style=\"text-align: right;\">\n",
              "      <th></th>\n",
              "      <th>age</th>\n",
              "      <th>balance</th>\n",
              "      <th>day</th>\n",
              "      <th>duration</th>\n",
              "      <th>campaign</th>\n",
              "      <th>pdays</th>\n",
              "      <th>previous</th>\n",
              "    </tr>\n",
              "  </thead>\n",
              "  <tbody>\n",
              "    <tr>\n",
              "      <th>age</th>\n",
              "      <td>1.000000</td>\n",
              "      <td>0.128465</td>\n",
              "      <td>0.009250</td>\n",
              "      <td>-0.008453</td>\n",
              "      <td>-0.018844</td>\n",
              "      <td>-0.002383</td>\n",
              "      <td>0.022026</td>\n",
              "    </tr>\n",
              "    <tr>\n",
              "      <th>balance</th>\n",
              "      <td>0.128465</td>\n",
              "      <td>1.000000</td>\n",
              "      <td>0.005989</td>\n",
              "      <td>0.022242</td>\n",
              "      <td>-0.015866</td>\n",
              "      <td>0.030656</td>\n",
              "      <td>0.044003</td>\n",
              "    </tr>\n",
              "    <tr>\n",
              "      <th>day</th>\n",
              "      <td>0.009250</td>\n",
              "      <td>0.005989</td>\n",
              "      <td>1.000000</td>\n",
              "      <td>-0.013211</td>\n",
              "      <td>0.133264</td>\n",
              "      <td>-0.073403</td>\n",
              "      <td>-0.048452</td>\n",
              "    </tr>\n",
              "    <tr>\n",
              "      <th>duration</th>\n",
              "      <td>-0.008453</td>\n",
              "      <td>0.022242</td>\n",
              "      <td>-0.013211</td>\n",
              "      <td>1.000000</td>\n",
              "      <td>-0.048190</td>\n",
              "      <td>-0.034635</td>\n",
              "      <td>-0.031562</td>\n",
              "    </tr>\n",
              "    <tr>\n",
              "      <th>campaign</th>\n",
              "      <td>-0.018844</td>\n",
              "      <td>-0.015866</td>\n",
              "      <td>0.133264</td>\n",
              "      <td>-0.048190</td>\n",
              "      <td>1.000000</td>\n",
              "      <td>-0.098066</td>\n",
              "      <td>-0.041082</td>\n",
              "    </tr>\n",
              "    <tr>\n",
              "      <th>pdays</th>\n",
              "      <td>-0.002383</td>\n",
              "      <td>0.030656</td>\n",
              "      <td>-0.073403</td>\n",
              "      <td>-0.034635</td>\n",
              "      <td>-0.098066</td>\n",
              "      <td>1.000000</td>\n",
              "      <td>0.492715</td>\n",
              "    </tr>\n",
              "    <tr>\n",
              "      <th>previous</th>\n",
              "      <td>0.022026</td>\n",
              "      <td>0.044003</td>\n",
              "      <td>-0.048452</td>\n",
              "      <td>-0.031562</td>\n",
              "      <td>-0.041082</td>\n",
              "      <td>0.492715</td>\n",
              "      <td>1.000000</td>\n",
              "    </tr>\n",
              "  </tbody>\n",
              "</table>\n",
              "</div>"
            ],
            "text/plain": [
              "               age   balance       day  duration  campaign     pdays  previous\n",
              "age       1.000000  0.128465  0.009250 -0.008453 -0.018844 -0.002383  0.022026\n",
              "balance   0.128465  1.000000  0.005989  0.022242 -0.015866  0.030656  0.044003\n",
              "day       0.009250  0.005989  1.000000 -0.013211  0.133264 -0.073403 -0.048452\n",
              "duration -0.008453  0.022242 -0.013211  1.000000 -0.048190 -0.034635 -0.031562\n",
              "campaign -0.018844 -0.015866  0.133264 -0.048190  1.000000 -0.098066 -0.041082\n",
              "pdays    -0.002383  0.030656 -0.073403 -0.034635 -0.098066  1.000000  0.492715\n",
              "previous  0.022026  0.044003 -0.048452 -0.031562 -0.041082  0.492715  1.000000"
            ]
          },
          "metadata": {
            "tags": []
          },
          "execution_count": 38
        }
      ]
    },
    {
      "cell_type": "markdown",
      "metadata": {
        "id": "Q1mv0TT7aQxn"
      },
      "source": [
        "Interpretation:\n",
        "\n",
        "The output of above code shows that none of the independent numeric variables in the dataset have a strong correlation with other numeric independent variables as all the values are less than +0.8 / -0.8.  "
      ]
    },
    {
      "cell_type": "code",
      "metadata": {
        "colab": {
          "base_uri": "https://localhost:8080/"
        },
        "id": "QVsRZw6SdLGu",
        "outputId": "4313c699-3302-45dc-811b-a690a720787b"
      },
      "source": [
        "# checking whether there are any duplicate rows in the dataset and then removing them \n",
        "\n",
        "bank_data.duplicated().value_counts()"
      ],
      "execution_count": null,
      "outputs": [
        {
          "output_type": "execute_result",
          "data": {
            "text/plain": [
              "False    5581\n",
              "dtype: int64"
            ]
          },
          "metadata": {
            "tags": []
          },
          "execution_count": 39
        }
      ]
    },
    {
      "cell_type": "markdown",
      "metadata": {
        "id": "pbkGmJLoeBB-"
      },
      "source": [
        "The output of above code shows that there are no duplicate rows in the dataset as the total 'False' values are 5581, which is total number of rows in the dataframe. "
      ]
    },
    {
      "cell_type": "code",
      "metadata": {
        "id": "xOp1xLagoN9Q"
      },
      "source": [
        "# importing the packages for visualisation\n",
        "\n",
        "import matplotlib.pyplot as plt\n",
        "\n",
        "import seaborn as sns"
      ],
      "execution_count": null,
      "outputs": []
    },
    {
      "cell_type": "code",
      "metadata": {
        "id": "jcCr9SpDqYkO",
        "colab": {
          "base_uri": "https://localhost:8080/",
          "height": 378
        },
        "outputId": "536ea180-3661-4c3b-f9cd-e04cf37da30f"
      },
      "source": [
        "plt.figure(figsize=(10, 6))\n",
        "sns.heatmap(data=bank_datcorr, annot=True)\n",
        "plt.show()"
      ],
      "execution_count": null,
      "outputs": [
        {
          "output_type": "display_data",
          "data": {
            "image/png": "[encoded data removed]",
            "text/plain": [
              "<Figure size 720x432 with 2 Axes>"
            ]
          },
          "metadata": {
            "tags": [],
            "needs_background": "light"
          }
        }
      ]
    },
    {
      "cell_type": "code",
      "metadata": {
        "colab": {
          "base_uri": "https://localhost:8080/",
          "height": 333
        },
        "id": "tPQyoLDnmrLm",
        "outputId": "7257dcd9-8f91-4548-a063-b9083cd3174e"
      },
      "source": [
        "sns.distplot(bank_data['age'], bins=10)\n",
        "plt.show()"
      ],
      "execution_count": null,
      "outputs": [
        {
          "output_type": "stream",
          "text": [
            "/usr/local/lib/python3.7/dist-packages/seaborn/distributions.py:2557: FutureWarning: `distplot` is a deprecated function and will be removed in a future version. Please adapt your code to use either `displot` (a figure-level function with similar flexibility) or `histplot` (an axes-level function for histograms).\n",
            "  warnings.warn(msg, FutureWarning)\n"
          ],
          "name": "stderr"
        },
        {
          "output_type": "display_data",
          "data": {
            "image/png": "[encoded data removed]",
            "text/plain": [
              "<Figure size 432x288 with 1 Axes>"
            ]
          },
          "metadata": {
            "tags": [],
            "needs_background": "light"
          }
        }
      ]
    },
    {
      "cell_type": "code",
      "metadata": {
        "colab": {
          "base_uri": "https://localhost:8080/",
          "height": 279
        },
        "id": "WGOIPL1XnDF7",
        "outputId": "5a16b848-dcd7-4ced-c7ff-bd448690b2e8"
      },
      "source": [
        "# Histogram of age\n",
        "\n",
        "sns.histplot(bank_data['age'], bins=10, kde=True)\n",
        "plt.show()"
      ],
      "execution_count": null,
      "outputs": [
        {
          "output_type": "display_data",
          "data": {
            "image/png": "[encoded data removed]",
            "text/plain": [
              "<Figure size 432x288 with 1 Axes>"
            ]
          },
          "metadata": {
            "tags": [],
            "needs_background": "light"
          }
        }
      ]
    },
    {
      "cell_type": "markdown",
      "metadata": {
        "id": "e44Bnnt2nO-b"
      },
      "source": [
        "The above plot shows that the data in 'age' column is right-skewed. Thus, the data in this column does not follow Gaussian distribution. "
      ]
    },
    {
      "cell_type": "code",
      "metadata": {
        "colab": {
          "base_uri": "https://localhost:8080/",
          "height": 279
        },
        "id": "xTBChBacnoVH",
        "outputId": "91d59072-210c-4ad4-877e-1bef0934acb9"
      },
      "source": [
        "sns.histplot(x='age', data= bank_data, hue='deposit', bins=10, kde=False)\n",
        "plt.show()"
      ],
      "execution_count": null,
      "outputs": [
        {
          "output_type": "display_data",
          "data": {
            "image/png": "[encoded data removed]",
            "text/plain": [
              "<Figure size 432x288 with 1 Axes>"
            ]
          },
          "metadata": {
            "tags": [],
            "needs_background": "light"
          }
        }
      ]
    },
    {
      "cell_type": "code",
      "metadata": {
        "colab": {
          "base_uri": "https://localhost:8080/",
          "height": 279
        },
        "id": "DslQR8B5p0FV",
        "outputId": "4504f77f-c135-4c39-ab10-29a205f41f02"
      },
      "source": [
        "sns.histplot(x='duration', data=bank_data, hue='deposit', bins=10, kde=False)\n",
        "plt.show()"
      ],
      "execution_count": null,
      "outputs": [
        {
          "output_type": "display_data",
          "data": {
            "image/png": "[encoded data removed]",
            "text/plain": [
              "<Figure size 432x288 with 1 Axes>"
            ]
          },
          "metadata": {
            "tags": [],
            "needs_background": "light"
          }
        }
      ]
    },
    {
      "cell_type": "markdown",
      "metadata": {
        "id": "GCdFDF0Fr4Tc"
      },
      "source": [
        "The above plot shows that the data in 'duration' column is right-skewed. Thus, the data in this column does not follow Gaussian distribution. "
      ]
    },
    {
      "cell_type": "code",
      "metadata": {
        "colab": {
          "base_uri": "https://localhost:8080/",
          "height": 714
        },
        "id": "KWys5TqVsDvH",
        "outputId": "725d7e51-c379-4cc1-dc34-a4134eea9dfa"
      },
      "source": [
        "plt.figure(figsize=(14, 12))\n",
        "sns.histplot(x='balance', data=bank_data, hue='deposit', bins = 22, kde=False)\n",
        "plt.xlim(-3300.0, 82000.0)\n",
        "plt.show()"
      ],
      "execution_count": null,
      "outputs": [
        {
          "output_type": "display_data",
          "data": {
            "image/png": "[encoded data removed]",
            "text/plain": [
              "<Figure size 1008x864 with 1 Axes>"
            ]
          },
          "metadata": {
            "tags": [],
            "needs_background": "light"
          }
        }
      ]
    },
    {
      "cell_type": "code",
      "metadata": {
        "colab": {
          "base_uri": "https://localhost:8080/",
          "height": 452
        },
        "id": "EGoyBv9ALu82",
        "outputId": "30e78c8a-5a14-4eed-970d-4ef908144670"
      },
      "source": [
        "pd.crosstab(index = bank_data['job'], columns = bank_data['deposit'], values = bank_data['balance'], aggfunc = 'median')"
      ],
      "execution_count": null,
      "outputs": [
        {
          "output_type": "execute_result",
          "data": {
            "text/html": [
              "<div>\n",
              "<style scoped>\n",
              "    .dataframe tbody tr th:only-of-type {\n",
              "        vertical-align: middle;\n",
              "    }\n",
              "\n",
              "    .dataframe tbody tr th {\n",
              "        vertical-align: top;\n",
              "    }\n",
              "\n",
              "    .dataframe thead th {\n",
              "        text-align: right;\n",
              "    }\n",
              "</style>\n",
              "<table border=\"1\" class=\"dataframe\">\n",
              "  <thead>\n",
              "    <tr style=\"text-align: right;\">\n",
              "      <th>deposit</th>\n",
              "      <th>no</th>\n",
              "      <th>yes</th>\n",
              "    </tr>\n",
              "    <tr>\n",
              "      <th>job</th>\n",
              "      <th></th>\n",
              "      <th></th>\n",
              "    </tr>\n",
              "  </thead>\n",
              "  <tbody>\n",
              "    <tr>\n",
              "      <th>admin.</th>\n",
              "      <td>386.0</td>\n",
              "      <td>623.5</td>\n",
              "    </tr>\n",
              "    <tr>\n",
              "      <th>blue-collar</th>\n",
              "      <td>418.0</td>\n",
              "      <td>566.5</td>\n",
              "    </tr>\n",
              "    <tr>\n",
              "      <th>entrepreneur</th>\n",
              "      <td>318.0</td>\n",
              "      <td>437.0</td>\n",
              "    </tr>\n",
              "    <tr>\n",
              "      <th>housemaid</th>\n",
              "      <td>387.0</td>\n",
              "      <td>1041.5</td>\n",
              "    </tr>\n",
              "    <tr>\n",
              "      <th>management</th>\n",
              "      <td>398.0</td>\n",
              "      <td>924.0</td>\n",
              "    </tr>\n",
              "    <tr>\n",
              "      <th>retired</th>\n",
              "      <td>515.0</td>\n",
              "      <td>1468.0</td>\n",
              "    </tr>\n",
              "    <tr>\n",
              "      <th>self-employed</th>\n",
              "      <td>318.0</td>\n",
              "      <td>805.0</td>\n",
              "    </tr>\n",
              "    <tr>\n",
              "      <th>services</th>\n",
              "      <td>367.0</td>\n",
              "      <td>462.0</td>\n",
              "    </tr>\n",
              "    <tr>\n",
              "      <th>student</th>\n",
              "      <td>703.0</td>\n",
              "      <td>480.0</td>\n",
              "    </tr>\n",
              "    <tr>\n",
              "      <th>technician</th>\n",
              "      <td>402.0</td>\n",
              "      <td>679.0</td>\n",
              "    </tr>\n",
              "    <tr>\n",
              "      <th>unemployed</th>\n",
              "      <td>570.5</td>\n",
              "      <td>854.0</td>\n",
              "    </tr>\n",
              "    <tr>\n",
              "      <th>unknown</th>\n",
              "      <td>1245.0</td>\n",
              "      <td>1683.0</td>\n",
              "    </tr>\n",
              "  </tbody>\n",
              "</table>\n",
              "</div>"
            ],
            "text/plain": [
              "deposit            no     yes\n",
              "job                          \n",
              "admin.          386.0   623.5\n",
              "blue-collar     418.0   566.5\n",
              "entrepreneur    318.0   437.0\n",
              "housemaid       387.0  1041.5\n",
              "management      398.0   924.0\n",
              "retired         515.0  1468.0\n",
              "self-employed   318.0   805.0\n",
              "services        367.0   462.0\n",
              "student         703.0   480.0\n",
              "technician      402.0   679.0\n",
              "unemployed      570.5   854.0\n",
              "unknown        1245.0  1683.0"
            ]
          },
          "metadata": {
            "tags": []
          },
          "execution_count": 47
        }
      ]
    },
    {
      "cell_type": "markdown",
      "metadata": {
        "id": "Z2bjK7R8xbjr"
      },
      "source": [
        "'day' column can be considered an ordinal variable as there are a ordered sequence of values that correspond to particular day on which the client was contact last by the bank for the campaign. "
      ]
    },
    {
      "cell_type": "code",
      "metadata": {
        "colab": {
          "base_uri": "https://localhost:8080/",
          "height": 714
        },
        "id": "3OQ1Y41w3Ugz",
        "outputId": "7462ebf6-3a44-4b59-e5ff-af7bfd6da583"
      },
      "source": [
        "\n",
        "plt.figure(figsize=(14, 12))\n",
        "sns.countplot(y='day', hue='deposit', data = bank_data)\n",
        "plt.show()"
      ],
      "execution_count": null,
      "outputs": [
        {
          "output_type": "display_data",
          "data": {
            "image/png": "[encoded data removed]",
            "text/plain": [
              "<Figure size 1008x864 with 1 Axes>"
            ]
          },
          "metadata": {
            "tags": [],
            "needs_background": "light"
          }
        }
      ]
    },
    {
      "cell_type": "code",
      "metadata": {
        "colab": {
          "base_uri": "https://localhost:8080/",
          "height": 279
        },
        "id": "WgVtg6q3wXr_",
        "outputId": "efdf881b-0679-4735-8ee4-ad7a54217ddb"
      },
      "source": [
        "sns.histplot(x='campaign', data= bank_data, hue='deposit', bins = 10, kde=False)\n",
        "plt.show()"
      ],
      "execution_count": null,
      "outputs": [
        {
          "output_type": "display_data",
          "data": {
            "image/png": "[encoded data removed]",
            "text/plain": [
              "<Figure size 432x288 with 1 Axes>"
            ]
          },
          "metadata": {
            "tags": [],
            "needs_background": "light"
          }
        }
      ]
    },
    {
      "cell_type": "code",
      "metadata": {
        "colab": {
          "base_uri": "https://localhost:8080/",
          "height": 1000
        },
        "id": "4Fy_K3xMLkbB",
        "outputId": "a8eac316-a377-4d6b-960d-e5dce6aded4d"
      },
      "source": [
        "# relation between number of times the clients were contacted in this campaign and the number of subscribing and non-subscribing clients\n",
        "\n",
        "pd.crosstab(index = bank_data['campaign'], columns = bank_data['deposit'], values = bank_data['campaign'], aggfunc = 'count')"
      ],
      "execution_count": null,
      "outputs": [
        {
          "output_type": "execute_result",
          "data": {
            "text/html": [
              "<div>\n",
              "<style scoped>\n",
              "    .dataframe tbody tr th:only-of-type {\n",
              "        vertical-align: middle;\n",
              "    }\n",
              "\n",
              "    .dataframe tbody tr th {\n",
              "        vertical-align: top;\n",
              "    }\n",
              "\n",
              "    .dataframe thead th {\n",
              "        text-align: right;\n",
              "    }\n",
              "</style>\n",
              "<table border=\"1\" class=\"dataframe\">\n",
              "  <thead>\n",
              "    <tr style=\"text-align: right;\">\n",
              "      <th>deposit</th>\n",
              "      <th>no</th>\n",
              "      <th>yes</th>\n",
              "    </tr>\n",
              "    <tr>\n",
              "      <th>campaign</th>\n",
              "      <th></th>\n",
              "      <th></th>\n",
              "    </tr>\n",
              "  </thead>\n",
              "  <tbody>\n",
              "    <tr>\n",
              "      <th>1</th>\n",
              "      <td>1105.0</td>\n",
              "      <td>1262.0</td>\n",
              "    </tr>\n",
              "    <tr>\n",
              "      <th>2</th>\n",
              "      <td>816.0</td>\n",
              "      <td>710.0</td>\n",
              "    </tr>\n",
              "    <tr>\n",
              "      <th>3</th>\n",
              "      <td>376.0</td>\n",
              "      <td>311.0</td>\n",
              "    </tr>\n",
              "    <tr>\n",
              "      <th>4</th>\n",
              "      <td>234.0</td>\n",
              "      <td>145.0</td>\n",
              "    </tr>\n",
              "    <tr>\n",
              "      <th>5</th>\n",
              "      <td>140.0</td>\n",
              "      <td>66.0</td>\n",
              "    </tr>\n",
              "    <tr>\n",
              "      <th>6</th>\n",
              "      <td>80.0</td>\n",
              "      <td>51.0</td>\n",
              "    </tr>\n",
              "    <tr>\n",
              "      <th>7</th>\n",
              "      <td>47.0</td>\n",
              "      <td>19.0</td>\n",
              "    </tr>\n",
              "    <tr>\n",
              "      <th>8</th>\n",
              "      <td>45.0</td>\n",
              "      <td>17.0</td>\n",
              "    </tr>\n",
              "    <tr>\n",
              "      <th>9</th>\n",
              "      <td>30.0</td>\n",
              "      <td>9.0</td>\n",
              "    </tr>\n",
              "    <tr>\n",
              "      <th>10</th>\n",
              "      <td>14.0</td>\n",
              "      <td>6.0</td>\n",
              "    </tr>\n",
              "    <tr>\n",
              "      <th>11</th>\n",
              "      <td>9.0</td>\n",
              "      <td>10.0</td>\n",
              "    </tr>\n",
              "    <tr>\n",
              "      <th>12</th>\n",
              "      <td>9.0</td>\n",
              "      <td>2.0</td>\n",
              "    </tr>\n",
              "    <tr>\n",
              "      <th>13</th>\n",
              "      <td>10.0</td>\n",
              "      <td>3.0</td>\n",
              "    </tr>\n",
              "    <tr>\n",
              "      <th>14</th>\n",
              "      <td>7.0</td>\n",
              "      <td>2.0</td>\n",
              "    </tr>\n",
              "    <tr>\n",
              "      <th>15</th>\n",
              "      <td>6.0</td>\n",
              "      <td>2.0</td>\n",
              "    </tr>\n",
              "    <tr>\n",
              "      <th>16</th>\n",
              "      <td>2.0</td>\n",
              "      <td>1.0</td>\n",
              "    </tr>\n",
              "    <tr>\n",
              "      <th>17</th>\n",
              "      <td>2.0</td>\n",
              "      <td>4.0</td>\n",
              "    </tr>\n",
              "    <tr>\n",
              "      <th>18</th>\n",
              "      <td>3.0</td>\n",
              "      <td>NaN</td>\n",
              "    </tr>\n",
              "    <tr>\n",
              "      <th>19</th>\n",
              "      <td>2.0</td>\n",
              "      <td>NaN</td>\n",
              "    </tr>\n",
              "    <tr>\n",
              "      <th>20</th>\n",
              "      <td>1.0</td>\n",
              "      <td>NaN</td>\n",
              "    </tr>\n",
              "    <tr>\n",
              "      <th>21</th>\n",
              "      <td>4.0</td>\n",
              "      <td>1.0</td>\n",
              "    </tr>\n",
              "    <tr>\n",
              "      <th>22</th>\n",
              "      <td>2.0</td>\n",
              "      <td>NaN</td>\n",
              "    </tr>\n",
              "    <tr>\n",
              "      <th>23</th>\n",
              "      <td>1.0</td>\n",
              "      <td>NaN</td>\n",
              "    </tr>\n",
              "    <tr>\n",
              "      <th>24</th>\n",
              "      <td>3.0</td>\n",
              "      <td>NaN</td>\n",
              "    </tr>\n",
              "    <tr>\n",
              "      <th>25</th>\n",
              "      <td>1.0</td>\n",
              "      <td>NaN</td>\n",
              "    </tr>\n",
              "    <tr>\n",
              "      <th>26</th>\n",
              "      <td>1.0</td>\n",
              "      <td>NaN</td>\n",
              "    </tr>\n",
              "    <tr>\n",
              "      <th>27</th>\n",
              "      <td>1.0</td>\n",
              "      <td>NaN</td>\n",
              "    </tr>\n",
              "    <tr>\n",
              "      <th>28</th>\n",
              "      <td>1.0</td>\n",
              "      <td>NaN</td>\n",
              "    </tr>\n",
              "    <tr>\n",
              "      <th>30</th>\n",
              "      <td>1.0</td>\n",
              "      <td>NaN</td>\n",
              "    </tr>\n",
              "    <tr>\n",
              "      <th>31</th>\n",
              "      <td>1.0</td>\n",
              "      <td>NaN</td>\n",
              "    </tr>\n",
              "    <tr>\n",
              "      <th>32</th>\n",
              "      <td>1.0</td>\n",
              "      <td>1.0</td>\n",
              "    </tr>\n",
              "    <tr>\n",
              "      <th>33</th>\n",
              "      <td>1.0</td>\n",
              "      <td>NaN</td>\n",
              "    </tr>\n",
              "    <tr>\n",
              "      <th>41</th>\n",
              "      <td>1.0</td>\n",
              "      <td>NaN</td>\n",
              "    </tr>\n",
              "    <tr>\n",
              "      <th>43</th>\n",
              "      <td>1.0</td>\n",
              "      <td>NaN</td>\n",
              "    </tr>\n",
              "    <tr>\n",
              "      <th>63</th>\n",
              "      <td>1.0</td>\n",
              "      <td>NaN</td>\n",
              "    </tr>\n",
              "  </tbody>\n",
              "</table>\n",
              "</div>"
            ],
            "text/plain": [
              "deposit       no     yes\n",
              "campaign                \n",
              "1         1105.0  1262.0\n",
              "2          816.0   710.0\n",
              "3          376.0   311.0\n",
              "4          234.0   145.0\n",
              "5          140.0    66.0\n",
              "6           80.0    51.0\n",
              "7           47.0    19.0\n",
              "8           45.0    17.0\n",
              "9           30.0     9.0\n",
              "10          14.0     6.0\n",
              "11           9.0    10.0\n",
              "12           9.0     2.0\n",
              "13          10.0     3.0\n",
              "14           7.0     2.0\n",
              "15           6.0     2.0\n",
              "16           2.0     1.0\n",
              "17           2.0     4.0\n",
              "18           3.0     NaN\n",
              "19           2.0     NaN\n",
              "20           1.0     NaN\n",
              "21           4.0     1.0\n",
              "22           2.0     NaN\n",
              "23           1.0     NaN\n",
              "24           3.0     NaN\n",
              "25           1.0     NaN\n",
              "26           1.0     NaN\n",
              "27           1.0     NaN\n",
              "28           1.0     NaN\n",
              "30           1.0     NaN\n",
              "31           1.0     NaN\n",
              "32           1.0     1.0\n",
              "33           1.0     NaN\n",
              "41           1.0     NaN\n",
              "43           1.0     NaN\n",
              "63           1.0     NaN"
            ]
          },
          "metadata": {
            "tags": []
          },
          "execution_count": 50
        }
      ]
    },
    {
      "cell_type": "code",
      "metadata": {
        "colab": {
          "base_uri": "https://localhost:8080/",
          "height": 279
        },
        "id": "osdyGJt90ZFX",
        "outputId": "b00cd9e5-f058-45af-ad5a-d5da7a3307b0"
      },
      "source": [
        "sns.histplot(x='pdays', data= bank_data, hue='deposit', bins = 10, kde=False)\n",
        "plt.show()"
      ],
      "execution_count": null,
      "outputs": [
        {
          "output_type": "display_data",
          "data": {
            "image/png": "[encoded data removed]",
            "text/plain": [
              "<Figure size 432x288 with 1 Axes>"
            ]
          },
          "metadata": {
            "tags": [],
            "needs_background": "light"
          }
        }
      ]
    },
    {
      "cell_type": "code",
      "metadata": {
        "colab": {
          "base_uri": "https://localhost:8080/",
          "height": 388
        },
        "id": "vz809qeF1BbS",
        "outputId": "0e28f1ea-ace4-4c5d-b246-288281b0103b"
      },
      "source": [
        "plt.figure(figsize=(10, 6))\n",
        "sns.histplot(x= 'previous', data= bank_data, hue= 'deposit', bins = 22, kde=False)\n",
        "plt.show()"
      ],
      "execution_count": null,
      "outputs": [
        {
          "output_type": "display_data",
          "data": {
            "image/png": "[encoded data removed]",
            "text/plain": [
              "<Figure size 720x432 with 1 Axes>"
            ]
          },
          "metadata": {
            "tags": [],
            "needs_background": "light"
          }
        }
      ]
    },
    {
      "cell_type": "code",
      "metadata": {
        "colab": {
          "base_uri": "https://localhost:8080/",
          "height": 1000
        },
        "id": "ExA8lp7ROTHD",
        "outputId": "140c8861-2d67-4759-fe11-04ad0f8e03f9"
      },
      "source": [
        "# relation between number of times the clients were contacted in previous campaign and the number of subscribing and non-subscribing clients\n",
        "\n",
        "pd.crosstab(index = bank_data['previous'], columns = bank_data['deposit'], values = bank_data['previous'], aggfunc = 'count', margins = True)"
      ],
      "execution_count": null,
      "outputs": [
        {
          "output_type": "execute_result",
          "data": {
            "text/html": [
              "<div>\n",
              "<style scoped>\n",
              "    .dataframe tbody tr th:only-of-type {\n",
              "        vertical-align: middle;\n",
              "    }\n",
              "\n",
              "    .dataframe tbody tr th {\n",
              "        vertical-align: top;\n",
              "    }\n",
              "\n",
              "    .dataframe thead th {\n",
              "        text-align: right;\n",
              "    }\n",
              "</style>\n",
              "<table border=\"1\" class=\"dataframe\">\n",
              "  <thead>\n",
              "    <tr style=\"text-align: right;\">\n",
              "      <th>deposit</th>\n",
              "      <th>no</th>\n",
              "      <th>yes</th>\n",
              "      <th>All</th>\n",
              "    </tr>\n",
              "    <tr>\n",
              "      <th>previous</th>\n",
              "      <th></th>\n",
              "      <th></th>\n",
              "      <th></th>\n",
              "    </tr>\n",
              "  </thead>\n",
              "  <tbody>\n",
              "    <tr>\n",
              "      <th>0</th>\n",
              "      <td>2457.0</td>\n",
              "      <td>1676.0</td>\n",
              "      <td>4133</td>\n",
              "    </tr>\n",
              "    <tr>\n",
              "      <th>1</th>\n",
              "      <td>160.0</td>\n",
              "      <td>292.0</td>\n",
              "      <td>452</td>\n",
              "    </tr>\n",
              "    <tr>\n",
              "      <th>2</th>\n",
              "      <td>122.0</td>\n",
              "      <td>229.0</td>\n",
              "      <td>351</td>\n",
              "    </tr>\n",
              "    <tr>\n",
              "      <th>3</th>\n",
              "      <td>88.0</td>\n",
              "      <td>140.0</td>\n",
              "      <td>228</td>\n",
              "    </tr>\n",
              "    <tr>\n",
              "      <th>4</th>\n",
              "      <td>37.0</td>\n",
              "      <td>93.0</td>\n",
              "      <td>130</td>\n",
              "    </tr>\n",
              "    <tr>\n",
              "      <th>5</th>\n",
              "      <td>24.0</td>\n",
              "      <td>56.0</td>\n",
              "      <td>80</td>\n",
              "    </tr>\n",
              "    <tr>\n",
              "      <th>6</th>\n",
              "      <td>15.0</td>\n",
              "      <td>44.0</td>\n",
              "      <td>59</td>\n",
              "    </tr>\n",
              "    <tr>\n",
              "      <th>7</th>\n",
              "      <td>14.0</td>\n",
              "      <td>28.0</td>\n",
              "      <td>42</td>\n",
              "    </tr>\n",
              "    <tr>\n",
              "      <th>8</th>\n",
              "      <td>10.0</td>\n",
              "      <td>20.0</td>\n",
              "      <td>30</td>\n",
              "    </tr>\n",
              "    <tr>\n",
              "      <th>9</th>\n",
              "      <td>6.0</td>\n",
              "      <td>10.0</td>\n",
              "      <td>16</td>\n",
              "    </tr>\n",
              "    <tr>\n",
              "      <th>10</th>\n",
              "      <td>3.0</td>\n",
              "      <td>10.0</td>\n",
              "      <td>13</td>\n",
              "    </tr>\n",
              "    <tr>\n",
              "      <th>11</th>\n",
              "      <td>3.0</td>\n",
              "      <td>5.0</td>\n",
              "      <td>8</td>\n",
              "    </tr>\n",
              "    <tr>\n",
              "      <th>12</th>\n",
              "      <td>2.0</td>\n",
              "      <td>5.0</td>\n",
              "      <td>7</td>\n",
              "    </tr>\n",
              "    <tr>\n",
              "      <th>13</th>\n",
              "      <td>1.0</td>\n",
              "      <td>5.0</td>\n",
              "      <td>6</td>\n",
              "    </tr>\n",
              "    <tr>\n",
              "      <th>14</th>\n",
              "      <td>NaN</td>\n",
              "      <td>2.0</td>\n",
              "      <td>2</td>\n",
              "    </tr>\n",
              "    <tr>\n",
              "      <th>15</th>\n",
              "      <td>3.0</td>\n",
              "      <td>NaN</td>\n",
              "      <td>3</td>\n",
              "    </tr>\n",
              "    <tr>\n",
              "      <th>16</th>\n",
              "      <td>1.0</td>\n",
              "      <td>NaN</td>\n",
              "      <td>1</td>\n",
              "    </tr>\n",
              "    <tr>\n",
              "      <th>17</th>\n",
              "      <td>5.0</td>\n",
              "      <td>1.0</td>\n",
              "      <td>6</td>\n",
              "    </tr>\n",
              "    <tr>\n",
              "      <th>19</th>\n",
              "      <td>1.0</td>\n",
              "      <td>1.0</td>\n",
              "      <td>2</td>\n",
              "    </tr>\n",
              "    <tr>\n",
              "      <th>20</th>\n",
              "      <td>1.0</td>\n",
              "      <td>1.0</td>\n",
              "      <td>2</td>\n",
              "    </tr>\n",
              "    <tr>\n",
              "      <th>22</th>\n",
              "      <td>NaN</td>\n",
              "      <td>1.0</td>\n",
              "      <td>1</td>\n",
              "    </tr>\n",
              "    <tr>\n",
              "      <th>23</th>\n",
              "      <td>1.0</td>\n",
              "      <td>NaN</td>\n",
              "      <td>1</td>\n",
              "    </tr>\n",
              "    <tr>\n",
              "      <th>26</th>\n",
              "      <td>NaN</td>\n",
              "      <td>1.0</td>\n",
              "      <td>1</td>\n",
              "    </tr>\n",
              "    <tr>\n",
              "      <th>27</th>\n",
              "      <td>1.0</td>\n",
              "      <td>NaN</td>\n",
              "      <td>1</td>\n",
              "    </tr>\n",
              "    <tr>\n",
              "      <th>28</th>\n",
              "      <td>1.0</td>\n",
              "      <td>NaN</td>\n",
              "      <td>1</td>\n",
              "    </tr>\n",
              "    <tr>\n",
              "      <th>29</th>\n",
              "      <td>NaN</td>\n",
              "      <td>1.0</td>\n",
              "      <td>1</td>\n",
              "    </tr>\n",
              "    <tr>\n",
              "      <th>30</th>\n",
              "      <td>NaN</td>\n",
              "      <td>1.0</td>\n",
              "      <td>1</td>\n",
              "    </tr>\n",
              "    <tr>\n",
              "      <th>37</th>\n",
              "      <td>1.0</td>\n",
              "      <td>NaN</td>\n",
              "      <td>1</td>\n",
              "    </tr>\n",
              "    <tr>\n",
              "      <th>40</th>\n",
              "      <td>1.0</td>\n",
              "      <td>NaN</td>\n",
              "      <td>1</td>\n",
              "    </tr>\n",
              "    <tr>\n",
              "      <th>41</th>\n",
              "      <td>1.0</td>\n",
              "      <td>NaN</td>\n",
              "      <td>1</td>\n",
              "    </tr>\n",
              "    <tr>\n",
              "      <th>All</th>\n",
              "      <td>2959.0</td>\n",
              "      <td>2622.0</td>\n",
              "      <td>5581</td>\n",
              "    </tr>\n",
              "  </tbody>\n",
              "</table>\n",
              "</div>"
            ],
            "text/plain": [
              "deposit       no     yes   All\n",
              "previous                      \n",
              "0         2457.0  1676.0  4133\n",
              "1          160.0   292.0   452\n",
              "2          122.0   229.0   351\n",
              "3           88.0   140.0   228\n",
              "4           37.0    93.0   130\n",
              "5           24.0    56.0    80\n",
              "6           15.0    44.0    59\n",
              "7           14.0    28.0    42\n",
              "8           10.0    20.0    30\n",
              "9            6.0    10.0    16\n",
              "10           3.0    10.0    13\n",
              "11           3.0     5.0     8\n",
              "12           2.0     5.0     7\n",
              "13           1.0     5.0     6\n",
              "14           NaN     2.0     2\n",
              "15           3.0     NaN     3\n",
              "16           1.0     NaN     1\n",
              "17           5.0     1.0     6\n",
              "19           1.0     1.0     2\n",
              "20           1.0     1.0     2\n",
              "22           NaN     1.0     1\n",
              "23           1.0     NaN     1\n",
              "26           NaN     1.0     1\n",
              "27           1.0     NaN     1\n",
              "28           1.0     NaN     1\n",
              "29           NaN     1.0     1\n",
              "30           NaN     1.0     1\n",
              "37           1.0     NaN     1\n",
              "40           1.0     NaN     1\n",
              "41           1.0     NaN     1\n",
              "All       2959.0  2622.0  5581"
            ]
          },
          "metadata": {
            "tags": []
          },
          "execution_count": 53
        }
      ]
    },
    {
      "cell_type": "markdown",
      "metadata": {
        "id": "DvTdQz4zPVrQ"
      },
      "source": [
        "Observation:\n",
        "\n",
        "It is an important point to observe that most of the subscribers i.e., almost 64% of subscribers after this campaign were not at all contacted in the previous campaign. This is in contradiction to the most likely goal of the author of the dataset. Based on the variables given in this dataset, it can be figured out that the author or collector of this dataset has strived to establish some connection between the previous and this campaign for comparison of effectiveness of the two campaigns. It is possible that the bank carried out this campaign based on patterns found in other attributes among subscribers and non-subscribers in previous campaign such as housing loan, personal loan, and others. "
      ]
    },
    {
      "cell_type": "code",
      "metadata": {
        "colab": {
          "base_uri": "https://localhost:8080/",
          "height": 1000
        },
        "id": "qttqwaGTOjT2",
        "outputId": "1f22fe66-9e70-47a7-ca47-5b1a1cd0dcd3"
      },
      "source": [
        "# relation between number of times the clients were contacted in previous campaign and the outcome of that campaign for those clients\n",
        "\n",
        "pd.crosstab(index = bank_data['previous'], columns = bank_data['poutcome'], values = bank_data['previous'], aggfunc = 'count', margins = True)"
      ],
      "execution_count": null,
      "outputs": [
        {
          "output_type": "execute_result",
          "data": {
            "text/html": [
              "<div>\n",
              "<style scoped>\n",
              "    .dataframe tbody tr th:only-of-type {\n",
              "        vertical-align: middle;\n",
              "    }\n",
              "\n",
              "    .dataframe tbody tr th {\n",
              "        vertical-align: top;\n",
              "    }\n",
              "\n",
              "    .dataframe thead th {\n",
              "        text-align: right;\n",
              "    }\n",
              "</style>\n",
              "<table border=\"1\" class=\"dataframe\">\n",
              "  <thead>\n",
              "    <tr style=\"text-align: right;\">\n",
              "      <th>poutcome</th>\n",
              "      <th>failure</th>\n",
              "      <th>other</th>\n",
              "      <th>success</th>\n",
              "      <th>unknown</th>\n",
              "      <th>All</th>\n",
              "    </tr>\n",
              "    <tr>\n",
              "      <th>previous</th>\n",
              "      <th></th>\n",
              "      <th></th>\n",
              "      <th></th>\n",
              "      <th></th>\n",
              "      <th></th>\n",
              "    </tr>\n",
              "  </thead>\n",
              "  <tbody>\n",
              "    <tr>\n",
              "      <th>0</th>\n",
              "      <td>NaN</td>\n",
              "      <td>NaN</td>\n",
              "      <td>NaN</td>\n",
              "      <td>4133.0</td>\n",
              "      <td>4133</td>\n",
              "    </tr>\n",
              "    <tr>\n",
              "      <th>1</th>\n",
              "      <td>212.0</td>\n",
              "      <td>79.0</td>\n",
              "      <td>161.0</td>\n",
              "      <td>NaN</td>\n",
              "      <td>452</td>\n",
              "    </tr>\n",
              "    <tr>\n",
              "      <th>2</th>\n",
              "      <td>164.0</td>\n",
              "      <td>54.0</td>\n",
              "      <td>133.0</td>\n",
              "      <td>NaN</td>\n",
              "      <td>351</td>\n",
              "    </tr>\n",
              "    <tr>\n",
              "      <th>3</th>\n",
              "      <td>100.0</td>\n",
              "      <td>35.0</td>\n",
              "      <td>93.0</td>\n",
              "      <td>NaN</td>\n",
              "      <td>228</td>\n",
              "    </tr>\n",
              "    <tr>\n",
              "      <th>4</th>\n",
              "      <td>47.0</td>\n",
              "      <td>27.0</td>\n",
              "      <td>56.0</td>\n",
              "      <td>NaN</td>\n",
              "      <td>130</td>\n",
              "    </tr>\n",
              "    <tr>\n",
              "      <th>5</th>\n",
              "      <td>31.0</td>\n",
              "      <td>21.0</td>\n",
              "      <td>28.0</td>\n",
              "      <td>NaN</td>\n",
              "      <td>80</td>\n",
              "    </tr>\n",
              "    <tr>\n",
              "      <th>6</th>\n",
              "      <td>22.0</td>\n",
              "      <td>12.0</td>\n",
              "      <td>25.0</td>\n",
              "      <td>NaN</td>\n",
              "      <td>59</td>\n",
              "    </tr>\n",
              "    <tr>\n",
              "      <th>7</th>\n",
              "      <td>15.0</td>\n",
              "      <td>13.0</td>\n",
              "      <td>14.0</td>\n",
              "      <td>NaN</td>\n",
              "      <td>42</td>\n",
              "    </tr>\n",
              "    <tr>\n",
              "      <th>8</th>\n",
              "      <td>12.0</td>\n",
              "      <td>10.0</td>\n",
              "      <td>8.0</td>\n",
              "      <td>NaN</td>\n",
              "      <td>30</td>\n",
              "    </tr>\n",
              "    <tr>\n",
              "      <th>9</th>\n",
              "      <td>7.0</td>\n",
              "      <td>3.0</td>\n",
              "      <td>6.0</td>\n",
              "      <td>NaN</td>\n",
              "      <td>16</td>\n",
              "    </tr>\n",
              "    <tr>\n",
              "      <th>10</th>\n",
              "      <td>6.0</td>\n",
              "      <td>2.0</td>\n",
              "      <td>5.0</td>\n",
              "      <td>NaN</td>\n",
              "      <td>13</td>\n",
              "    </tr>\n",
              "    <tr>\n",
              "      <th>11</th>\n",
              "      <td>3.0</td>\n",
              "      <td>3.0</td>\n",
              "      <td>2.0</td>\n",
              "      <td>NaN</td>\n",
              "      <td>8</td>\n",
              "    </tr>\n",
              "    <tr>\n",
              "      <th>12</th>\n",
              "      <td>2.0</td>\n",
              "      <td>3.0</td>\n",
              "      <td>2.0</td>\n",
              "      <td>NaN</td>\n",
              "      <td>7</td>\n",
              "    </tr>\n",
              "    <tr>\n",
              "      <th>13</th>\n",
              "      <td>3.0</td>\n",
              "      <td>1.0</td>\n",
              "      <td>2.0</td>\n",
              "      <td>NaN</td>\n",
              "      <td>6</td>\n",
              "    </tr>\n",
              "    <tr>\n",
              "      <th>14</th>\n",
              "      <td>NaN</td>\n",
              "      <td>NaN</td>\n",
              "      <td>2.0</td>\n",
              "      <td>NaN</td>\n",
              "      <td>2</td>\n",
              "    </tr>\n",
              "    <tr>\n",
              "      <th>15</th>\n",
              "      <td>1.0</td>\n",
              "      <td>1.0</td>\n",
              "      <td>1.0</td>\n",
              "      <td>NaN</td>\n",
              "      <td>3</td>\n",
              "    </tr>\n",
              "    <tr>\n",
              "      <th>16</th>\n",
              "      <td>NaN</td>\n",
              "      <td>1.0</td>\n",
              "      <td>NaN</td>\n",
              "      <td>NaN</td>\n",
              "      <td>1</td>\n",
              "    </tr>\n",
              "    <tr>\n",
              "      <th>17</th>\n",
              "      <td>3.0</td>\n",
              "      <td>3.0</td>\n",
              "      <td>NaN</td>\n",
              "      <td>NaN</td>\n",
              "      <td>6</td>\n",
              "    </tr>\n",
              "    <tr>\n",
              "      <th>19</th>\n",
              "      <td>NaN</td>\n",
              "      <td>2.0</td>\n",
              "      <td>NaN</td>\n",
              "      <td>NaN</td>\n",
              "      <td>2</td>\n",
              "    </tr>\n",
              "    <tr>\n",
              "      <th>20</th>\n",
              "      <td>2.0</td>\n",
              "      <td>NaN</td>\n",
              "      <td>NaN</td>\n",
              "      <td>NaN</td>\n",
              "      <td>2</td>\n",
              "    </tr>\n",
              "    <tr>\n",
              "      <th>22</th>\n",
              "      <td>NaN</td>\n",
              "      <td>1.0</td>\n",
              "      <td>NaN</td>\n",
              "      <td>NaN</td>\n",
              "      <td>1</td>\n",
              "    </tr>\n",
              "    <tr>\n",
              "      <th>23</th>\n",
              "      <td>1.0</td>\n",
              "      <td>NaN</td>\n",
              "      <td>NaN</td>\n",
              "      <td>NaN</td>\n",
              "      <td>1</td>\n",
              "    </tr>\n",
              "    <tr>\n",
              "      <th>26</th>\n",
              "      <td>NaN</td>\n",
              "      <td>1.0</td>\n",
              "      <td>NaN</td>\n",
              "      <td>NaN</td>\n",
              "      <td>1</td>\n",
              "    </tr>\n",
              "    <tr>\n",
              "      <th>27</th>\n",
              "      <td>NaN</td>\n",
              "      <td>1.0</td>\n",
              "      <td>NaN</td>\n",
              "      <td>NaN</td>\n",
              "      <td>1</td>\n",
              "    </tr>\n",
              "    <tr>\n",
              "      <th>28</th>\n",
              "      <td>NaN</td>\n",
              "      <td>NaN</td>\n",
              "      <td>1.0</td>\n",
              "      <td>NaN</td>\n",
              "      <td>1</td>\n",
              "    </tr>\n",
              "    <tr>\n",
              "      <th>29</th>\n",
              "      <td>NaN</td>\n",
              "      <td>1.0</td>\n",
              "      <td>NaN</td>\n",
              "      <td>NaN</td>\n",
              "      <td>1</td>\n",
              "    </tr>\n",
              "    <tr>\n",
              "      <th>30</th>\n",
              "      <td>1.0</td>\n",
              "      <td>NaN</td>\n",
              "      <td>NaN</td>\n",
              "      <td>NaN</td>\n",
              "      <td>1</td>\n",
              "    </tr>\n",
              "    <tr>\n",
              "      <th>37</th>\n",
              "      <td>NaN</td>\n",
              "      <td>1.0</td>\n",
              "      <td>NaN</td>\n",
              "      <td>NaN</td>\n",
              "      <td>1</td>\n",
              "    </tr>\n",
              "    <tr>\n",
              "      <th>40</th>\n",
              "      <td>NaN</td>\n",
              "      <td>1.0</td>\n",
              "      <td>NaN</td>\n",
              "      <td>NaN</td>\n",
              "      <td>1</td>\n",
              "    </tr>\n",
              "    <tr>\n",
              "      <th>41</th>\n",
              "      <td>NaN</td>\n",
              "      <td>1.0</td>\n",
              "      <td>NaN</td>\n",
              "      <td>NaN</td>\n",
              "      <td>1</td>\n",
              "    </tr>\n",
              "    <tr>\n",
              "      <th>All</th>\n",
              "      <td>632.0</td>\n",
              "      <td>277.0</td>\n",
              "      <td>539.0</td>\n",
              "      <td>4133.0</td>\n",
              "      <td>5581</td>\n",
              "    </tr>\n",
              "  </tbody>\n",
              "</table>\n",
              "</div>"
            ],
            "text/plain": [
              "poutcome  failure  other  success  unknown   All\n",
              "previous                                        \n",
              "0             NaN    NaN      NaN   4133.0  4133\n",
              "1           212.0   79.0    161.0      NaN   452\n",
              "2           164.0   54.0    133.0      NaN   351\n",
              "3           100.0   35.0     93.0      NaN   228\n",
              "4            47.0   27.0     56.0      NaN   130\n",
              "5            31.0   21.0     28.0      NaN    80\n",
              "6            22.0   12.0     25.0      NaN    59\n",
              "7            15.0   13.0     14.0      NaN    42\n",
              "8            12.0   10.0      8.0      NaN    30\n",
              "9             7.0    3.0      6.0      NaN    16\n",
              "10            6.0    2.0      5.0      NaN    13\n",
              "11            3.0    3.0      2.0      NaN     8\n",
              "12            2.0    3.0      2.0      NaN     7\n",
              "13            3.0    1.0      2.0      NaN     6\n",
              "14            NaN    NaN      2.0      NaN     2\n",
              "15            1.0    1.0      1.0      NaN     3\n",
              "16            NaN    1.0      NaN      NaN     1\n",
              "17            3.0    3.0      NaN      NaN     6\n",
              "19            NaN    2.0      NaN      NaN     2\n",
              "20            2.0    NaN      NaN      NaN     2\n",
              "22            NaN    1.0      NaN      NaN     1\n",
              "23            1.0    NaN      NaN      NaN     1\n",
              "26            NaN    1.0      NaN      NaN     1\n",
              "27            NaN    1.0      NaN      NaN     1\n",
              "28            NaN    NaN      1.0      NaN     1\n",
              "29            NaN    1.0      NaN      NaN     1\n",
              "30            1.0    NaN      NaN      NaN     1\n",
              "37            NaN    1.0      NaN      NaN     1\n",
              "40            NaN    1.0      NaN      NaN     1\n",
              "41            NaN    1.0      NaN      NaN     1\n",
              "All         632.0  277.0    539.0   4133.0  5581"
            ]
          },
          "metadata": {
            "tags": []
          },
          "execution_count": 54
        }
      ]
    },
    {
      "cell_type": "code",
      "metadata": {
        "colab": {
          "base_uri": "https://localhost:8080/",
          "height": 388
        },
        "id": "Xx2M2aim3Es9",
        "outputId": "8d063938-f9a0-4f82-c474-9e853376fc0c"
      },
      "source": [
        "plt.figure(figsize=(10, 6))\n",
        "sns.countplot(y='job', hue='deposit', data= bank_data)\n",
        "plt.show()"
      ],
      "execution_count": null,
      "outputs": [
        {
          "output_type": "display_data",
          "data": {
            "image/png": "[encoded data removed]",
            "text/plain": [
              "<Figure size 720x432 with 1 Axes>"
            ]
          },
          "metadata": {
            "tags": [],
            "needs_background": "light"
          }
        }
      ]
    },
    {
      "cell_type": "code",
      "metadata": {
        "colab": {
          "base_uri": "https://localhost:8080/",
          "height": 388
        },
        "id": "uPbnh82M4ZZI",
        "outputId": "86e74aea-ebd6-4c04-d2c2-e9810802e90e"
      },
      "source": [
        "plt.figure(figsize=(10, 6))\n",
        "sns.countplot(y='marital', hue='deposit', data= bank_data)\n",
        "plt.show()"
      ],
      "execution_count": null,
      "outputs": [
        {
          "output_type": "display_data",
          "data": {
            "image/png": "[encoded data removed]",
            "text/plain": [
              "<Figure size 720x432 with 1 Axes>"
            ]
          },
          "metadata": {
            "tags": [],
            "needs_background": "light"
          }
        }
      ]
    },
    {
      "cell_type": "code",
      "metadata": {
        "colab": {
          "base_uri": "https://localhost:8080/",
          "height": 388
        },
        "id": "q8hC89Iq4qGA",
        "outputId": "10114738-2114-4017-a0a1-886dbedac889"
      },
      "source": [
        "plt.figure(figsize=(10, 6))\n",
        "sns.countplot(y='education', hue='deposit', data= bank_data)\n",
        "plt.show()"
      ],
      "execution_count": null,
      "outputs": [
        {
          "output_type": "display_data",
          "data": {
            "image/png": "[encoded data removed]",
            "text/plain": [
              "<Figure size 720x432 with 1 Axes>"
            ]
          },
          "metadata": {
            "tags": [],
            "needs_background": "light"
          }
        }
      ]
    },
    {
      "cell_type": "code",
      "metadata": {
        "colab": {
          "base_uri": "https://localhost:8080/",
          "height": 388
        },
        "id": "n3q5oje445nD",
        "outputId": "69338164-5f3a-4723-885f-78fbfe60d1e3"
      },
      "source": [
        "plt.figure(figsize=(10, 6))\n",
        "sns.countplot(y='default', hue='deposit', data= bank_data)\n",
        "plt.show()"
      ],
      "execution_count": null,
      "outputs": [
        {
          "output_type": "display_data",
          "data": {
            "image/png": "[encoded data removed]",
            "text/plain": [
              "<Figure size 720x432 with 1 Axes>"
            ]
          },
          "metadata": {
            "tags": [],
            "needs_background": "light"
          }
        }
      ]
    },
    {
      "cell_type": "code",
      "metadata": {
        "colab": {
          "base_uri": "https://localhost:8080/",
          "height": 279
        },
        "id": "2kTtx2h65240",
        "outputId": "0b41c316-d675-48c1-f0d4-8ae2f1fd18df"
      },
      "source": [
        "sns.countplot(y='housing', hue='deposit', data= bank_data)\n",
        "plt.show()"
      ],
      "execution_count": null,
      "outputs": [
        {
          "output_type": "display_data",
          "data": {
            "image/png": "[encoded data removed]",
            "text/plain": [
              "<Figure size 432x288 with 1 Axes>"
            ]
          },
          "metadata": {
            "tags": [],
            "needs_background": "light"
          }
        }
      ]
    },
    {
      "cell_type": "code",
      "metadata": {
        "colab": {
          "base_uri": "https://localhost:8080/",
          "height": 279
        },
        "id": "l1i-m7xQ7db9",
        "outputId": "86d33f2a-0eac-45e0-a42c-503df1215796"
      },
      "source": [
        "sns.countplot(y='loan', hue='deposit', data= bank_data)\n",
        "plt.show()"
      ],
      "execution_count": null,
      "outputs": [
        {
          "output_type": "display_data",
          "data": {
            "image/png": "[encoded data removed]",
            "text/plain": [
              "<Figure size 432x288 with 1 Axes>"
            ]
          },
          "metadata": {
            "tags": [],
            "needs_background": "light"
          }
        }
      ]
    },
    {
      "cell_type": "code",
      "metadata": {
        "colab": {
          "base_uri": "https://localhost:8080/",
          "height": 279
        },
        "id": "WXOTRERjBNic",
        "outputId": "d1030911-44ea-49c1-cfd0-e90868271939"
      },
      "source": [
        "sns.countplot(y='contact', hue='deposit', data= bank_data)\n",
        "plt.show()"
      ],
      "execution_count": null,
      "outputs": [
        {
          "output_type": "display_data",
          "data": {
            "image/png": "[encoded data removed]",
            "text/plain": [
              "<Figure size 432x288 with 1 Axes>"
            ]
          },
          "metadata": {
            "tags": [],
            "needs_background": "light"
          }
        }
      ]
    },
    {
      "cell_type": "code",
      "metadata": {
        "colab": {
          "base_uri": "https://localhost:8080/",
          "height": 388
        },
        "id": "YJydwpxsBj77",
        "outputId": "1b150480-686f-415f-ca53-76d0a670f52e"
      },
      "source": [
        "plt.figure(figsize=(10, 6))\n",
        "sns.countplot(y='month', hue='deposit', data= bank_data)\n",
        "plt.show()"
      ],
      "execution_count": null,
      "outputs": [
        {
          "output_type": "display_data",
          "data": {
            "image/png": "[encoded data removed]",
            "text/plain": [
              "<Figure size 720x432 with 1 Axes>"
            ]
          },
          "metadata": {
            "tags": [],
            "needs_background": "light"
          }
        }
      ]
    },
    {
      "cell_type": "code",
      "metadata": {
        "colab": {
          "base_uri": "https://localhost:8080/",
          "height": 279
        },
        "id": "UEfBiAzbDvyE",
        "outputId": "2e1e13f0-ee6e-4a70-b426-d456d1190d97"
      },
      "source": [
        "sns.countplot(y='poutcome', hue='deposit', data= bank_data)\n",
        "plt.show()"
      ],
      "execution_count": null,
      "outputs": [
        {
          "output_type": "display_data",
          "data": {
            "image/png": "[encoded data removed]",
            "text/plain": [
              "<Figure size 432x288 with 1 Axes>"
            ]
          },
          "metadata": {
            "tags": [],
            "needs_background": "light"
          }
        }
      ]
    },
    {
      "cell_type": "code",
      "metadata": {
        "colab": {
          "base_uri": "https://localhost:8080/",
          "height": 204
        },
        "id": "nWnwGjjNH_Lu",
        "outputId": "e679f7f5-bcb5-4d3f-8d43-255780aca1c0"
      },
      "source": [
        "# checking the proportion of clients who are subscribers and non-subscribers of term deposits based on their outcomes in the previous campaign \n",
        "pd.crosstab(index = bank_data['poutcome'], columns = bank_data['deposit'], normalize = True)"
      ],
      "execution_count": null,
      "outputs": [
        {
          "output_type": "execute_result",
          "data": {
            "text/html": [
              "<div>\n",
              "<style scoped>\n",
              "    .dataframe tbody tr th:only-of-type {\n",
              "        vertical-align: middle;\n",
              "    }\n",
              "\n",
              "    .dataframe tbody tr th {\n",
              "        vertical-align: top;\n",
              "    }\n",
              "\n",
              "    .dataframe thead th {\n",
              "        text-align: right;\n",
              "    }\n",
              "</style>\n",
              "<table border=\"1\" class=\"dataframe\">\n",
              "  <thead>\n",
              "    <tr style=\"text-align: right;\">\n",
              "      <th>deposit</th>\n",
              "      <th>no</th>\n",
              "      <th>yes</th>\n",
              "    </tr>\n",
              "    <tr>\n",
              "      <th>poutcome</th>\n",
              "      <th></th>\n",
              "      <th></th>\n",
              "    </tr>\n",
              "  </thead>\n",
              "  <tbody>\n",
              "    <tr>\n",
              "      <th>failure</th>\n",
              "      <td>0.057875</td>\n",
              "      <td>0.055366</td>\n",
              "    </tr>\n",
              "    <tr>\n",
              "      <th>other</th>\n",
              "      <td>0.022397</td>\n",
              "      <td>0.027235</td>\n",
              "    </tr>\n",
              "    <tr>\n",
              "      <th>success</th>\n",
              "      <td>0.009676</td>\n",
              "      <td>0.086902</td>\n",
              "    </tr>\n",
              "    <tr>\n",
              "      <th>unknown</th>\n",
              "      <td>0.440244</td>\n",
              "      <td>0.300305</td>\n",
              "    </tr>\n",
              "  </tbody>\n",
              "</table>\n",
              "</div>"
            ],
            "text/plain": [
              "deposit         no       yes\n",
              "poutcome                    \n",
              "failure   0.057875  0.055366\n",
              "other     0.022397  0.027235\n",
              "success   0.009676  0.086902\n",
              "unknown   0.440244  0.300305"
            ]
          },
          "metadata": {
            "tags": []
          },
          "execution_count": 64
        }
      ]
    },
    {
      "cell_type": "code",
      "metadata": {
        "colab": {
          "base_uri": "https://localhost:8080/",
          "height": 279
        },
        "id": "Xn4IMHzjE_r4",
        "outputId": "5a924fae-9b4d-4a49-fdf8-bcf65c1159a2"
      },
      "source": [
        "sns.countplot(y='deposit', data= bank_data)\n",
        "plt.show()"
      ],
      "execution_count": null,
      "outputs": [
        {
          "output_type": "display_data",
          "data": {
            "image/png": "[encoded data removed]",
            "text/plain": [
              "<Figure size 432x288 with 1 Axes>"
            ]
          },
          "metadata": {
            "tags": [],
            "needs_background": "light"
          }
        }
      ]
    },
    {
      "cell_type": "code",
      "metadata": {
        "colab": {
          "base_uri": "https://localhost:8080/",
          "height": 333
        },
        "id": "jpajagVqTM4C",
        "outputId": "ec224015-0402-44aa-f64f-578bc6da3c3b"
      },
      "source": [
        "sns.distplot(bank_data['age'], bins= 15, kde=False)\n",
        "plt.show()"
      ],
      "execution_count": null,
      "outputs": [
        {
          "output_type": "stream",
          "text": [
            "/usr/local/lib/python3.7/dist-packages/seaborn/distributions.py:2557: FutureWarning: `distplot` is a deprecated function and will be removed in a future version. Please adapt your code to use either `displot` (a figure-level function with similar flexibility) or `histplot` (an axes-level function for histograms).\n",
            "  warnings.warn(msg, FutureWarning)\n"
          ],
          "name": "stderr"
        },
        {
          "output_type": "display_data",
          "data": {
            "image/png": "[encoded data removed]",
            "text/plain": [
              "<Figure size 432x288 with 1 Axes>"
            ]
          },
          "metadata": {
            "tags": [],
            "needs_background": "light"
          }
        }
      ]
    },
    {
      "cell_type": "code",
      "metadata": {
        "colab": {
          "base_uri": "https://localhost:8080/",
          "height": 768
        },
        "id": "Bp09fYA-TVRt",
        "outputId": "4cc6aaaf-d184-4264-8e62-68fc31f23ff4"
      },
      "source": [
        "plt.figure(figsize=(14, 12))\n",
        "sns.distplot(bank_data['balance'], bins=15, kde=False)\n",
        "plt.xlim(-3300.0, 85000.0)\n",
        "plt.show()"
      ],
      "execution_count": null,
      "outputs": [
        {
          "output_type": "stream",
          "text": [
            "/usr/local/lib/python3.7/dist-packages/seaborn/distributions.py:2557: FutureWarning: `distplot` is a deprecated function and will be removed in a future version. Please adapt your code to use either `displot` (a figure-level function with similar flexibility) or `histplot` (an axes-level function for histograms).\n",
            "  warnings.warn(msg, FutureWarning)\n"
          ],
          "name": "stderr"
        },
        {
          "output_type": "display_data",
          "data": {
            "image/png": "[encoded data removed]",
            "text/plain": [
              "<Figure size 1008x864 with 1 Axes>"
            ]
          },
          "metadata": {
            "tags": [],
            "needs_background": "light"
          }
        }
      ]
    },
    {
      "cell_type": "code",
      "metadata": {
        "colab": {
          "base_uri": "https://localhost:8080/",
          "height": 333
        },
        "id": "BZ40NZtvVc3L",
        "outputId": "3cf2e148-b620-4431-8207-23b874aed4c3"
      },
      "source": [
        "sns.distplot(bank_data['duration'], bins= 15, kde=False)\n",
        "plt.show()"
      ],
      "execution_count": null,
      "outputs": [
        {
          "output_type": "stream",
          "text": [
            "/usr/local/lib/python3.7/dist-packages/seaborn/distributions.py:2557: FutureWarning: `distplot` is a deprecated function and will be removed in a future version. Please adapt your code to use either `displot` (a figure-level function with similar flexibility) or `histplot` (an axes-level function for histograms).\n",
            "  warnings.warn(msg, FutureWarning)\n"
          ],
          "name": "stderr"
        },
        {
          "output_type": "display_data",
          "data": {
            "image/png": "[encoded data removed]",
            "text/plain": [
              "<Figure size 432x288 with 1 Axes>"
            ]
          },
          "metadata": {
            "tags": [],
            "needs_background": "light"
          }
        }
      ]
    },
    {
      "cell_type": "code",
      "metadata": {
        "colab": {
          "base_uri": "https://localhost:8080/",
          "height": 333
        },
        "id": "cRo5BIahVoyX",
        "outputId": "960f05cc-8b01-4a54-f3fe-57d4d9b61907"
      },
      "source": [
        "sns.distplot(bank_data['campaign'], bins= 15, kde=False)\n",
        "plt.xlim(0, 68)\n",
        "plt.show()"
      ],
      "execution_count": null,
      "outputs": [
        {
          "output_type": "stream",
          "text": [
            "/usr/local/lib/python3.7/dist-packages/seaborn/distributions.py:2557: FutureWarning: `distplot` is a deprecated function and will be removed in a future version. Please adapt your code to use either `displot` (a figure-level function with similar flexibility) or `histplot` (an axes-level function for histograms).\n",
            "  warnings.warn(msg, FutureWarning)\n"
          ],
          "name": "stderr"
        },
        {
          "output_type": "display_data",
          "data": {
            "image/png": "[encoded data removed]",
            "text/plain": [
              "<Figure size 432x288 with 1 Axes>"
            ]
          },
          "metadata": {
            "tags": [],
            "needs_background": "light"
          }
        }
      ]
    },
    {
      "cell_type": "code",
      "metadata": {
        "colab": {
          "base_uri": "https://localhost:8080/",
          "height": 333
        },
        "id": "Q4UWVo4UWANC",
        "outputId": "1e165acc-d013-4ea1-be31-a1c0d37a63f4"
      },
      "source": [
        "sns.distplot(bank_data['previous'], bins= 15, kde=False)\n",
        "plt.show()"
      ],
      "execution_count": null,
      "outputs": [
        {
          "output_type": "stream",
          "text": [
            "/usr/local/lib/python3.7/dist-packages/seaborn/distributions.py:2557: FutureWarning: `distplot` is a deprecated function and will be removed in a future version. Please adapt your code to use either `displot` (a figure-level function with similar flexibility) or `histplot` (an axes-level function for histograms).\n",
            "  warnings.warn(msg, FutureWarning)\n"
          ],
          "name": "stderr"
        },
        {
          "output_type": "display_data",
          "data": {
            "image/png": "[encoded data removed]",
            "text/plain": [
              "<Figure size 432x288 with 1 Axes>"
            ]
          },
          "metadata": {
            "tags": [],
            "needs_background": "light"
          }
        }
      ]
    },
    {
      "cell_type": "code",
      "metadata": {
        "colab": {
          "base_uri": "https://localhost:8080/",
          "height": 279
        },
        "id": "rGzZDEeRPftr",
        "outputId": "401553e4-315d-4b05-ef3c-8f85138fa51a"
      },
      "source": [
        "# Box Plot - Age vs Deposit\n",
        "\n",
        "sns.boxplot(x='deposit', y='age', data= bank_data)\n",
        "plt.show()"
      ],
      "execution_count": null,
      "outputs": [
        {
          "output_type": "display_data",
          "data": {
            "image/png": "[encoded data removed]",
            "text/plain": [
              "<Figure size 432x288 with 1 Axes>"
            ]
          },
          "metadata": {
            "tags": [],
            "needs_background": "light"
          }
        }
      ]
    },
    {
      "cell_type": "markdown",
      "metadata": {
        "id": "rgm5JOCnPomb"
      },
      "source": [
        "There are outliers in 'age'column "
      ]
    },
    {
      "cell_type": "code",
      "metadata": {
        "colab": {
          "base_uri": "https://localhost:8080/",
          "height": 279
        },
        "id": "BZRpSfMCPoQE",
        "outputId": "3e25cf4a-017f-4b7d-8f3d-59e81c9b7232"
      },
      "source": [
        "# Box Plot - balance vs deposit\n",
        "\n",
        "sns.boxplot(x='deposit', y='balance', data= bank_data)\n",
        "plt.show()"
      ],
      "execution_count": null,
      "outputs": [
        {
          "output_type": "display_data",
          "data": {
            "image/png": "[encoded data removed]",
            "text/plain": [
              "<Figure size 432x288 with 1 Axes>"
            ]
          },
          "metadata": {
            "tags": [],
            "needs_background": "light"
          }
        }
      ]
    },
    {
      "cell_type": "markdown",
      "metadata": {
        "id": "SRky051JP5Yo"
      },
      "source": [
        "There are outliers in 'balance' column of dataframe"
      ]
    },
    {
      "cell_type": "code",
      "metadata": {
        "colab": {
          "base_uri": "https://localhost:8080/",
          "height": 279
        },
        "id": "2nSNH1aSP-Zv",
        "outputId": "8ae3e653-406f-4e35-820d-3d81fbf51910"
      },
      "source": [
        "# Box Plot - duration vs deposit\n",
        "\n",
        "sns.boxplot(x='deposit', y='duration', data=bank_data)\n",
        "plt.show()"
      ],
      "execution_count": null,
      "outputs": [
        {
          "output_type": "display_data",
          "data": {
            "image/png": "[encoded data removed]",
            "text/plain": [
              "<Figure size 432x288 with 1 Axes>"
            ]
          },
          "metadata": {
            "tags": [],
            "needs_background": "light"
          }
        }
      ]
    },
    {
      "cell_type": "markdown",
      "metadata": {
        "id": "bHOo3NNyQNm8"
      },
      "source": [
        "There are outliers in 'duration' column of dataframe"
      ]
    },
    {
      "cell_type": "code",
      "metadata": {
        "colab": {
          "base_uri": "https://localhost:8080/",
          "height": 279
        },
        "id": "LW5ct0T4QRvP",
        "outputId": "6ba23f34-6b82-4571-e8b1-e3f855bad158"
      },
      "source": [
        "# Box Plot - duration vs deposit\n",
        "\n",
        "sns.boxplot(x='deposit', y='pdays', data=bank_data)\n",
        "plt.show()"
      ],
      "execution_count": null,
      "outputs": [
        {
          "output_type": "display_data",
          "data": {
            "image/png": "[encoded data removed]",
            "text/plain": [
              "<Figure size 432x288 with 1 Axes>"
            ]
          },
          "metadata": {
            "tags": [],
            "needs_background": "light"
          }
        }
      ]
    },
    {
      "cell_type": "markdown",
      "metadata": {
        "id": "YeLGU-ALQfxE"
      },
      "source": [
        "There are outliers in 'pdays' column of dataframe"
      ]
    },
    {
      "cell_type": "code",
      "metadata": {
        "colab": {
          "base_uri": "https://localhost:8080/",
          "height": 279
        },
        "id": "qxILZT9PQkLg",
        "outputId": "561fe3e8-03bb-4a0f-f596-b04be1b8bbcc"
      },
      "source": [
        "# Box Plot - previous vs deposit\n",
        "\n",
        "sns.boxplot(x='deposit', y='previous', data=bank_data)\n",
        "plt.show()"
      ],
      "execution_count": null,
      "outputs": [
        {
          "output_type": "display_data",
          "data": {
            "image/png": "[encoded data removed]",
            "text/plain": [
              "<Figure size 432x288 with 1 Axes>"
            ]
          },
          "metadata": {
            "tags": [],
            "needs_background": "light"
          }
        }
      ]
    },
    {
      "cell_type": "markdown",
      "metadata": {
        "id": "-bbF0-RNQtmi"
      },
      "source": [
        "There are outliers in 'previous' column of dataframe \n",
        "\n",
        "Overall, there are outliers in all the numerical variables of given dataset. Hence, outliers are required to be treated as it is the necessary assumption for building logistic regression model. "
      ]
    },
    {
      "cell_type": "code",
      "metadata": {
        "colab": {
          "base_uri": "https://localhost:8080/"
        },
        "id": "0GmuEU7yW8Gz",
        "outputId": "16557377-1148-45ee-9c0f-9f834d1d6637"
      },
      "source": [
        "# checking the data types in bank_data dataframe\n",
        "\n",
        "bank_data.dtypes"
      ],
      "execution_count": null,
      "outputs": [
        {
          "output_type": "execute_result",
          "data": {
            "text/plain": [
              "age           int64\n",
              "job          object\n",
              "marital      object\n",
              "education    object\n",
              "default      object\n",
              "balance       int64\n",
              "housing      object\n",
              "loan         object\n",
              "contact      object\n",
              "day           int64\n",
              "month        object\n",
              "duration      int64\n",
              "campaign      int64\n",
              "pdays         int64\n",
              "previous      int64\n",
              "poutcome     object\n",
              "deposit      object\n",
              "dtype: object"
            ]
          },
          "metadata": {
            "tags": []
          },
          "execution_count": 76
        }
      ]
    },
    {
      "cell_type": "markdown",
      "metadata": {
        "id": "TWJswD_6Yr8n"
      },
      "source": [
        "'day' column is an ordinal categorical variable. But, the data type is 'int64'. Hence, the data type of 'day' column is required to be changed to 'category' type as we anyways cannot perform numerical operations on this column. "
      ]
    },
    {
      "cell_type": "code",
      "metadata": {
        "id": "-Hsad6VOZTqH"
      },
      "source": [
        "bank_data['day'] = bank_data['day'].astype('category')"
      ],
      "execution_count": null,
      "outputs": []
    },
    {
      "cell_type": "code",
      "metadata": {
        "id": "H7yeVjlkHz_v"
      },
      "source": [
        "# checking the correlation between categorical variables in the dataframe\n",
        "# by extracting the categorical information from the dataframe first \n",
        "\n",
        "object_cols = bank_data.select_dtypes(include = ['object'])"
      ],
      "execution_count": null,
      "outputs": []
    },
    {
      "cell_type": "code",
      "metadata": {
        "colab": {
          "base_uri": "https://localhost:8080/",
          "height": 204
        },
        "id": "Rk4u9S_iYe6f",
        "outputId": "2047dd5f-2795-4060-8b7c-90762bd1ac56"
      },
      "source": [
        "object_cols.head()"
      ],
      "execution_count": null,
      "outputs": [
        {
          "output_type": "execute_result",
          "data": {
            "text/html": [
              "<div>\n",
              "<style scoped>\n",
              "    .dataframe tbody tr th:only-of-type {\n",
              "        vertical-align: middle;\n",
              "    }\n",
              "\n",
              "    .dataframe tbody tr th {\n",
              "        vertical-align: top;\n",
              "    }\n",
              "\n",
              "    .dataframe thead th {\n",
              "        text-align: right;\n",
              "    }\n",
              "</style>\n",
              "<table border=\"1\" class=\"dataframe\">\n",
              "  <thead>\n",
              "    <tr style=\"text-align: right;\">\n",
              "      <th></th>\n",
              "      <th>job</th>\n",
              "      <th>marital</th>\n",
              "      <th>education</th>\n",
              "      <th>default</th>\n",
              "      <th>housing</th>\n",
              "      <th>loan</th>\n",
              "      <th>contact</th>\n",
              "      <th>month</th>\n",
              "      <th>poutcome</th>\n",
              "      <th>deposit</th>\n",
              "    </tr>\n",
              "  </thead>\n",
              "  <tbody>\n",
              "    <tr>\n",
              "      <th>0</th>\n",
              "      <td>services</td>\n",
              "      <td>married</td>\n",
              "      <td>unknown</td>\n",
              "      <td>no</td>\n",
              "      <td>yes</td>\n",
              "      <td>no</td>\n",
              "      <td>cellular</td>\n",
              "      <td>may</td>\n",
              "      <td>failure</td>\n",
              "      <td>no</td>\n",
              "    </tr>\n",
              "    <tr>\n",
              "      <th>1</th>\n",
              "      <td>technician</td>\n",
              "      <td>married</td>\n",
              "      <td>secondary</td>\n",
              "      <td>no</td>\n",
              "      <td>no</td>\n",
              "      <td>yes</td>\n",
              "      <td>cellular</td>\n",
              "      <td>feb</td>\n",
              "      <td>success</td>\n",
              "      <td>yes</td>\n",
              "    </tr>\n",
              "    <tr>\n",
              "      <th>2</th>\n",
              "      <td>services</td>\n",
              "      <td>single</td>\n",
              "      <td>secondary</td>\n",
              "      <td>no</td>\n",
              "      <td>no</td>\n",
              "      <td>yes</td>\n",
              "      <td>cellular</td>\n",
              "      <td>jul</td>\n",
              "      <td>unknown</td>\n",
              "      <td>no</td>\n",
              "    </tr>\n",
              "    <tr>\n",
              "      <th>3</th>\n",
              "      <td>management</td>\n",
              "      <td>single</td>\n",
              "      <td>tertiary</td>\n",
              "      <td>no</td>\n",
              "      <td>yes</td>\n",
              "      <td>no</td>\n",
              "      <td>cellular</td>\n",
              "      <td>jul</td>\n",
              "      <td>unknown</td>\n",
              "      <td>no</td>\n",
              "    </tr>\n",
              "    <tr>\n",
              "      <th>4</th>\n",
              "      <td>technician</td>\n",
              "      <td>single</td>\n",
              "      <td>secondary</td>\n",
              "      <td>no</td>\n",
              "      <td>yes</td>\n",
              "      <td>no</td>\n",
              "      <td>cellular</td>\n",
              "      <td>may</td>\n",
              "      <td>unknown</td>\n",
              "      <td>no</td>\n",
              "    </tr>\n",
              "  </tbody>\n",
              "</table>\n",
              "</div>"
            ],
            "text/plain": [
              "          job  marital  education default  ...   contact month poutcome deposit\n",
              "0    services  married    unknown      no  ...  cellular   may  failure      no\n",
              "1  technician  married  secondary      no  ...  cellular   feb  success     yes\n",
              "2    services   single  secondary      no  ...  cellular   jul  unknown      no\n",
              "3  management   single   tertiary      no  ...  cellular   jul  unknown      no\n",
              "4  technician   single  secondary      no  ...  cellular   may  unknown      no\n",
              "\n",
              "[5 rows x 10 columns]"
            ]
          },
          "metadata": {
            "tags": []
          },
          "execution_count": 79
        }
      ]
    },
    {
      "cell_type": "code",
      "metadata": {
        "id": "8rJruQ5-anZQ"
      },
      "source": [
        "# adding 'day' column in object_cols dataframe\n",
        "\n",
        "object_cols.insert(8, 'day', bank_data['day'], True)"
      ],
      "execution_count": null,
      "outputs": []
    },
    {
      "cell_type": "code",
      "metadata": {
        "colab": {
          "base_uri": "https://localhost:8080/",
          "height": 204
        },
        "id": "52-o65Isbjj7",
        "outputId": "0622549a-107d-4e0f-b04b-2706b193cd9b"
      },
      "source": [
        "object_cols.head()"
      ],
      "execution_count": null,
      "outputs": [
        {
          "output_type": "execute_result",
          "data": {
            "text/html": [
              "<div>\n",
              "<style scoped>\n",
              "    .dataframe tbody tr th:only-of-type {\n",
              "        vertical-align: middle;\n",
              "    }\n",
              "\n",
              "    .dataframe tbody tr th {\n",
              "        vertical-align: top;\n",
              "    }\n",
              "\n",
              "    .dataframe thead th {\n",
              "        text-align: right;\n",
              "    }\n",
              "</style>\n",
              "<table border=\"1\" class=\"dataframe\">\n",
              "  <thead>\n",
              "    <tr style=\"text-align: right;\">\n",
              "      <th></th>\n",
              "      <th>job</th>\n",
              "      <th>marital</th>\n",
              "      <th>education</th>\n",
              "      <th>default</th>\n",
              "      <th>housing</th>\n",
              "      <th>loan</th>\n",
              "      <th>contact</th>\n",
              "      <th>month</th>\n",
              "      <th>day</th>\n",
              "      <th>poutcome</th>\n",
              "      <th>deposit</th>\n",
              "    </tr>\n",
              "  </thead>\n",
              "  <tbody>\n",
              "    <tr>\n",
              "      <th>0</th>\n",
              "      <td>services</td>\n",
              "      <td>married</td>\n",
              "      <td>unknown</td>\n",
              "      <td>no</td>\n",
              "      <td>yes</td>\n",
              "      <td>no</td>\n",
              "      <td>cellular</td>\n",
              "      <td>may</td>\n",
              "      <td>11</td>\n",
              "      <td>failure</td>\n",
              "      <td>no</td>\n",
              "    </tr>\n",
              "    <tr>\n",
              "      <th>1</th>\n",
              "      <td>technician</td>\n",
              "      <td>married</td>\n",
              "      <td>secondary</td>\n",
              "      <td>no</td>\n",
              "      <td>no</td>\n",
              "      <td>yes</td>\n",
              "      <td>cellular</td>\n",
              "      <td>feb</td>\n",
              "      <td>26</td>\n",
              "      <td>success</td>\n",
              "      <td>yes</td>\n",
              "    </tr>\n",
              "    <tr>\n",
              "      <th>2</th>\n",
              "      <td>services</td>\n",
              "      <td>single</td>\n",
              "      <td>secondary</td>\n",
              "      <td>no</td>\n",
              "      <td>no</td>\n",
              "      <td>yes</td>\n",
              "      <td>cellular</td>\n",
              "      <td>jul</td>\n",
              "      <td>8</td>\n",
              "      <td>unknown</td>\n",
              "      <td>no</td>\n",
              "    </tr>\n",
              "    <tr>\n",
              "      <th>3</th>\n",
              "      <td>management</td>\n",
              "      <td>single</td>\n",
              "      <td>tertiary</td>\n",
              "      <td>no</td>\n",
              "      <td>yes</td>\n",
              "      <td>no</td>\n",
              "      <td>cellular</td>\n",
              "      <td>jul</td>\n",
              "      <td>17</td>\n",
              "      <td>unknown</td>\n",
              "      <td>no</td>\n",
              "    </tr>\n",
              "    <tr>\n",
              "      <th>4</th>\n",
              "      <td>technician</td>\n",
              "      <td>single</td>\n",
              "      <td>secondary</td>\n",
              "      <td>no</td>\n",
              "      <td>yes</td>\n",
              "      <td>no</td>\n",
              "      <td>cellular</td>\n",
              "      <td>may</td>\n",
              "      <td>14</td>\n",
              "      <td>unknown</td>\n",
              "      <td>no</td>\n",
              "    </tr>\n",
              "  </tbody>\n",
              "</table>\n",
              "</div>"
            ],
            "text/plain": [
              "          job  marital  education default  ... month day poutcome deposit\n",
              "0    services  married    unknown      no  ...   may  11  failure      no\n",
              "1  technician  married  secondary      no  ...   feb  26  success     yes\n",
              "2    services   single  secondary      no  ...   jul   8  unknown      no\n",
              "3  management   single   tertiary      no  ...   jul  17  unknown      no\n",
              "4  technician   single  secondary      no  ...   may  14  unknown      no\n",
              "\n",
              "[5 rows x 11 columns]"
            ]
          },
          "metadata": {
            "tags": []
          },
          "execution_count": 81
        }
      ]
    },
    {
      "cell_type": "code",
      "metadata": {
        "id": "nzS73aHcb0Mu"
      },
      "source": [
        "# in order to check the correlation between every pair of categorical variables in the dataset, Chi-squared test will be used here\n",
        "# importing the required packages\n",
        "\n",
        "from scipy.stats import chi2_contingency"
      ],
      "execution_count": null,
      "outputs": []
    },
    {
      "cell_type": "code",
      "metadata": {
        "colab": {
          "base_uri": "https://localhost:8080/"
        },
        "id": "kzKGHk70dsMm",
        "outputId": "2dfe4d24-0fb4-410b-be17-4aa8e933be93"
      },
      "source": [
        "object_cols.columns"
      ],
      "execution_count": null,
      "outputs": [
        {
          "output_type": "execute_result",
          "data": {
            "text/plain": [
              "Index(['job', 'marital', 'education', 'default', 'housing', 'loan', 'contact',\n",
              "       'month', 'day', 'poutcome', 'deposit'],\n",
              "      dtype='object')"
            ]
          },
          "metadata": {
            "tags": []
          },
          "execution_count": 83
        }
      ]
    },
    {
      "cell_type": "markdown",
      "metadata": {
        "id": "qYPvC8jTArzu"
      },
      "source": [
        "**Chi-Squared Test**\n",
        "\n",
        "The second value in the output of this test is the p-value. If the p-value is greater than 0.05 then, it suggests that there is no correlation between the two categorical variables. If p-value <= 0.05, it suggests correlation. "
      ]
    },
    {
      "cell_type": "code",
      "metadata": {
        "colab": {
          "base_uri": "https://localhost:8080/"
        },
        "id": "dv9tGwHmMGqO",
        "outputId": "07df8556-c641-440c-896e-c190423c9d17"
      },
      "source": [
        "# checking the correlation between 'job' and other independent categorical variables\n",
        "\n",
        "cols = 'job'\n",
        "list_cols = object_cols.columns[1:]\n",
        "\n",
        "for i in list_cols:\n",
        "  tab = pd.crosstab(index = object_cols[cols], columns = object_cols[i])\n",
        "  chi_val = chi2_contingency(observed = tab)\n",
        "  print(\"'{}' and '{}' - the p-value is {}\".format(cols, i, chi_val[1]))"
      ],
      "execution_count": null,
      "outputs": [
        {
          "output_type": "stream",
          "text": [
            "'job' and 'marital' - the p-value is 5.1794690406871834e-117\n",
            "'job' and 'education' - the p-value is 0.0\n",
            "'job' and 'default' - the p-value is 0.06690919696828589\n",
            "'job' and 'housing' - the p-value is 8.700407102731235e-117\n",
            "'job' and 'loan' - the p-value is 9.250301465420033e-19\n",
            "'job' and 'contact' - the p-value is 3.006173372679425e-69\n",
            "'job' and 'month' - the p-value is 2.3009314916797943e-85\n",
            "'job' and 'day' - the p-value is 1.020671573946286e-06\n",
            "'job' and 'poutcome' - the p-value is 9.323112099014966e-19\n",
            "'job' and 'deposit' - the p-value is 9.83397362379517e-31\n"
          ],
          "name": "stdout"
        }
      ]
    },
    {
      "cell_type": "markdown",
      "metadata": {
        "id": "Vo2MaJ72MWrD"
      },
      "source": [
        "Results:\n",
        "\n",
        "---\n",
        "\n",
        "Correlation:\n",
        "\n",
        "'job' and 'education'\n",
        "\n",
        "---\n",
        "\n",
        "No Correlation:\n",
        "\n",
        "1. 'job' and 'marital'\n",
        "2. 'job' and 'default' \n",
        "3. 'job' and 'housing' \n",
        "4. 'job' and 'loan'\n",
        "5. 'job' and 'contact' \n",
        "6. 'job' and 'month' \n",
        "7. 'job' and 'day' \n",
        "8. 'job' and 'poutcome' "
      ]
    },
    {
      "cell_type": "code",
      "metadata": {
        "colab": {
          "base_uri": "https://localhost:8080/"
        },
        "id": "mH5xuf1ABNeA",
        "outputId": "a52c1f3c-aec0-414f-ab21-7dd2eae4a6bd"
      },
      "source": [
        "# now, checking the correlation between 'marital' and other independent categorical variables\n",
        "\n",
        "cols = 'marital'\n",
        "list_cols = object_cols.columns[2:]\n",
        "\n",
        "for i in list_cols:\n",
        "  tab = pd.crosstab(index = object_cols[cols], columns = object_cols[i])\n",
        "  chi_val = chi2_contingency(observed = tab)\n",
        "  print(\"'{}' and '{}' - the p-value is {}\".format(cols, i, chi_val[1]))"
      ],
      "execution_count": null,
      "outputs": [
        {
          "output_type": "stream",
          "text": [
            "'marital' and 'education' - the p-value is 1.3194278867761863e-38\n",
            "'marital' and 'default' - the p-value is 0.6464939948300724\n",
            "'marital' and 'housing' - the p-value is 0.01875184979048123\n",
            "'marital' and 'loan' - the p-value is 4.838255115012534e-06\n",
            "'marital' and 'contact' - the p-value is 1.8374033130080378e-10\n",
            "'marital' and 'month' - the p-value is 7.879241900361108e-07\n",
            "'marital' and 'day' - the p-value is 0.06640326430534356\n",
            "'marital' and 'poutcome' - the p-value is 0.0023048644323246676\n",
            "'marital' and 'deposit' - the p-value is 2.0577521354758537e-18\n"
          ],
          "name": "stdout"
        }
      ]
    },
    {
      "cell_type": "markdown",
      "metadata": {
        "id": "l-0PeSAIEWaH"
      },
      "source": [
        "Results:\n",
        "\n",
        "Correlation:\n",
        "\n",
        "1. 'marital' and 'housing'\n",
        "2. 'marital' and 'poutcome'\n",
        "\n",
        "No Correlation:\n",
        "\n",
        "1. 'marital' and 'education'\n",
        "2. 'marital' and 'default'\n",
        "3. 'marital' and 'loan'\n",
        "4. 'marital' and 'contact'\n",
        "5. 'marital' and 'month'\n",
        "6. 'marital' and 'day'"
      ]
    },
    {
      "cell_type": "code",
      "metadata": {
        "colab": {
          "base_uri": "https://localhost:8080/"
        },
        "id": "i5dB0mkUBr9-",
        "outputId": "f93bea4e-d60f-46c2-da94-fb9cf44f03e5"
      },
      "source": [
        "# now, checking the correlation between 'education' and other independent categorical variables\n",
        "\n",
        "cols = 'education'\n",
        "list_cols = object_cols.columns[3:]\n",
        "\n",
        "for i in list_cols:\n",
        "  tab = pd.crosstab(index = object_cols[cols], columns = object_cols[i])\n",
        "  chi_val = chi2_contingency(observed = tab)\n",
        "  print(\"'{}' and '{}' - the p-value is {}\".format(cols, i, chi_val[1]))\n",
        "  \n"
      ],
      "execution_count": null,
      "outputs": [
        {
          "output_type": "stream",
          "text": [
            "'education' and 'default' - the p-value is 0.5962919475974011\n",
            "'education' and 'housing' - the p-value is 8.308133023697869e-28\n",
            "'education' and 'loan' - the p-value is 5.851486886959748e-11\n",
            "'education' and 'contact' - the p-value is 1.239220882043269e-32\n",
            "'education' and 'month' - the p-value is 8.039104448766353e-27\n",
            "'education' and 'day' - the p-value is 1.9692312622003972e-06\n",
            "'education' and 'poutcome' - the p-value is 0.0001819615484089572\n",
            "'education' and 'deposit' - the p-value is 1.3675658567608763e-14\n"
          ],
          "name": "stdout"
        }
      ]
    },
    {
      "cell_type": "markdown",
      "metadata": {
        "id": "4jISIrL0Fyzr"
      },
      "source": [
        "Results:\n",
        "\n",
        "Correlation:\n",
        "\n",
        "'education' and 'poutcome'\n",
        "\n",
        "No Correlation:\n",
        "\n",
        "1. 'education' and 'default' \n",
        "2. 'education' and 'housing'\n",
        "3. 'education' and 'loan' \n",
        "4. 'education' and 'contact'\n",
        "5. 'education' and 'month' \n",
        "6. 'education' and 'day' \n",
        "\n"
      ]
    },
    {
      "cell_type": "markdown",
      "metadata": {
        "id": "i5C5UUR8GakF"
      },
      "source": [
        "We have found till this stage that 'education' is correlated with both the 'poutcome' and 'job' variables."
      ]
    },
    {
      "cell_type": "code",
      "metadata": {
        "colab": {
          "base_uri": "https://localhost:8080/"
        },
        "id": "OEWwLgJ2GSVY",
        "outputId": "9cb5df9d-2ff1-4465-894e-df2e4de0bd1f"
      },
      "source": [
        "# now, checking the correlation between 'default' and other independent categorical variables\n",
        "\n",
        "cols = 'default'\n",
        "list_cols = object_cols.columns[4:]\n",
        "\n",
        "for i in list_cols:\n",
        "  tab = pd.crosstab(index = object_cols[cols], columns = object_cols[i])\n",
        "  chi_val = chi2_contingency(observed = tab)\n",
        "  print(\"'{}' and '{}' - the p-value is {}\".format(cols, i, chi_val[1]))\n",
        "  "
      ],
      "execution_count": null,
      "outputs": [
        {
          "output_type": "stream",
          "text": [
            "'default' and 'housing' - the p-value is 0.4319747539603439\n",
            "'default' and 'loan' - the p-value is 8.348470014534872e-10\n",
            "'default' and 'contact' - the p-value is 0.00014357449220422138\n",
            "'default' and 'month' - the p-value is 0.033321154815912184\n",
            "'default' and 'day' - the p-value is 0.6479443109174805\n",
            "'default' and 'poutcome' - the p-value is 0.0001290839518268901\n",
            "'default' and 'deposit' - the p-value is 2.9488286716040964e-05\n"
          ],
          "name": "stdout"
        }
      ]
    },
    {
      "cell_type": "markdown",
      "metadata": {
        "id": "U9kN_xOiHWOL"
      },
      "source": [
        "Results:\n",
        "\n",
        "Correlation:\n",
        "\n",
        "1. 'default' and 'contact'\n",
        "2. 'default' and 'month' \n",
        "3. 'default' and 'poutcome'\n",
        "\n",
        "No Correlation:\n",
        "\n",
        "1. 'default' and 'housing' - the p-value is 0.4319747539603439\n",
        "2. 'default' and 'loan' - the p-value is 8.348470014534872e-10\n",
        "3. 'default' and 'day' - the p-value is 0.6479443109174805\n"
      ]
    },
    {
      "cell_type": "code",
      "metadata": {
        "colab": {
          "base_uri": "https://localhost:8080/"
        },
        "id": "hiax3xUIH_sw",
        "outputId": "3daf222d-b250-4652-f5c1-46d5f0678666"
      },
      "source": [
        "# now, checking the correlation between 'housing' and other independent categorical variables\n",
        "\n",
        "cols = 'housing'\n",
        "list_cols = object_cols.columns[5:]\n",
        "\n",
        "for i in list_cols:\n",
        "  tab = pd.crosstab(index = object_cols[cols], columns = object_cols[i])\n",
        "  chi_val = chi2_contingency(observed = tab)\n",
        "  print(\"'{}' and '{}' - the p-value is {}\".format(cols, i, chi_val[1]))"
      ],
      "execution_count": null,
      "outputs": [
        {
          "output_type": "stream",
          "text": [
            "'housing' and 'loan' - the p-value is 9.947730733659935e-06\n",
            "'housing' and 'contact' - the p-value is 1.9863965637633185e-87\n",
            "'housing' and 'month' - the p-value is 1.0351175372998247e-271\n",
            "'housing' and 'day' - the p-value is 6.742662403881311e-25\n",
            "'housing' and 'poutcome' - the p-value is 4.613033781770673e-28\n",
            "'housing' and 'deposit' - the p-value is 2.892171440152387e-46\n"
          ],
          "name": "stdout"
        }
      ]
    },
    {
      "cell_type": "markdown",
      "metadata": {
        "id": "vXJCQqBfISgJ"
      },
      "source": [
        "Results:\n",
        "\n",
        "No Correlation:\n",
        "\n",
        "1. 'housing' and 'loan'\n",
        "2. 'housing' and 'contact' \n",
        "3. 'housing' and 'month' \n",
        "4. 'housing' and 'day' \n",
        "5. 'housing' and 'poutcome' \n"
      ]
    },
    {
      "cell_type": "code",
      "metadata": {
        "colab": {
          "base_uri": "https://localhost:8080/"
        },
        "id": "EitTNdleJJTO",
        "outputId": "fefe72bc-c74e-4517-97d5-f63661ec38d2"
      },
      "source": [
        "# now, checking the correlation between 'loan' and other independent categorical variables\n",
        "\n",
        "cols = 'loan'\n",
        "list_cols = object_cols.columns[6:]\n",
        "\n",
        "for i in list_cols:\n",
        "  tab = pd.crosstab(index = object_cols[cols], columns = object_cols[i])\n",
        "  chi_val = chi2_contingency(observed = tab)\n",
        "  print(\"'{}' and '{}' - the p-value is {}\".format(cols, i, chi_val[1]))"
      ],
      "execution_count": null,
      "outputs": [
        {
          "output_type": "stream",
          "text": [
            "'loan' and 'contact' - the p-value is 0.028135290136738548\n",
            "'loan' and 'month' - the p-value is 3.4390613163383307e-35\n",
            "'loan' and 'day' - the p-value is 0.02745333635700631\n",
            "'loan' and 'poutcome' - the p-value is 1.7348273675001836e-09\n",
            "'loan' and 'deposit' - the p-value is 6.204138189238099e-12\n"
          ],
          "name": "stdout"
        }
      ]
    },
    {
      "cell_type": "markdown",
      "metadata": {
        "id": "4Qrr8UUYJ8_8"
      },
      "source": [
        "Results:\n",
        "\n",
        "Correlation:\n",
        "\n",
        "1. 'loan' and 'contact'\n",
        "2. 'loan' and 'day'\n",
        "\n",
        "No Correlation:\n",
        "\n",
        "1. 'loan' and 'month' \n",
        "2. 'loan' and 'poutcome' \n"
      ]
    },
    {
      "cell_type": "code",
      "metadata": {
        "colab": {
          "base_uri": "https://localhost:8080/"
        },
        "id": "5B_3WGNZKoPN",
        "outputId": "fa7fab3c-acc6-4231-b091-05565adbf8b1"
      },
      "source": [
        "# now, checking the correlation between 'contact' and other independent categorical variables\n",
        "\n",
        "cols = 'contact'\n",
        "list_cols = object_cols.columns[7:]\n",
        "\n",
        "for i in list_cols:\n",
        "  tab = pd.crosstab(index = object_cols[cols], columns = object_cols[i])\n",
        "  chi_val = chi2_contingency(observed = tab)\n",
        "  print(\"'{}' and '{}' - the p-value is {}\".format(cols, i, chi_val[1]))"
      ],
      "execution_count": null,
      "outputs": [
        {
          "output_type": "stream",
          "text": [
            "'contact' and 'month' - the p-value is 0.0\n",
            "'contact' and 'day' - the p-value is 1.7511153184290982e-39\n",
            "'contact' and 'poutcome' - the p-value is 6.548121830148851e-100\n",
            "'contact' and 'deposit' - the p-value is 2.914947342160202e-70\n"
          ],
          "name": "stdout"
        }
      ]
    },
    {
      "cell_type": "markdown",
      "metadata": {
        "id": "-EIFOpkLK52w"
      },
      "source": [
        "Results:\n",
        "\n",
        "Correlation:\n",
        "\n",
        "'contact' and 'month'\n",
        "\n",
        "No Correlation:\n",
        "\n",
        "1. 'contact' and 'day' \n",
        "2. 'contact' and 'poutcome'\n",
        "3. 'contact' and 'deposit'\n"
      ]
    },
    {
      "cell_type": "code",
      "metadata": {
        "colab": {
          "base_uri": "https://localhost:8080/"
        },
        "id": "n_zaN2rRK5NO",
        "outputId": "144e3fa5-6fc2-4e2a-821a-b9de0cac7dc0"
      },
      "source": [
        "# now, checking the correlation between 'month' and other independent categorical variables\n",
        "\n",
        "cols = 'month'\n",
        "list_cols = object_cols.columns[8:]\n",
        "\n",
        "for i in list_cols:\n",
        "  tab = pd.crosstab(index = object_cols[cols], columns = object_cols[i])\n",
        "  chi_val = chi2_contingency(observed = tab)\n",
        "  print(\"'{}' and '{}' - the p-value is {}\".format(cols, i, chi_val[1]))"
      ],
      "execution_count": null,
      "outputs": [
        {
          "output_type": "stream",
          "text": [
            "'month' and 'day' - the p-value is 0.0\n",
            "'month' and 'poutcome' - the p-value is 1.7827126016066163e-106\n",
            "'month' and 'deposit' - the p-value is 3.3779940532355517e-108\n"
          ],
          "name": "stdout"
        }
      ]
    },
    {
      "cell_type": "markdown",
      "metadata": {
        "id": "NevrlHr3LYAW"
      },
      "source": [
        "Results:\n",
        "\n",
        "Correlation:\n",
        "\n",
        "'month' and 'day'\n",
        "\n",
        "No Correlation:\n",
        "\n",
        "1. 'month' and 'poutcome' \n",
        "2. 'month' and 'deposit' "
      ]
    },
    {
      "cell_type": "code",
      "metadata": {
        "colab": {
          "base_uri": "https://localhost:8080/"
        },
        "id": "-wntkkmILpm4",
        "outputId": "8d9368ec-20a9-44de-801d-8573a39a4e6f"
      },
      "source": [
        "# now, checking the correlation between 'day' and other independent categorical variables\n",
        "\n",
        "cols = 'day'\n",
        "list_cols = object_cols.columns[9:]\n",
        "\n",
        "for i in list_cols:\n",
        "  tab = pd.crosstab(index = object_cols[cols], columns = object_cols[i])\n",
        "  chi_val = chi2_contingency(observed = tab)\n",
        "  print(\"'{}' and '{}' - the p-value is {}\".format(cols, i, chi_val[1]))"
      ],
      "execution_count": null,
      "outputs": [
        {
          "output_type": "stream",
          "text": [
            "'day' and 'poutcome' - the p-value is 4.982943557925788e-19\n",
            "'day' and 'deposit' - the p-value is 3.519970004348621e-29\n"
          ],
          "name": "stdout"
        }
      ]
    },
    {
      "cell_type": "markdown",
      "metadata": {
        "id": "OsNw9tveL1HW"
      },
      "source": [
        "Results:\n",
        "\n",
        "No correlation: 'day' and 'poutcome'"
      ]
    },
    {
      "cell_type": "code",
      "metadata": {
        "colab": {
          "base_uri": "https://localhost:8080/"
        },
        "id": "0wLDg163ZYsd",
        "outputId": "00ea1719-60a7-41dd-ab24-b30326f8f89e"
      },
      "source": [
        "# now, checking the correlation between 'poutcome' and 'deposit'\n",
        "\n",
        "cols = 'poutcome'\n",
        "list_cols = object_cols.columns[10:]\n",
        "\n",
        "for i in list_cols:\n",
        "  tab = pd.crosstab(index = object_cols[cols], columns = object_cols[i])\n",
        "  chi_val = chi2_contingency(observed = tab)\n",
        "  print(\"'{}' and '{}' - the p-value is {}\".format(cols, i, chi_val[1]))"
      ],
      "execution_count": null,
      "outputs": [
        {
          "output_type": "stream",
          "text": [
            "'poutcome' and 'deposit' - the p-value is 5.749595549672384e-103\n"
          ],
          "name": "stdout"
        }
      ]
    },
    {
      "cell_type": "markdown",
      "metadata": {
        "id": "PqRKdbjFNo3q"
      },
      "source": [
        "Overall result of Chi-Squared Test:\n",
        "\n",
        "---\n",
        "\n",
        "Correlation is found between these pair of categorical independent variables:\n",
        "\n",
        "1. 'job' and 'education' - the p-value is 0.0\n",
        "2. 'marital' and 'housing' - the p-value is 0.01875184979048123\n",
        "3. 'marital' and 'poutcome' - the p-value is 0.0001819615484089572\n",
        "4. 'education' and 'poutcome' - the p-value is 0.0001819615484089572\n",
        "5. 'default' and 'contact' - the p-value is 0.00014357449220422138\n",
        "6. 'default' and 'month' - the p-value is 0.033321154815912184 \n",
        "7. 'default' and 'poutcome' - the p-value is 0.0001290839518268901\n",
        "8. 'loan' and 'contact' - the p-value is 0.028135290136738548\n",
        "9. 'loan' and 'day' - the p-value is 0.02745333635700631\n",
        "10. 'contact' and 'month' - the p-value is 0.0\n",
        "11. 'month' and 'day' - the p-value is 0.0\n",
        "\n",
        "\n",
        "\n"
      ]
    },
    {
      "cell_type": "markdown",
      "metadata": {
        "id": "l0uDNsygXSho"
      },
      "source": [
        "If the p-value is close to 0 in Chi-Squared test then, it suggests a very strong correlation. \n",
        "\n",
        "'job', 'poutcome', 'housing', 'default' and 'month' can be removed as they have shown very strong correlations with more than one categorical independent variable in the dataframe and also shown relatively weaker correlation with the target variable, 'deposit', which has to be predicted in this assignment. "
      ]
    },
    {
      "cell_type": "code",
      "metadata": {
        "id": "PpK8g45PRGMB"
      },
      "source": [
        "\n",
        "# importing the necessary packages\n",
        "\n",
        "# To partition the data into training and validation datasets\n",
        "from sklearn.model_selection import train_test_split\n",
        "\n",
        "# To scale the independent variables\n",
        "from sklearn.preprocessing import StandardScaler\n",
        "\n",
        "# To encode the target / label variable\n",
        "from sklearn.preprocessing import LabelEncoder\n",
        "\n",
        "# Importing the logistic regression model\n",
        "from sklearn.linear_model import LogisticRegression \n",
        "\n",
        "# Importing performance metrics\n",
        "from sklearn.metrics import (\n",
        "    accuracy_score, confusion_matrix, precision_score, recall_score, f1_score, roc_curve, roc_auc_score\n",
        ")"
      ],
      "execution_count": null,
      "outputs": []
    },
    {
      "cell_type": "code",
      "metadata": {
        "id": "SCjBPUjm5zvp"
      },
      "source": [
        "# standardizing the numerical variables\n",
        "scaler = StandardScaler()\n",
        "\n",
        "bank_data[['age', 'balance', 'duration', 'pdays', 'previous']] = scaler.fit_transform(\n",
        "    bank_data[['age', 'balance', 'duration', 'pdays', 'previous']])"
      ],
      "execution_count": null,
      "outputs": []
    },
    {
      "cell_type": "code",
      "metadata": {
        "id": "EnJ-97aHsbgm"
      },
      "source": [
        "# splitting the dataset into dependent and independent variables\n",
        "# we will also remove 'job', 'poutcome', 'housing', 'default', 'month' from independent variables\n",
        "# as we have found correlation between them \n",
        "\n",
        "X = bank_data.drop(['job', 'poutcome', 'housing', 'default', 'month', 'deposit'], axis = 1)\n",
        "y = bank_data['deposit']\n"
      ],
      "execution_count": null,
      "outputs": []
    },
    {
      "cell_type": "code",
      "metadata": {
        "colab": {
          "base_uri": "https://localhost:8080/"
        },
        "id": "F4vJXCM7vB8P",
        "outputId": "22d988f0-4683-4e30-f6b8-ec5873991302"
      },
      "source": [
        "print('The shape of dataframe with independent variables is, {}'.format(X.shape))\n",
        "\n",
        "print('The shape of dataframe with dependent variables is, {}'.format(y.shape))"
      ],
      "execution_count": null,
      "outputs": [
        {
          "output_type": "stream",
          "text": [
            "The shape of dataframe with independent variables is, (5581, 11)\n",
            "The shape of dataframe with dependent variables is, (5581,)\n"
          ],
          "name": "stdout"
        }
      ]
    },
    {
      "cell_type": "code",
      "metadata": {
        "colab": {
          "base_uri": "https://localhost:8080/",
          "height": 204
        },
        "id": "MqmgprWWvtTB",
        "outputId": "1befc835-59eb-4e7d-e58d-a792ccfc6a52"
      },
      "source": [
        "# checking the first few observations of dataframe with independent variables\n",
        "\n",
        "X.head()"
      ],
      "execution_count": null,
      "outputs": [
        {
          "output_type": "execute_result",
          "data": {
            "text/html": [
              "<div>\n",
              "<style scoped>\n",
              "    .dataframe tbody tr th:only-of-type {\n",
              "        vertical-align: middle;\n",
              "    }\n",
              "\n",
              "    .dataframe tbody tr th {\n",
              "        vertical-align: top;\n",
              "    }\n",
              "\n",
              "    .dataframe thead th {\n",
              "        text-align: right;\n",
              "    }\n",
              "</style>\n",
              "<table border=\"1\" class=\"dataframe\">\n",
              "  <thead>\n",
              "    <tr style=\"text-align: right;\">\n",
              "      <th></th>\n",
              "      <th>age</th>\n",
              "      <th>marital</th>\n",
              "      <th>education</th>\n",
              "      <th>balance</th>\n",
              "      <th>loan</th>\n",
              "      <th>contact</th>\n",
              "      <th>day</th>\n",
              "      <th>duration</th>\n",
              "      <th>campaign</th>\n",
              "      <th>pdays</th>\n",
              "      <th>previous</th>\n",
              "    </tr>\n",
              "  </thead>\n",
              "  <tbody>\n",
              "    <tr>\n",
              "      <th>0</th>\n",
              "      <td>-0.014229</td>\n",
              "      <td>married</td>\n",
              "      <td>unknown</td>\n",
              "      <td>-0.436813</td>\n",
              "      <td>no</td>\n",
              "      <td>cellular</td>\n",
              "      <td>11</td>\n",
              "      <td>-0.764824</td>\n",
              "      <td>1</td>\n",
              "      <td>2.559623</td>\n",
              "      <td>0.497661</td>\n",
              "    </tr>\n",
              "    <tr>\n",
              "      <th>1</th>\n",
              "      <td>1.243635</td>\n",
              "      <td>married</td>\n",
              "      <td>secondary</td>\n",
              "      <td>0.129587</td>\n",
              "      <td>yes</td>\n",
              "      <td>cellular</td>\n",
              "      <td>26</td>\n",
              "      <td>-0.404463</td>\n",
              "      <td>1</td>\n",
              "      <td>1.259340</td>\n",
              "      <td>1.362908</td>\n",
              "    </tr>\n",
              "    <tr>\n",
              "      <th>2</th>\n",
              "      <td>-0.936663</td>\n",
              "      <td>single</td>\n",
              "      <td>secondary</td>\n",
              "      <td>-0.388745</td>\n",
              "      <td>yes</td>\n",
              "      <td>cellular</td>\n",
              "      <td>8</td>\n",
              "      <td>-0.526521</td>\n",
              "      <td>2</td>\n",
              "      <td>-0.483401</td>\n",
              "      <td>-0.367587</td>\n",
              "    </tr>\n",
              "    <tr>\n",
              "      <th>3</th>\n",
              "      <td>-0.601233</td>\n",
              "      <td>single</td>\n",
              "      <td>tertiary</td>\n",
              "      <td>-0.036353</td>\n",
              "      <td>no</td>\n",
              "      <td>cellular</td>\n",
              "      <td>17</td>\n",
              "      <td>0.760895</td>\n",
              "      <td>1</td>\n",
              "      <td>-0.483401</td>\n",
              "      <td>-0.367587</td>\n",
              "    </tr>\n",
              "    <tr>\n",
              "      <th>4</th>\n",
              "      <td>-1.020521</td>\n",
              "      <td>single</td>\n",
              "      <td>secondary</td>\n",
              "      <td>-0.467735</td>\n",
              "      <td>no</td>\n",
              "      <td>cellular</td>\n",
              "      <td>14</td>\n",
              "      <td>0.417971</td>\n",
              "      <td>3</td>\n",
              "      <td>-0.483401</td>\n",
              "      <td>-0.367587</td>\n",
              "    </tr>\n",
              "  </tbody>\n",
              "</table>\n",
              "</div>"
            ],
            "text/plain": [
              "        age  marital  education  ...  campaign     pdays  previous\n",
              "0 -0.014229  married    unknown  ...         1  2.559623  0.497661\n",
              "1  1.243635  married  secondary  ...         1  1.259340  1.362908\n",
              "2 -0.936663   single  secondary  ...         2 -0.483401 -0.367587\n",
              "3 -0.601233   single   tertiary  ...         1 -0.483401 -0.367587\n",
              "4 -1.020521   single  secondary  ...         3 -0.483401 -0.367587\n",
              "\n",
              "[5 rows x 11 columns]"
            ]
          },
          "metadata": {
            "tags": []
          },
          "execution_count": 157
        }
      ]
    },
    {
      "cell_type": "code",
      "metadata": {
        "colab": {
          "base_uri": "https://localhost:8080/"
        },
        "id": "IkIoBLAqv71L",
        "outputId": "2fb09c99-1e70-4af9-c566-650c31f9638c"
      },
      "source": [
        "# checking the first few observations of dataframe with dependent variable\n",
        "\n",
        "y.head()"
      ],
      "execution_count": null,
      "outputs": [
        {
          "output_type": "execute_result",
          "data": {
            "text/plain": [
              "0    1\n",
              "1    0\n",
              "2    1\n",
              "3    1\n",
              "4    1\n",
              "Name: deposit, dtype: int64"
            ]
          },
          "metadata": {
            "tags": []
          },
          "execution_count": 158
        }
      ]
    },
    {
      "cell_type": "code",
      "metadata": {
        "id": "n8E6uxvmwNDI"
      },
      "source": [
        "# encoding categorical variables\n",
        "\n",
        "X = pd.get_dummies(X, drop_first = True)"
      ],
      "execution_count": null,
      "outputs": []
    },
    {
      "cell_type": "code",
      "metadata": {
        "colab": {
          "base_uri": "https://localhost:8080/",
          "height": 224
        },
        "id": "Lc4AvOUcxAgE",
        "outputId": "7b43d18e-7583-47d6-985b-ed8b76788799"
      },
      "source": [
        "X.head()"
      ],
      "execution_count": null,
      "outputs": [
        {
          "output_type": "execute_result",
          "data": {
            "text/html": [
              "<div>\n",
              "<style scoped>\n",
              "    .dataframe tbody tr th:only-of-type {\n",
              "        vertical-align: middle;\n",
              "    }\n",
              "\n",
              "    .dataframe tbody tr th {\n",
              "        vertical-align: top;\n",
              "    }\n",
              "\n",
              "    .dataframe thead th {\n",
              "        text-align: right;\n",
              "    }\n",
              "</style>\n",
              "<table border=\"1\" class=\"dataframe\">\n",
              "  <thead>\n",
              "    <tr style=\"text-align: right;\">\n",
              "      <th></th>\n",
              "      <th>age</th>\n",
              "      <th>balance</th>\n",
              "      <th>duration</th>\n",
              "      <th>campaign</th>\n",
              "      <th>pdays</th>\n",
              "      <th>previous</th>\n",
              "      <th>marital_married</th>\n",
              "      <th>marital_single</th>\n",
              "      <th>education_secondary</th>\n",
              "      <th>education_tertiary</th>\n",
              "      <th>education_unknown</th>\n",
              "      <th>loan_yes</th>\n",
              "      <th>contact_telephone</th>\n",
              "      <th>contact_unknown</th>\n",
              "      <th>day_2</th>\n",
              "      <th>day_3</th>\n",
              "      <th>day_4</th>\n",
              "      <th>day_5</th>\n",
              "      <th>day_6</th>\n",
              "      <th>day_7</th>\n",
              "      <th>day_8</th>\n",
              "      <th>day_9</th>\n",
              "      <th>day_10</th>\n",
              "      <th>day_11</th>\n",
              "      <th>day_12</th>\n",
              "      <th>day_13</th>\n",
              "      <th>day_14</th>\n",
              "      <th>day_15</th>\n",
              "      <th>day_16</th>\n",
              "      <th>day_17</th>\n",
              "      <th>day_18</th>\n",
              "      <th>day_19</th>\n",
              "      <th>day_20</th>\n",
              "      <th>day_21</th>\n",
              "      <th>day_22</th>\n",
              "      <th>day_23</th>\n",
              "      <th>day_24</th>\n",
              "      <th>day_25</th>\n",
              "      <th>day_26</th>\n",
              "      <th>day_27</th>\n",
              "      <th>day_28</th>\n",
              "      <th>day_29</th>\n",
              "      <th>day_30</th>\n",
              "      <th>day_31</th>\n",
              "    </tr>\n",
              "  </thead>\n",
              "  <tbody>\n",
              "    <tr>\n",
              "      <th>0</th>\n",
              "      <td>-0.014229</td>\n",
              "      <td>-0.436813</td>\n",
              "      <td>-0.764824</td>\n",
              "      <td>1</td>\n",
              "      <td>2.559623</td>\n",
              "      <td>0.497661</td>\n",
              "      <td>1</td>\n",
              "      <td>0</td>\n",
              "      <td>0</td>\n",
              "      <td>0</td>\n",
              "      <td>1</td>\n",
              "      <td>0</td>\n",
              "      <td>0</td>\n",
              "      <td>0</td>\n",
              "      <td>0</td>\n",
              "      <td>0</td>\n",
              "      <td>0</td>\n",
              "      <td>0</td>\n",
              "      <td>0</td>\n",
              "      <td>0</td>\n",
              "      <td>0</td>\n",
              "      <td>0</td>\n",
              "      <td>0</td>\n",
              "      <td>1</td>\n",
              "      <td>0</td>\n",
              "      <td>0</td>\n",
              "      <td>0</td>\n",
              "      <td>0</td>\n",
              "      <td>0</td>\n",
              "      <td>0</td>\n",
              "      <td>0</td>\n",
              "      <td>0</td>\n",
              "      <td>0</td>\n",
              "      <td>0</td>\n",
              "      <td>0</td>\n",
              "      <td>0</td>\n",
              "      <td>0</td>\n",
              "      <td>0</td>\n",
              "      <td>0</td>\n",
              "      <td>0</td>\n",
              "      <td>0</td>\n",
              "      <td>0</td>\n",
              "      <td>0</td>\n",
              "      <td>0</td>\n",
              "    </tr>\n",
              "    <tr>\n",
              "      <th>1</th>\n",
              "      <td>1.243635</td>\n",
              "      <td>0.129587</td>\n",
              "      <td>-0.404463</td>\n",
              "      <td>1</td>\n",
              "      <td>1.259340</td>\n",
              "      <td>1.362908</td>\n",
              "      <td>1</td>\n",
              "      <td>0</td>\n",
              "      <td>1</td>\n",
              "      <td>0</td>\n",
              "      <td>0</td>\n",
              "      <td>1</td>\n",
              "      <td>0</td>\n",
              "      <td>0</td>\n",
              "      <td>0</td>\n",
              "      <td>0</td>\n",
              "      <td>0</td>\n",
              "      <td>0</td>\n",
              "      <td>0</td>\n",
              "      <td>0</td>\n",
              "      <td>0</td>\n",
              "      <td>0</td>\n",
              "      <td>0</td>\n",
              "      <td>0</td>\n",
              "      <td>0</td>\n",
              "      <td>0</td>\n",
              "      <td>0</td>\n",
              "      <td>0</td>\n",
              "      <td>0</td>\n",
              "      <td>0</td>\n",
              "      <td>0</td>\n",
              "      <td>0</td>\n",
              "      <td>0</td>\n",
              "      <td>0</td>\n",
              "      <td>0</td>\n",
              "      <td>0</td>\n",
              "      <td>0</td>\n",
              "      <td>0</td>\n",
              "      <td>1</td>\n",
              "      <td>0</td>\n",
              "      <td>0</td>\n",
              "      <td>0</td>\n",
              "      <td>0</td>\n",
              "      <td>0</td>\n",
              "    </tr>\n",
              "    <tr>\n",
              "      <th>2</th>\n",
              "      <td>-0.936663</td>\n",
              "      <td>-0.388745</td>\n",
              "      <td>-0.526521</td>\n",
              "      <td>2</td>\n",
              "      <td>-0.483401</td>\n",
              "      <td>-0.367587</td>\n",
              "      <td>0</td>\n",
              "      <td>1</td>\n",
              "      <td>1</td>\n",
              "      <td>0</td>\n",
              "      <td>0</td>\n",
              "      <td>1</td>\n",
              "      <td>0</td>\n",
              "      <td>0</td>\n",
              "      <td>0</td>\n",
              "      <td>0</td>\n",
              "      <td>0</td>\n",
              "      <td>0</td>\n",
              "      <td>0</td>\n",
              "      <td>0</td>\n",
              "      <td>1</td>\n",
              "      <td>0</td>\n",
              "      <td>0</td>\n",
              "      <td>0</td>\n",
              "      <td>0</td>\n",
              "      <td>0</td>\n",
              "      <td>0</td>\n",
              "      <td>0</td>\n",
              "      <td>0</td>\n",
              "      <td>0</td>\n",
              "      <td>0</td>\n",
              "      <td>0</td>\n",
              "      <td>0</td>\n",
              "      <td>0</td>\n",
              "      <td>0</td>\n",
              "      <td>0</td>\n",
              "      <td>0</td>\n",
              "      <td>0</td>\n",
              "      <td>0</td>\n",
              "      <td>0</td>\n",
              "      <td>0</td>\n",
              "      <td>0</td>\n",
              "      <td>0</td>\n",
              "      <td>0</td>\n",
              "    </tr>\n",
              "    <tr>\n",
              "      <th>3</th>\n",
              "      <td>-0.601233</td>\n",
              "      <td>-0.036353</td>\n",
              "      <td>0.760895</td>\n",
              "      <td>1</td>\n",
              "      <td>-0.483401</td>\n",
              "      <td>-0.367587</td>\n",
              "      <td>0</td>\n",
              "      <td>1</td>\n",
              "      <td>0</td>\n",
              "      <td>1</td>\n",
              "      <td>0</td>\n",
              "      <td>0</td>\n",
              "      <td>0</td>\n",
              "      <td>0</td>\n",
              "      <td>0</td>\n",
              "      <td>0</td>\n",
              "      <td>0</td>\n",
              "      <td>0</td>\n",
              "      <td>0</td>\n",
              "      <td>0</td>\n",
              "      <td>0</td>\n",
              "      <td>0</td>\n",
              "      <td>0</td>\n",
              "      <td>0</td>\n",
              "      <td>0</td>\n",
              "      <td>0</td>\n",
              "      <td>0</td>\n",
              "      <td>0</td>\n",
              "      <td>0</td>\n",
              "      <td>1</td>\n",
              "      <td>0</td>\n",
              "      <td>0</td>\n",
              "      <td>0</td>\n",
              "      <td>0</td>\n",
              "      <td>0</td>\n",
              "      <td>0</td>\n",
              "      <td>0</td>\n",
              "      <td>0</td>\n",
              "      <td>0</td>\n",
              "      <td>0</td>\n",
              "      <td>0</td>\n",
              "      <td>0</td>\n",
              "      <td>0</td>\n",
              "      <td>0</td>\n",
              "    </tr>\n",
              "    <tr>\n",
              "      <th>4</th>\n",
              "      <td>-1.020521</td>\n",
              "      <td>-0.467735</td>\n",
              "      <td>0.417971</td>\n",
              "      <td>3</td>\n",
              "      <td>-0.483401</td>\n",
              "      <td>-0.367587</td>\n",
              "      <td>0</td>\n",
              "      <td>1</td>\n",
              "      <td>1</td>\n",
              "      <td>0</td>\n",
              "      <td>0</td>\n",
              "      <td>0</td>\n",
              "      <td>0</td>\n",
              "      <td>0</td>\n",
              "      <td>0</td>\n",
              "      <td>0</td>\n",
              "      <td>0</td>\n",
              "      <td>0</td>\n",
              "      <td>0</td>\n",
              "      <td>0</td>\n",
              "      <td>0</td>\n",
              "      <td>0</td>\n",
              "      <td>0</td>\n",
              "      <td>0</td>\n",
              "      <td>0</td>\n",
              "      <td>0</td>\n",
              "      <td>1</td>\n",
              "      <td>0</td>\n",
              "      <td>0</td>\n",
              "      <td>0</td>\n",
              "      <td>0</td>\n",
              "      <td>0</td>\n",
              "      <td>0</td>\n",
              "      <td>0</td>\n",
              "      <td>0</td>\n",
              "      <td>0</td>\n",
              "      <td>0</td>\n",
              "      <td>0</td>\n",
              "      <td>0</td>\n",
              "      <td>0</td>\n",
              "      <td>0</td>\n",
              "      <td>0</td>\n",
              "      <td>0</td>\n",
              "      <td>0</td>\n",
              "    </tr>\n",
              "  </tbody>\n",
              "</table>\n",
              "</div>"
            ],
            "text/plain": [
              "        age   balance  duration  campaign  ...  day_28  day_29  day_30  day_31\n",
              "0 -0.014229 -0.436813 -0.764824         1  ...       0       0       0       0\n",
              "1  1.243635  0.129587 -0.404463         1  ...       0       0       0       0\n",
              "2 -0.936663 -0.388745 -0.526521         2  ...       0       0       0       0\n",
              "3 -0.601233 -0.036353  0.760895         1  ...       0       0       0       0\n",
              "4 -1.020521 -0.467735  0.417971         3  ...       0       0       0       0\n",
              "\n",
              "[5 rows x 44 columns]"
            ]
          },
          "metadata": {
            "tags": []
          },
          "execution_count": 160
        }
      ]
    },
    {
      "cell_type": "code",
      "metadata": {
        "id": "gLaGdco55JjN"
      },
      "source": [
        "y.replace(['yes', 'no'], [0,1], inplace = True)"
      ],
      "execution_count": null,
      "outputs": []
    },
    {
      "cell_type": "markdown",
      "metadata": {
        "id": "5N0NQtYn5XUO"
      },
      "source": [
        "1 correspond to 'no' and 0 corresponds to 'yes' in the target variable 'deposit'"
      ]
    },
    {
      "cell_type": "code",
      "metadata": {
        "id": "FKLSNqVixWN9"
      },
      "source": [
        "# splitting the datasets with independent and dependent variables respectively into training and validation data\n",
        "\n",
        "X_train, X_val, y_train, y_val = train_test_split(X, y, test_size = 0.3, random_state = 1)"
      ],
      "execution_count": null,
      "outputs": []
    },
    {
      "cell_type": "code",
      "metadata": {
        "id": "_U_cAZmf6-vR"
      },
      "source": [
        "# building logistic regression model\n",
        "\n",
        "logistic_regression = LogisticRegression(random_state = 1)"
      ],
      "execution_count": null,
      "outputs": []
    },
    {
      "cell_type": "code",
      "metadata": {
        "colab": {
          "base_uri": "https://localhost:8080/"
        },
        "id": "QPe_pG9X7N9n",
        "outputId": "c9442793-6c44-4191-bcec-83dacb47d0ba"
      },
      "source": [
        "logistic_regression.fit(X_train, y_train)"
      ],
      "execution_count": null,
      "outputs": [
        {
          "output_type": "execute_result",
          "data": {
            "text/plain": [
              "LogisticRegression(C=1.0, class_weight=None, dual=False, fit_intercept=True,\n",
              "                   intercept_scaling=1, l1_ratio=None, max_iter=100,\n",
              "                   multi_class='auto', n_jobs=None, penalty='l2',\n",
              "                   random_state=1, solver='lbfgs', tol=0.0001, verbose=0,\n",
              "                   warm_start=False)"
            ]
          },
          "metadata": {
            "tags": []
          },
          "execution_count": 165
        }
      ]
    },
    {
      "cell_type": "code",
      "metadata": {
        "colab": {
          "base_uri": "https://localhost:8080/"
        },
        "id": "I_ti6eSK7UHr",
        "outputId": "748753b4-c9a7-4bc6-c0ea-d30ded381f21"
      },
      "source": [
        "logistic_regression.coef_"
      ],
      "execution_count": null,
      "outputs": [
        {
          "output_type": "execute_result",
          "data": {
            "text/plain": [
              "array([[-0.22178702, -0.05233871, -1.69402047,  0.12738547, -0.18047252,\n",
              "        -0.10523402,  0.11097281, -0.47058555, -0.13028803, -0.57056348,\n",
              "        -0.29885894,  0.50319805,  0.17680667,  1.52776788,  0.0162889 ,\n",
              "        -0.1838243 , -0.33847417,  0.41968961,  0.44878913,  0.78634378,\n",
              "         0.29137239, -0.29464776, -0.84937338,  0.48212562,  0.10024697,\n",
              "         0.29827531,  0.92417079,  0.4923052 ,  0.02993086,  0.68202757,\n",
              "         0.84259633,  1.31284193,  1.03726667,  0.70415712, -0.16425874,\n",
              "        -0.05088706,  0.59814991, -0.00248944, -0.15491724, -0.77813957,\n",
              "         0.82964333,  1.18293047, -0.0661518 ,  0.42342697]])"
            ]
          },
          "metadata": {
            "tags": []
          },
          "execution_count": 166
        }
      ]
    },
    {
      "cell_type": "code",
      "metadata": {
        "colab": {
          "base_uri": "https://localhost:8080/"
        },
        "id": "l7Zd2iKj7YIa",
        "outputId": "0a450bc8-73f6-4647-933c-8d0e106d57a4"
      },
      "source": [
        "logistic_regression.intercept_"
      ],
      "execution_count": null,
      "outputs": [
        {
          "output_type": "execute_result",
          "data": {
            "text/plain": [
              "array([-0.61866382])"
            ]
          },
          "metadata": {
            "tags": []
          },
          "execution_count": 167
        }
      ]
    },
    {
      "cell_type": "code",
      "metadata": {
        "id": "0uiYAjzF7dIq"
      },
      "source": [
        "# making predictions on validation dataset with independent variables\n",
        "\n",
        "y_preds = logistic_regression.predict(X_val)"
      ],
      "execution_count": null,
      "outputs": []
    },
    {
      "cell_type": "code",
      "metadata": {
        "colab": {
          "base_uri": "https://localhost:8080/"
        },
        "id": "IseMu0Gk77kt",
        "outputId": "f47e061c-ae79-4785-ec4d-bde211ded76e"
      },
      "source": [
        "# checking accuracy of predictions by comparing it with observed values of target variable in validation data, y_val\n",
        "\n",
        "accuracy = accuracy_score(y_val, y_preds)\n",
        "accuracy"
      ],
      "execution_count": null,
      "outputs": [
        {
          "output_type": "execute_result",
          "data": {
            "text/plain": [
              "0.7862686567164179"
            ]
          },
          "metadata": {
            "tags": []
          },
          "execution_count": 169
        }
      ]
    },
    {
      "cell_type": "markdown",
      "metadata": {
        "id": "TKM5DNIt8vP6"
      },
      "source": [
        "There is approximately 79% accuracy of this prediction"
      ]
    },
    {
      "cell_type": "code",
      "metadata": {
        "colab": {
          "base_uri": "https://localhost:8080/"
        },
        "id": "jJltXH2z8Wee",
        "outputId": "c1e2d4b7-c146-4473-f010-0b0056e4515e"
      },
      "source": [
        "conf_matrix = confusion_matrix(y_val, y_preds)\n",
        "conf_matrix"
      ],
      "execution_count": null,
      "outputs": [
        {
          "output_type": "execute_result",
          "data": {
            "text/plain": [
              "array([[607, 214],\n",
              "       [144, 710]])"
            ]
          },
          "metadata": {
            "tags": []
          },
          "execution_count": 170
        }
      ]
    },
    {
      "cell_type": "code",
      "metadata": {
        "colab": {
          "base_uri": "https://localhost:8080/",
          "height": 388
        },
        "id": "V8P--UdH8hyZ",
        "outputId": "a8fb4de7-3fc2-4624-a142-27a90288ed5f"
      },
      "source": [
        "plt.figure(figsize=(10, 6))\n",
        "sns.heatmap(conf_matrix, annot=True, fmt='d')\n",
        "plt.xlabel(\"Actual Class\")\n",
        "plt.ylabel(\"Predicted Class\")\n",
        "plt.show()"
      ],
      "execution_count": null,
      "outputs": [
        {
          "output_type": "display_data",
          "data": {
            "image/png": "[encoded data removed]",
            "text/plain": [
              "<Figure size 720x432 with 2 Axes>"
            ]
          },
          "metadata": {
            "tags": [],
            "needs_background": "light"
          }
        }
      ]
    },
    {
      "cell_type": "code",
      "metadata": {
        "colab": {
          "base_uri": "https://localhost:8080/"
        },
        "id": "mvYghGQM9F_j",
        "outputId": "543ede18-bc17-415f-d4b4-c58703bd2046"
      },
      "source": [
        "# checking the total number of incorrectly classified values \n",
        "\n",
        "(y_val != y_preds).sum()"
      ],
      "execution_count": null,
      "outputs": [
        {
          "output_type": "execute_result",
          "data": {
            "text/plain": [
              "358"
            ]
          },
          "metadata": {
            "tags": []
          },
          "execution_count": 172
        }
      ]
    },
    {
      "cell_type": "markdown",
      "metadata": {
        "id": "UPWGOD6M9iE3"
      },
      "source": [
        "There are total 358 misclassified values in the target variable, which is approximately 21% of the total values in validation data, y_preds"
      ]
    },
    {
      "cell_type": "code",
      "metadata": {
        "colab": {
          "base_uri": "https://localhost:8080/"
        },
        "id": "wZSAPk2Y-ESz",
        "outputId": "f965fc4a-fe92-415a-e5c5-3952a25a66f2"
      },
      "source": [
        "# checking the precision of logistic regression model\n",
        "\n",
        "precision = precision_score(y_val, y_preds)\n",
        "\n",
        "precision"
      ],
      "execution_count": null,
      "outputs": [
        {
          "output_type": "execute_result",
          "data": {
            "text/plain": [
              "0.7683982683982684"
            ]
          },
          "metadata": {
            "tags": []
          },
          "execution_count": 176
        }
      ]
    },
    {
      "cell_type": "markdown",
      "metadata": {
        "id": "tCRH0e31-YFP"
      },
      "source": [
        "This logisitic regression model is approximately 77% precise. "
      ]
    },
    {
      "cell_type": "code",
      "metadata": {
        "colab": {
          "base_uri": "https://localhost:8080/"
        },
        "id": "5CTzag0F-jWc",
        "outputId": "1be55530-9fe9-4ce2-e910-e0808b53a0ba"
      },
      "source": [
        "# checking the true positive rate or correct predictions in positive classes, which is considered as values with target \n",
        "# variable = 1. In our logisitc regression model, the value of 1 in target variable corresponds to 'no' values\n",
        "\n",
        "recall = recall_score(y_val, y_preds)\n",
        "\n",
        "recall"
      ],
      "execution_count": null,
      "outputs": [
        {
          "output_type": "execute_result",
          "data": {
            "text/plain": [
              "0.8313817330210773"
            ]
          },
          "metadata": {
            "tags": []
          },
          "execution_count": 178
        }
      ]
    },
    {
      "cell_type": "markdown",
      "metadata": {
        "id": "ghDwDG2aABmO"
      },
      "source": [
        "The prediction of values in which target variable is 'no' or 1 is 83% accurate as per logistic regression model "
      ]
    },
    {
      "cell_type": "code",
      "metadata": {
        "colab": {
          "base_uri": "https://localhost:8080/"
        },
        "id": "Dt7ifu9M-Seg",
        "outputId": "c7c3222b-3c5b-48a8-c209-e7f312f27005"
      },
      "source": [
        "f1_value = f1_score(y_val, y_preds)\n",
        "\n",
        "f1_value"
      ],
      "execution_count": null,
      "outputs": [
        {
          "output_type": "execute_result",
          "data": {
            "text/plain": [
              "0.7986501687289089"
            ]
          },
          "metadata": {
            "tags": []
          },
          "execution_count": 180
        }
      ]
    },
    {
      "cell_type": "markdown",
      "metadata": {
        "id": "g3OHmMFHAo1C"
      },
      "source": [
        "ROC - AUC Curve"
      ]
    },
    {
      "cell_type": "code",
      "metadata": {
        "colab": {
          "base_uri": "https://localhost:8080/"
        },
        "id": "9VZazKDGAmGG",
        "outputId": "4bf4cb16-331c-4e05-aec1-d16a714bef88"
      },
      "source": [
        "logistic_regression.predict_proba(X_val)"
      ],
      "execution_count": null,
      "outputs": [
        {
          "output_type": "execute_result",
          "data": {
            "text/plain": [
              "array([[0.31519815, 0.68480185],\n",
              "       [0.02234382, 0.97765618],\n",
              "       [0.06609489, 0.93390511],\n",
              "       ...,\n",
              "       [0.69353903, 0.30646097],\n",
              "       [0.15026114, 0.84973886],\n",
              "       [0.99591175, 0.00408825]])"
            ]
          },
          "metadata": {
            "tags": []
          },
          "execution_count": 181
        }
      ]
    },
    {
      "cell_type": "code",
      "metadata": {
        "id": "vCAIfIH8A92O"
      },
      "source": [
        "random_prediction = [1 for _ in range(len(y_val))]\n",
        "logistic_regression_prediction = logistic_regression.predict_proba(X_val)"
      ],
      "execution_count": null,
      "outputs": []
    },
    {
      "cell_type": "code",
      "metadata": {
        "id": "Ah4iEX6zBGGK"
      },
      "source": [
        "random_predictions_fpr, random_predictions_tpr, _ = roc_curve(y_val, random_prediction)\n",
        "logistic_regression_fpr, logistic_regression_tpr, logistic_regression_thresholds = roc_curve(\n",
        "    y_val, logistic_regression_prediction[:, 1])"
      ],
      "execution_count": null,
      "outputs": []
    },
    {
      "cell_type": "code",
      "metadata": {
        "colab": {
          "base_uri": "https://localhost:8080/"
        },
        "id": "I7_5wZ5tBgtm",
        "outputId": "408fd8e7-eda5-4914-ca03-65cda54d1ae3"
      },
      "source": [
        "logistic_regression_thresholds"
      ],
      "execution_count": null,
      "outputs": [
        {
          "output_type": "execute_result",
          "data": {
            "text/plain": [
              "array([1.99998626e+00, 9.99986262e-01, 9.57211023e-01, 9.57032279e-01,\n",
              "       9.23415591e-01, 9.23302636e-01, 9.11173116e-01, 9.10360331e-01,\n",
              "       9.09938534e-01, 9.09403394e-01, 9.04648621e-01, 9.04531030e-01,\n",
              "       8.89196254e-01, 8.88443431e-01, 8.83474504e-01, 8.83355971e-01,\n",
              "       8.74535559e-01, 8.74324588e-01, 8.64654717e-01, 8.63597178e-01,\n",
              "       8.57174315e-01, 8.56469939e-01, 8.51119873e-01, 8.50879512e-01,\n",
              "       8.49738861e-01, 8.48773233e-01, 8.47800156e-01, 8.46660826e-01,\n",
              "       8.38236303e-01, 8.36789759e-01, 8.34635555e-01, 8.34621256e-01,\n",
              "       8.32981658e-01, 8.32300124e-01, 8.27284635e-01, 8.27200462e-01,\n",
              "       8.21319270e-01, 8.21268428e-01, 8.16558352e-01, 8.16386886e-01,\n",
              "       8.10823358e-01, 8.10673025e-01, 8.09767220e-01, 8.09251697e-01,\n",
              "       8.07055126e-01, 8.06091468e-01, 8.05116830e-01, 8.04951693e-01,\n",
              "       8.03592853e-01, 8.03383001e-01, 7.89063266e-01, 7.87984650e-01,\n",
              "       7.85627214e-01, 7.85092621e-01, 7.84588567e-01, 7.83956463e-01,\n",
              "       7.82508301e-01, 7.82299574e-01, 7.79769919e-01, 7.79511790e-01,\n",
              "       7.77656746e-01, 7.75714905e-01, 7.73675155e-01, 7.73552788e-01,\n",
              "       7.72643811e-01, 7.71706629e-01, 7.67985032e-01, 7.66101883e-01,\n",
              "       7.65278594e-01, 7.65151924e-01, 7.62990133e-01, 7.61629851e-01,\n",
              "       7.60686484e-01, 7.60092052e-01, 7.48274386e-01, 7.48228668e-01,\n",
              "       7.48192392e-01, 7.47740004e-01, 7.42305515e-01, 7.42272883e-01,\n",
              "       7.41791753e-01, 7.41119996e-01, 7.38288141e-01, 7.36882736e-01,\n",
              "       7.36429224e-01, 7.36259160e-01, 7.30981542e-01, 7.30714700e-01,\n",
              "       7.28800845e-01, 7.25443884e-01, 7.25326538e-01, 7.24024269e-01,\n",
              "       7.19773518e-01, 7.18848559e-01, 7.16416255e-01, 7.15178254e-01,\n",
              "       7.14776587e-01, 7.14742216e-01, 7.12035949e-01, 7.10186579e-01,\n",
              "       7.08354212e-01, 7.08032546e-01, 7.04979689e-01, 7.00921532e-01,\n",
              "       6.98346263e-01, 6.97581323e-01, 6.96429513e-01, 6.95948104e-01,\n",
              "       6.94214083e-01, 6.93316168e-01, 6.89831366e-01, 6.88701183e-01,\n",
              "       6.88693743e-01, 6.88006669e-01, 6.87612644e-01, 6.86827759e-01,\n",
              "       6.82602449e-01, 6.77806811e-01, 6.76081852e-01, 6.75541654e-01,\n",
              "       6.75134074e-01, 6.72140485e-01, 6.67710603e-01, 6.66929347e-01,\n",
              "       6.66581269e-01, 6.64858662e-01, 6.62869229e-01, 6.60177753e-01,\n",
              "       6.60040664e-01, 6.57073838e-01, 6.51639622e-01, 6.50438581e-01,\n",
              "       6.45692366e-01, 6.45155383e-01, 6.44517262e-01, 6.44327415e-01,\n",
              "       6.42899103e-01, 6.38060696e-01, 6.35709307e-01, 6.35454506e-01,\n",
              "       6.34800084e-01, 6.32424664e-01, 6.31975935e-01, 6.30905848e-01,\n",
              "       6.27823181e-01, 6.27294755e-01, 6.26327933e-01, 6.25407455e-01,\n",
              "       6.25326321e-01, 6.25200319e-01, 6.17126482e-01, 6.16700789e-01,\n",
              "       6.15751821e-01, 6.15346400e-01, 6.15333812e-01, 6.14178264e-01,\n",
              "       6.12621928e-01, 6.12590128e-01, 6.12460138e-01, 6.12218303e-01,\n",
              "       6.11371922e-01, 6.09429177e-01, 6.06780124e-01, 6.06702943e-01,\n",
              "       6.06365037e-01, 6.05139378e-01, 6.03792666e-01, 6.02744155e-01,\n",
              "       6.02145217e-01, 6.01962308e-01, 5.96400898e-01, 5.95731122e-01,\n",
              "       5.95069429e-01, 5.94403858e-01, 5.91270504e-01, 5.91081899e-01,\n",
              "       5.88892084e-01, 5.87393414e-01, 5.86925464e-01, 5.86828694e-01,\n",
              "       5.86223817e-01, 5.86181990e-01, 5.85543635e-01, 5.83716097e-01,\n",
              "       5.82301161e-01, 5.79328575e-01, 5.78998248e-01, 5.78831693e-01,\n",
              "       5.75594668e-01, 5.73289558e-01, 5.72336658e-01, 5.70683255e-01,\n",
              "       5.70478670e-01, 5.69208104e-01, 5.67015994e-01, 5.66640107e-01,\n",
              "       5.64834670e-01, 5.63782115e-01, 5.62880491e-01, 5.62021020e-01,\n",
              "       5.60781497e-01, 5.60147868e-01, 5.59868330e-01, 5.59445750e-01,\n",
              "       5.58164169e-01, 5.57582975e-01, 5.56749997e-01, 5.56631652e-01,\n",
              "       5.55534710e-01, 5.53740190e-01, 5.52895007e-01, 5.52719460e-01,\n",
              "       5.51037208e-01, 5.50451981e-01, 5.49006570e-01, 5.47889022e-01,\n",
              "       5.47776900e-01, 5.45720420e-01, 5.45493947e-01, 5.41601983e-01,\n",
              "       5.40935734e-01, 5.39083282e-01, 5.36331071e-01, 5.36047588e-01,\n",
              "       5.34969731e-01, 5.33999926e-01, 5.33630490e-01, 5.33166911e-01,\n",
              "       5.32386750e-01, 5.31029562e-01, 5.28561182e-01, 5.23774219e-01,\n",
              "       5.21901651e-01, 5.21467251e-01, 5.20626784e-01, 5.19352211e-01,\n",
              "       5.18639848e-01, 5.15355314e-01, 5.11854516e-01, 5.09897923e-01,\n",
              "       5.08854607e-01, 5.07020737e-01, 5.06688697e-01, 5.04178254e-01,\n",
              "       5.02101797e-01, 4.99526841e-01, 4.97207057e-01, 4.93503014e-01,\n",
              "       4.91814910e-01, 4.88273218e-01, 4.86492191e-01, 4.85453899e-01,\n",
              "       4.84545705e-01, 4.82061015e-01, 4.81902597e-01, 4.80601592e-01,\n",
              "       4.79913008e-01, 4.79747200e-01, 4.77968748e-01, 4.77913342e-01,\n",
              "       4.76600355e-01, 4.76221957e-01, 4.75007172e-01, 4.74755434e-01,\n",
              "       4.74056046e-01, 4.73091503e-01, 4.72270237e-01, 4.71829554e-01,\n",
              "       4.70209690e-01, 4.68120583e-01, 4.67559324e-01, 4.67377572e-01,\n",
              "       4.66170998e-01, 4.63248699e-01, 4.59421519e-01, 4.58073181e-01,\n",
              "       4.57936063e-01, 4.57469441e-01, 4.57139901e-01, 4.53343542e-01,\n",
              "       4.51489307e-01, 4.51074660e-01, 4.50220524e-01, 4.49196505e-01,\n",
              "       4.48045274e-01, 4.45211558e-01, 4.44943323e-01, 4.44083886e-01,\n",
              "       4.43132853e-01, 4.41883218e-01, 4.41209499e-01, 4.39453850e-01,\n",
              "       4.39172744e-01, 4.37252973e-01, 4.35528574e-01, 4.34397132e-01,\n",
              "       4.34317428e-01, 4.33883826e-01, 4.33052912e-01, 4.29019459e-01,\n",
              "       4.28125466e-01, 4.27219568e-01, 4.25820225e-01, 4.24278165e-01,\n",
              "       4.24128959e-01, 4.22765786e-01, 4.22021438e-01, 4.20787869e-01,\n",
              "       4.20777123e-01, 4.18384833e-01, 4.17290353e-01, 4.14744091e-01,\n",
              "       4.13464689e-01, 4.03518010e-01, 4.02431790e-01, 4.02146609e-01,\n",
              "       4.01366804e-01, 3.99578127e-01, 3.99311324e-01, 3.98568925e-01,\n",
              "       3.97167039e-01, 3.96931578e-01, 3.96786720e-01, 3.94889695e-01,\n",
              "       3.87074835e-01, 3.86893225e-01, 3.86488797e-01, 3.78161469e-01,\n",
              "       3.77912898e-01, 3.73418941e-01, 3.73378866e-01, 3.71734538e-01,\n",
              "       3.71222199e-01, 3.68808972e-01, 3.68583813e-01, 3.65827942e-01,\n",
              "       3.64681684e-01, 3.60920270e-01, 3.60827080e-01, 3.59632732e-01,\n",
              "       3.58705370e-01, 3.56139738e-01, 3.55619549e-01, 3.52564369e-01,\n",
              "       3.52316870e-01, 3.51004869e-01, 3.50749074e-01, 3.46450413e-01,\n",
              "       3.46053056e-01, 3.43129973e-01, 3.42879896e-01, 3.38038167e-01,\n",
              "       3.38005365e-01, 3.37308891e-01, 3.36005270e-01, 3.34111503e-01,\n",
              "       3.33495546e-01, 3.29085296e-01, 3.28457831e-01, 3.28140711e-01,\n",
              "       3.27582223e-01, 3.19597684e-01, 3.18238567e-01, 3.10648198e-01,\n",
              "       3.10341906e-01, 3.07550659e-01, 3.07079240e-01, 3.05267279e-01,\n",
              "       3.03199197e-01, 3.02240315e-01, 3.01360803e-01, 3.00830570e-01,\n",
              "       3.00569556e-01, 2.98152015e-01, 2.98094678e-01, 2.95994598e-01,\n",
              "       2.95416524e-01, 2.93610087e-01, 2.92262156e-01, 2.90650185e-01,\n",
              "       2.90320482e-01, 2.90081935e-01, 2.89696271e-01, 2.86106735e-01,\n",
              "       2.85787435e-01, 2.83477672e-01, 2.79764265e-01, 2.68719611e-01,\n",
              "       2.68718903e-01, 2.68484047e-01, 2.67500196e-01, 2.62073553e-01,\n",
              "       2.61561700e-01, 2.60367086e-01, 2.59988994e-01, 2.58703958e-01,\n",
              "       2.58380161e-01, 2.49400096e-01, 2.49167375e-01, 2.41297391e-01,\n",
              "       2.40743034e-01, 2.31613982e-01, 2.29909735e-01, 2.28591262e-01,\n",
              "       2.27986293e-01, 2.08887752e-01, 2.06794989e-01, 2.00117498e-01,\n",
              "       1.98992877e-01, 1.96562865e-01, 1.96364868e-01, 1.94314652e-01,\n",
              "       1.93780565e-01, 1.83760484e-01, 1.83387530e-01, 1.79129047e-01,\n",
              "       1.78116018e-01, 1.75937548e-01, 1.75621851e-01, 1.74456692e-01,\n",
              "       1.71721709e-01, 1.71142258e-01, 1.70424173e-01, 1.67564747e-01,\n",
              "       1.66959105e-01, 1.64140963e-01, 1.64108407e-01, 1.52114773e-01,\n",
              "       1.50967362e-01, 1.41910125e-01, 1.41409025e-01, 1.39776245e-01,\n",
              "       1.37272000e-01, 1.33453127e-01, 1.32595814e-01, 8.87163901e-02,\n",
              "       8.68149262e-02, 8.46424191e-02, 8.37424849e-02, 8.27497275e-02,\n",
              "       8.25248951e-02, 7.80454333e-02, 7.72263279e-02, 7.37779792e-02,\n",
              "       7.33883774e-02, 7.12946353e-02, 6.99363854e-02, 6.74596387e-02,\n",
              "       6.69321096e-02, 6.27741713e-02, 6.25364665e-02, 5.21379188e-02,\n",
              "       5.17377504e-02, 5.00255700e-02, 4.96881722e-02, 4.34650980e-02,\n",
              "       4.16384029e-02, 4.03469711e-02, 4.00105090e-02, 3.71519030e-02,\n",
              "       3.65870623e-02, 3.62308532e-02, 3.61819988e-02, 1.88490989e-02,\n",
              "       1.88375049e-02, 1.50550269e-02, 1.47536866e-02, 5.74501120e-03,\n",
              "       5.71012267e-03, 4.91100060e-03, 4.43291711e-03, 5.63582847e-04,\n",
              "       3.83272359e-04, 2.54580953e-06])"
            ]
          },
          "metadata": {
            "tags": []
          },
          "execution_count": 184
        }
      ]
    },
    {
      "cell_type": "code",
      "metadata": {
        "id": "LODWMroABoAc"
      },
      "source": [
        "accuracy_list = []\n",
        "\n",
        "for threshold in logistic_regression_thresholds:\n",
        "    y_pred_thresh = np.where(logistic_regression_prediction[:, 1] > threshold, 1, 0)\n",
        "    \n",
        "    accuracy_list.append(accuracy_score(y_val, y_pred_thresh))"
      ],
      "execution_count": null,
      "outputs": []
    },
    {
      "cell_type": "code",
      "metadata": {
        "colab": {
          "base_uri": "https://localhost:8080/"
        },
        "id": "mtA5aWYnBzsM",
        "outputId": "0a651cc4-0d2a-4bd9-f7e7-38e38d98df25"
      },
      "source": [
        "accuracy_list"
      ],
      "execution_count": null,
      "outputs": [
        {
          "output_type": "execute_result",
          "data": {
            "text/plain": [
              "[0.49014925373134327,\n",
              " 0.49014925373134327,\n",
              " 0.5325373134328358,\n",
              " 0.533134328358209,\n",
              " 0.5808955223880597,\n",
              " 0.5814925373134329,\n",
              " 0.5964179104477612,\n",
              " 0.5970149253731343,\n",
              " 0.5982089552238806,\n",
              " 0.5988059701492537,\n",
              " 0.6029850746268657,\n",
              " 0.6035820895522388,\n",
              " 0.6250746268656716,\n",
              " 0.6256716417910447,\n",
              " 0.6274626865671642,\n",
              " 0.6280597014925373,\n",
              " 0.6459701492537313,\n",
              " 0.6465671641791044,\n",
              " 0.6567164179104478,\n",
              " 0.6573134328358209,\n",
              " 0.6626865671641791,\n",
              " 0.6632835820895523,\n",
              " 0.6704477611940298,\n",
              " 0.6710447761194029,\n",
              " 0.6716417910447762,\n",
              " 0.6722388059701493,\n",
              " 0.6740298507462686,\n",
              " 0.6746268656716418,\n",
              " 0.68,\n",
              " 0.68,\n",
              " 0.6835820895522388,\n",
              " 0.684179104477612,\n",
              " 0.6853731343283582,\n",
              " 0.6853731343283582,\n",
              " 0.6907462686567164,\n",
              " 0.6913432835820895,\n",
              " 0.6949253731343283,\n",
              " 0.6955223880597015,\n",
              " 0.6985074626865672,\n",
              " 0.6991044776119403,\n",
              " 0.7056716417910448,\n",
              " 0.7062686567164179,\n",
              " 0.7062686567164179,\n",
              " 0.706865671641791,\n",
              " 0.7080597014925373,\n",
              " 0.7086567164179104,\n",
              " 0.7086567164179104,\n",
              " 0.7092537313432836,\n",
              " 0.7104477611940299,\n",
              " 0.711044776119403,\n",
              " 0.7235820895522388,\n",
              " 0.7241791044776119,\n",
              " 0.7265671641791045,\n",
              " 0.7265671641791045,\n",
              " 0.7265671641791045,\n",
              " 0.7271641791044776,\n",
              " 0.7277611940298507,\n",
              " 0.7283582089552239,\n",
              " 0.7313432835820896,\n",
              " 0.7319402985074627,\n",
              " 0.7325373134328358,\n",
              " 0.7319402985074627,\n",
              " 0.7337313432835821,\n",
              " 0.7343283582089553,\n",
              " 0.7343283582089553,\n",
              " 0.7349253731343284,\n",
              " 0.7391044776119403,\n",
              " 0.7391044776119403,\n",
              " 0.7391044776119403,\n",
              " 0.7397014925373134,\n",
              " 0.7426865671641791,\n",
              " 0.7432835820895523,\n",
              " 0.7438805970149254,\n",
              " 0.7438805970149254,\n",
              " 0.7534328358208955,\n",
              " 0.7540298507462686,\n",
              " 0.7540298507462686,\n",
              " 0.7546268656716418,\n",
              " 0.7570149253731343,\n",
              " 0.7576119402985074,\n",
              " 0.7570149253731343,\n",
              " 0.7576119402985074,\n",
              " 0.7582089552238805,\n",
              " 0.7570149253731343,\n",
              " 0.7564179104477612,\n",
              " 0.7570149253731343,\n",
              " 0.7623880597014925,\n",
              " 0.7629850746268657,\n",
              " 0.7629850746268657,\n",
              " 0.7629850746268657,\n",
              " 0.7623880597014925,\n",
              " 0.7623880597014925,\n",
              " 0.7677611940298508,\n",
              " 0.7683582089552239,\n",
              " 0.7695522388059701,\n",
              " 0.768955223880597,\n",
              " 0.7683582089552239,\n",
              " 0.768955223880597,\n",
              " 0.7707462686567165,\n",
              " 0.7701492537313432,\n",
              " 0.7713432835820896,\n",
              " 0.7719402985074627,\n",
              " 0.7719402985074627,\n",
              " 0.768955223880597,\n",
              " 0.768955223880597,\n",
              " 0.7695522388059701,\n",
              " 0.768955223880597,\n",
              " 0.7695522388059701,\n",
              " 0.7701492537313432,\n",
              " 0.7707462686567165,\n",
              " 0.7743283582089552,\n",
              " 0.7749253731343284,\n",
              " 0.7743283582089552,\n",
              " 0.7743283582089552,\n",
              " 0.7737313432835821,\n",
              " 0.7725373134328358,\n",
              " 0.7749253731343284,\n",
              " 0.7755223880597015,\n",
              " 0.7761194029850746,\n",
              " 0.7761194029850746,\n",
              " 0.7761194029850746,\n",
              " 0.7761194029850746,\n",
              " 0.7785074626865671,\n",
              " 0.7785074626865671,\n",
              " 0.777910447761194,\n",
              " 0.7785074626865671,\n",
              " 0.7797014925373135,\n",
              " 0.7791044776119403,\n",
              " 0.7785074626865671,\n",
              " 0.7785074626865671,\n",
              " 0.7832835820895523,\n",
              " 0.7820895522388059,\n",
              " 0.7844776119402985,\n",
              " 0.7850746268656716,\n",
              " 0.7850746268656716,\n",
              " 0.7856716417910448,\n",
              " 0.7862686567164179,\n",
              " 0.7826865671641791,\n",
              " 0.7838805970149254,\n",
              " 0.7844776119402985,\n",
              " 0.7844776119402985,\n",
              " 0.7844776119402985,\n",
              " 0.7838805970149254,\n",
              " 0.7838805970149254,\n",
              " 0.7844776119402985,\n",
              " 0.7850746268656716,\n",
              " 0.7844776119402985,\n",
              " 0.7844776119402985,\n",
              " 0.7838805970149254,\n",
              " 0.7844776119402985,\n",
              " 0.7886567164179105,\n",
              " 0.7892537313432836,\n",
              " 0.7886567164179105,\n",
              " 0.7892537313432836,\n",
              " 0.7886567164179105,\n",
              " 0.7880597014925373,\n",
              " 0.7880597014925373,\n",
              " 0.7886567164179105,\n",
              " 0.7880597014925373,\n",
              " 0.7886567164179105,\n",
              " 0.7892537313432836,\n",
              " 0.7898507462686567,\n",
              " 0.7898507462686567,\n",
              " 0.7898507462686567,\n",
              " 0.7892537313432836,\n",
              " 0.7898507462686567,\n",
              " 0.7910447761194029,\n",
              " 0.7910447761194029,\n",
              " 0.7904477611940298,\n",
              " 0.7910447761194029,\n",
              " 0.7934328358208955,\n",
              " 0.7940298507462686,\n",
              " 0.7934328358208955,\n",
              " 0.7934328358208955,\n",
              " 0.7952238805970149,\n",
              " 0.7958208955223881,\n",
              " 0.7964179104477612,\n",
              " 0.7970149253731343,\n",
              " 0.7970149253731343,\n",
              " 0.7976119402985075,\n",
              " 0.7970149253731343,\n",
              " 0.7976119402985075,\n",
              " 0.7970149253731343,\n",
              " 0.7958208955223881,\n",
              " 0.7958208955223881,\n",
              " 0.7940298507462686,\n",
              " 0.7940298507462686,\n",
              " 0.7946268656716418,\n",
              " 0.7952238805970149,\n",
              " 0.7952238805970149,\n",
              " 0.7952238805970149,\n",
              " 0.7958208955223881,\n",
              " 0.7952238805970149,\n",
              " 0.7958208955223881,\n",
              " 0.7952238805970149,\n",
              " 0.7946268656716418,\n",
              " 0.7946268656716418,\n",
              " 0.7952238805970149,\n",
              " 0.7946268656716418,\n",
              " 0.7940298507462686,\n",
              " 0.7940298507462686,\n",
              " 0.7940298507462686,\n",
              " 0.7934328358208955,\n",
              " 0.7940298507462686,\n",
              " 0.7934328358208955,\n",
              " 0.7934328358208955,\n",
              " 0.7928358208955224,\n",
              " 0.7934328358208955,\n",
              " 0.7928358208955224,\n",
              " 0.7922388059701493,\n",
              " 0.7922388059701493,\n",
              " 0.7928358208955224,\n",
              " 0.7922388059701493,\n",
              " 0.7922388059701493,\n",
              " 0.7916417910447762,\n",
              " 0.7922388059701493,\n",
              " 0.7916417910447762,\n",
              " 0.7910447761194029,\n",
              " 0.7904477611940298,\n",
              " 0.7886567164179105,\n",
              " 0.7880597014925373,\n",
              " 0.7886567164179105,\n",
              " 0.7904477611940298,\n",
              " 0.7910447761194029,\n",
              " 0.7904477611940298,\n",
              " 0.7898507462686567,\n",
              " 0.7898507462686567,\n",
              " 0.7898507462686567,\n",
              " 0.7892537313432836,\n",
              " 0.7886567164179105,\n",
              " 0.7880597014925373,\n",
              " 0.7880597014925373,\n",
              " 0.7898507462686567,\n",
              " 0.7904477611940298,\n",
              " 0.7904477611940298,\n",
              " 0.7910447761194029,\n",
              " 0.7904477611940298,\n",
              " 0.786865671641791,\n",
              " 0.7880597014925373,\n",
              " 0.7880597014925373,\n",
              " 0.7880597014925373,\n",
              " 0.7874626865671642,\n",
              " 0.786865671641791,\n",
              " 0.7850746268656716,\n",
              " 0.7856716417910448,\n",
              " 0.7856716417910448,\n",
              " 0.7856716417910448,\n",
              " 0.7838805970149254,\n",
              " 0.7838805970149254,\n",
              " 0.7844776119402985,\n",
              " 0.7844776119402985,\n",
              " 0.7844776119402985,\n",
              " 0.7838805970149254,\n",
              " 0.7832835820895523,\n",
              " 0.7826865671641791,\n",
              " 0.7820895522388059,\n",
              " 0.7814925373134328,\n",
              " 0.7814925373134328,\n",
              " 0.7808955223880597,\n",
              " 0.7814925373134328,\n",
              " 0.7808955223880597,\n",
              " 0.7808955223880597,\n",
              " 0.7802985074626866,\n",
              " 0.7808955223880597,\n",
              " 0.7802985074626866,\n",
              " 0.7802985074626866,\n",
              " 0.7797014925373135,\n",
              " 0.7802985074626866,\n",
              " 0.7808955223880597,\n",
              " 0.7791044776119403,\n",
              " 0.7785074626865671,\n",
              " 0.7791044776119403,\n",
              " 0.7791044776119403,\n",
              " 0.777910447761194,\n",
              " 0.7785074626865671,\n",
              " 0.7785074626865671,\n",
              " 0.777910447761194,\n",
              " 0.7785074626865671,\n",
              " 0.7785074626865671,\n",
              " 0.777910447761194,\n",
              " 0.7791044776119403,\n",
              " 0.7797014925373135,\n",
              " 0.7791044776119403,\n",
              " 0.7773134328358209,\n",
              " 0.7767164179104478,\n",
              " 0.7773134328358209,\n",
              " 0.7767164179104478,\n",
              " 0.7767164179104478,\n",
              " 0.7767164179104478,\n",
              " 0.7767164179104478,\n",
              " 0.7767164179104478,\n",
              " 0.7755223880597015,\n",
              " 0.7755223880597015,\n",
              " 0.7749253731343284,\n",
              " 0.7749253731343284,\n",
              " 0.7749253731343284,\n",
              " 0.7743283582089552,\n",
              " 0.7749253731343284,\n",
              " 0.7743283582089552,\n",
              " 0.7713432835820896,\n",
              " 0.7707462686567165,\n",
              " 0.7707462686567165,\n",
              " 0.7707462686567165,\n",
              " 0.7713432835820896,\n",
              " 0.7707462686567165,\n",
              " 0.7701492537313432,\n",
              " 0.7695522388059701,\n",
              " 0.7695522388059701,\n",
              " 0.768955223880597,\n",
              " 0.7695522388059701,\n",
              " 0.7695522388059701,\n",
              " 0.7677611940298508,\n",
              " 0.7671641791044777,\n",
              " 0.7623880597014925,\n",
              " 0.7617910447761194,\n",
              " 0.7623880597014925,\n",
              " 0.7617910447761194,\n",
              " 0.7617910447761194,\n",
              " 0.7611940298507462,\n",
              " 0.7617910447761194,\n",
              " 0.7617910447761194,\n",
              " 0.7623880597014925,\n",
              " 0.7617910447761194,\n",
              " 0.7605970149253731,\n",
              " 0.7605970149253731,\n",
              " 0.7611940298507462,\n",
              " 0.7605970149253731,\n",
              " 0.7546268656716418,\n",
              " 0.7540298507462686,\n",
              " 0.751044776119403,\n",
              " 0.7504477611940299,\n",
              " 0.7498507462686567,\n",
              " 0.7492537313432835,\n",
              " 0.7486567164179104,\n",
              " 0.7486567164179104,\n",
              " 0.7444776119402985,\n",
              " 0.7438805970149254,\n",
              " 0.7432835820895523,\n",
              " 0.7426865671641791,\n",
              " 0.7426865671641791,\n",
              " 0.7426865671641791,\n",
              " 0.742089552238806,\n",
              " 0.7414925373134328,\n",
              " 0.7402985074626866,\n",
              " 0.7397014925373134,\n",
              " 0.7397014925373134,\n",
              " 0.7391044776119403,\n",
              " 0.7391044776119403,\n",
              " 0.7385074626865672,\n",
              " 0.7373134328358208,\n",
              " 0.7367164179104477,\n",
              " 0.7355223880597015,\n",
              " 0.7349253731343284,\n",
              " 0.7355223880597015,\n",
              " 0.7349253731343284,\n",
              " 0.7337313432835821,\n",
              " 0.7331343283582089,\n",
              " 0.7301492537313433,\n",
              " 0.7301492537313433,\n",
              " 0.7307462686567164,\n",
              " 0.7301492537313433,\n",
              " 0.7265671641791045,\n",
              " 0.7259701492537314,\n",
              " 0.7211940298507463,\n",
              " 0.7205970149253731,\n",
              " 0.7188059701492537,\n",
              " 0.7182089552238806,\n",
              " 0.7176119402985075,\n",
              " 0.7170149253731344,\n",
              " 0.7164179104477612,\n",
              " 0.715820895522388,\n",
              " 0.715820895522388,\n",
              " 0.7152238805970149,\n",
              " 0.7146268656716418,\n",
              " 0.7140298507462687,\n",
              " 0.7116417910447761,\n",
              " 0.7116417910447761,\n",
              " 0.711044776119403,\n",
              " 0.711044776119403,\n",
              " 0.711044776119403,\n",
              " 0.7104477611940299,\n",
              " 0.711044776119403,\n",
              " 0.7104477611940299,\n",
              " 0.7104477611940299,\n",
              " 0.7098507462686567,\n",
              " 0.7086567164179104,\n",
              " 0.7086567164179104,\n",
              " 0.702089552238806,\n",
              " 0.7014925373134329,\n",
              " 0.702089552238806,\n",
              " 0.7014925373134329,\n",
              " 0.6991044776119403,\n",
              " 0.6985074626865672,\n",
              " 0.697910447761194,\n",
              " 0.6973134328358209,\n",
              " 0.6973134328358209,\n",
              " 0.6967164179104478,\n",
              " 0.6925373134328359,\n",
              " 0.6919402985074626,\n",
              " 0.6883582089552239,\n",
              " 0.6877611940298507,\n",
              " 0.6811940298507463,\n",
              " 0.6811940298507463,\n",
              " 0.6794029850746268,\n",
              " 0.6788059701492537,\n",
              " 0.6680597014925374,\n",
              " 0.6680597014925374,\n",
              " 0.6638805970149254,\n",
              " 0.6632835820895523,\n",
              " 0.6632835820895523,\n",
              " 0.6626865671641791,\n",
              " 0.6608955223880597,\n",
              " 0.6602985074626866,\n",
              " 0.657910447761194,\n",
              " 0.6573134328358209,\n",
              " 0.653134328358209,\n",
              " 0.6525373134328358,\n",
              " 0.653134328358209,\n",
              " 0.6525373134328358,\n",
              " 0.6525373134328358,\n",
              " 0.6519402985074627,\n",
              " 0.6525373134328358,\n",
              " 0.6519402985074627,\n",
              " 0.6507462686567164,\n",
              " 0.6501492537313432,\n",
              " 0.644179104477612,\n",
              " 0.6435820895522388,\n",
              " 0.6358208955223881,\n",
              " 0.635223880597015,\n",
              " 0.6292537313432836,\n",
              " 0.6286567164179104,\n",
              " 0.6274626865671642,\n",
              " 0.6274626865671642,\n",
              " 0.6256716417910447,\n",
              " 0.6250746268656716,\n",
              " 0.5928358208955223,\n",
              " 0.5922388059701492,\n",
              " 0.5916417910447761,\n",
              " 0.591044776119403,\n",
              " 0.5904477611940299,\n",
              " 0.5898507462686567,\n",
              " 0.5856716417910448,\n",
              " 0.5850746268656717,\n",
              " 0.5826865671641791,\n",
              " 0.582089552238806,\n",
              " 0.5808955223880597,\n",
              " 0.5802985074626865,\n",
              " 0.5767164179104478,\n",
              " 0.5767164179104478,\n",
              " 0.5755223880597015,\n",
              " 0.5749253731343283,\n",
              " 0.5677611940298507,\n",
              " 0.5671641791044776,\n",
              " 0.5671641791044776,\n",
              " 0.5665671641791045,\n",
              " 0.5605970149253732,\n",
              " 0.56,\n",
              " 0.5570149253731344,\n",
              " 0.5564179104477612,\n",
              " 0.5546268656716418,\n",
              " 0.5540298507462686,\n",
              " 0.5546268656716418,\n",
              " 0.5540298507462686,\n",
              " 0.5367164179104478,\n",
              " 0.5361194029850747,\n",
              " 0.5313432835820896,\n",
              " 0.5307462686567164,\n",
              " 0.5229850746268657,\n",
              " 0.5223880597014925,\n",
              " 0.5229850746268657,\n",
              " 0.5223880597014925,\n",
              " 0.5122388059701493,\n",
              " 0.5116417910447761,\n",
              " 0.5104477611940299]"
            ]
          },
          "metadata": {
            "tags": []
          },
          "execution_count": 186
        }
      ]
    },
    {
      "cell_type": "code",
      "metadata": {
        "id": "b0kQ-IHNCApy"
      },
      "source": [
        "accuracy_thresh_df = pd.concat([pd.Series(logistic_regression_thresholds), pd.Series(accuracy_list)], axis=1)\n",
        "accuracy_thresh_df.columns=['Thresholds', 'Accuracy']\n",
        "accuracy_thresh_df.sort_values(by='Accuracy', ascending=False, inplace=True)"
      ],
      "execution_count": null,
      "outputs": []
    },
    {
      "cell_type": "code",
      "metadata": {
        "colab": {
          "base_uri": "https://localhost:8080/",
          "height": 204
        },
        "id": "foL5EJzOCJRR",
        "outputId": "9d3aa3b1-8de9-4e3f-da92-7784ae7658c9"
      },
      "source": [
        "accuracy_thresh_df.head()"
      ],
      "execution_count": null,
      "outputs": [
        {
          "output_type": "execute_result",
          "data": {
            "text/html": [
              "<div>\n",
              "<style scoped>\n",
              "    .dataframe tbody tr th:only-of-type {\n",
              "        vertical-align: middle;\n",
              "    }\n",
              "\n",
              "    .dataframe tbody tr th {\n",
              "        vertical-align: top;\n",
              "    }\n",
              "\n",
              "    .dataframe thead th {\n",
              "        text-align: right;\n",
              "    }\n",
              "</style>\n",
              "<table border=\"1\" class=\"dataframe\">\n",
              "  <thead>\n",
              "    <tr style=\"text-align: right;\">\n",
              "      <th></th>\n",
              "      <th>Thresholds</th>\n",
              "      <th>Accuracy</th>\n",
              "    </tr>\n",
              "  </thead>\n",
              "  <tbody>\n",
              "    <tr>\n",
              "      <th>181</th>\n",
              "      <td>0.586182</td>\n",
              "      <td>0.797612</td>\n",
              "    </tr>\n",
              "    <tr>\n",
              "      <th>179</th>\n",
              "      <td>0.586829</td>\n",
              "      <td>0.797612</td>\n",
              "    </tr>\n",
              "    <tr>\n",
              "      <th>180</th>\n",
              "      <td>0.586224</td>\n",
              "      <td>0.797015</td>\n",
              "    </tr>\n",
              "    <tr>\n",
              "      <th>178</th>\n",
              "      <td>0.586925</td>\n",
              "      <td>0.797015</td>\n",
              "    </tr>\n",
              "    <tr>\n",
              "      <th>177</th>\n",
              "      <td>0.587393</td>\n",
              "      <td>0.797015</td>\n",
              "    </tr>\n",
              "  </tbody>\n",
              "</table>\n",
              "</div>"
            ],
            "text/plain": [
              "     Thresholds  Accuracy\n",
              "181    0.586182  0.797612\n",
              "179    0.586829  0.797612\n",
              "180    0.586224  0.797015\n",
              "178    0.586925  0.797015\n",
              "177    0.587393  0.797015"
            ]
          },
          "metadata": {
            "tags": []
          },
          "execution_count": 188
        }
      ]
    },
    {
      "cell_type": "code",
      "metadata": {
        "colab": {
          "base_uri": "https://localhost:8080/",
          "height": 621
        },
        "id": "QYV2bVC6CUwZ",
        "outputId": "dbe22036-6c4e-4151-eaf9-517cc683cc5a"
      },
      "source": [
        "# plotting the ROC-AUC Curve\n",
        "\n",
        "plt.figure(figsize=(10, 10))\n",
        "\n",
        "plt.plot(random_predictions_fpr, random_predictions_tpr, linestyle='--', label=\"Random Predictions\", color='darkblue')\n",
        "plt.plot(logistic_regression_fpr, logistic_regression_tpr, marker='.', label=\"Logistic Regression\", color='orange')\n",
        "\n",
        "plt.xlabel('False Positive Rate')\n",
        "plt.ylabel('True Positive Rate')\n",
        "\n",
        "plt.title(\"ROC - AUC Curve\")\n",
        "\n",
        "plt.show()"
      ],
      "execution_count": null,
      "outputs": [
        {
          "output_type": "display_data",
          "data": {
            "image/png": "[encoded data removed]",
            "text/plain": [
              "<Figure size 720x720 with 1 Axes>"
            ]
          },
          "metadata": {
            "tags": [],
            "needs_background": "light"
          }
        }
      ]
    },
    {
      "cell_type": "code",
      "metadata": {
        "id": "_MXag7vjCg38"
      },
      "source": [
        "random_auc = roc_auc_score(y_val, random_prediction)\n",
        "logistic_regression_auc = roc_auc_score(y_val, logistic_regression_prediction[:, 1])"
      ],
      "execution_count": null,
      "outputs": []
    },
    {
      "cell_type": "code",
      "metadata": {
        "colab": {
          "base_uri": "https://localhost:8080/"
        },
        "id": "l_Qv-v7yCqoT",
        "outputId": "6e4d051a-3261-4abc-b7af-f0fdb6c51e1f"
      },
      "source": [
        "random_auc \n"
      ],
      "execution_count": null,
      "outputs": [
        {
          "output_type": "execute_result",
          "data": {
            "text/plain": [
              "0.5"
            ]
          },
          "metadata": {
            "tags": []
          },
          "execution_count": 192
        }
      ]
    },
    {
      "cell_type": "code",
      "metadata": {
        "colab": {
          "base_uri": "https://localhost:8080/"
        },
        "id": "XCSxUam-DAOm",
        "outputId": "66218214-1a4f-4078-db55-38110d2e8b5b"
      },
      "source": [
        "logistic_regression_auc"
      ],
      "execution_count": null,
      "outputs": [
        {
          "output_type": "execute_result",
          "data": {
            "text/plain": [
              "0.8725208020150215"
            ]
          },
          "metadata": {
            "tags": []
          },
          "execution_count": 193
        }
      ]
    },
    {
      "cell_type": "markdown",
      "metadata": {
        "id": "5ZSQkwtrD45l"
      },
      "source": [
        "Since, the area under the curve is 0.87, the logistic regression model is okay, but not perfect as perfect AUC is close to 1. Since the random guessing classifier AUC value is around 0.5, it shows that there are no serious issues with the model or dataset. However, the AUc of model can be increased from the value of 0.87. We had observed earlier that all the numerical independent variables in our dataframe has outliers and it is one of the assumptions of logistic regression model that it is extremely sensitive to outliers that can be removed or substituted by mean or median values depending upon the nature of distribution of data in each of the independent numeric variables in bank_data dataframe. This approach can improve predictions of logistic regression model. "
      ]
    }
  ]
}