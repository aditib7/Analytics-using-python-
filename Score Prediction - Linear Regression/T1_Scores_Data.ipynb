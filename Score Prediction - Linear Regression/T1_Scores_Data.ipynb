{
  "nbformat": 4,
  "nbformat_minor": 0,
  "metadata": {
    "colab": {
      "name": "T1_Scores_Data.ipynb",
      "provenance": []
    },
    "kernelspec": {
      "name": "python3",
      "display_name": "Python 3"
    },
    "language_info": {
      "name": "python"
    }
  },
  "cells": [
    {
      "cell_type": "markdown",
      "metadata": {
        "id": "DlVGFM2bAG_4"
      },
      "source": [
        "Objective of this task:\n",
        "\n",
        "---\n",
        "\n",
        "Predict the percentage of a student based on the number of study hours as per the information in the given dataset. "
      ]
    },
    {
      "cell_type": "code",
      "metadata": {
        "id": "8WTIMHJQAjWj"
      },
      "source": [
        "import pandas as pd\n",
        "\n",
        "import numpy as np"
      ],
      "execution_count": 1,
      "outputs": []
    },
    {
      "cell_type": "code",
      "metadata": {
        "id": "Vn0qyiFd49Le"
      },
      "source": [
        "file_url = 'https://raw.githubusercontent.com/AdiPersonalWorks/Random/master/student_scores%20-%20student_scores.csv'\n"
      ],
      "execution_count": 2,
      "outputs": []
    },
    {
      "cell_type": "code",
      "metadata": {
        "id": "AMHtRr4j4xKU"
      },
      "source": [
        "data = pd.read_csv(file_url, sep = ',', header = 0)"
      ],
      "execution_count": 3,
      "outputs": []
    },
    {
      "cell_type": "code",
      "metadata": {
        "colab": {
          "base_uri": "https://localhost:8080/",
          "height": 206
        },
        "id": "K5f9pahB7nx_",
        "outputId": "b83d6050-ef50-4326-aab5-508a41a72b9c"
      },
      "source": [
        "# reading the file\n",
        "\n",
        "data.head()"
      ],
      "execution_count": 4,
      "outputs": [
        {
          "output_type": "execute_result",
          "data": {
            "text/html": [
              "<div>\n",
              "<style scoped>\n",
              "    .dataframe tbody tr th:only-of-type {\n",
              "        vertical-align: middle;\n",
              "    }\n",
              "\n",
              "    .dataframe tbody tr th {\n",
              "        vertical-align: top;\n",
              "    }\n",
              "\n",
              "    .dataframe thead th {\n",
              "        text-align: right;\n",
              "    }\n",
              "</style>\n",
              "<table border=\"1\" class=\"dataframe\">\n",
              "  <thead>\n",
              "    <tr style=\"text-align: right;\">\n",
              "      <th></th>\n",
              "      <th>Hours</th>\n",
              "      <th>Scores</th>\n",
              "    </tr>\n",
              "  </thead>\n",
              "  <tbody>\n",
              "    <tr>\n",
              "      <th>0</th>\n",
              "      <td>2.5</td>\n",
              "      <td>21</td>\n",
              "    </tr>\n",
              "    <tr>\n",
              "      <th>1</th>\n",
              "      <td>5.1</td>\n",
              "      <td>47</td>\n",
              "    </tr>\n",
              "    <tr>\n",
              "      <th>2</th>\n",
              "      <td>3.2</td>\n",
              "      <td>27</td>\n",
              "    </tr>\n",
              "    <tr>\n",
              "      <th>3</th>\n",
              "      <td>8.5</td>\n",
              "      <td>75</td>\n",
              "    </tr>\n",
              "    <tr>\n",
              "      <th>4</th>\n",
              "      <td>3.5</td>\n",
              "      <td>30</td>\n",
              "    </tr>\n",
              "  </tbody>\n",
              "</table>\n",
              "</div>"
            ],
            "text/plain": [
              "   Hours  Scores\n",
              "0    2.5      21\n",
              "1    5.1      47\n",
              "2    3.2      27\n",
              "3    8.5      75\n",
              "4    3.5      30"
            ]
          },
          "metadata": {},
          "execution_count": 4
        }
      ]
    },
    {
      "cell_type": "code",
      "metadata": {
        "colab": {
          "base_uri": "https://localhost:8080/"
        },
        "id": "qhAykMMJ7v_0",
        "outputId": "36db8c2e-81c7-4825-bd73-233c04e61fd9"
      },
      "source": [
        "data.shape"
      ],
      "execution_count": 5,
      "outputs": [
        {
          "output_type": "execute_result",
          "data": {
            "text/plain": [
              "(25, 2)"
            ]
          },
          "metadata": {},
          "execution_count": 5
        }
      ]
    },
    {
      "cell_type": "code",
      "metadata": {
        "colab": {
          "base_uri": "https://localhost:8080/"
        },
        "id": "h9L7e_oY73UJ",
        "outputId": "389ce302-5ad4-4e9d-93e3-f85581529891"
      },
      "source": [
        "# checking the number of unique values in first column \n",
        "\n",
        "len(data['Hours'].unique())"
      ],
      "execution_count": 6,
      "outputs": [
        {
          "output_type": "execute_result",
          "data": {
            "text/plain": [
              "23"
            ]
          },
          "metadata": {},
          "execution_count": 6
        }
      ]
    },
    {
      "cell_type": "code",
      "metadata": {
        "colab": {
          "base_uri": "https://localhost:8080/"
        },
        "id": "yB6oF5pg9o2u",
        "outputId": "772a1cec-40c4-4c65-932d-f0c6af2ea852"
      },
      "source": [
        "# checking the number of unique values in second column\n",
        "\n",
        "len(data['Scores'].unique())"
      ],
      "execution_count": 7,
      "outputs": [
        {
          "output_type": "execute_result",
          "data": {
            "text/plain": [
              "23"
            ]
          },
          "metadata": {},
          "execution_count": 7
        }
      ]
    },
    {
      "cell_type": "code",
      "metadata": {
        "colab": {
          "base_uri": "https://localhost:8080/"
        },
        "id": "cO6mFYOp-D9V",
        "outputId": "f69e65b8-571d-4bd0-b97b-572b8d85792f"
      },
      "source": [
        "data.info()"
      ],
      "execution_count": 8,
      "outputs": [
        {
          "output_type": "stream",
          "name": "stdout",
          "text": [
            "<class 'pandas.core.frame.DataFrame'>\n",
            "RangeIndex: 25 entries, 0 to 24\n",
            "Data columns (total 2 columns):\n",
            " #   Column  Non-Null Count  Dtype  \n",
            "---  ------  --------------  -----  \n",
            " 0   Hours   25 non-null     float64\n",
            " 1   Scores  25 non-null     int64  \n",
            "dtypes: float64(1), int64(1)\n",
            "memory usage: 528.0 bytes\n"
          ]
        }
      ]
    },
    {
      "cell_type": "code",
      "metadata": {
        "colab": {
          "base_uri": "https://localhost:8080/",
          "height": 300
        },
        "id": "3H11RqXq-cDw",
        "outputId": "13106f88-4658-4b11-be53-820783cadd99"
      },
      "source": [
        "data.describe()"
      ],
      "execution_count": 9,
      "outputs": [
        {
          "output_type": "execute_result",
          "data": {
            "text/html": [
              "<div>\n",
              "<style scoped>\n",
              "    .dataframe tbody tr th:only-of-type {\n",
              "        vertical-align: middle;\n",
              "    }\n",
              "\n",
              "    .dataframe tbody tr th {\n",
              "        vertical-align: top;\n",
              "    }\n",
              "\n",
              "    .dataframe thead th {\n",
              "        text-align: right;\n",
              "    }\n",
              "</style>\n",
              "<table border=\"1\" class=\"dataframe\">\n",
              "  <thead>\n",
              "    <tr style=\"text-align: right;\">\n",
              "      <th></th>\n",
              "      <th>Hours</th>\n",
              "      <th>Scores</th>\n",
              "    </tr>\n",
              "  </thead>\n",
              "  <tbody>\n",
              "    <tr>\n",
              "      <th>count</th>\n",
              "      <td>25.000000</td>\n",
              "      <td>25.000000</td>\n",
              "    </tr>\n",
              "    <tr>\n",
              "      <th>mean</th>\n",
              "      <td>5.012000</td>\n",
              "      <td>51.480000</td>\n",
              "    </tr>\n",
              "    <tr>\n",
              "      <th>std</th>\n",
              "      <td>2.525094</td>\n",
              "      <td>25.286887</td>\n",
              "    </tr>\n",
              "    <tr>\n",
              "      <th>min</th>\n",
              "      <td>1.100000</td>\n",
              "      <td>17.000000</td>\n",
              "    </tr>\n",
              "    <tr>\n",
              "      <th>25%</th>\n",
              "      <td>2.700000</td>\n",
              "      <td>30.000000</td>\n",
              "    </tr>\n",
              "    <tr>\n",
              "      <th>50%</th>\n",
              "      <td>4.800000</td>\n",
              "      <td>47.000000</td>\n",
              "    </tr>\n",
              "    <tr>\n",
              "      <th>75%</th>\n",
              "      <td>7.400000</td>\n",
              "      <td>75.000000</td>\n",
              "    </tr>\n",
              "    <tr>\n",
              "      <th>max</th>\n",
              "      <td>9.200000</td>\n",
              "      <td>95.000000</td>\n",
              "    </tr>\n",
              "  </tbody>\n",
              "</table>\n",
              "</div>"
            ],
            "text/plain": [
              "           Hours     Scores\n",
              "count  25.000000  25.000000\n",
              "mean    5.012000  51.480000\n",
              "std     2.525094  25.286887\n",
              "min     1.100000  17.000000\n",
              "25%     2.700000  30.000000\n",
              "50%     4.800000  47.000000\n",
              "75%     7.400000  75.000000\n",
              "max     9.200000  95.000000"
            ]
          },
          "metadata": {},
          "execution_count": 9
        }
      ]
    },
    {
      "cell_type": "markdown",
      "metadata": {
        "id": "Npgx49FQ-0X5"
      },
      "source": [
        "The statistical summary of dataset above shows that data in each of the columns in the given dataset do not follow Gaussian distribution. "
      ]
    },
    {
      "cell_type": "code",
      "metadata": {
        "id": "nBaCLA7z_OKf"
      },
      "source": [
        "# importing necessary packages for visualization of data \n",
        "\n",
        "import seaborn as sns\n",
        "import matplotlib.pyplot as plt\n"
      ],
      "execution_count": 10,
      "outputs": []
    },
    {
      "cell_type": "code",
      "metadata": {
        "id": "mRkTeTelB25d",
        "colab": {
          "base_uri": "https://localhost:8080/",
          "height": 351
        },
        "outputId": "40d9cac7-5fe0-49e7-c3e4-7d0c773ce3d8"
      },
      "source": [
        "sns.distplot(data['Hours'])"
      ],
      "execution_count": 11,
      "outputs": [
        {
          "output_type": "stream",
          "name": "stderr",
          "text": [
            "/usr/local/lib/python3.7/dist-packages/seaborn/distributions.py:2619: FutureWarning: `distplot` is a deprecated function and will be removed in a future version. Please adapt your code to use either `displot` (a figure-level function with similar flexibility) or `histplot` (an axes-level function for histograms).\n",
            "  warnings.warn(msg, FutureWarning)\n"
          ]
        },
        {
          "output_type": "execute_result",
          "data": {
            "text/plain": [
              "<matplotlib.axes._subplots.AxesSubplot at 0x7f7f0de41650>"
            ]
          },
          "metadata": {},
          "execution_count": 11
        },
        {
          "output_type": "display_data",
          "data": {
            "image/png": "[encoded data removed]",
            "text/plain": [
              "<Figure size 432x288 with 1 Axes>"
            ]
          },
          "metadata": {
            "needs_background": "light"
          }
        }
      ]
    },
    {
      "cell_type": "code",
      "metadata": {
        "colab": {
          "base_uri": "https://localhost:8080/",
          "height": 351
        },
        "id": "TTiR8LopV4qX",
        "outputId": "6955b11a-4e22-4420-d93f-5f3f95d0b7c2"
      },
      "source": [
        "sns.distplot(data['Scores'])"
      ],
      "execution_count": 12,
      "outputs": [
        {
          "output_type": "stream",
          "name": "stderr",
          "text": [
            "/usr/local/lib/python3.7/dist-packages/seaborn/distributions.py:2619: FutureWarning: `distplot` is a deprecated function and will be removed in a future version. Please adapt your code to use either `displot` (a figure-level function with similar flexibility) or `histplot` (an axes-level function for histograms).\n",
            "  warnings.warn(msg, FutureWarning)\n"
          ]
        },
        {
          "output_type": "execute_result",
          "data": {
            "text/plain": [
              "<matplotlib.axes._subplots.AxesSubplot at 0x7f7f0aaa3510>"
            ]
          },
          "metadata": {},
          "execution_count": 12
        },
        {
          "output_type": "display_data",
          "data": {
            "image/png": "[encoded data removed]",
            "text/plain": [
              "<Figure size 432x288 with 1 Axes>"
            ]
          },
          "metadata": {
            "needs_background": "light"
          }
        }
      ]
    },
    {
      "cell_type": "markdown",
      "metadata": {
        "id": "a6KLnvNc1qQj"
      },
      "source": [
        "Assumptions:\n",
        "\n",
        "---\n",
        "\n",
        "In this problem, we have to predict the percentage obtained by the student.However, the values in 'Scores' column fall in the range between 17 and 95. It can be assumed that total marks are 100 or score values themselves represent percentage out of the total 100 percent in this particular problem.  \n"
      ]
    },
    {
      "cell_type": "code",
      "metadata": {
        "id": "KGAdeHmuxQPk",
        "colab": {
          "base_uri": "https://localhost:8080/",
          "height": 297
        },
        "outputId": "f3b27540-8ed2-498d-bfcb-aaf5b02778ea"
      },
      "source": [
        "# making a regression plot to visualize and check the linear relation between feature and label in the dataframe as it is clear that in the given \n",
        "# problem, the objective is to predict score of a student based on the number of hours studied. So, 'Hours' is the feature\n",
        "# and 'Scores' is the label. The label i.e.; 'Scores' will be plotted on the y-axis and feature i.e.; 'Hours' will be plotted on the x-axis.\n",
        "\n",
        "sns.regplot(x = 'Hours', y = 'Scores', data = data)\n"
      ],
      "execution_count": 13,
      "outputs": [
        {
          "output_type": "execute_result",
          "data": {
            "text/plain": [
              "<matplotlib.axes._subplots.AxesSubplot at 0x7f7f0a5ea6d0>"
            ]
          },
          "metadata": {},
          "execution_count": 13
        },
        {
          "output_type": "display_data",
          "data": {
            "image/png": "[encoded data removed]",
            "text/plain": [
              "<Figure size 432x288 with 1 Axes>"
            ]
          },
          "metadata": {
            "needs_background": "light"
          }
        }
      ]
    },
    {
      "cell_type": "markdown",
      "metadata": {
        "id": "P5h_lRVU38vD"
      },
      "source": [
        "Inference:\n",
        "\n",
        "Above plot depicts a strong positive linear relation between the feature and the label. Hence, the visualisation of given data shows that it is not required to transform the given dataset before application of the linear regression algorithm for making predictions. \n",
        "\n",
        "In addition to the visualisation of linear relation using the regression plot, correlation coefficient can also be checked to quantify the strength of the linear relation. "
      ]
    },
    {
      "cell_type": "code",
      "metadata": {
        "id": "Jt2fFnyfB-58"
      },
      "source": [
        "# checking the coorelation between feature and label in the given dataset\n",
        "\n",
        "corr_data = data.corr()"
      ],
      "execution_count": 14,
      "outputs": []
    },
    {
      "cell_type": "code",
      "metadata": {
        "colab": {
          "base_uri": "https://localhost:8080/",
          "height": 112
        },
        "id": "jjRl4SQfEPVB",
        "outputId": "b676e0dc-9182-4c08-9e15-fc4a293688c8"
      },
      "source": [
        "corr_data"
      ],
      "execution_count": 15,
      "outputs": [
        {
          "output_type": "execute_result",
          "data": {
            "text/html": [
              "<div>\n",
              "<style scoped>\n",
              "    .dataframe tbody tr th:only-of-type {\n",
              "        vertical-align: middle;\n",
              "    }\n",
              "\n",
              "    .dataframe tbody tr th {\n",
              "        vertical-align: top;\n",
              "    }\n",
              "\n",
              "    .dataframe thead th {\n",
              "        text-align: right;\n",
              "    }\n",
              "</style>\n",
              "<table border=\"1\" class=\"dataframe\">\n",
              "  <thead>\n",
              "    <tr style=\"text-align: right;\">\n",
              "      <th></th>\n",
              "      <th>Hours</th>\n",
              "      <th>Scores</th>\n",
              "    </tr>\n",
              "  </thead>\n",
              "  <tbody>\n",
              "    <tr>\n",
              "      <th>Hours</th>\n",
              "      <td>1.000000</td>\n",
              "      <td>0.976191</td>\n",
              "    </tr>\n",
              "    <tr>\n",
              "      <th>Scores</th>\n",
              "      <td>0.976191</td>\n",
              "      <td>1.000000</td>\n",
              "    </tr>\n",
              "  </tbody>\n",
              "</table>\n",
              "</div>"
            ],
            "text/plain": [
              "           Hours    Scores\n",
              "Hours   1.000000  0.976191\n",
              "Scores  0.976191  1.000000"
            ]
          },
          "metadata": {},
          "execution_count": 15
        }
      ]
    },
    {
      "cell_type": "markdown",
      "metadata": {
        "id": "PuYJPWFuET9p"
      },
      "source": [
        "Inference:\n",
        "\n",
        "The above correlation matrix shows that there is a very high positive correlation between feature i.e.; 'Hours' and label i.e.; 'Scores' in the given dataset. The correlation value is around 0.98, which is very close to 1 and thus, it is very high and its positive value shows that as values in feature increase, the values in label are also increased and vice-versa. \n",
        "\n",
        "After checking the correlation, it is also required to take into consideration whether the values are required to be normalized as the feature and label in the given data do not follow Gaussian distribution. **It is one of the assumptions of the linear regression that the data should follow Gaussian distribution**. Hence, it is certain to carry out normalization of values before splitting the data into training and validation sets and apply linear regression algorithm. \n"
      ]
    },
    {
      "cell_type": "markdown",
      "metadata": {
        "id": "C7C7WOIXZtjV"
      },
      "source": [
        "\n",
        "---\n",
        "\n",
        "Normality of the feature and label can be further checked by using statistical procedures such as Shapiro Wilk test. "
      ]
    },
    {
      "cell_type": "code",
      "metadata": {
        "id": "rWgQ8IJ2GL0C",
        "colab": {
          "base_uri": "https://localhost:8080/"
        },
        "outputId": "46acd1fe-d6d1-4010-ed68-985d95fd195e"
      },
      "source": [
        "# Checking whether the values in column follow normal distribution by using Shapiro test\n",
        "# Null hypothesis is that the column data values follow normal distribution\n",
        "# If p-value > 0.05, the data follows normal distribution\n",
        "# If p-value <= 0.05 then the data does not follow normal distribution\n",
        "\n",
        "from scipy import stats\n",
        "\n",
        "# conducting Shapiro Wilk test on numerical variables in 'Hours' column of data to check whether the values\n",
        "# follow Gaussian distribution.\n",
        "\n",
        "shap_t, shap_p = stats.shapiro(data['Hours'])\n",
        "\n",
        "print(\"Skewness : %f\" % abs(data['Hours']).skew())\n",
        "print(\"Kurtosis : %f\" % abs(data['Hours']).kurt())\n",
        "print(\"Shapiro_Test: %f\" % shap_t)\n",
        "print(\"Shapiro_Test: %f\" % shap_p)"
      ],
      "execution_count": 16,
      "outputs": [
        {
          "output_type": "stream",
          "name": "stdout",
          "text": [
            "Skewness : 0.190338\n",
            "Kurtosis : -1.302343\n",
            "Shapiro_Test: 0.940138\n",
            "Shapiro_Test: 0.149118\n"
          ]
        }
      ]
    },
    {
      "cell_type": "markdown",
      "metadata": {
        "id": "KLo1yD2kbXJm"
      },
      "source": [
        "**Inference:**\n",
        "\n",
        "The output of above code expression shows the result of Shapiro Wilk test. The output shows that the p-value is greater than 0.05 and this value indicates that the null hypothesis is correct or 'Hours' column in the given dataset follow Gaussian distribution. "
      ]
    },
    {
      "cell_type": "code",
      "metadata": {
        "colab": {
          "base_uri": "https://localhost:8080/"
        },
        "id": "tPDbxiMocz-q",
        "outputId": "1977ca98-bc98-4f0e-eb9a-8169bb3598b2"
      },
      "source": [
        "'''checking the normality of distribution of data in 'Scores' column by using Shapiro Wilk test'''\n",
        "\n",
        "# conducting Shapiro Wilk test on numerical variables in 'Scores' column of data to check whether the values\n",
        "# follow Gaussian distribution.\n",
        "\n",
        "shap_t, shap_p = stats.shapiro(data['Hours'])\n",
        "\n",
        "print(\"Skewness : %f\" % abs(data['Scores']).skew())\n",
        "print(\"Kurtosis : %f\" % abs(data['Scores']).kurt())\n",
        "print(\"Shapiro_Test: %f\" % shap_t)\n",
        "print(\"Shapiro_Test: %f\" % shap_p)\n"
      ],
      "execution_count": 17,
      "outputs": [
        {
          "output_type": "stream",
          "name": "stdout",
          "text": [
            "Skewness : 0.233965\n",
            "Kurtosis : -1.443833\n",
            "Shapiro_Test: 0.940138\n",
            "Shapiro_Test: 0.149118\n"
          ]
        }
      ]
    },
    {
      "cell_type": "markdown",
      "metadata": {
        "id": "0btFTu1fdkdX"
      },
      "source": [
        "Inference:\n",
        "\n",
        "The output of above code expression shows the result of Shapiro Wilk test. The output shows that the p-value is greater than 0.05 and this value indicates that the null hypothesis is correct or 'Scores' column in the given dataset follow Gaussian distribution."
      ]
    },
    {
      "cell_type": "code",
      "metadata": {
        "id": "8Csz1j0yXYTt"
      },
      "source": [
        "# we will use OLS (ordinary least squares) method in this problem to study linear relationships between the feature\n",
        "# and label\n",
        "\n",
        "# However, it is also important to consider that the given dataset has only 25 observations. \n",
        "'''According to linear regression modelling strategies, the minimum number of observations for a linear regression model \n",
        "are 10-20 observations per variable.'''\n",
        "\n",
        "# in this problem, there is one independent variable and one dependent variable. Hence, theoretically, the\n",
        "# linear regression function will be Y = Bo + B1 x, where y is the predicted value of scores or dependent variable\n",
        "# and Bo and B1 are coefficients. Bo is the intercept and B1 is the slope of the regression function plotted with \n",
        "# independent variable 'Hours' on the x-axis and dependent variable, 'Scores' on the y-axis. \n",
        "\n",
        "# calculating coefficients of linear regression function as coefficients determine the predicted values of scores along with observable values of hours\n",
        "\n",
        "# defining a function to calculate the coefficients\n",
        "def calculate_coef(data, x, y):\n",
        "  # getting total number of observations in data\n",
        "  total_os = data.shape[0]\n",
        "\n",
        "  # getting the mean of values in each of the 'Hours' and 'Scores' columns respectively\n",
        "  avg_hours = np.mean(x)\n",
        "  avg_scores = np.mean(y)\n",
        "\n",
        "  # calculating cross products of 'Hours' and 'Scores' columns \n",
        "  SS_xy = np.sum(x * y) - (total_os * avg_hours * avg_scores)\n",
        "  # calculating sum of squares of values of independent variable, 'Scores'\n",
        "  SS_xx = np.sum(x * x) - (total_os * avg_hours * avg_hours)\n",
        "\n",
        "  # regression coefficient, B1 = (SS_xy / SS_xx)\n",
        "  b_1 = SS_xy/SS_xx\n",
        "\n",
        "  # calculating coefficient that is intercept or Bo. Bo = avg(Y)- B1 * avg(X)\n",
        "  b_0 = avg_scores - (b_1 * avg_hours)\n",
        "\n",
        "  # returning the linear regression coefficients\n",
        "  return (b_0, b_1)\n"
      ],
      "execution_count": 18,
      "outputs": []
    },
    {
      "cell_type": "code",
      "metadata": {
        "colab": {
          "base_uri": "https://localhost:8080/"
        },
        "id": "kMX2_-Ewrhoi",
        "outputId": "762268c2-0c46-4e62-d9d1-a8c80a9501ad"
      },
      "source": [
        "# using the above defined function\n",
        "\n",
        "x = data['Hours'] # independent variable or feature\n",
        "y = data['Scores'] # dependent variable or label\n",
        "\n",
        "calculate_coef(data, x, y)"
      ],
      "execution_count": 19,
      "outputs": [
        {
          "output_type": "execute_result",
          "data": {
            "text/plain": [
              "(2.483673405373196, 9.775803390787472)"
            ]
          },
          "metadata": {},
          "execution_count": 19
        }
      ]
    },
    {
      "cell_type": "markdown",
      "metadata": {
        "id": "7g-P6dcjDjGk"
      },
      "source": [
        "The output of above code expression shows that the values of intercept Bo and regression coeffcient B1 are 2.48 and 9.8 respectively. However, the ordinary least squares method clearly states that the value of Bo and B1 for which the residual sum of squares or sum of squares of the difference between the predicted and actual values of the target variable i.e.; 'Scores' is minimum can be only considered for getting the regression line that is best fit to the observed data. "
      ]
    },
    {
      "cell_type": "code",
      "metadata": {
        "id": "Sqj7m6z4D854"
      },
      "source": [
        "# importing packages for building linear regression model \n",
        "\n",
        "from sklearn.linear_model import LinearRegression\n",
        "\n",
        "# importing packages for metrics for evaluation of linear regression model \n",
        "\n",
        "from sklearn.metrics import mean_squared_error, r2_score\n",
        "\n",
        "# since the number of observations is merely 25, the given dataset can only be split into training and test sets. There is not enough data to create\n",
        "# a validation set that is often considered a good practice for building a good regression model. \n",
        "\n",
        "from sklearn.model_selection import train_test_split\n"
      ],
      "execution_count": 20,
      "outputs": []
    },
    {
      "cell_type": "code",
      "metadata": {
        "colab": {
          "base_uri": "https://localhost:8080/"
        },
        "id": "FO2QMLCtVvgQ",
        "outputId": "f3b2f536-6074-47f9-8fbf-f779b158dab5"
      },
      "source": [
        "# splitting the given dataset into training and test sets. The same split is ensured every time the below code is executed\n",
        "# by splitting the dataset randomly by setting the value of random_state as 1.\n",
        "\n",
        "X = np.array(data.iloc[:, 0])\n",
        "y = np.array(data.iloc[:, -1])\n",
        "\n",
        "X_train, X_test, y_train, y_test = train_test_split(X, y, test_size = 0.33, random_state= 1)\n",
        "\n",
        "print(X_train.shape, X_test.shape, y_train.shape, y_test.shape)"
      ],
      "execution_count": 21,
      "outputs": [
        {
          "output_type": "stream",
          "name": "stdout",
          "text": [
            "(16,) (9,) (16,) (9,)\n"
          ]
        }
      ]
    },
    {
      "cell_type": "code",
      "metadata": {
        "id": "uXv89A_CD8E2"
      },
      "source": [
        "# reshaping the above variables into 2D arrays after splitting of data by using array.reshape() \n",
        "\n",
        "X_train = X_train.reshape(-1, 1)\n",
        "\n",
        "X_test = X_test.reshape(-1, 1)\n",
        "\n",
        "y_train = y_train.reshape(-1, 1)\n",
        "\n",
        "y_test = y_test.reshape(-1, 1)"
      ],
      "execution_count": 22,
      "outputs": []
    },
    {
      "cell_type": "code",
      "metadata": {
        "id": "qQC1PvchUL4_"
      },
      "source": [
        "# building a linear regression model and making predictions\n",
        "\n",
        "model = LinearRegression()\n",
        "\n",
        "result_1 = model.fit(X_train, y_train)\n",
        "\n",
        "predict_val = result_1.predict(X_test)"
      ],
      "execution_count": 23,
      "outputs": []
    },
    {
      "cell_type": "code",
      "metadata": {
        "id": "CYxD84kpLKXA"
      },
      "source": [
        "# checking mean squared error that is the sum of squares of differences between the predicted values and actual label values in y_test\n",
        "\n",
        "mean_sq_error = mean_squared_error(y_test, predict_val)"
      ],
      "execution_count": 24,
      "outputs": []
    },
    {
      "cell_type": "code",
      "metadata": {
        "colab": {
          "base_uri": "https://localhost:8080/"
        },
        "id": "xB-0DW74MC_7",
        "outputId": "1c445b23-22b2-4570-8514-931b310e7b46"
      },
      "source": [
        "mean_sq_error"
      ],
      "execution_count": 25,
      "outputs": [
        {
          "output_type": "execute_result",
          "data": {
            "text/plain": [
              "50.03807060523169"
            ]
          },
          "metadata": {},
          "execution_count": 25
        }
      ]
    },
    {
      "cell_type": "markdown",
      "metadata": {
        "id": "rjJoKxwLMKzt"
      },
      "source": [
        "The above value of mean squared error can be considered as the error for the baseline linear regression model. "
      ]
    },
    {
      "cell_type": "code",
      "metadata": {
        "colab": {
          "base_uri": "https://localhost:8080/"
        },
        "id": "coAShvMTO9Ko",
        "outputId": "75c990c5-13b4-414e-90bb-8bf90004c780"
      },
      "source": [
        "# checking the accuracy of the model\n",
        "\n",
        "accuracy_model = result_1.score(X_test, y_test)\n",
        "\n",
        "accuracy_model"
      ],
      "execution_count": 26,
      "outputs": [
        {
          "output_type": "execute_result",
          "data": {
            "text/plain": [
              "0.9047140370739194"
            ]
          },
          "metadata": {},
          "execution_count": 26
        }
      ]
    },
    {
      "cell_type": "markdown",
      "metadata": {
        "id": "evDtOGcOPbOl"
      },
      "source": [
        "The output of above code expression shows that accuracy of the model is 90%. "
      ]
    },
    {
      "cell_type": "code",
      "metadata": {
        "colab": {
          "base_uri": "https://localhost:8080/"
        },
        "id": "PZEskn0YMXWr",
        "outputId": "bea26344-b0c0-4573-8a76-b0d4197b52a5"
      },
      "source": [
        "# computing r-squared value of above linear regression model. r-squared is a statistic that indicates the proportion of variability \n",
        "# in the model that is explained by the feature or independent variable. r-squared is the ratio of Regression sum of squares to total sum of squares\n",
        "\n",
        "r2_score(y_test, predict_val)\n"
      ],
      "execution_count": 27,
      "outputs": [
        {
          "output_type": "execute_result",
          "data": {
            "text/plain": [
              "0.9047140370739194"
            ]
          },
          "metadata": {},
          "execution_count": 27
        }
      ]
    },
    {
      "cell_type": "markdown",
      "metadata": {
        "id": "nYBVZKIMSu9M"
      },
      "source": [
        "The output of above code expression shows that R-squared value is 0.9, which suggets that feature in the given dataset or 'Hours' explains 90% of the variation in the linear regression model.  "
      ]
    },
    {
      "cell_type": "code",
      "metadata": {
        "colab": {
          "base_uri": "https://localhost:8080/"
        },
        "id": "ZvJ9_Kj4H5Hm",
        "outputId": "0d25f1a9-39c7-4ae5-c300-3eebdc353c1a"
      },
      "source": [
        "# checking the intercept of linear regression model \n",
        "\n",
        "result_1.intercept_"
      ],
      "execution_count": 28,
      "outputs": [
        {
          "output_type": "execute_result",
          "data": {
            "text/plain": [
              "array([-0.80055983])"
            ]
          },
          "metadata": {},
          "execution_count": 28
        }
      ]
    },
    {
      "cell_type": "code",
      "metadata": {
        "colab": {
          "base_uri": "https://localhost:8080/"
        },
        "id": "l6Dy9OhKURN0",
        "outputId": "da7f4930-3a4b-4d07-cd86-5a93d0d146ea"
      },
      "source": [
        "# checking the regression coefficient of linear regression model\n",
        "\n",
        "result_1.coef_"
      ],
      "execution_count": 29,
      "outputs": [
        {
          "output_type": "execute_result",
          "data": {
            "text/plain": [
              "array([[10.33097478]])"
            ]
          },
          "metadata": {},
          "execution_count": 29
        }
      ]
    },
    {
      "cell_type": "code",
      "metadata": {
        "colab": {
          "base_uri": "https://localhost:8080/",
          "height": 265
        },
        "id": "6SQrrbKmYfd_",
        "outputId": "0f82a470-3735-4e52-830c-9289da8102cb"
      },
      "source": [
        "# plotting the values. The scattered data points represent actual data points. The line represents the regression line made by plotting\n",
        "# test features against predicted values of label \n",
        "\n",
        "plt.scatter(X, y)\n",
        "plt.plot(X_test, predict_val)\n",
        "plt.show()"
      ],
      "execution_count": 30,
      "outputs": [
        {
          "output_type": "display_data",
          "data": {
            "image/png": "[encoded data removed]",
            "text/plain": [
              "<Figure size 432x288 with 1 Axes>"
            ]
          },
          "metadata": {
            "needs_background": "light"
          }
        }
      ]
    },
    {
      "cell_type": "code",
      "metadata": {
        "id": "Y2PiCMb8TJNV",
        "colab": {
          "base_uri": "https://localhost:8080/"
        },
        "outputId": "dfc00d1b-686f-4efc-cafc-f3bc63b58590"
      },
      "source": [
        "# the above linear regression model is a baseline model. We will now build a ordinary least squares linear regression model \n",
        "# such that the sum of squares of distances between observed data and predicted values is minimum and compare this model with the above baseline \n",
        "# linear regression model to monitor any improvements in terms of lower mean squared errors, R-squared values, accuracy, and value of intercept (Bo) \n",
        "# and value of regression coefficient (B1)\n",
        "\n",
        "# importing necessary packages for OLS (ordinary least squares) linear regression \n",
        "\n",
        "import statsmodels.api as sm"
      ],
      "execution_count": 31,
      "outputs": [
        {
          "output_type": "stream",
          "name": "stderr",
          "text": [
            "/usr/local/lib/python3.7/dist-packages/statsmodels/tools/_testing.py:19: FutureWarning: pandas.util.testing is deprecated. Use the functions in the public API at pandas.testing instead.\n",
            "  import pandas.util.testing as tm\n"
          ]
        }
      ]
    },
    {
      "cell_type": "code",
      "metadata": {
        "id": "LfBzAr9mbuwa"
      },
      "source": [
        "# splitting given dataset into training and test sets\n",
        "\n",
        "feature_X = np.array(data.iloc[:, 0])\n",
        "\n",
        "label_y = np.array(data.iloc[:, -1])"
      ],
      "execution_count": 32,
      "outputs": []
    },
    {
      "cell_type": "code",
      "metadata": {
        "colab": {
          "base_uri": "https://localhost:8080/"
        },
        "id": "R-dr6Bndck7-",
        "outputId": "a07670b5-2146-4bf0-ae39-807fb8563459"
      },
      "source": [
        "feat_train, feat_test, label_train, label_test = train_test_split(feature_X, label_y, test_size = 0.33, random_state= 1)\n",
        "\n",
        "print(feat_train.shape, feat_test.shape, label_train.shape, label_test.shape)"
      ],
      "execution_count": 33,
      "outputs": [
        {
          "output_type": "stream",
          "name": "stdout",
          "text": [
            "(16,) (9,) (16,) (9,)\n"
          ]
        }
      ]
    },
    {
      "cell_type": "code",
      "metadata": {
        "id": "2Drs_JaBdPlx"
      },
      "source": [
        "# changing 1D array to 2D array after splitting the data\n",
        "\n",
        "feat_train = feat_train.reshape(-1, 1)\n",
        "\n",
        "feat_test = feat_test.reshape(-1, 1)\n",
        "\n",
        "label_train = label_train.reshape(-1, 1)\n",
        "\n",
        "label_test = label_test.reshape(-1, 1)"
      ],
      "execution_count": 34,
      "outputs": []
    },
    {
      "cell_type": "code",
      "metadata": {
        "colab": {
          "base_uri": "https://localhost:8080/"
        },
        "id": "oCHitCZzeBad",
        "outputId": "672bb539-b6e9-410b-b5a6-6e4f0ea3d8f3"
      },
      "source": [
        "# building a linear regression model using OLS linear regression method and making predictions\n",
        "\n",
        "feat_train2 = sm.add_constant(feat_train)\n",
        "model_ols = sm.OLS(label_train, feat_train2)\n",
        "results1 = model_ols.fit()\n",
        "print(results1.summary())"
      ],
      "execution_count": 35,
      "outputs": [
        {
          "output_type": "stream",
          "name": "stdout",
          "text": [
            "                            OLS Regression Results                            \n",
            "==============================================================================\n",
            "Dep. Variable:                      y   R-squared:                       0.969\n",
            "Model:                            OLS   Adj. R-squared:                  0.967\n",
            "Method:                 Least Squares   F-statistic:                     443.2\n",
            "Date:                Mon, 29 Nov 2021   Prob (F-statistic):           5.36e-12\n",
            "Time:                        09:14:55   Log-Likelihood:                -46.797\n",
            "No. Observations:                  16   AIC:                             97.59\n",
            "Df Residuals:                      14   BIC:                             99.14\n",
            "Df Model:                           1                                         \n",
            "Covariance Type:            nonrobust                                         \n",
            "==============================================================================\n",
            "                 coef    std err          t      P>|t|      [0.025      0.975]\n",
            "------------------------------------------------------------------------------\n",
            "const         -0.8006      2.761     -0.290      0.776      -6.722       5.121\n",
            "x1            10.3310      0.491     21.053      0.000       9.278      11.383\n",
            "==============================================================================\n",
            "Omnibus:                       11.969   Durbin-Watson:                   2.077\n",
            "Prob(Omnibus):                  0.003   Jarque-Bera (JB):                2.000\n",
            "Skew:                           0.031   Prob(JB):                        0.368\n",
            "Kurtosis:                       1.269   Cond. No.                         13.2\n",
            "==============================================================================\n",
            "\n",
            "Warnings:\n",
            "[1] Standard Errors assume that the covariance matrix of the errors is correctly specified.\n"
          ]
        },
        {
          "output_type": "stream",
          "name": "stderr",
          "text": [
            "/usr/local/lib/python3.7/dist-packages/scipy/stats/stats.py:1535: UserWarning: kurtosistest only valid for n>=20 ... continuing anyway, n=16\n",
            "  \"anyway, n=%i\" % int(n))\n"
          ]
        }
      ]
    },
    {
      "cell_type": "code",
      "metadata": {
        "id": "FOvGkONvgGyV"
      },
      "source": [
        "# Model prediction\n",
        "\n",
        "label_test = sm.add_constant(label_test)\n",
        "feat_test = sm.add_constant(feat_test)\n",
        "pred_val_ols = results1.predict(feat_test)\n",
        "pred_val_ols = sm.add_constant(pred_val_ols)\n",
        "# checking mean squared error\n",
        "\n",
        "mean_sq_error1 = mean_squared_error(label_test, pred_val_ols)\n",
        "\n",
        "# Predicting the model over train data for diagnostics\n",
        "\n",
        "case_pred_val = results1.predict(feat_train2)"
      ],
      "execution_count": 36,
      "outputs": []
    },
    {
      "cell_type": "code",
      "metadata": {
        "colab": {
          "base_uri": "https://localhost:8080/",
          "height": 279
        },
        "id": "5dw9q_y3MIHy",
        "outputId": "9e777855-0782-49f0-f98a-2a8dc54a2598"
      },
      "source": [
        "''' plotting OLS linear regression results '''\n",
        "\n",
        "# importing necessary package\n",
        "from statsmodels.graphics.regressionplots import abline_plot\n",
        "\n",
        "# scatterplot data\n",
        "ax = data.plot(x = 'Hours', y = 'Scores', kind = 'scatter')\n",
        "# plotting regression line\n",
        "abline_plot(model_results = results1, ax = ax)\n",
        "plt.show()\n"
      ],
      "execution_count": 43,
      "outputs": [
        {
          "output_type": "display_data",
          "data": {
            "image/png": "[encoded data removed]",
            "text/plain": [
              "<Figure size 432x288 with 1 Axes>"
            ]
          },
          "metadata": {
            "needs_background": "light"
          }
        }
      ]
    },
    {
      "cell_type": "markdown",
      "metadata": {
        "id": "yeQbzuEYNwmc"
      },
      "source": [
        "The above plot shows that the regression line is very close to the observed data points, which are visible in scatterplot. "
      ]
    },
    {
      "cell_type": "code",
      "metadata": {
        "colab": {
          "base_uri": "https://localhost:8080/"
        },
        "id": "m2NW51NY5hzX",
        "outputId": "b61eb52b-eb81-4047-e063-9c4cdcc0141c"
      },
      "source": [
        "# checking the value of mean squared error\n",
        "mean_sq_error1"
      ],
      "execution_count": 37,
      "outputs": [
        {
          "output_type": "execute_result",
          "data": {
            "text/plain": [
              "25.019035302615848"
            ]
          },
          "metadata": {},
          "execution_count": 37
        }
      ]
    },
    {
      "cell_type": "markdown",
      "metadata": {
        "id": "9C8N3QEP55cW"
      },
      "source": [
        "The output of above code expression shows that the mean squared error of OLS linear regression model is 25, which is significantly lower than that of previous linear regression model for which the mean squared error is around 50. Thus, this OLS regression model is better than previous linear regression model. "
      ]
    },
    {
      "cell_type": "code",
      "metadata": {
        "colab": {
          "base_uri": "https://localhost:8080/"
        },
        "id": "FiObTMv7DgJe",
        "outputId": "b638a170-cc59-43c8-c87c-1ad65a70bb44"
      },
      "source": [
        "# checking the regression coefficients of OLS regression model \n",
        "\n",
        "results1.params"
      ],
      "execution_count": 38,
      "outputs": [
        {
          "output_type": "execute_result",
          "data": {
            "text/plain": [
              "array([-0.80055983, 10.33097478])"
            ]
          },
          "metadata": {},
          "execution_count": 38
        }
      ]
    },
    {
      "cell_type": "markdown",
      "metadata": {
        "id": "tm99KuRZDyOd"
      },
      "source": [
        "The output of above code expression gives two values - the first value corresponds to the intercept of the linear regression function and second value corresponds to the regression coefficient of the linear regression function. "
      ]
    },
    {
      "cell_type": "code",
      "metadata": {
        "colab": {
          "base_uri": "https://localhost:8080/"
        },
        "id": "aY_xxLr0WVVY",
        "outputId": "f38bdc60-4c07-4abd-dfdd-7dbacec3cb90"
      },
      "source": [
        "# checking the R-squared value of OLS linear regression model\n",
        "\n",
        "results1.rsquared"
      ],
      "execution_count": 39,
      "outputs": [
        {
          "output_type": "execute_result",
          "data": {
            "text/plain": [
              "0.9693800724956538"
            ]
          },
          "metadata": {},
          "execution_count": 39
        }
      ]
    },
    {
      "cell_type": "markdown",
      "metadata": {
        "id": "qkHKPjJ2YjRU"
      },
      "source": [
        "The R-squared value of OLS linear regression model is approximately 97%, which is more than R-squared value of previous linear regression model. Greater the value of R-squared, the better fitted is the model. Hence, the OLS model is better than the previous linear regression model. "
      ]
    },
    {
      "cell_type": "code",
      "metadata": {
        "id": "u9z6cElH5-cs",
        "colab": {
          "base_uri": "https://localhost:8080/"
        },
        "outputId": "243b2336-b382-4f63-a806-3e3d7df5af14"
      },
      "source": [
        "# In the given problem, it is asked to predict the score if a student studies 9.25 hours a day. \n",
        "# We can calculate the score by using the values obtained from substituting the values of intercept \n",
        "# and regression coefficient in the OLS linear regression model in the equation, Y = Bo + B1X\n",
        "\n",
        "pred_score = -0.80055983 + (10.33097478 * 9.25)\n",
        "\n",
        "print(\" The student is likely to score {} if he or she studies 9.25 hours a day\".format(pred_score))"
      ],
      "execution_count": 40,
      "outputs": [
        {
          "output_type": "stream",
          "name": "stdout",
          "text": [
            " The student is likely to score 94.760956885 if he or she studies 9.25 hours a day\n"
          ]
        }
      ]
    },
    {
      "cell_type": "markdown",
      "metadata": {
        "id": "SztbNLUdA11M"
      },
      "source": [
        "The output of above code expression shows that the student is likely to get a score of approximately 94.76 based on the linear regression model built using the given data of students' study hours and their respective scores. "
      ]
    },
    {
      "cell_type": "markdown",
      "metadata": {
        "id": "GiHfB3pWC3eG"
      },
      "source": [
        "**End of the data analysis**"
      ]
    }
  ]
}