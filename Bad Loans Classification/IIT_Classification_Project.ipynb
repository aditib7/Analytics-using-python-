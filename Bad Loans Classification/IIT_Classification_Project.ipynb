{
  "nbformat": 4,
  "nbformat_minor": 0,
  "metadata": {
    "colab": {
      "name": "IIT Classification Project.ipynb",
      "provenance": []
    },
    "kernelspec": {
      "display_name": "Python 3",
      "name": "python3"
    },
    "language_info": {
      "name": "python"
    }
  },
  "cells": [
    {
      "cell_type": "code",
      "metadata": {
        "id": "rUiPh3D7vgG7"
      },
      "source": [
        "import os"
      ],
      "execution_count": 1,
      "outputs": []
    },
    {
      "cell_type": "code",
      "metadata": {
        "id": "zxR-7UbxwHMv"
      },
      "source": [
        "# importing necessary packages\n",
        "\n",
        "import pandas as pd\n",
        "\n",
        "import numpy as np"
      ],
      "execution_count": 2,
      "outputs": []
    },
    {
      "cell_type": "markdown",
      "metadata": {
        "id": "CWzU6xBFxyOn"
      },
      "source": [
        "About the Problem and the Dataset:\n",
        "\n",
        "\n",
        "---\n",
        "\n",
        "In this assignment, there is an organization called as 'Cautious plc' that provides credit as its service offerings to its clients. It has recently compiled the data of its clients in order to build a model that could predict the clients, who could become defaulters or not pay the borrowed amount and interest on time. To be precise, the main agenda of Cautious plc is to utilize the data of its clients to predict the clients, who could end up not making the required payment of loans on time. Next task is to effectively reduce the number of features in the dataset for better understanding and accessibility. Cautious plc. intends to use the results of the analysis in this file to gain relevant insights about the clients, who could default on loan payments in the future and take necessary steps to avoid such circumstances in future. "
      ]
    },
    {
      "cell_type": "code",
      "metadata": {
        "colab": {
          "resources": {
            "http://localhost:8080/nbextensions/google.colab/files.js": {
              "data": "Ly8gQ29weXJpZ2h0IDIwMTcgR29vZ2xlIExMQwovLwovLyBMaWNlbnNlZCB1bmRlciB0aGUgQXBhY2hlIExpY2Vuc2UsIFZlcnNpb24gMi4wICh0aGUgIkxpY2Vuc2UiKTsKLy8geW91IG1heSBub3QgdXNlIHRoaXMgZmlsZSBleGNlcHQgaW4gY29tcGxpYW5jZSB3aXRoIHRoZSBMaWNlbnNlLgovLyBZb3UgbWF5IG9idGFpbiBhIGNvcHkgb2YgdGhlIExpY2Vuc2UgYXQKLy8KLy8gICAgICBodHRwOi8vd3d3LmFwYWNoZS5vcmcvbGljZW5zZXMvTElDRU5TRS0yLjAKLy8KLy8gVW5sZXNzIHJlcXVpcmVkIGJ5IGFwcGxpY2FibGUgbGF3IG9yIGFncmVlZCB0byBpbiB3cml0aW5nLCBzb2Z0d2FyZQovLyBkaXN0cmlidXRlZCB1bmRlciB0aGUgTGljZW5zZSBpcyBkaXN0cmlidXRlZCBvbiBhbiAiQVMgSVMiIEJBU0lTLAovLyBXSVRIT1VUIFdBUlJBTlRJRVMgT1IgQ09ORElUSU9OUyBPRiBBTlkgS0lORCwgZWl0aGVyIGV4cHJlc3Mgb3IgaW1wbGllZC4KLy8gU2VlIHRoZSBMaWNlbnNlIGZvciB0aGUgc3BlY2lmaWMgbGFuZ3VhZ2UgZ292ZXJuaW5nIHBlcm1pc3Npb25zIGFuZAovLyBsaW1pdGF0aW9ucyB1bmRlciB0aGUgTGljZW5zZS4KCi8qKgogKiBAZmlsZW92ZXJ2aWV3IEhlbHBlcnMgZm9yIGdvb2dsZS5jb2xhYiBQeXRob24gbW9kdWxlLgogKi8KKGZ1bmN0aW9uKHNjb3BlKSB7CmZ1bmN0aW9uIHNwYW4odGV4dCwgc3R5bGVBdHRyaWJ1dGVzID0ge30pIHsKICBjb25zdCBlbGVtZW50ID0gZG9jdW1lbnQuY3JlYXRlRWxlbWVudCgnc3BhbicpOwogIGVsZW1lbnQudGV4dENvbnRlbnQgPSB0ZXh0OwogIGZvciAoY29uc3Qga2V5IG9mIE9iamVjdC5rZXlzKHN0eWxlQXR0cmlidXRlcykpIHsKICAgIGVsZW1lbnQuc3R5bGVba2V5XSA9IHN0eWxlQXR0cmlidXRlc1trZXldOwogIH0KICByZXR1cm4gZWxlbWVudDsKfQoKLy8gTWF4IG51bWJlciBvZiBieXRlcyB3aGljaCB3aWxsIGJlIHVwbG9hZGVkIGF0IGEgdGltZS4KY29uc3QgTUFYX1BBWUxPQURfU0laRSA9IDEwMCAqIDEwMjQ7CgpmdW5jdGlvbiBfdXBsb2FkRmlsZXMoaW5wdXRJZCwgb3V0cHV0SWQpIHsKICBjb25zdCBzdGVwcyA9IHVwbG9hZEZpbGVzU3RlcChpbnB1dElkLCBvdXRwdXRJZCk7CiAgY29uc3Qgb3V0cHV0RWxlbWVudCA9IGRvY3VtZW50LmdldEVsZW1lbnRCeUlkKG91dHB1dElkKTsKICAvLyBDYWNoZSBzdGVwcyBvbiB0aGUgb3V0cHV0RWxlbWVudCB0byBtYWtlIGl0IGF2YWlsYWJsZSBmb3IgdGhlIG5leHQgY2FsbAogIC8vIHRvIHVwbG9hZEZpbGVzQ29udGludWUgZnJvbSBQeXRob24uCiAgb3V0cHV0RWxlbWVudC5zdGVwcyA9IHN0ZXBzOwoKICByZXR1cm4gX3VwbG9hZEZpbGVzQ29udGludWUob3V0cHV0SWQpOwp9CgovLyBUaGlzIGlzIHJvdWdobHkgYW4gYXN5bmMgZ2VuZXJhdG9yIChub3Qgc3VwcG9ydGVkIGluIHRoZSBicm93c2VyIHlldCksCi8vIHdoZXJlIHRoZXJlIGFyZSBtdWx0aXBsZSBhc3luY2hyb25vdXMgc3RlcHMgYW5kIHRoZSBQeXRob24gc2lkZSBpcyBnb2luZwovLyB0byBwb2xsIGZvciBjb21wbGV0aW9uIG9mIGVhY2ggc3RlcC4KLy8gVGhpcyB1c2VzIGEgUHJvbWlzZSB0byBibG9jayB0aGUgcHl0aG9uIHNpZGUgb24gY29tcGxldGlvbiBvZiBlYWNoIHN0ZXAsCi8vIHRoZW4gcGFzc2VzIHRoZSByZXN1bHQgb2YgdGhlIHByZXZpb3VzIHN0ZXAgYXMgdGhlIGlucHV0IHRvIHRoZSBuZXh0IHN0ZXAuCmZ1bmN0aW9uIF91cGxvYWRGaWxlc0NvbnRpbnVlKG91dHB1dElkKSB7CiAgY29uc3Qgb3V0cHV0RWxlbWVudCA9IGRvY3VtZW50LmdldEVsZW1lbnRCeUlkKG91dHB1dElkKTsKICBjb25zdCBzdGVwcyA9IG91dHB1dEVsZW1lbnQuc3RlcHM7CgogIGNvbnN0IG5leHQgPSBzdGVwcy5uZXh0KG91dHB1dEVsZW1lbnQubGFzdFByb21pc2VWYWx1ZSk7CiAgcmV0dXJuIFByb21pc2UucmVzb2x2ZShuZXh0LnZhbHVlLnByb21pc2UpLnRoZW4oKHZhbHVlKSA9PiB7CiAgICAvLyBDYWNoZSB0aGUgbGFzdCBwcm9taXNlIHZhbHVlIHRvIG1ha2UgaXQgYXZhaWxhYmxlIHRvIHRoZSBuZXh0CiAgICAvLyBzdGVwIG9mIHRoZSBnZW5lcmF0b3IuCiAgICBvdXRwdXRFbGVtZW50Lmxhc3RQcm9taXNlVmFsdWUgPSB2YWx1ZTsKICAgIHJldHVybiBuZXh0LnZhbHVlLnJlc3BvbnNlOwogIH0pOwp9CgovKioKICogR2VuZXJhdG9yIGZ1bmN0aW9uIHdoaWNoIGlzIGNhbGxlZCBiZXR3ZWVuIGVhY2ggYXN5bmMgc3RlcCBvZiB0aGUgdXBsb2FkCiAqIHByb2Nlc3MuCiAqIEBwYXJhbSB7c3RyaW5nfSBpbnB1dElkIEVsZW1lbnQgSUQgb2YgdGhlIGlucHV0IGZpbGUgcGlja2VyIGVsZW1lbnQuCiAqIEBwYXJhbSB7c3RyaW5nfSBvdXRwdXRJZCBFbGVtZW50IElEIG9mIHRoZSBvdXRwdXQgZGlzcGxheS4KICogQHJldHVybiB7IUl0ZXJhYmxlPCFPYmplY3Q+fSBJdGVyYWJsZSBvZiBuZXh0IHN0ZXBzLgogKi8KZnVuY3Rpb24qIHVwbG9hZEZpbGVzU3RlcChpbnB1dElkLCBvdXRwdXRJZCkgewogIGNvbnN0IGlucHV0RWxlbWVudCA9IGRvY3VtZW50LmdldEVsZW1lbnRCeUlkKGlucHV0SWQpOwogIGlucHV0RWxlbWVudC5kaXNhYmxlZCA9IGZhbHNlOwoKICBjb25zdCBvdXRwdXRFbGVtZW50ID0gZG9jdW1lbnQuZ2V0RWxlbWVudEJ5SWQob3V0cHV0SWQpOwogIG91dHB1dEVsZW1lbnQuaW5uZXJIVE1MID0gJyc7CgogIGNvbnN0IHBpY2tlZFByb21pc2UgPSBuZXcgUHJvbWlzZSgocmVzb2x2ZSkgPT4gewogICAgaW5wdXRFbGVtZW50LmFkZEV2ZW50TGlzdGVuZXIoJ2NoYW5nZScsIChlKSA9PiB7CiAgICAgIHJlc29sdmUoZS50YXJnZXQuZmlsZXMpOwogICAgfSk7CiAgfSk7CgogIGNvbnN0IGNhbmNlbCA9IGRvY3VtZW50LmNyZWF0ZUVsZW1lbnQoJ2J1dHRvbicpOwogIGlucHV0RWxlbWVudC5wYXJlbnRFbGVtZW50LmFwcGVuZENoaWxkKGNhbmNlbCk7CiAgY2FuY2VsLnRleHRDb250ZW50ID0gJ0NhbmNlbCB1cGxvYWQnOwogIGNvbnN0IGNhbmNlbFByb21pc2UgPSBuZXcgUHJvbWlzZSgocmVzb2x2ZSkgPT4gewogICAgY2FuY2VsLm9uY2xpY2sgPSAoKSA9PiB7CiAgICAgIHJlc29sdmUobnVsbCk7CiAgICB9OwogIH0pOwoKICAvLyBXYWl0IGZvciB0aGUgdXNlciB0byBwaWNrIHRoZSBmaWxlcy4KICBjb25zdCBmaWxlcyA9IHlpZWxkIHsKICAgIHByb21pc2U6IFByb21pc2UucmFjZShbcGlja2VkUHJvbWlzZSwgY2FuY2VsUHJvbWlzZV0pLAogICAgcmVzcG9uc2U6IHsKICAgICAgYWN0aW9uOiAnc3RhcnRpbmcnLAogICAgfQogIH07CgogIGNhbmNlbC5yZW1vdmUoKTsKCiAgLy8gRGlzYWJsZSB0aGUgaW5wdXQgZWxlbWVudCBzaW5jZSBmdXJ0aGVyIHBpY2tzIGFyZSBub3QgYWxsb3dlZC4KICBpbnB1dEVsZW1lbnQuZGlzYWJsZWQgPSB0cnVlOwoKICBpZiAoIWZpbGVzKSB7CiAgICByZXR1cm4gewogICAgICByZXNwb25zZTogewogICAgICAgIGFjdGlvbjogJ2NvbXBsZXRlJywKICAgICAgfQogICAgfTsKICB9CgogIGZvciAoY29uc3QgZmlsZSBvZiBmaWxlcykgewogICAgY29uc3QgbGkgPSBkb2N1bWVudC5jcmVhdGVFbGVtZW50KCdsaScpOwogICAgbGkuYXBwZW5kKHNwYW4oZmlsZS5uYW1lLCB7Zm9udFdlaWdodDogJ2JvbGQnfSkpOwogICAgbGkuYXBwZW5kKHNwYW4oCiAgICAgICAgYCgke2ZpbGUudHlwZSB8fCAnbi9hJ30pIC0gJHtmaWxlLnNpemV9IGJ5dGVzLCBgICsKICAgICAgICBgbGFzdCBtb2RpZmllZDogJHsKICAgICAgICAgICAgZmlsZS5sYXN0TW9kaWZpZWREYXRlID8gZmlsZS5sYXN0TW9kaWZpZWREYXRlLnRvTG9jYWxlRGF0ZVN0cmluZygpIDoKICAgICAgICAgICAgICAgICAgICAgICAgICAgICAgICAgICAgJ24vYSd9IC0gYCkpOwogICAgY29uc3QgcGVyY2VudCA9IHNwYW4oJzAlIGRvbmUnKTsKICAgIGxpLmFwcGVuZENoaWxkKHBlcmNlbnQpOwoKICAgIG91dHB1dEVsZW1lbnQuYXBwZW5kQ2hpbGQobGkpOwoKICAgIGNvbnN0IGZpbGVEYXRhUHJvbWlzZSA9IG5ldyBQcm9taXNlKChyZXNvbHZlKSA9PiB7CiAgICAgIGNvbnN0IHJlYWRlciA9IG5ldyBGaWxlUmVhZGVyKCk7CiAgICAgIHJlYWRlci5vbmxvYWQgPSAoZSkgPT4gewogICAgICAgIHJlc29sdmUoZS50YXJnZXQucmVzdWx0KTsKICAgICAgfTsKICAgICAgcmVhZGVyLnJlYWRBc0FycmF5QnVmZmVyKGZpbGUpOwogICAgfSk7CiAgICAvLyBXYWl0IGZvciB0aGUgZGF0YSB0byBiZSByZWFkeS4KICAgIGxldCBmaWxlRGF0YSA9IHlpZWxkIHsKICAgICAgcHJvbWlzZTogZmlsZURhdGFQcm9taXNlLAogICAgICByZXNwb25zZTogewogICAgICAgIGFjdGlvbjogJ2NvbnRpbnVlJywKICAgICAgfQogICAgfTsKCiAgICAvLyBVc2UgYSBjaHVua2VkIHNlbmRpbmcgdG8gYXZvaWQgbWVzc2FnZSBzaXplIGxpbWl0cy4gU2VlIGIvNjIxMTU2NjAuCiAgICBsZXQgcG9zaXRpb24gPSAwOwogICAgZG8gewogICAgICBjb25zdCBsZW5ndGggPSBNYXRoLm1pbihmaWxlRGF0YS5ieXRlTGVuZ3RoIC0gcG9zaXRpb24sIE1BWF9QQVlMT0FEX1NJWkUpOwogICAgICBjb25zdCBjaHVuayA9IG5ldyBVaW50OEFycmF5KGZpbGVEYXRhLCBwb3NpdGlvbiwgbGVuZ3RoKTsKICAgICAgcG9zaXRpb24gKz0gbGVuZ3RoOwoKICAgICAgY29uc3QgYmFzZTY0ID0gYnRvYShTdHJpbmcuZnJvbUNoYXJDb2RlLmFwcGx5KG51bGwsIGNodW5rKSk7CiAgICAgIHlpZWxkIHsKICAgICAgICByZXNwb25zZTogewogICAgICAgICAgYWN0aW9uOiAnYXBwZW5kJywKICAgICAgICAgIGZpbGU6IGZpbGUubmFtZSwKICAgICAgICAgIGRhdGE6IGJhc2U2NCwKICAgICAgICB9LAogICAgICB9OwoKICAgICAgbGV0IHBlcmNlbnREb25lID0gZmlsZURhdGEuYnl0ZUxlbmd0aCA9PT0gMCA/CiAgICAgICAgICAxMDAgOgogICAgICAgICAgTWF0aC5yb3VuZCgocG9zaXRpb24gLyBmaWxlRGF0YS5ieXRlTGVuZ3RoKSAqIDEwMCk7CiAgICAgIHBlcmNlbnQudGV4dENvbnRlbnQgPSBgJHtwZXJjZW50RG9uZX0lIGRvbmVgOwoKICAgIH0gd2hpbGUgKHBvc2l0aW9uIDwgZmlsZURhdGEuYnl0ZUxlbmd0aCk7CiAgfQoKICAvLyBBbGwgZG9uZS4KICB5aWVsZCB7CiAgICByZXNwb25zZTogewogICAgICBhY3Rpb246ICdjb21wbGV0ZScsCiAgICB9CiAgfTsKfQoKc2NvcGUuZ29vZ2xlID0gc2NvcGUuZ29vZ2xlIHx8IHt9OwpzY29wZS5nb29nbGUuY29sYWIgPSBzY29wZS5nb29nbGUuY29sYWIgfHwge307CnNjb3BlLmdvb2dsZS5jb2xhYi5fZmlsZXMgPSB7CiAgX3VwbG9hZEZpbGVzLAogIF91cGxvYWRGaWxlc0NvbnRpbnVlLAp9Owp9KShzZWxmKTsK",
              "ok": true,
              "headers": [
                [
                  "content-type",
                  "application/javascript"
                ]
              ],
              "status": 200,
              "status_text": ""
            }
          },
          "base_uri": "https://localhost:8080/",
          "height": 73
        },
        "id": "kB1hiwT0wR9C",
        "outputId": "2d9b1645-7734-4481-a47d-5a3ed8fe955f"
      },
      "source": [
        "from google.colab import files\n",
        "\n",
        "uploaded = files.upload()"
      ],
      "execution_count": 3,
      "outputs": [
        {
          "output_type": "display_data",
          "data": {
            "text/html": [
              "\n",
              "     <input type=\"file\" id=\"files-77c37f82-18f9-45f9-b23d-4b9cb2fd5e02\" name=\"files[]\" multiple disabled\n",
              "        style=\"border:none\" />\n",
              "     <output id=\"result-77c37f82-18f9-45f9-b23d-4b9cb2fd5e02\">\n",
              "      Upload widget is only available when the cell has been executed in the\n",
              "      current browser session. Please rerun this cell to enable.\n",
              "      </output>\n",
              "      <script src=\"/nbextensions/google.colab/files.js\"></script> "
            ],
            "text/plain": [
              "<IPython.core.display.HTML object>"
            ]
          },
          "metadata": {}
        },
        {
          "output_type": "stream",
          "name": "stdout",
          "text": [
            "Saving CreditWorthiness.xlsx to CreditWorthiness.xlsx\n"
          ]
        }
      ]
    },
    {
      "cell_type": "code",
      "metadata": {
        "id": "RQ1T3feQxtiE"
      },
      "source": [
        "# reading the dataset as a Pandas dataframe\n",
        "\n",
        "data = pd.read_excel('CreditWorthiness.xlsx', sheet_name = \"Data\")"
      ],
      "execution_count": 4,
      "outputs": []
    },
    {
      "cell_type": "code",
      "metadata": {
        "colab": {
          "base_uri": "https://localhost:8080/",
          "height": 519
        },
        "id": "HobVnCciBRa0",
        "outputId": "5b6758fe-2c1f-4e0c-f7d3-0b54f2f94506"
      },
      "source": [
        "# reading the first few observations of dataframe\n",
        "\n",
        "data.head()"
      ],
      "execution_count": 5,
      "outputs": [
        {
          "output_type": "execute_result",
          "data": {
            "text/html": [
              "<div>\n",
              "<style scoped>\n",
              "    .dataframe tbody tr th:only-of-type {\n",
              "        vertical-align: middle;\n",
              "    }\n",
              "\n",
              "    .dataframe tbody tr th {\n",
              "        vertical-align: top;\n",
              "    }\n",
              "\n",
              "    .dataframe thead th {\n",
              "        text-align: right;\n",
              "    }\n",
              "</style>\n",
              "<table border=\"1\" class=\"dataframe\">\n",
              "  <thead>\n",
              "    <tr style=\"text-align: right;\">\n",
              "      <th></th>\n",
              "      <th>Cbal</th>\n",
              "      <th>Cdur</th>\n",
              "      <th>Chist</th>\n",
              "      <th>Cpur</th>\n",
              "      <th>Camt</th>\n",
              "      <th>Sbal</th>\n",
              "      <th>Edur</th>\n",
              "      <th>InRate</th>\n",
              "      <th>MSG</th>\n",
              "      <th>Oparties</th>\n",
              "      <th>Rdur</th>\n",
              "      <th>Prop</th>\n",
              "      <th>age</th>\n",
              "      <th>inPlans</th>\n",
              "      <th>Htype</th>\n",
              "      <th>NumCred</th>\n",
              "      <th>JobType</th>\n",
              "      <th>Ndepend</th>\n",
              "      <th>telephone</th>\n",
              "      <th>foreign</th>\n",
              "      <th>creditScore</th>\n",
              "    </tr>\n",
              "  </thead>\n",
              "  <tbody>\n",
              "    <tr>\n",
              "      <th>0</th>\n",
              "      <td>0 &lt;= Rs. &lt; 2000</td>\n",
              "      <td>9</td>\n",
              "      <td>all settled till now</td>\n",
              "      <td>Business</td>\n",
              "      <td>13790</td>\n",
              "      <td>Rs. &lt; 1000</td>\n",
              "      <td>1 to 4 years</td>\n",
              "      <td>2</td>\n",
              "      <td>married or widowed male</td>\n",
              "      <td>no one</td>\n",
              "      <td>less than a year</td>\n",
              "      <td>real estate</td>\n",
              "      <td>27</td>\n",
              "      <td>bank</td>\n",
              "      <td>own</td>\n",
              "      <td>1</td>\n",
              "      <td>employee with official position</td>\n",
              "      <td>1</td>\n",
              "      <td>yes</td>\n",
              "      <td>no</td>\n",
              "      <td>good</td>\n",
              "    </tr>\n",
              "    <tr>\n",
              "      <th>1</th>\n",
              "      <td>0 &lt;= Rs. &lt; 2000</td>\n",
              "      <td>15</td>\n",
              "      <td>dues not paid earlier</td>\n",
              "      <td>electronics</td>\n",
              "      <td>15250</td>\n",
              "      <td>no savings account</td>\n",
              "      <td>more than 7 years</td>\n",
              "      <td>4</td>\n",
              "      <td>single male</td>\n",
              "      <td>yes, guarantor</td>\n",
              "      <td>more than 3 years</td>\n",
              "      <td>real estate</td>\n",
              "      <td>50</td>\n",
              "      <td>none</td>\n",
              "      <td>own</td>\n",
              "      <td>2</td>\n",
              "      <td>employee with official position</td>\n",
              "      <td>1</td>\n",
              "      <td>yes</td>\n",
              "      <td>no</td>\n",
              "      <td>good</td>\n",
              "    </tr>\n",
              "    <tr>\n",
              "      <th>2</th>\n",
              "      <td>0 &lt;= Rs. &lt; 2000</td>\n",
              "      <td>36</td>\n",
              "      <td>none taken/all settled</td>\n",
              "      <td>Business</td>\n",
              "      <td>19410</td>\n",
              "      <td>Rs. &lt; 1000</td>\n",
              "      <td>more than 7 years</td>\n",
              "      <td>4</td>\n",
              "      <td>single male</td>\n",
              "      <td>no one</td>\n",
              "      <td>more than 3 years</td>\n",
              "      <td>Unknown</td>\n",
              "      <td>61</td>\n",
              "      <td>none</td>\n",
              "      <td>free</td>\n",
              "      <td>1</td>\n",
              "      <td>employed either in management, self or in high...</td>\n",
              "      <td>1</td>\n",
              "      <td>yes</td>\n",
              "      <td>no</td>\n",
              "      <td>bad</td>\n",
              "    </tr>\n",
              "    <tr>\n",
              "      <th>3</th>\n",
              "      <td>0 &lt;= Rs. &lt; 2000</td>\n",
              "      <td>48</td>\n",
              "      <td>none taken/all settled</td>\n",
              "      <td>Business</td>\n",
              "      <td>144090</td>\n",
              "      <td>Rs. &lt; 1000</td>\n",
              "      <td>1 to 4 years</td>\n",
              "      <td>2</td>\n",
              "      <td>single male</td>\n",
              "      <td>no one</td>\n",
              "      <td>1 to 2 years</td>\n",
              "      <td>Other cars etc.</td>\n",
              "      <td>25</td>\n",
              "      <td>none</td>\n",
              "      <td>own</td>\n",
              "      <td>1</td>\n",
              "      <td>employee with official position</td>\n",
              "      <td>1</td>\n",
              "      <td>yes</td>\n",
              "      <td>no</td>\n",
              "      <td>bad</td>\n",
              "    </tr>\n",
              "    <tr>\n",
              "      <th>4</th>\n",
              "      <td>no checking account</td>\n",
              "      <td>24</td>\n",
              "      <td>all settled till now</td>\n",
              "      <td>electronics</td>\n",
              "      <td>31690</td>\n",
              "      <td>Rs. &lt; 1000</td>\n",
              "      <td>less than 1 year</td>\n",
              "      <td>4</td>\n",
              "      <td>divorced or separated or married female</td>\n",
              "      <td>no one</td>\n",
              "      <td>more than 3 years</td>\n",
              "      <td>life insurance/building society</td>\n",
              "      <td>26</td>\n",
              "      <td>none</td>\n",
              "      <td>own</td>\n",
              "      <td>1</td>\n",
              "      <td>employee with official position</td>\n",
              "      <td>1</td>\n",
              "      <td>yes</td>\n",
              "      <td>no</td>\n",
              "      <td>good</td>\n",
              "    </tr>\n",
              "  </tbody>\n",
              "</table>\n",
              "</div>"
            ],
            "text/plain": [
              "                  Cbal  Cdur  ... foreign creditScore\n",
              "0      0 <= Rs. < 2000     9  ...      no        good\n",
              "1      0 <= Rs. < 2000    15  ...      no        good\n",
              "2      0 <= Rs. < 2000    36  ...      no         bad\n",
              "3      0 <= Rs. < 2000    48  ...      no         bad\n",
              "4  no checking account    24  ...      no        good\n",
              "\n",
              "[5 rows x 21 columns]"
            ]
          },
          "metadata": {},
          "execution_count": 5
        }
      ]
    },
    {
      "cell_type": "code",
      "metadata": {
        "colab": {
          "base_uri": "https://localhost:8080/"
        },
        "id": "ColbzAcGRP6t",
        "outputId": "d6de5990-23be-4f66-97b4-ffff5b5867b9"
      },
      "source": [
        "# checking the number of observation in both rows and columns of the dataframe\n",
        "\n",
        "data.shape"
      ],
      "execution_count": 6,
      "outputs": [
        {
          "output_type": "execute_result",
          "data": {
            "text/plain": [
              "(1000, 21)"
            ]
          },
          "metadata": {},
          "execution_count": 6
        }
      ]
    },
    {
      "cell_type": "markdown",
      "metadata": {
        "id": "LzSvvivXR39y"
      },
      "source": [
        "There are 1000 rows and 21 columns in dataframe"
      ]
    },
    {
      "cell_type": "code",
      "metadata": {
        "colab": {
          "base_uri": "https://localhost:8080/"
        },
        "id": "GeOCjMvIRbgb",
        "outputId": "99716e40-8c00-452a-f7e2-48bf3d5d7e2f"
      },
      "source": [
        "# checking the data types of each of the columns in the dataframe\n",
        "\n",
        "data.info()"
      ],
      "execution_count": 7,
      "outputs": [
        {
          "output_type": "stream",
          "name": "stdout",
          "text": [
            "<class 'pandas.core.frame.DataFrame'>\n",
            "RangeIndex: 1000 entries, 0 to 999\n",
            "Data columns (total 21 columns):\n",
            " #   Column       Non-Null Count  Dtype \n",
            "---  ------       --------------  ----- \n",
            " 0   Cbal         1000 non-null   object\n",
            " 1   Cdur         1000 non-null   int64 \n",
            " 2   Chist        1000 non-null   object\n",
            " 3   Cpur         1000 non-null   object\n",
            " 4   Camt         1000 non-null   int64 \n",
            " 5   Sbal         1000 non-null   object\n",
            " 6   Edur         1000 non-null   object\n",
            " 7   InRate       1000 non-null   int64 \n",
            " 8   MSG          1000 non-null   object\n",
            " 9   Oparties     1000 non-null   object\n",
            " 10  Rdur         1000 non-null   object\n",
            " 11  Prop         1000 non-null   object\n",
            " 12  age          1000 non-null   int64 \n",
            " 13  inPlans      1000 non-null   object\n",
            " 14  Htype        1000 non-null   object\n",
            " 15  NumCred      1000 non-null   int64 \n",
            " 16  JobType      1000 non-null   object\n",
            " 17  Ndepend      1000 non-null   int64 \n",
            " 18  telephone    1000 non-null   object\n",
            " 19  foreign      1000 non-null   object\n",
            " 20  creditScore  1000 non-null   object\n",
            "dtypes: int64(6), object(15)\n",
            "memory usage: 164.2+ KB\n"
          ]
        }
      ]
    },
    {
      "cell_type": "markdown",
      "metadata": {
        "id": "Vv5lE9BJSBA1"
      },
      "source": [
        "Interpretation:\n",
        "\n",
        "There are 15 columns with 'object' data type and 6 columns with 'int64' data types. \n"
      ]
    },
    {
      "cell_type": "code",
      "metadata": {
        "colab": {
          "base_uri": "https://localhost:8080/",
          "height": 299
        },
        "id": "SqWNNMDbV6It",
        "outputId": "d752c68b-e2f3-46ad-867a-ac6b890ebaaa"
      },
      "source": [
        "# checking the statistical summary of dataframe\n",
        "\n",
        "data.describe()"
      ],
      "execution_count": 8,
      "outputs": [
        {
          "output_type": "execute_result",
          "data": {
            "text/html": [
              "<div>\n",
              "<style scoped>\n",
              "    .dataframe tbody tr th:only-of-type {\n",
              "        vertical-align: middle;\n",
              "    }\n",
              "\n",
              "    .dataframe tbody tr th {\n",
              "        vertical-align: top;\n",
              "    }\n",
              "\n",
              "    .dataframe thead th {\n",
              "        text-align: right;\n",
              "    }\n",
              "</style>\n",
              "<table border=\"1\" class=\"dataframe\">\n",
              "  <thead>\n",
              "    <tr style=\"text-align: right;\">\n",
              "      <th></th>\n",
              "      <th>Cdur</th>\n",
              "      <th>Camt</th>\n",
              "      <th>InRate</th>\n",
              "      <th>age</th>\n",
              "      <th>NumCred</th>\n",
              "      <th>Ndepend</th>\n",
              "    </tr>\n",
              "  </thead>\n",
              "  <tbody>\n",
              "    <tr>\n",
              "      <th>count</th>\n",
              "      <td>1000.000000</td>\n",
              "      <td>1000.00000</td>\n",
              "      <td>1000.000000</td>\n",
              "      <td>1000.000000</td>\n",
              "      <td>1000.000000</td>\n",
              "      <td>1000.000000</td>\n",
              "    </tr>\n",
              "    <tr>\n",
              "      <th>mean</th>\n",
              "      <td>20.903000</td>\n",
              "      <td>32592.58000</td>\n",
              "      <td>2.973000</td>\n",
              "      <td>35.546000</td>\n",
              "      <td>1.407000</td>\n",
              "      <td>1.155000</td>\n",
              "    </tr>\n",
              "    <tr>\n",
              "      <th>std</th>\n",
              "      <td>12.058814</td>\n",
              "      <td>28227.36876</td>\n",
              "      <td>1.118715</td>\n",
              "      <td>11.375469</td>\n",
              "      <td>0.577654</td>\n",
              "      <td>0.362086</td>\n",
              "    </tr>\n",
              "    <tr>\n",
              "      <th>min</th>\n",
              "      <td>4.000000</td>\n",
              "      <td>2380.00000</td>\n",
              "      <td>1.000000</td>\n",
              "      <td>19.000000</td>\n",
              "      <td>1.000000</td>\n",
              "      <td>1.000000</td>\n",
              "    </tr>\n",
              "    <tr>\n",
              "      <th>25%</th>\n",
              "      <td>12.000000</td>\n",
              "      <td>13535.00000</td>\n",
              "      <td>2.000000</td>\n",
              "      <td>27.000000</td>\n",
              "      <td>1.000000</td>\n",
              "      <td>1.000000</td>\n",
              "    </tr>\n",
              "    <tr>\n",
              "      <th>50%</th>\n",
              "      <td>18.000000</td>\n",
              "      <td>23075.00000</td>\n",
              "      <td>3.000000</td>\n",
              "      <td>33.000000</td>\n",
              "      <td>1.000000</td>\n",
              "      <td>1.000000</td>\n",
              "    </tr>\n",
              "    <tr>\n",
              "      <th>75%</th>\n",
              "      <td>24.000000</td>\n",
              "      <td>39602.50000</td>\n",
              "      <td>4.000000</td>\n",
              "      <td>42.000000</td>\n",
              "      <td>2.000000</td>\n",
              "      <td>1.000000</td>\n",
              "    </tr>\n",
              "    <tr>\n",
              "      <th>max</th>\n",
              "      <td>72.000000</td>\n",
              "      <td>184120.00000</td>\n",
              "      <td>4.000000</td>\n",
              "      <td>75.000000</td>\n",
              "      <td>4.000000</td>\n",
              "      <td>2.000000</td>\n",
              "    </tr>\n",
              "  </tbody>\n",
              "</table>\n",
              "</div>"
            ],
            "text/plain": [
              "              Cdur          Camt  ...      NumCred      Ndepend\n",
              "count  1000.000000    1000.00000  ...  1000.000000  1000.000000\n",
              "mean     20.903000   32592.58000  ...     1.407000     1.155000\n",
              "std      12.058814   28227.36876  ...     0.577654     0.362086\n",
              "min       4.000000    2380.00000  ...     1.000000     1.000000\n",
              "25%      12.000000   13535.00000  ...     1.000000     1.000000\n",
              "50%      18.000000   23075.00000  ...     1.000000     1.000000\n",
              "75%      24.000000   39602.50000  ...     2.000000     1.000000\n",
              "max      72.000000  184120.00000  ...     4.000000     2.000000\n",
              "\n",
              "[8 rows x 6 columns]"
            ]
          },
          "metadata": {},
          "execution_count": 8
        }
      ]
    },
    {
      "cell_type": "markdown",
      "metadata": {
        "id": "rz5xbVHyXFsm"
      },
      "source": [
        "The output of above code expression shows the statistical summary of the dataset. It can be observed that data in none of the columns follow Gaussian distribution. Moreover, it can be inferred from the description of features that there are various features with different units in the dataframe. Thus, their data is distributed by different scales of numerical values. "
      ]
    },
    {
      "cell_type": "code",
      "metadata": {
        "colab": {
          "base_uri": "https://localhost:8080/"
        },
        "id": "UhZragLsx9W9",
        "outputId": "87c2f25d-961f-439b-e00f-7927bfd5e698"
      },
      "source": [
        "# checking the number of null values, if any, in the dataframe\n",
        "\n",
        "data.isnull().sum()"
      ],
      "execution_count": 9,
      "outputs": [
        {
          "output_type": "execute_result",
          "data": {
            "text/plain": [
              "Cbal           0\n",
              "Cdur           0\n",
              "Chist          0\n",
              "Cpur           0\n",
              "Camt           0\n",
              "Sbal           0\n",
              "Edur           0\n",
              "InRate         0\n",
              "MSG            0\n",
              "Oparties       0\n",
              "Rdur           0\n",
              "Prop           0\n",
              "age            0\n",
              "inPlans        0\n",
              "Htype          0\n",
              "NumCred        0\n",
              "JobType        0\n",
              "Ndepend        0\n",
              "telephone      0\n",
              "foreign        0\n",
              "creditScore    0\n",
              "dtype: int64"
            ]
          },
          "metadata": {},
          "execution_count": 9
        }
      ]
    },
    {
      "cell_type": "markdown",
      "metadata": {
        "id": "KzkfGiElyk6q"
      },
      "source": [
        "There are no missing values in each of the columns in the dataframe"
      ]
    },
    {
      "cell_type": "markdown",
      "metadata": {
        "id": "kJnZyzqUyuhO"
      },
      "source": [
        "The next step is to analyze the relation of each of the features with the target variable, 'creditScore'"
      ]
    },
    {
      "cell_type": "code",
      "metadata": {
        "colab": {
          "base_uri": "https://localhost:8080/"
        },
        "id": "UUrX-SvOQm_-",
        "outputId": "156567eb-1391-4b65-8766-36dfa87d8297"
      },
      "source": [
        "# checking the counts of values in 'Cbal'\n",
        "\n",
        "data['Cbal'].value_counts()"
      ],
      "execution_count": 10,
      "outputs": [
        {
          "output_type": "execute_result",
          "data": {
            "text/plain": [
              "no checking account    394\n",
              " Rs. < 0               274\n",
              "0 <= Rs. < 2000        269\n",
              "Rs. >=2000              63\n",
              "Name: Cbal, dtype: int64"
            ]
          },
          "metadata": {},
          "execution_count": 10
        }
      ]
    },
    {
      "cell_type": "code",
      "metadata": {
        "colab": {
          "base_uri": "https://localhost:8080/",
          "height": 236
        },
        "id": "nqC4TsxEysOX",
        "outputId": "60858708-c9a2-4652-8bef-b330c0a68747"
      },
      "source": [
        "# firstly, checking the relation of feature, 'Cbal' with the target feature, 'CreditScore'\n",
        "\n",
        "pd.crosstab(index = data['Cbal'], columns = data['creditScore'], values = data['creditScore'], aggfunc = 'count', margins = True, normalize = True)"
      ],
      "execution_count": 11,
      "outputs": [
        {
          "output_type": "execute_result",
          "data": {
            "text/html": [
              "<div>\n",
              "<style scoped>\n",
              "    .dataframe tbody tr th:only-of-type {\n",
              "        vertical-align: middle;\n",
              "    }\n",
              "\n",
              "    .dataframe tbody tr th {\n",
              "        vertical-align: top;\n",
              "    }\n",
              "\n",
              "    .dataframe thead th {\n",
              "        text-align: right;\n",
              "    }\n",
              "</style>\n",
              "<table border=\"1\" class=\"dataframe\">\n",
              "  <thead>\n",
              "    <tr style=\"text-align: right;\">\n",
              "      <th>creditScore</th>\n",
              "      <th>bad</th>\n",
              "      <th>good</th>\n",
              "      <th>All</th>\n",
              "    </tr>\n",
              "    <tr>\n",
              "      <th>Cbal</th>\n",
              "      <th></th>\n",
              "      <th></th>\n",
              "      <th></th>\n",
              "    </tr>\n",
              "  </thead>\n",
              "  <tbody>\n",
              "    <tr>\n",
              "      <th>Rs. &lt; 0</th>\n",
              "      <td>0.135</td>\n",
              "      <td>0.139</td>\n",
              "      <td>0.274</td>\n",
              "    </tr>\n",
              "    <tr>\n",
              "      <th>0 &lt;= Rs. &lt; 2000</th>\n",
              "      <td>0.105</td>\n",
              "      <td>0.164</td>\n",
              "      <td>0.269</td>\n",
              "    </tr>\n",
              "    <tr>\n",
              "      <th>Rs. &gt;=2000</th>\n",
              "      <td>0.014</td>\n",
              "      <td>0.049</td>\n",
              "      <td>0.063</td>\n",
              "    </tr>\n",
              "    <tr>\n",
              "      <th>no checking account</th>\n",
              "      <td>0.046</td>\n",
              "      <td>0.348</td>\n",
              "      <td>0.394</td>\n",
              "    </tr>\n",
              "    <tr>\n",
              "      <th>All</th>\n",
              "      <td>0.300</td>\n",
              "      <td>0.700</td>\n",
              "      <td>1.000</td>\n",
              "    </tr>\n",
              "  </tbody>\n",
              "</table>\n",
              "</div>"
            ],
            "text/plain": [
              "creditScore            bad   good    All\n",
              "Cbal                                    \n",
              " Rs. < 0             0.135  0.139  0.274\n",
              "0 <= Rs. < 2000      0.105  0.164  0.269\n",
              "Rs. >=2000           0.014  0.049  0.063\n",
              "no checking account  0.046  0.348  0.394\n",
              "All                  0.300  0.700  1.000"
            ]
          },
          "metadata": {},
          "execution_count": 11
        }
      ]
    },
    {
      "cell_type": "markdown",
      "metadata": {
        "id": "rH4hPiF03YoC"
      },
      "source": [
        "Interpretation:\n",
        "\n",
        "It is observed in the output of above code expression that clients, who have negative balance in checking account do not differ a lot when it comes to the possibility of making or not making the loan payments on time. \n",
        "\n",
        "The clients, who have balance less than Rs. 2000 in the checking account again do not differ a lot with respect to those who are likely or not likely to make a default on loan payments. \n",
        "\n",
        "However, clients, who have balance greater than or equal to Rs. 2000 in the checking account are more likely to default on loan payments as approximately 77.8% of these clients with checking accounts are observed to have greater likelihood to become defaulters.\n",
        "\n",
        "Those who have no checking account are observed to have a wider gap between those who are more likely to become defaulters and those who are less likely to default on loan payments with 88.3% of the clients are deemed as 'good' clients. \n",
        "\n",
        "Overall, clients with negative balance in checking accounts are more likely to become defaulters and those with no checking account are found to be most likely to make the loan payments. "
      ]
    },
    {
      "cell_type": "code",
      "metadata": {
        "colab": {
          "base_uri": "https://localhost:8080/"
        },
        "id": "6JLcQnpGQBIz",
        "outputId": "7a6315c0-0aae-4280-c356-0990b33e62ed"
      },
      "source": [
        "# now, checking the relation between feature 'Cdur' and 'creditScore'. Please note that 'Cdur' refers to the duration of credit and is \n",
        "# expressed in months. Firstly, we will check the unique values in 'Cdur' column\n",
        "\n",
        "data['Cdur'].value_counts()"
      ],
      "execution_count": 12,
      "outputs": [
        {
          "output_type": "execute_result",
          "data": {
            "text/plain": [
              "24    184\n",
              "12    179\n",
              "18    113\n",
              "36     83\n",
              "6      75\n",
              "15     64\n",
              "9      49\n",
              "48     48\n",
              "30     40\n",
              "21     30\n",
              "10     28\n",
              "27     13\n",
              "60     13\n",
              "42     11\n",
              "11      9\n",
              "20      8\n",
              "8       7\n",
              "4       6\n",
              "39      5\n",
              "45      5\n",
              "7       5\n",
              "14      4\n",
              "13      4\n",
              "33      3\n",
              "28      3\n",
              "22      2\n",
              "16      2\n",
              "54      2\n",
              "26      1\n",
              "40      1\n",
              "47      1\n",
              "5       1\n",
              "72      1\n",
              "Name: Cdur, dtype: int64"
            ]
          },
          "metadata": {},
          "execution_count": 12
        }
      ]
    },
    {
      "cell_type": "markdown",
      "metadata": {
        "id": "290MMCScSV40"
      },
      "source": [
        "The output of above code expression shows that there are a lot of unique values in 'Cdur' column. Moreover, we observed earlier that the data do not follow Gaussian distribution in 'Cdur' column. Hence, median values of 'Cdur' for which the clients are likely to be either defaulters or non-defaulters can be considered for identifying the relationship between 'Cdur' and target variable, 'creditScore'. We can also divide the data in 'Cdur' column with respect to the percentiles i.e.; values below 25 percentile, 25-50 percentie, 50-75 percentile and 75-100 percentile respectively to have better information. "
      ]
    },
    {
      "cell_type": "code",
      "metadata": {
        "colab": {
          "base_uri": "https://localhost:8080/",
          "height": 143
        },
        "id": "3-Z5mJHgUlxx",
        "outputId": "434eb41c-8f3c-4bb8-ab1c-50d069bc9025"
      },
      "source": [
        "# checking the relation between 'Cdur' and 'creditScore' by median values of 'Cdur'\n",
        "\n",
        "pd.crosstab(index = data['creditScore'], columns = data['creditScore'], values = data['Cdur'], aggfunc = 'median')"
      ],
      "execution_count": 13,
      "outputs": [
        {
          "output_type": "execute_result",
          "data": {
            "text/html": [
              "<div>\n",
              "<style scoped>\n",
              "    .dataframe tbody tr th:only-of-type {\n",
              "        vertical-align: middle;\n",
              "    }\n",
              "\n",
              "    .dataframe tbody tr th {\n",
              "        vertical-align: top;\n",
              "    }\n",
              "\n",
              "    .dataframe thead th {\n",
              "        text-align: right;\n",
              "    }\n",
              "</style>\n",
              "<table border=\"1\" class=\"dataframe\">\n",
              "  <thead>\n",
              "    <tr style=\"text-align: right;\">\n",
              "      <th>creditScore</th>\n",
              "      <th>bad</th>\n",
              "      <th>good</th>\n",
              "    </tr>\n",
              "    <tr>\n",
              "      <th>creditScore</th>\n",
              "      <th></th>\n",
              "      <th></th>\n",
              "    </tr>\n",
              "  </thead>\n",
              "  <tbody>\n",
              "    <tr>\n",
              "      <th>bad</th>\n",
              "      <td>24.0</td>\n",
              "      <td>NaN</td>\n",
              "    </tr>\n",
              "    <tr>\n",
              "      <th>good</th>\n",
              "      <td>NaN</td>\n",
              "      <td>18.0</td>\n",
              "    </tr>\n",
              "  </tbody>\n",
              "</table>\n",
              "</div>"
            ],
            "text/plain": [
              "creditScore   bad  good\n",
              "creditScore            \n",
              "bad          24.0   NaN\n",
              "good          NaN  18.0"
            ]
          },
          "metadata": {},
          "execution_count": 13
        }
      ]
    },
    {
      "cell_type": "markdown",
      "metadata": {
        "id": "CJhrtNuKX08f"
      },
      "source": [
        "The output of above code expression does not give enough information about the relation between the feature and the label to make a good inference. Hence, we will divide the data according to the percentile values and then check the relationship to make an inference. "
      ]
    },
    {
      "cell_type": "code",
      "metadata": {
        "colab": {
          "base_uri": "https://localhost:8080/"
        },
        "id": "8qGlI2qBYc0l",
        "outputId": "d4ac000d-b689-419a-f052-af75c3db4157"
      },
      "source": [
        "# checking again the statistical summary of 'Cdur' to view the percentile values\n",
        "\n",
        "data['Cdur'].describe()"
      ],
      "execution_count": 14,
      "outputs": [
        {
          "output_type": "execute_result",
          "data": {
            "text/plain": [
              "count    1000.000000\n",
              "mean       20.903000\n",
              "std        12.058814\n",
              "min         4.000000\n",
              "25%        12.000000\n",
              "50%        18.000000\n",
              "75%        24.000000\n",
              "max        72.000000\n",
              "Name: Cdur, dtype: float64"
            ]
          },
          "metadata": {},
          "execution_count": 14
        }
      ]
    },
    {
      "cell_type": "markdown",
      "metadata": {
        "id": "2LI-6TTIXfQ6"
      },
      "source": [
        "**Interpretation:**\n",
        "\n",
        "The distribution of data in 'Cdur' is interpreted as follows:\n",
        "\n",
        "values > 0 but < 12 comprise of lower 25% of the data\n",
        "\n",
        "values >= 12 but < 18 comprise of first 25%-50% of the data\n",
        "\n",
        "values >= 18 but < 24 comprise of 50%-75% of data\n",
        "\n",
        "values >= 24 comprise of 75%-100% of data"
      ]
    },
    {
      "cell_type": "code",
      "metadata": {
        "colab": {
          "base_uri": "https://localhost:8080/"
        },
        "id": "GWEDrMQ4YoT0",
        "outputId": "909d81c8-7507-4e5a-8ab7-ca17c1566bae"
      },
      "source": [
        "# creating different categories according to the above interpretation\n",
        "\n",
        "percentile_list = []\n",
        "\n",
        "for i in data['Cdur'].index:\n",
        "  if (data['Cdur'].loc[i] > 0) and (data['Cdur'].loc[i] < 12):\n",
        "    percentile_list.append('25%')\n",
        "  if (data['Cdur'].loc[i] >= 12) and (data['Cdur'].loc[i] < 18):\n",
        "    percentile_list.append('25-50%')\n",
        "  if (data['Cdur'].loc[i] >= 18) and (data['Cdur'].loc[i] < 24):\n",
        "    percentile_list.append('50%-75%')\n",
        "  if (data['Cdur'].loc[i] >= 24):\n",
        "    percentile_list.append('75%-100%')\n",
        "  \n",
        "# printing the list created \n",
        "print(percentile_list)\n",
        "  "
      ],
      "execution_count": 15,
      "outputs": [
        {
          "output_type": "stream",
          "name": "stdout",
          "text": [
            "['25%', '25-50%', '75%-100%', '75%-100%', '75%-100%', '75%-100%', '25-50%', '25-50%', '75%-100%', '75%-100%', '75%-100%', '25%', '25%', '75%-100%', '75%-100%', '25-50%', '75%-100%', '25%', '75%-100%', '75%-100%', '75%-100%', '25-50%', '50%-75%', '75%-100%', '25%', '25-50%', '50%-75%', '75%-100%', '50%-75%', '25-50%', '25-50%', '25-50%', '25-50%', '75%-100%', '25-50%', '75%-100%', '25-50%', '50%-75%', '75%-100%', '50%-75%', '75%-100%', '75%-100%', '25%', '25%', '25-50%', '75%-100%', '50%-75%', '25-50%', '75%-100%', '25-50%', '25%', '25-50%', '50%-75%', '75%-100%', '25-50%', '75%-100%', '75%-100%', '25%', '75%-100%', '25-50%', '50%-75%', '75%-100%', '25-50%', '25%', '50%-75%', '25-50%', '25-50%', '25-50%', '25-50%', '25-50%', '75%-100%', '75%-100%', '25-50%', '50%-75%', '75%-100%', '25-50%', '75%-100%', '25-50%', '25-50%', '25-50%', '25%', '75%-100%', '75%-100%', '50%-75%', '50%-75%', '75%-100%', '25%', '25-50%', '75%-100%', '50%-75%', '25%', '25%', '75%-100%', '75%-100%', '75%-100%', '25-50%', '25%', '25-50%', '75%-100%', '25%', '75%-100%', '50%-75%', '25-50%', '25%', '75%-100%', '25%', '50%-75%', '25%', '75%-100%', '75%-100%', '25-50%', '25-50%', '75%-100%', '25%', '50%-75%', '75%-100%', '25-50%', '25%', '25-50%', '50%-75%', '75%-100%', '75%-100%', '50%-75%', '75%-100%', '50%-75%', '25-50%', '25%', '25-50%', '25-50%', '50%-75%', '75%-100%', '75%-100%', '75%-100%', '25%', '75%-100%', '25%', '25%', '25-50%', '75%-100%', '50%-75%', '25%', '25-50%', '75%-100%', '25-50%', '25-50%', '75%-100%', '25-50%', '25-50%', '75%-100%', '25-50%', '25%', '75%-100%', '75%-100%', '75%-100%', '75%-100%', '25%', '50%-75%', '75%-100%', '75%-100%', '25%', '25-50%', '25-50%', '25-50%', '75%-100%', '25-50%', '75%-100%', '75%-100%', '25-50%', '25%', '75%-100%', '75%-100%', '25%', '25-50%', '50%-75%', '25%', '75%-100%', '25%', '50%-75%', '25-50%', '75%-100%', '75%-100%', '25%', '75%-100%', '25-50%', '25-50%', '75%-100%', '25-50%', '25%', '75%-100%', '50%-75%', '25%', '25-50%', '75%-100%', '75%-100%', '25%', '75%-100%', '75%-100%', '25-50%', '25-50%', '25%', '25-50%', '75%-100%', '50%-75%', '25-50%', '25%', '25-50%', '75%-100%', '75%-100%', '25-50%', '75%-100%', '50%-75%', '25-50%', '75%-100%', '75%-100%', '75%-100%', '25%', '50%-75%', '25-50%', '25%', '75%-100%', '25-50%', '25-50%', '50%-75%', '25-50%', '75%-100%', '75%-100%', '75%-100%', '75%-100%', '25-50%', '75%-100%', '25-50%', '75%-100%', '75%-100%', '75%-100%', '75%-100%', '75%-100%', '25-50%', '25%', '50%-75%', '50%-75%', '25%', '75%-100%', '75%-100%', '25%', '75%-100%', '25%', '75%-100%', '25-50%', '25%', '25%', '75%-100%', '75%-100%', '75%-100%', '25-50%', '25%', '75%-100%', '25-50%', '75%-100%', '25-50%', '25-50%', '75%-100%', '75%-100%', '75%-100%', '50%-75%', '50%-75%', '25%', '25-50%', '75%-100%', '75%-100%', '25%', '75%-100%', '50%-75%', '75%-100%', '75%-100%', '75%-100%', '25%', '25-50%', '25-50%', '75%-100%', '25%', '75%-100%', '50%-75%', '50%-75%', '50%-75%', '25%', '25-50%', '25-50%', '75%-100%', '25%', '25%', '25%', '25%', '50%-75%', '25-50%', '25%', '75%-100%', '25-50%', '75%-100%', '25-50%', '75%-100%', '50%-75%', '25-50%', '25-50%', '25%', '50%-75%', '25-50%', '50%-75%', '50%-75%', '75%-100%', '50%-75%', '75%-100%', '50%-75%', '25%', '75%-100%', '75%-100%', '75%-100%', '50%-75%', '25%', '75%-100%', '25%', '50%-75%', '50%-75%', '50%-75%', '25-50%', '75%-100%', '50%-75%', '50%-75%', '50%-75%', '25-50%', '25%', '50%-75%', '25-50%', '75%-100%', '25%', '25%', '75%-100%', '25-50%', '75%-100%', '25-50%', '75%-100%', '50%-75%', '50%-75%', '75%-100%', '25-50%', '50%-75%', '75%-100%', '75%-100%', '25-50%', '75%-100%', '25-50%', '75%-100%', '75%-100%', '25-50%', '25%', '75%-100%', '75%-100%', '25-50%', '50%-75%', '50%-75%', '50%-75%', '25-50%', '25-50%', '25-50%', '50%-75%', '25-50%', '50%-75%', '75%-100%', '50%-75%', '25%', '50%-75%', '25%', '75%-100%', '25%', '75%-100%', '25%', '25-50%', '25%', '75%-100%', '75%-100%', '25-50%', '25-50%', '25-50%', '50%-75%', '25-50%', '75%-100%', '25%', '75%-100%', '25%', '25-50%', '25-50%', '75%-100%', '25%', '25-50%', '75%-100%', '75%-100%', '75%-100%', '25%', '25-50%', '25%', '50%-75%', '75%-100%', '25-50%', '25-50%', '25-50%', '50%-75%', '75%-100%', '75%-100%', '75%-100%', '75%-100%', '75%-100%', '75%-100%', '25%', '25%', '25%', '50%-75%', '50%-75%', '75%-100%', '75%-100%', '25-50%', '25-50%', '25-50%', '75%-100%', '75%-100%', '25-50%', '25-50%', '25%', '25-50%', '75%-100%', '25%', '25%', '25-50%', '75%-100%', '25%', '25%', '25-50%', '75%-100%', '75%-100%', '75%-100%', '50%-75%', '25%', '75%-100%', '75%-100%', '25%', '75%-100%', '75%-100%', '25%', '25-50%', '25-50%', '75%-100%', '75%-100%', '25-50%', '75%-100%', '25-50%', '25-50%', '75%-100%', '25%', '25%', '75%-100%', '25%', '25%', '75%-100%', '50%-75%', '75%-100%', '75%-100%', '50%-75%', '75%-100%', '25-50%', '25%', '75%-100%', '25%', '75%-100%', '25-50%', '25-50%', '75%-100%', '75%-100%', '50%-75%', '25%', '50%-75%', '75%-100%', '50%-75%', '25-50%', '75%-100%', '75%-100%', '50%-75%', '25-50%', '75%-100%', '75%-100%', '75%-100%', '25-50%', '75%-100%', '25-50%', '25%', '75%-100%', '25-50%', '25%', '25-50%', '50%-75%', '50%-75%', '75%-100%', '50%-75%', '75%-100%', '75%-100%', '25%', '75%-100%', '75%-100%', '75%-100%', '25-50%', '75%-100%', '75%-100%', '75%-100%', '75%-100%', '75%-100%', '75%-100%', '25-50%', '25%', '25-50%', '25-50%', '75%-100%', '75%-100%', '75%-100%', '50%-75%', '25-50%', '25%', '75%-100%', '25-50%', '50%-75%', '25%', '25-50%', '50%-75%', '25-50%', '25-50%', '75%-100%', '50%-75%', '75%-100%', '75%-100%', '25%', '75%-100%', '75%-100%', '50%-75%', '75%-100%', '25%', '25%', '75%-100%', '75%-100%', '25%', '75%-100%', '75%-100%', '75%-100%', '50%-75%', '25-50%', '25-50%', '25%', '50%-75%', '75%-100%', '50%-75%', '75%-100%', '75%-100%', '25%', '75%-100%', '25-50%', '50%-75%', '50%-75%', '75%-100%', '25-50%', '50%-75%', '25-50%', '25%', '25%', '75%-100%', '25%', '75%-100%', '50%-75%', '25-50%', '25%', '75%-100%', '25-50%', '75%-100%', '75%-100%', '25-50%', '75%-100%', '50%-75%', '25-50%', '25-50%', '75%-100%', '50%-75%', '75%-100%', '75%-100%', '25-50%', '75%-100%', '25-50%', '75%-100%', '25-50%', '75%-100%', '75%-100%', '75%-100%', '25-50%', '25-50%', '75%-100%', '75%-100%', '50%-75%', '25-50%', '25-50%', '50%-75%', '25%', '25%', '75%-100%', '75%-100%', '75%-100%', '25-50%', '75%-100%', '75%-100%', '75%-100%', '75%-100%', '25%', '50%-75%', '75%-100%', '75%-100%', '75%-100%', '75%-100%', '50%-75%', '25%', '25-50%', '25-50%', '75%-100%', '75%-100%', '75%-100%', '25%', '75%-100%', '25%', '25-50%', '25-50%', '25-50%', '75%-100%', '25%', '75%-100%', '25%', '25-50%', '25-50%', '50%-75%', '25-50%', '25-50%', '75%-100%', '75%-100%', '75%-100%', '75%-100%', '25-50%', '75%-100%', '25-50%', '25%', '25%', '50%-75%', '25%', '50%-75%', '25%', '75%-100%', '75%-100%', '75%-100%', '50%-75%', '75%-100%', '50%-75%', '25%', '25%', '25-50%', '25%', '75%-100%', '25%', '25-50%', '50%-75%', '75%-100%', '75%-100%', '75%-100%', '75%-100%', '25%', '75%-100%', '25%', '75%-100%', '75%-100%', '50%-75%', '25%', '75%-100%', '75%-100%', '25%', '50%-75%', '75%-100%', '75%-100%', '25-50%', '25-50%', '25-50%', '50%-75%', '25-50%', '25%', '50%-75%', '25-50%', '75%-100%', '25-50%', '75%-100%', '25%', '25-50%', '75%-100%', '25-50%', '25-50%', '50%-75%', '25-50%', '50%-75%', '75%-100%', '25-50%', '75%-100%', '25%', '25-50%', '25-50%', '75%-100%', '75%-100%', '50%-75%', '75%-100%', '25-50%', '75%-100%', '75%-100%', '50%-75%', '75%-100%', '50%-75%', '75%-100%', '75%-100%', '25-50%', '25-50%', '50%-75%', '50%-75%', '50%-75%', '75%-100%', '75%-100%', '75%-100%', '50%-75%', '75%-100%', '25%', '75%-100%', '75%-100%', '25%', '50%-75%', '25-50%', '75%-100%', '25%', '75%-100%', '50%-75%', '50%-75%', '25-50%', '25-50%', '75%-100%', '25%', '25-50%', '75%-100%', '25-50%', '25%', '25%', '75%-100%', '75%-100%', '75%-100%', '75%-100%', '25%', '25%', '75%-100%', '50%-75%', '25-50%', '25-50%', '75%-100%', '25%', '50%-75%', '50%-75%', '50%-75%', '50%-75%', '75%-100%', '75%-100%', '75%-100%', '50%-75%', '75%-100%', '75%-100%', '25-50%', '25-50%', '25-50%', '25%', '75%-100%', '75%-100%', '75%-100%', '50%-75%', '50%-75%', '75%-100%', '50%-75%', '50%-75%', '50%-75%', '75%-100%', '25%', '25-50%', '50%-75%', '75%-100%', '25-50%', '50%-75%', '75%-100%', '75%-100%', '25%', '25-50%', '25-50%', '25%', '75%-100%', '50%-75%', '75%-100%', '75%-100%', '25%', '25-50%', '50%-75%', '25-50%', '75%-100%', '25-50%', '75%-100%', '25%', '75%-100%', '25-50%', '25-50%', '25%', '50%-75%', '75%-100%', '25%', '75%-100%', '75%-100%', '75%-100%', '75%-100%', '50%-75%', '75%-100%', '25-50%', '75%-100%', '75%-100%', '75%-100%', '75%-100%', '75%-100%', '25-50%', '25-50%', '75%-100%', '50%-75%', '75%-100%', '50%-75%', '25-50%', '25-50%', '50%-75%', '25-50%', '50%-75%', '75%-100%', '25-50%', '75%-100%', '25-50%', '50%-75%', '75%-100%', '25-50%', '25%', '75%-100%', '75%-100%', '75%-100%', '25%', '75%-100%', '75%-100%', '25%', '25%', '75%-100%', '75%-100%', '50%-75%', '75%-100%', '25%', '25-50%', '75%-100%', '25-50%', '50%-75%', '75%-100%', '75%-100%', '25-50%', '75%-100%', '25%', '25%', '25-50%', '25-50%', '75%-100%', '25%', '25%', '75%-100%', '75%-100%', '25-50%', '25%', '75%-100%', '25%', '25-50%', '75%-100%', '75%-100%', '25-50%', '50%-75%', '75%-100%', '50%-75%', '75%-100%', '75%-100%', '75%-100%', '25-50%', '75%-100%', '75%-100%', '25%', '75%-100%', '75%-100%', '25%', '50%-75%', '25-50%', '75%-100%', '25%', '75%-100%', '75%-100%', '25-50%', '75%-100%', '25%', '25-50%', '75%-100%', '75%-100%', '75%-100%', '75%-100%', '75%-100%', '25%', '50%-75%', '75%-100%', '25-50%', '75%-100%', '75%-100%', '50%-75%', '75%-100%', '75%-100%', '25-50%', '75%-100%', '25-50%', '75%-100%', '75%-100%', '25-50%', '25-50%', '50%-75%', '75%-100%', '25-50%', '25-50%', '75%-100%', '25-50%', '75%-100%', '75%-100%', '25%', '75%-100%', '25-50%', '75%-100%', '75%-100%', '75%-100%', '75%-100%', '75%-100%', '25-50%', '75%-100%', '25-50%', '75%-100%', '25-50%', '75%-100%', '25-50%', '75%-100%', '75%-100%', '75%-100%', '75%-100%', '75%-100%', '25%', '25%', '25%', '25-50%', '25%', '25%', '25%', '25-50%', '25%', '75%-100%', '50%-75%', '75%-100%', '50%-75%', '25-50%', '25-50%', '75%-100%', '75%-100%', '50%-75%', '25%', '25%', '75%-100%', '25-50%', '50%-75%', '75%-100%', '75%-100%', '25%', '75%-100%', '25%', '25%', '25-50%', '75%-100%', '75%-100%', '25-50%', '50%-75%', '75%-100%', '25%', '25-50%', '75%-100%', '50%-75%', '75%-100%']\n"
          ]
        }
      ]
    },
    {
      "cell_type": "markdown",
      "metadata": {
        "id": "myqYSkz_6q7q"
      },
      "source": [
        "The given dataframe already contains many columns. We don't need to add percentile_list to the dataframe. Instead, we can store the values in percentile_list as a Pandas series and check the relation between the feature, 'Cdur' and the created series with percentile values. "
      ]
    },
    {
      "cell_type": "code",
      "metadata": {
        "id": "GY5bHAVn7qva",
        "colab": {
          "base_uri": "https://localhost:8080/"
        },
        "outputId": "3790ebe6-87ca-4be4-b23c-ef572d206c8d"
      },
      "source": [
        "# creating a series with percentile values\n",
        "\n",
        "percentile_dur = pd.Series(percentile_list)\n",
        "\n",
        "# checking the unique values in percentile_list\n",
        "\n",
        "percentile_dur.value_counts()"
      ],
      "execution_count": 16,
      "outputs": [
        {
          "output_type": "execute_result",
          "data": {
            "text/plain": [
              "75%-100%    414\n",
              "25-50%      253\n",
              "25%         180\n",
              "50%-75%     153\n",
              "dtype: int64"
            ]
          },
          "metadata": {},
          "execution_count": 16
        }
      ]
    },
    {
      "cell_type": "code",
      "metadata": {
        "colab": {
          "base_uri": "https://localhost:8080/",
          "height": 236
        },
        "id": "4RefF28H8dyp",
        "outputId": "bbe96de8-f9d2-43ac-dccb-83db5f526995"
      },
      "source": [
        "# checking the relation between 'creditScore' in dataframe and percentile_dur by using counts of values in 'creditScore'\n",
        "\n",
        "pd.crosstab(index = percentile_dur, columns = data['creditScore'], values = data['creditScore'], aggfunc = 'count', margins = True, normalize = True)"
      ],
      "execution_count": 17,
      "outputs": [
        {
          "output_type": "execute_result",
          "data": {
            "text/html": [
              "<div>\n",
              "<style scoped>\n",
              "    .dataframe tbody tr th:only-of-type {\n",
              "        vertical-align: middle;\n",
              "    }\n",
              "\n",
              "    .dataframe tbody tr th {\n",
              "        vertical-align: top;\n",
              "    }\n",
              "\n",
              "    .dataframe thead th {\n",
              "        text-align: right;\n",
              "    }\n",
              "</style>\n",
              "<table border=\"1\" class=\"dataframe\">\n",
              "  <thead>\n",
              "    <tr style=\"text-align: right;\">\n",
              "      <th>creditScore</th>\n",
              "      <th>bad</th>\n",
              "      <th>good</th>\n",
              "      <th>All</th>\n",
              "    </tr>\n",
              "    <tr>\n",
              "      <th>row_0</th>\n",
              "      <th></th>\n",
              "      <th></th>\n",
              "      <th></th>\n",
              "    </tr>\n",
              "  </thead>\n",
              "  <tbody>\n",
              "    <tr>\n",
              "      <th>25%</th>\n",
              "      <td>0.027</td>\n",
              "      <td>0.153</td>\n",
              "      <td>0.180</td>\n",
              "    </tr>\n",
              "    <tr>\n",
              "      <th>25-50%</th>\n",
              "      <td>0.063</td>\n",
              "      <td>0.190</td>\n",
              "      <td>0.253</td>\n",
              "    </tr>\n",
              "    <tr>\n",
              "      <th>50%-75%</th>\n",
              "      <td>0.052</td>\n",
              "      <td>0.101</td>\n",
              "      <td>0.153</td>\n",
              "    </tr>\n",
              "    <tr>\n",
              "      <th>75%-100%</th>\n",
              "      <td>0.158</td>\n",
              "      <td>0.256</td>\n",
              "      <td>0.414</td>\n",
              "    </tr>\n",
              "    <tr>\n",
              "      <th>All</th>\n",
              "      <td>0.300</td>\n",
              "      <td>0.700</td>\n",
              "      <td>1.000</td>\n",
              "    </tr>\n",
              "  </tbody>\n",
              "</table>\n",
              "</div>"
            ],
            "text/plain": [
              "creditScore    bad   good    All\n",
              "row_0                           \n",
              "25%          0.027  0.153  0.180\n",
              "25-50%       0.063  0.190  0.253\n",
              "50%-75%      0.052  0.101  0.153\n",
              "75%-100%     0.158  0.256  0.414\n",
              "All          0.300  0.700  1.000"
            ]
          },
          "metadata": {},
          "execution_count": 17
        }
      ]
    },
    {
      "cell_type": "markdown",
      "metadata": {
        "id": "A2dU6wlIC7GV"
      },
      "source": [
        "Interpretation:\n",
        "\n",
        "The output of above code expression shows that clients, who take credit for the duration that lies in 75th - 100th percentile (24-72 months) of the data in months are more likely to not default on loan payments. However, the output also shows that clients, who take credit for the duration that lies in 25th - 50th percentile (12-18 months) of the data in months are more likely to not default on loan payments. In case of clients, who took a loan for a duration that lies in 25th percentile (0-12 months) of data in months are more likely to not default on loan payments. Clients in 50th-75th percentile (18-24 months) are more likely to not default on loan payments. \n",
        "\n",
        "Overall, clients are observed to be significantly more likely to not default on loan payments. Moreover, the highest proportion of clients were in 75th - 100th percentile and lowest in 50th-75th percentile."
      ]
    },
    {
      "cell_type": "code",
      "metadata": {
        "colab": {
          "base_uri": "https://localhost:8080/"
        },
        "id": "hQGL8nsIL1SA",
        "outputId": "b7fc6b0a-7749-4113-a9c2-2cccff0b73e4"
      },
      "source": [
        "# checking the relation between 'Chist' or credit dues payment over time and 'creditScore' but first, we will check\n",
        "# the counts of unique values in 'Chist' column\n",
        "\n",
        "data['Chist'].value_counts()\n"
      ],
      "execution_count": 18,
      "outputs": [
        {
          "output_type": "execute_result",
          "data": {
            "text/plain": [
              "all settled till now      618\n",
              "dues not paid earlier     293\n",
              "all settled                49\n",
              "none taken/all settled     40\n",
              "Name: Chist, dtype: int64"
            ]
          },
          "metadata": {},
          "execution_count": 18
        }
      ]
    },
    {
      "cell_type": "markdown",
      "metadata": {
        "id": "G8jPPEopThBv"
      },
      "source": [
        "Fewer unique values are observed in 'Chist' column. Most of the clients have paid all the dues and 29.3% of the clients have not paid the dues earlier. "
      ]
    },
    {
      "cell_type": "code",
      "metadata": {
        "colab": {
          "base_uri": "https://localhost:8080/",
          "height": 236
        },
        "id": "BLAToHFQTemB",
        "outputId": "1639371c-c057-4767-ab35-b7aace6e18b7"
      },
      "source": [
        "# after checking the counts of values in 'Chist', we will check the relations between 'Chist' and 'creditScore' \n",
        "\n",
        "pd.crosstab(index = data['Chist'], columns = data['creditScore'], \n",
        "            values = data['creditScore'], aggfunc = 'count', margins = True, normalize = True)"
      ],
      "execution_count": 19,
      "outputs": [
        {
          "output_type": "execute_result",
          "data": {
            "text/html": [
              "<div>\n",
              "<style scoped>\n",
              "    .dataframe tbody tr th:only-of-type {\n",
              "        vertical-align: middle;\n",
              "    }\n",
              "\n",
              "    .dataframe tbody tr th {\n",
              "        vertical-align: top;\n",
              "    }\n",
              "\n",
              "    .dataframe thead th {\n",
              "        text-align: right;\n",
              "    }\n",
              "</style>\n",
              "<table border=\"1\" class=\"dataframe\">\n",
              "  <thead>\n",
              "    <tr style=\"text-align: right;\">\n",
              "      <th>creditScore</th>\n",
              "      <th>bad</th>\n",
              "      <th>good</th>\n",
              "      <th>All</th>\n",
              "    </tr>\n",
              "    <tr>\n",
              "      <th>Chist</th>\n",
              "      <th></th>\n",
              "      <th></th>\n",
              "      <th></th>\n",
              "    </tr>\n",
              "  </thead>\n",
              "  <tbody>\n",
              "    <tr>\n",
              "      <th>all settled</th>\n",
              "      <td>0.028</td>\n",
              "      <td>0.021</td>\n",
              "      <td>0.049</td>\n",
              "    </tr>\n",
              "    <tr>\n",
              "      <th>all settled till now</th>\n",
              "      <td>0.197</td>\n",
              "      <td>0.421</td>\n",
              "      <td>0.618</td>\n",
              "    </tr>\n",
              "    <tr>\n",
              "      <th>dues not paid earlier</th>\n",
              "      <td>0.050</td>\n",
              "      <td>0.243</td>\n",
              "      <td>0.293</td>\n",
              "    </tr>\n",
              "    <tr>\n",
              "      <th>none taken/all settled</th>\n",
              "      <td>0.025</td>\n",
              "      <td>0.015</td>\n",
              "      <td>0.040</td>\n",
              "    </tr>\n",
              "    <tr>\n",
              "      <th>All</th>\n",
              "      <td>0.300</td>\n",
              "      <td>0.700</td>\n",
              "      <td>1.000</td>\n",
              "    </tr>\n",
              "  </tbody>\n",
              "</table>\n",
              "</div>"
            ],
            "text/plain": [
              "creditScore               bad   good    All\n",
              "Chist                                      \n",
              "all settled             0.028  0.021  0.049\n",
              "all settled till now    0.197  0.421  0.618\n",
              "dues not paid earlier   0.050  0.243  0.293\n",
              "none taken/all settled  0.025  0.015  0.040\n",
              "All                     0.300  0.700  1.000"
            ]
          },
          "metadata": {},
          "execution_count": 19
        }
      ]
    },
    {
      "cell_type": "markdown",
      "metadata": {
        "id": "6-TMpc64XPjh"
      },
      "source": [
        "Interpretation:\n",
        "\n",
        "Clients, who have loans, 'all settled till now' are most likely to not default on loan payments among other clients, who are also likely to not default on loan payments. \n",
        "\n",
        "Clients, who have loans, 'all settled till now' are most likely to default on loan payments among other clients, who are also likely to default on loan payments.\n",
        "\n",
        "Clients, who have taken no loan/all settled are least likely to both default and not default on loan payments. \n",
        "\n",
        "\n",
        "---\n",
        "\n",
        "Important points:\n",
        "\n",
        "The values 'none taken/all settled' in 'Chist' can be compared to corresponding values in 'Camt' column to check whether the client has really taken the loan and if yes, then he has settled all the loan and if no, then he has not taken any loan.  It is also evident in the output that even for the clients, whose 'Chist' values are 'none taken/all settled' and 'all settled' are claimed to have some likelihood to become defaulters.  "
      ]
    },
    {
      "cell_type": "code",
      "metadata": {
        "colab": {
          "base_uri": "https://localhost:8080/"
        },
        "id": "pzA_nJkPp3P5",
        "outputId": "42054db3-ddf3-4740-a1dc-38b1f86ed1fe"
      },
      "source": [
        "# now, checking the relation between 'Cpur' or purpose of taking the credit and target variable 'creditScore' by first checking\n",
        "# the counts of values in 'Cpur'\n",
        "\n",
        "data['Cpur'].value_counts()"
      ],
      "execution_count": 20,
      "outputs": [
        {
          "output_type": "execute_result",
          "data": {
            "text/plain": [
              "electronics            280\n",
              "second hand vehicle    234\n",
              "furniture              181\n",
              "new vehicle            103\n",
              "Business                97\n",
              "education               50\n",
              "renovation              22\n",
              "miscellaneous           12\n",
              "domestic needs          12\n",
              "retaining                9\n",
              "Name: Cpur, dtype: int64"
            ]
          },
          "metadata": {},
          "execution_count": 20
        }
      ]
    },
    {
      "cell_type": "code",
      "metadata": {
        "colab": {
          "base_uri": "https://localhost:8080/",
          "height": 425
        },
        "id": "1ttm_NkpzZov",
        "outputId": "f5851886-14e1-444f-b0d2-4670dcd99340"
      },
      "source": [
        "# checking the relation between 'Cpur' or purpose of taking the credit and target variable 'creditScore'\n",
        "\n",
        "pd.crosstab(index = data['Cpur'], columns = data['creditScore'], values = data['creditScore'], aggfunc = 'count', margins = True, normalize = True)"
      ],
      "execution_count": 21,
      "outputs": [
        {
          "output_type": "execute_result",
          "data": {
            "text/html": [
              "<div>\n",
              "<style scoped>\n",
              "    .dataframe tbody tr th:only-of-type {\n",
              "        vertical-align: middle;\n",
              "    }\n",
              "\n",
              "    .dataframe tbody tr th {\n",
              "        vertical-align: top;\n",
              "    }\n",
              "\n",
              "    .dataframe thead th {\n",
              "        text-align: right;\n",
              "    }\n",
              "</style>\n",
              "<table border=\"1\" class=\"dataframe\">\n",
              "  <thead>\n",
              "    <tr style=\"text-align: right;\">\n",
              "      <th>creditScore</th>\n",
              "      <th>bad</th>\n",
              "      <th>good</th>\n",
              "      <th>All</th>\n",
              "    </tr>\n",
              "    <tr>\n",
              "      <th>Cpur</th>\n",
              "      <th></th>\n",
              "      <th></th>\n",
              "      <th></th>\n",
              "    </tr>\n",
              "  </thead>\n",
              "  <tbody>\n",
              "    <tr>\n",
              "      <th>Business</th>\n",
              "      <td>0.034</td>\n",
              "      <td>0.063</td>\n",
              "      <td>0.097</td>\n",
              "    </tr>\n",
              "    <tr>\n",
              "      <th>domestic needs</th>\n",
              "      <td>0.004</td>\n",
              "      <td>0.008</td>\n",
              "      <td>0.012</td>\n",
              "    </tr>\n",
              "    <tr>\n",
              "      <th>education</th>\n",
              "      <td>0.022</td>\n",
              "      <td>0.028</td>\n",
              "      <td>0.050</td>\n",
              "    </tr>\n",
              "    <tr>\n",
              "      <th>electronics</th>\n",
              "      <td>0.062</td>\n",
              "      <td>0.218</td>\n",
              "      <td>0.280</td>\n",
              "    </tr>\n",
              "    <tr>\n",
              "      <th>furniture</th>\n",
              "      <td>0.058</td>\n",
              "      <td>0.123</td>\n",
              "      <td>0.181</td>\n",
              "    </tr>\n",
              "    <tr>\n",
              "      <th>miscellaneous</th>\n",
              "      <td>0.005</td>\n",
              "      <td>0.007</td>\n",
              "      <td>0.012</td>\n",
              "    </tr>\n",
              "    <tr>\n",
              "      <th>new vehicle</th>\n",
              "      <td>0.017</td>\n",
              "      <td>0.086</td>\n",
              "      <td>0.103</td>\n",
              "    </tr>\n",
              "    <tr>\n",
              "      <th>renovation</th>\n",
              "      <td>0.008</td>\n",
              "      <td>0.014</td>\n",
              "      <td>0.022</td>\n",
              "    </tr>\n",
              "    <tr>\n",
              "      <th>retaining</th>\n",
              "      <td>0.001</td>\n",
              "      <td>0.008</td>\n",
              "      <td>0.009</td>\n",
              "    </tr>\n",
              "    <tr>\n",
              "      <th>second hand vehicle</th>\n",
              "      <td>0.089</td>\n",
              "      <td>0.145</td>\n",
              "      <td>0.234</td>\n",
              "    </tr>\n",
              "    <tr>\n",
              "      <th>All</th>\n",
              "      <td>0.300</td>\n",
              "      <td>0.700</td>\n",
              "      <td>1.000</td>\n",
              "    </tr>\n",
              "  </tbody>\n",
              "</table>\n",
              "</div>"
            ],
            "text/plain": [
              "creditScore            bad   good    All\n",
              "Cpur                                    \n",
              "Business             0.034  0.063  0.097\n",
              "domestic needs       0.004  0.008  0.012\n",
              "education            0.022  0.028  0.050\n",
              "electronics          0.062  0.218  0.280\n",
              "furniture            0.058  0.123  0.181\n",
              "miscellaneous        0.005  0.007  0.012\n",
              "new vehicle          0.017  0.086  0.103\n",
              "renovation           0.008  0.014  0.022\n",
              "retaining            0.001  0.008  0.009\n",
              "second hand vehicle  0.089  0.145  0.234\n",
              "All                  0.300  0.700  1.000"
            ]
          },
          "metadata": {},
          "execution_count": 21
        }
      ]
    },
    {
      "cell_type": "markdown",
      "metadata": {
        "id": "PC7UTChj4L-j"
      },
      "source": [
        "Interpretation:\n",
        "\n",
        "Those clients who are not likely to be defaulters mostly have taken a credit for purpose of electronics and least for miscellaneous purpose. \n",
        "\n",
        "Those clients who are likely to be defaulters mostly have taken a credit for purpose of second hand vehicle and least for the purpose of retaining. "
      ]
    },
    {
      "cell_type": "code",
      "metadata": {
        "colab": {
          "base_uri": "https://localhost:8080/"
        },
        "id": "97O3fTYU5D1c",
        "outputId": "0d5212a1-155f-48a0-fa64-1c7220c4faa0"
      },
      "source": [
        "# now, we will check the relation between 'Camt' and 'creditScore' in dataframe. 'Camt' refers to the actual amount of credit/loan in Rs.\n",
        "\n",
        "# firstly, checking the total number of unique values in 'Camt' \n",
        "\n",
        "len(data['Camt'].unique())"
      ],
      "execution_count": 22,
      "outputs": [
        {
          "output_type": "execute_result",
          "data": {
            "text/plain": [
              "921"
            ]
          },
          "metadata": {},
          "execution_count": 22
        }
      ]
    },
    {
      "cell_type": "markdown",
      "metadata": {
        "id": "bA_QaxJFN78_"
      },
      "source": [
        "The output of above code expression shows that there are 921 unique values out of total 1000 values in 'Camt' column in dataset, which is significantly high as it is close to 92.1%. This observation indicates the problem of high cardinality in the particular feature. Please refer to the example under section 'Data Loading and Feature Engineering' in the official documentation of scikit-learn that is available on this link: https://scikit-learn.org/stable/auto_examples/inspection/plot_permutation_importance.html?highlight=high%20cardinality \n"
      ]
    },
    {
      "cell_type": "code",
      "metadata": {
        "colab": {
          "base_uri": "https://localhost:8080/"
        },
        "id": "ZNE6FGazVRum",
        "outputId": "dfd76e7c-ef07-4dee-ae48-5ff846e2fa7e"
      },
      "source": [
        "# checking the statistical description of 'Camt' column\n",
        "\n",
        "data['Camt'].describe()"
      ],
      "execution_count": 23,
      "outputs": [
        {
          "output_type": "execute_result",
          "data": {
            "text/plain": [
              "count      1000.00000\n",
              "mean      32592.58000\n",
              "std       28227.36876\n",
              "min        2380.00000\n",
              "25%       13535.00000\n",
              "50%       23075.00000\n",
              "75%       39602.50000\n",
              "max      184120.00000\n",
              "Name: Camt, dtype: float64"
            ]
          },
          "metadata": {},
          "execution_count": 23
        }
      ]
    },
    {
      "cell_type": "markdown",
      "metadata": {
        "id": "AFmZhDWjcKo3"
      },
      "source": [
        "Important Observation:\n",
        "\n",
        "---\n",
        "\n",
        "We have credit/loan amount values stored in 'Camt' and loan duration in 'Cdur'. In addition, 'InRate' has information about instalment rate (whether monthly, half-yearly, or quarterly is not known to us). The total duration of a loan in months can be calculated and fixed after knowing the instalment rate and vice-versa to ensure payment of total loan amount that the client has availed in the designated period. The loan duration can also depend upon whether there are any co-applicants for the payment of the loans given in 'Oparties' as it can reduce the total time required to pay the loan unlike cases in which clients invidually make the loan payments. Please refer to this link: https://m.rbi.org.in/scripts/FAQView.aspx?Id=77\n",
        "\n",
        "Although income is also crucial in deciding the loan amount, duration and instalment rate, we don't know whether the amount that client holds in the savings account given in feature, 'Sbal' can be considered for allocation of certain amount to disposable income and rest of the amount to savings. There are no income details given in the dataset. \n"
      ]
    },
    {
      "cell_type": "code",
      "metadata": {
        "id": "W4T_d1XTOdQg"
      },
      "source": [
        "# dividing the values in 'Camt' according to the percentile data and checking its relation with 'creditScore' \n",
        "\n",
        "# values > 0 and values < 13535 - 25th percentile\n",
        "\n",
        "# values >= 13535 and values < 23075 - 25th-50th percentile\n",
        "\n",
        "# values >= 23075 and values < 39602 - 50th-75th percentile\n",
        "\n",
        "# values >= 39602  -  75th-100th percentile"
      ],
      "execution_count": 24,
      "outputs": []
    },
    {
      "cell_type": "code",
      "metadata": {
        "id": "oltMBuycR7jC",
        "colab": {
          "base_uri": "https://localhost:8080/"
        },
        "outputId": "b23950e1-0831-49d5-bb1a-0b49bebc46f0"
      },
      "source": [
        "# creating different categories according to the above interpretation\n",
        "\n",
        "percentile_list1 = []\n",
        "\n",
        "for i in data['Camt'].index:\n",
        "  if (data['Camt'].loc[i] > 0) and (data['Camt'].loc[i] < 13535):\n",
        "    percentile_list1.append('25%')\n",
        "  if (data['Camt'].loc[i] >= 13535) and (data['Camt'].loc[i] < 23075):\n",
        "    percentile_list1.append('25-50%')\n",
        "  if (data['Camt'].loc[i] >= 23075) and (data['Camt'].loc[i] < 39602):\n",
        "    percentile_list1.append('50%-75%')\n",
        "  if (data['Camt'].loc[i] >= 39602):\n",
        "    percentile_list1.append('75%-100%')\n",
        "  \n",
        "# printing the list created \n",
        "print(percentile_list1)"
      ],
      "execution_count": 25,
      "outputs": [
        {
          "output_type": "stream",
          "name": "stdout",
          "text": [
            "['25-50%', '25-50%', '25-50%', '75%-100%', '50%-75%', '75%-100%', '25-50%', '25%', '25-50%', '50%-75%', '75%-100%', '25%', '25%', '75%-100%', '25-50%', '25-50%', '50%-75%', '75%-100%', '75%-100%', '50%-75%', '75%-100%', '25%', '25-50%', '25-50%', '25-50%', '25-50%', '25%', '75%-100%', '25-50%', '25%', '25%', '25-50%', '25%', '50%-75%', '25%', '75%-100%', '25-50%', '50%-75%', '50%-75%', '75%-100%', '25-50%', '50%-75%', '25%', '25-50%', '50%-75%', '75%-100%', '75%-100%', '75%-100%', '75%-100%', '25-50%', '25-50%', '25%', '75%-100%', '75%-100%', '25-50%', '50%-75%', '75%-100%', '25-50%', '75%-100%', '50%-75%', '25-50%', '50%-75%', '25-50%', '25%', '25-50%', '25-50%', '25%', '25%', '25-50%', '50%-75%', '75%-100%', '75%-100%', '50%-75%', '25-50%', '75%-100%', '25%', '75%-100%', '25%', '50%-75%', '25-50%', '25%', '75%-100%', '50%-75%', '50%-75%', '25-50%', '50%-75%', '25%', '25%', '75%-100%', '25-50%', '25%', '25-50%', '75%-100%', '75%-100%', '75%-100%', '25%', '25%', '25%', '50%-75%', '25-50%', '50%-75%', '25%', '25%', '75%-100%', '25%', '50%-75%', '25%', '25-50%', '50%-75%', '25-50%', '25%', '25%', '25-50%', '25-50%', '50%-75%', '75%-100%', '50%-75%', '25%', '25-50%', '25%', '75%-100%', '75%-100%', '25-50%', '50%-75%', '25%', '25%', '75%-100%', '25%', '25%', '50%-75%', '75%-100%', '50%-75%', '50%-75%', '25-50%', '50%-75%', '25-50%', '25-50%', '25%', '50%-75%', '75%-100%', '25%', '25%', '75%-100%', '25%', '25-50%', '75%-100%', '25-50%', '25-50%', '75%-100%', '25-50%', '50%-75%', '50%-75%', '75%-100%', '25-50%', '50%-75%', '25%', '50%-75%', '50%-75%', '50%-75%', '25%', '25%', '25%', '25%', '50%-75%', '75%-100%', '50%-75%', '75%-100%', '75%-100%', '25-50%', '50%-75%', '75%-100%', '50%-75%', '25-50%', '25%', '25-50%', '25-50%', '75%-100%', '50%-75%', '25%', '50%-75%', '25%', '25-50%', '75%-100%', '25%', '50%-75%', '25%', '25%', '25%', '25-50%', '25%', '25%', '25-50%', '25-50%', '75%-100%', '25-50%', '75%-100%', '50%-75%', '25-50%', '50%-75%', '25%', '25-50%', '25-50%', '75%-100%', '50%-75%', '25%', '25%', '75%-100%', '25-50%', '75%-100%', '25%', '50%-75%', '25-50%', '75%-100%', '50%-75%', '75%-100%', '50%-75%', '50%-75%', '25%', '75%-100%', '25-50%', '50%-75%', '25-50%', '25-50%', '25-50%', '50%-75%', '75%-100%', '75%-100%', '75%-100%', '25%', '25%', '25%', '75%-100%', '75%-100%', '75%-100%', '75%-100%', '75%-100%', '75%-100%', '25%', '50%-75%', '50%-75%', '25%', '50%-75%', '25%', '25%', '75%-100%', '25-50%', '75%-100%', '25%', '25%', '25%', '75%-100%', '75%-100%', '50%-75%', '25%', '25-50%', '50%-75%', '25%', '75%-100%', '25%', '50%-75%', '75%-100%', '25-50%', '50%-75%', '50%-75%', '25%', '50%-75%', '75%-100%', '25-50%', '75%-100%', '25%', '75%-100%', '25-50%', '75%-100%', '75%-100%', '75%-100%', '50%-75%', '25-50%', '25%', '75%-100%', '25-50%', '75%-100%', '50%-75%', '50%-75%', '75%-100%', '50%-75%', '25-50%', '25%', '50%-75%', '25-50%', '25%', '25%', '25%', '50%-75%', '75%-100%', '25%', '25%', '50%-75%', '75%-100%', '25%', '50%-75%', '25%', '50%-75%', '25-50%', '25-50%', '50%-75%', '25-50%', '50%-75%', '50%-75%', '50%-75%', '50%-75%', '50%-75%', '75%-100%', '25-50%', '75%-100%', '75%-100%', '75%-100%', '50%-75%', '25%', '75%-100%', '25%', '25-50%', '75%-100%', '25%', '25%', '75%-100%', '25-50%', '25%', '75%-100%', '50%-75%', '25-50%', '25-50%', '25%', '50%-75%', '25-50%', '50%-75%', '75%-100%', '50%-75%', '50%-75%', '25%', '25-50%', '25-50%', '25-50%', '75%-100%', '25%', '50%-75%', '25-50%', '25-50%', '25%', '50%-75%', '25%', '25-50%', '75%-100%', '25-50%', '25-50%', '25-50%', '75%-100%', '50%-75%', '75%-100%', '50%-75%', '25%', '50%-75%', '25-50%', '25%', '25-50%', '50%-75%', '50%-75%', '50%-75%', '25%', '25%', '25%', '50%-75%', '75%-100%', '25-50%', '25-50%', '25-50%', '25-50%', '25%', '25%', '50%-75%', '25%', '25-50%', '25-50%', '50%-75%', '25%', '75%-100%', '25%', '25-50%', '50%-75%', '25-50%', '25-50%', '75%-100%', '25%', '50%-75%', '50%-75%', '75%-100%', '50%-75%', '50%-75%', '50%-75%', '25%', '75%-100%', '50%-75%', '25-50%', '50%-75%', '25%', '25-50%', '50%-75%', '25-50%', '75%-100%', '50%-75%', '75%-100%', '50%-75%', '25%', '25%', '25%', '25%', '50%-75%', '50%-75%', '75%-100%', '25%', '25-50%', '50%-75%', '25%', '50%-75%', '25%', '25%', '25%', '50%-75%', '50%-75%', '25-50%', '50%-75%', '25-50%', '75%-100%', '25%', '25%', '25-50%', '50%-75%', '75%-100%', '25-50%', '25%', '25%', '50%-75%', '75%-100%', '25%', '25%', '25%', '25%', '50%-75%', '75%-100%', '25-50%', '75%-100%', '25%', '75%-100%', '50%-75%', '25%', '25-50%', '25%', '25%', '75%-100%', '25%', '25%', '75%-100%', '50%-75%', '75%-100%', '50%-75%', '25%', '75%-100%', '25-50%', '25-50%', '25-50%', '25%', '25-50%', '50%-75%', '25-50%', '25%', '50%-75%', '25-50%', '25-50%', '50%-75%', '75%-100%', '50%-75%', '25-50%', '25-50%', '75%-100%', '50%-75%', '25%', '25%', '25-50%', '25-50%', '25%', '75%-100%', '25%', '25-50%', '75%-100%', '25-50%', '25%', '25%', '25-50%', '75%-100%', '50%-75%', '25-50%', '50%-75%', '25-50%', '25%', '75%-100%', '75%-100%', '25-50%', '25-50%', '50%-75%', '75%-100%', '75%-100%', '50%-75%', '75%-100%', '75%-100%', '25%', '25%', '50%-75%', '50%-75%', '25-50%', '50%-75%', '25%', '25%', '50%-75%', '25-50%', '50%-75%', '25-50%', '25-50%', '50%-75%', '25%', '25%', '25-50%', '25%', '25-50%', '25-50%', '50%-75%', '25%', '25%', '25-50%', '75%-100%', '50%-75%', '50%-75%', '50%-75%', '25%', '25-50%', '50%-75%', '25%', '50%-75%', '75%-100%', '50%-75%', '25-50%', '25%', '25%', '25%', '50%-75%', '50%-75%', '25-50%', '75%-100%', '75%-100%', '50%-75%', '50%-75%', '25%', '50%-75%', '25-50%', '50%-75%', '25-50%', '50%-75%', '25-50%', '25-50%', '25-50%', '75%-100%', '50%-75%', '50%-75%', '25-50%', '25-50%', '25-50%', '25%', '25-50%', '25-50%', '75%-100%', '25-50%', '75%-100%', '25%', '25%', '75%-100%', '25-50%', '25-50%', '75%-100%', '75%-100%', '25-50%', '25%', '25%', '75%-100%', '25-50%', '25-50%', '75%-100%', '50%-75%', '75%-100%', '25%', '75%-100%', '75%-100%', '75%-100%', '25%', '25%', '25-50%', '25%', '25%', '75%-100%', '50%-75%', '50%-75%', '75%-100%', '50%-75%', '75%-100%', '75%-100%', '75%-100%', '25-50%', '50%-75%', '75%-100%', '75%-100%', '75%-100%', '50%-75%', '25-50%', '25-50%', '25-50%', '25-50%', '75%-100%', '75%-100%', '75%-100%', '25%', '50%-75%', '50%-75%', '50%-75%', '25%', '50%-75%', '50%-75%', '75%-100%', '25-50%', '25%', '25%', '25%', '25-50%', '25-50%', '25%', '75%-100%', '25-50%', '50%-75%', '50%-75%', '75%-100%', '75%-100%', '50%-75%', '25%', '25-50%', '25%', '25%', '50%-75%', '25%', '75%-100%', '75%-100%', '50%-75%', '25-50%', '50%-75%', '75%-100%', '25%', '25%', '25%', '25%', '50%-75%', '25%', '25%', '25-50%', '75%-100%', '25%', '75%-100%', '25-50%', '25%', '50%-75%', '50%-75%', '75%-100%', '75%-100%', '75%-100%', '75%-100%', '75%-100%', '50%-75%', '25%', '50%-75%', '50%-75%', '75%-100%', '25-50%', '50%-75%', '25%', '75%-100%', '50%-75%', '25%', '25%', '25%', '75%-100%', '25-50%', '25%', '25%', '25%', '25-50%', '25%', '75%-100%', '25-50%', '25-50%', '75%-100%', '50%-75%', '25%', '50%-75%', '50%-75%', '50%-75%', '25-50%', '50%-75%', '75%-100%', '50%-75%', '25-50%', '25-50%', '25-50%', '50%-75%', '50%-75%', '75%-100%', '50%-75%', '75%-100%', '25-50%', '25-50%', '25%', '75%-100%', '25-50%', '50%-75%', '50%-75%', '75%-100%', '75%-100%', '25%', '75%-100%', '25%', '50%-75%', '50%-75%', '25-50%', '75%-100%', '25%', '25%', '25-50%', '25-50%', '25-50%', '75%-100%', '25%', '75%-100%', '75%-100%', '25%', '25%', '75%-100%', '25-50%', '25%', '25%', '75%-100%', '50%-75%', '50%-75%', '75%-100%', '25%', '25-50%', '75%-100%', '25%', '25%', '50%-75%', '50%-75%', '25%', '50%-75%', '25-50%', '50%-75%', '75%-100%', '75%-100%', '75%-100%', '50%-75%', '25%', '75%-100%', '75%-100%', '50%-75%', '25%', '25%', '25%', '50%-75%', '50%-75%', '75%-100%', '50%-75%', '25-50%', '25-50%', '50%-75%', '75%-100%', '75%-100%', '25%', '25%', '25%', '25-50%', '75%-100%', '25-50%', '25-50%', '75%-100%', '25-50%', '25%', '50%-75%', '50%-75%', '50%-75%', '75%-100%', '25-50%', '50%-75%', '75%-100%', '25-50%', '25-50%', '50%-75%', '50%-75%', '75%-100%', '25%', '75%-100%', '25%', '25-50%', '25%', '50%-75%', '25%', '25-50%', '50%-75%', '25-50%', '75%-100%', '75%-100%', '75%-100%', '25-50%', '25%', '75%-100%', '25%', '50%-75%', '75%-100%', '75%-100%', '75%-100%', '50%-75%', '25-50%', '25-50%', '75%-100%', '25%', '75%-100%', '50%-75%', '25-50%', '25-50%', '75%-100%', '50%-75%', '50%-75%', '75%-100%', '25-50%', '25%', '25%', '50%-75%', '50%-75%', '50%-75%', '50%-75%', '75%-100%', '75%-100%', '50%-75%', '25-50%', '50%-75%', '75%-100%', '50%-75%', '75%-100%', '50%-75%', '50%-75%', '25-50%', '75%-100%', '25-50%', '25-50%', '75%-100%', '25%', '25%', '75%-100%', '25-50%', '25%', '25-50%', '25-50%', '25%', '25%', '25-50%', '25-50%', '25%', '25-50%', '75%-100%', '75%-100%', '50%-75%', '25-50%', '25%', '25-50%', '25-50%', '75%-100%', '50%-75%', '50%-75%', '25-50%', '50%-75%', '50%-75%', '25-50%', '75%-100%', '75%-100%', '25-50%', '25%', '50%-75%', '25%', '75%-100%', '50%-75%', '25-50%', '50%-75%', '50%-75%', '50%-75%', '25%', '25-50%', '50%-75%', '50%-75%', '75%-100%', '50%-75%', '25-50%', '75%-100%', '25%', '75%-100%', '50%-75%', '25%', '25%', '50%-75%', '50%-75%', '25%', '75%-100%', '75%-100%', '50%-75%', '75%-100%', '25-50%', '25-50%', '75%-100%', '25-50%', '75%-100%', '25-50%', '50%-75%', '25-50%', '25-50%', '50%-75%', '50%-75%', '25-50%', '50%-75%', '25%', '25-50%', '75%-100%', '25%', '75%-100%', '25-50%', '75%-100%', '75%-100%', '75%-100%', '50%-75%', '75%-100%', '50%-75%', '75%-100%', '25%', '75%-100%', '25-50%', '25%', '25-50%', '25%', '50%-75%', '75%-100%', '75%-100%', '50%-75%', '25-50%', '50%-75%', '25-50%', '25-50%', '25-50%', '25-50%', '25%', '25%', '50%-75%', '75%-100%', '25-50%', '75%-100%', '75%-100%', '25%', '25-50%', '75%-100%', '75%-100%', '25-50%', '25%', '25%', '50%-75%', '25%', '75%-100%', '75%-100%', '75%-100%', '25-50%', '25-50%', '25%', '75%-100%', '25-50%', '50%-75%', '75%-100%', '25%', '50%-75%', '25-50%', '25%', '75%-100%', '75%-100%', '25-50%', '75%-100%']\n"
          ]
        }
      ]
    },
    {
      "cell_type": "code",
      "metadata": {
        "colab": {
          "base_uri": "https://localhost:8080/",
          "height": 236
        },
        "id": "5PJUnmgAoIy7",
        "outputId": "35053428-17cc-450d-e52f-0cd4c7366564"
      },
      "source": [
        "# creating a pandas series with values in percentile_list1\n",
        "\n",
        "percentile_amt = pd.Series(percentile_list1)\n",
        "\n",
        "# checking the relation between percentile_amt and the target feature 'creditScore' \n",
        "\n",
        "pd.crosstab(index = percentile_amt, columns = data['creditScore'], values = data['creditScore'], \n",
        "            aggfunc = 'count', margins = True, normalize = True)"
      ],
      "execution_count": 26,
      "outputs": [
        {
          "output_type": "execute_result",
          "data": {
            "text/html": [
              "<div>\n",
              "<style scoped>\n",
              "    .dataframe tbody tr th:only-of-type {\n",
              "        vertical-align: middle;\n",
              "    }\n",
              "\n",
              "    .dataframe tbody tr th {\n",
              "        vertical-align: top;\n",
              "    }\n",
              "\n",
              "    .dataframe thead th {\n",
              "        text-align: right;\n",
              "    }\n",
              "</style>\n",
              "<table border=\"1\" class=\"dataframe\">\n",
              "  <thead>\n",
              "    <tr style=\"text-align: right;\">\n",
              "      <th>creditScore</th>\n",
              "      <th>bad</th>\n",
              "      <th>good</th>\n",
              "      <th>All</th>\n",
              "    </tr>\n",
              "    <tr>\n",
              "      <th>row_0</th>\n",
              "      <th></th>\n",
              "      <th></th>\n",
              "      <th></th>\n",
              "    </tr>\n",
              "  </thead>\n",
              "  <tbody>\n",
              "    <tr>\n",
              "      <th>25%</th>\n",
              "      <td>0.077</td>\n",
              "      <td>0.173</td>\n",
              "      <td>0.25</td>\n",
              "    </tr>\n",
              "    <tr>\n",
              "      <th>25-50%</th>\n",
              "      <td>0.062</td>\n",
              "      <td>0.188</td>\n",
              "      <td>0.25</td>\n",
              "    </tr>\n",
              "    <tr>\n",
              "      <th>50%-75%</th>\n",
              "      <td>0.056</td>\n",
              "      <td>0.194</td>\n",
              "      <td>0.25</td>\n",
              "    </tr>\n",
              "    <tr>\n",
              "      <th>75%-100%</th>\n",
              "      <td>0.105</td>\n",
              "      <td>0.145</td>\n",
              "      <td>0.25</td>\n",
              "    </tr>\n",
              "    <tr>\n",
              "      <th>All</th>\n",
              "      <td>0.300</td>\n",
              "      <td>0.700</td>\n",
              "      <td>1.00</td>\n",
              "    </tr>\n",
              "  </tbody>\n",
              "</table>\n",
              "</div>"
            ],
            "text/plain": [
              "creditScore    bad   good   All\n",
              "row_0                          \n",
              "25%          0.077  0.173  0.25\n",
              "25-50%       0.062  0.188  0.25\n",
              "50%-75%      0.056  0.194  0.25\n",
              "75%-100%     0.105  0.145  0.25\n",
              "All          0.300  0.700  1.00"
            ]
          },
          "metadata": {},
          "execution_count": 26
        }
      ]
    },
    {
      "cell_type": "markdown",
      "metadata": {
        "id": "C2Q8UBqotG6j"
      },
      "source": [
        "Interpretation:\n",
        "\n",
        "Those who are in the 75th-100th percentile w.r.t. loan amount values have the highest proportion of likely defaulters among other clients. Those who are in 50th-75th percentile w.r.t. loan amount have the highest proportion of likely non-defaulters among other clients. \n",
        "\n",
        "In addition, one another observation is that the clients are equally distributed among all the percentile classes made from loan amount. 50th-75th percentile clients also have the lowest proportion of defaulters. 75th-100th percentile clients have the lowest proportion of non-defaulters. \n",
        "\n",
        "Since it was stated earlier that there is a definite connection between loan amount and loan duration in financial industry, we will also check the relation between loan amount and loan amount to discern any important patterns.\n"
      ]
    },
    {
      "cell_type": "code",
      "metadata": {
        "colab": {
          "base_uri": "https://localhost:8080/",
          "height": 236
        },
        "id": "iBxlkdpnxoKg",
        "outputId": "e6ccca85-2645-4294-bf31-dfcd33830dc5"
      },
      "source": [
        "# checking the relation between percentile values of loan amount and percentile values of loan duration w.r.t. proportion of defaulters\n",
        "# and that of non-defaulters\n",
        "\n",
        "pd.crosstab(index = percentile_amt, columns = percentile_dur, values = data['creditScore'], aggfunc = 'count', margins = True, normalize = True)"
      ],
      "execution_count": 27,
      "outputs": [
        {
          "output_type": "execute_result",
          "data": {
            "text/html": [
              "<div>\n",
              "<style scoped>\n",
              "    .dataframe tbody tr th:only-of-type {\n",
              "        vertical-align: middle;\n",
              "    }\n",
              "\n",
              "    .dataframe tbody tr th {\n",
              "        vertical-align: top;\n",
              "    }\n",
              "\n",
              "    .dataframe thead th {\n",
              "        text-align: right;\n",
              "    }\n",
              "</style>\n",
              "<table border=\"1\" class=\"dataframe\">\n",
              "  <thead>\n",
              "    <tr style=\"text-align: right;\">\n",
              "      <th>col_0</th>\n",
              "      <th>25%</th>\n",
              "      <th>25-50%</th>\n",
              "      <th>50%-75%</th>\n",
              "      <th>75%-100%</th>\n",
              "      <th>All</th>\n",
              "    </tr>\n",
              "    <tr>\n",
              "      <th>row_0</th>\n",
              "      <th></th>\n",
              "      <th></th>\n",
              "      <th></th>\n",
              "      <th></th>\n",
              "      <th></th>\n",
              "    </tr>\n",
              "  </thead>\n",
              "  <tbody>\n",
              "    <tr>\n",
              "      <th>25%</th>\n",
              "      <td>0.091</td>\n",
              "      <td>0.103</td>\n",
              "      <td>0.028</td>\n",
              "      <td>0.028</td>\n",
              "      <td>0.25</td>\n",
              "    </tr>\n",
              "    <tr>\n",
              "      <th>25-50%</th>\n",
              "      <td>0.055</td>\n",
              "      <td>0.085</td>\n",
              "      <td>0.047</td>\n",
              "      <td>0.063</td>\n",
              "      <td>0.25</td>\n",
              "    </tr>\n",
              "    <tr>\n",
              "      <th>50%-75%</th>\n",
              "      <td>0.025</td>\n",
              "      <td>0.050</td>\n",
              "      <td>0.052</td>\n",
              "      <td>0.123</td>\n",
              "      <td>0.25</td>\n",
              "    </tr>\n",
              "    <tr>\n",
              "      <th>75%-100%</th>\n",
              "      <td>0.009</td>\n",
              "      <td>0.015</td>\n",
              "      <td>0.026</td>\n",
              "      <td>0.200</td>\n",
              "      <td>0.25</td>\n",
              "    </tr>\n",
              "    <tr>\n",
              "      <th>All</th>\n",
              "      <td>0.180</td>\n",
              "      <td>0.253</td>\n",
              "      <td>0.153</td>\n",
              "      <td>0.414</td>\n",
              "      <td>1.00</td>\n",
              "    </tr>\n",
              "  </tbody>\n",
              "</table>\n",
              "</div>"
            ],
            "text/plain": [
              "col_0       25%  25-50%  50%-75%  75%-100%   All\n",
              "row_0                                           \n",
              "25%       0.091   0.103    0.028     0.028  0.25\n",
              "25-50%    0.055   0.085    0.047     0.063  0.25\n",
              "50%-75%   0.025   0.050    0.052     0.123  0.25\n",
              "75%-100%  0.009   0.015    0.026     0.200  0.25\n",
              "All       0.180   0.253    0.153     0.414  1.00"
            ]
          },
          "metadata": {},
          "execution_count": 27
        }
      ]
    },
    {
      "cell_type": "markdown",
      "metadata": {
        "id": "55yEpz2NzFWV"
      },
      "source": [
        "Interpretation:\n",
        "\n",
        "Firstly, reiterating the criteria for percentile values in 'Cdur':\n",
        "\n",
        "values > 0 but < 12 comprise of lower 25% of the data\n",
        "\n",
        "values >= 12 but < 18 comprise of first 25%-50% of the data\n",
        "\n",
        "values >= 18 but < 24 comprise of 50%-75% of data\n",
        "\n",
        "values >= 24 comprise of 75%-100% of data\n",
        "\n",
        "As per the output of above code expression, highest proportion of clients, i.e., 20% of the clients took the loan for a duration of more than 24 months and their median loan amount was more than INR 39602. Lowest 0.9% of the clients took the loan for more than 24 months and their median loan amount was also more than Rs. 39602. \n",
        "\n",
        "Overall, highest proportion of clients were for the loan duration 75th-100th percentile and lowest proportion of clients for the loan duration  in 50th-75th percentile. "
      ]
    },
    {
      "cell_type": "markdown",
      "metadata": {
        "id": "B4oyuTp4n4mt"
      },
      "source": [
        "now, we will compare the relation between loan duration and instalment rate, and loan amount and instalment rate respectively w.r.t. the target variable 'creditScore'. It is also important to observe that instalment rate is expressed as percentage in the given dataset and another important factor, interest rates of loans is also not given in the dataset. Since instalment rate is an integer variable, we will check the number of unique values to identify whether there are any issues of high cardinality and then carry out proper treatment of those values accordingly. "
      ]
    },
    {
      "cell_type": "code",
      "metadata": {
        "id": "4iuzWHml4Xy9",
        "colab": {
          "base_uri": "https://localhost:8080/"
        },
        "outputId": "da0646f8-ebcf-4c15-f78e-7344ae60c9e0"
      },
      "source": [
        "# checking the counts of unique values in 'InRate' in the dataframe\n",
        "\n",
        "len(data['InRate'].unique())"
      ],
      "execution_count": 28,
      "outputs": [
        {
          "output_type": "execute_result",
          "data": {
            "text/plain": [
              "4"
            ]
          },
          "metadata": {},
          "execution_count": 28
        }
      ]
    },
    {
      "cell_type": "markdown",
      "metadata": {
        "id": "2hDxOIe89tUr"
      },
      "source": [
        "There are few unique values out of total 1000 values in 'InRate' in the dataframe. Hence, high cardinality is not an issue in this particular feature unlike in 'Camt'. Thus, median values of 'InRate' can be considered for checking the relation between loan duration percentile values and likelihood of clients to default on their loan payments. "
      ]
    },
    {
      "cell_type": "code",
      "metadata": {
        "id": "aGr-pHDBAm_C"
      },
      "source": [
        "# making a copy of dataframe and inserting percentile values of loan duration and loan amount to the dataframe\n",
        "\n",
        "data_1 = data.copy(deep = True)\n",
        "\n",
        "data_1.insert(2, 'pctile_dur', percentile_dur)"
      ],
      "execution_count": 29,
      "outputs": []
    },
    {
      "cell_type": "code",
      "metadata": {
        "id": "R-3bluYhEUMe"
      },
      "source": [
        "# now, adding another column, 'pctile_amt' with values in percentile_amt beside 'Camt' column in the dataframe\n",
        "\n",
        "data_1.insert(6, 'pctile_amt', percentile_amt)"
      ],
      "execution_count": 30,
      "outputs": []
    },
    {
      "cell_type": "code",
      "metadata": {
        "colab": {
          "base_uri": "https://localhost:8080/",
          "height": 519
        },
        "id": "Kwr2nUfMEAcr",
        "outputId": "cc7ad17e-ca49-452b-b685-2c77ffd06320"
      },
      "source": [
        "# verifying whether the columns have been inserted at designated location in the copy of dataframe\n",
        "\n",
        "data_1.head()"
      ],
      "execution_count": 31,
      "outputs": [
        {
          "output_type": "execute_result",
          "data": {
            "text/html": [
              "<div>\n",
              "<style scoped>\n",
              "    .dataframe tbody tr th:only-of-type {\n",
              "        vertical-align: middle;\n",
              "    }\n",
              "\n",
              "    .dataframe tbody tr th {\n",
              "        vertical-align: top;\n",
              "    }\n",
              "\n",
              "    .dataframe thead th {\n",
              "        text-align: right;\n",
              "    }\n",
              "</style>\n",
              "<table border=\"1\" class=\"dataframe\">\n",
              "  <thead>\n",
              "    <tr style=\"text-align: right;\">\n",
              "      <th></th>\n",
              "      <th>Cbal</th>\n",
              "      <th>Cdur</th>\n",
              "      <th>pctile_dur</th>\n",
              "      <th>Chist</th>\n",
              "      <th>Cpur</th>\n",
              "      <th>Camt</th>\n",
              "      <th>pctile_amt</th>\n",
              "      <th>Sbal</th>\n",
              "      <th>Edur</th>\n",
              "      <th>InRate</th>\n",
              "      <th>MSG</th>\n",
              "      <th>Oparties</th>\n",
              "      <th>Rdur</th>\n",
              "      <th>Prop</th>\n",
              "      <th>age</th>\n",
              "      <th>inPlans</th>\n",
              "      <th>Htype</th>\n",
              "      <th>NumCred</th>\n",
              "      <th>JobType</th>\n",
              "      <th>Ndepend</th>\n",
              "      <th>telephone</th>\n",
              "      <th>foreign</th>\n",
              "      <th>creditScore</th>\n",
              "    </tr>\n",
              "  </thead>\n",
              "  <tbody>\n",
              "    <tr>\n",
              "      <th>0</th>\n",
              "      <td>0 &lt;= Rs. &lt; 2000</td>\n",
              "      <td>9</td>\n",
              "      <td>25%</td>\n",
              "      <td>all settled till now</td>\n",
              "      <td>Business</td>\n",
              "      <td>13790</td>\n",
              "      <td>25-50%</td>\n",
              "      <td>Rs. &lt; 1000</td>\n",
              "      <td>1 to 4 years</td>\n",
              "      <td>2</td>\n",
              "      <td>married or widowed male</td>\n",
              "      <td>no one</td>\n",
              "      <td>less than a year</td>\n",
              "      <td>real estate</td>\n",
              "      <td>27</td>\n",
              "      <td>bank</td>\n",
              "      <td>own</td>\n",
              "      <td>1</td>\n",
              "      <td>employee with official position</td>\n",
              "      <td>1</td>\n",
              "      <td>yes</td>\n",
              "      <td>no</td>\n",
              "      <td>good</td>\n",
              "    </tr>\n",
              "    <tr>\n",
              "      <th>1</th>\n",
              "      <td>0 &lt;= Rs. &lt; 2000</td>\n",
              "      <td>15</td>\n",
              "      <td>25-50%</td>\n",
              "      <td>dues not paid earlier</td>\n",
              "      <td>electronics</td>\n",
              "      <td>15250</td>\n",
              "      <td>25-50%</td>\n",
              "      <td>no savings account</td>\n",
              "      <td>more than 7 years</td>\n",
              "      <td>4</td>\n",
              "      <td>single male</td>\n",
              "      <td>yes, guarantor</td>\n",
              "      <td>more than 3 years</td>\n",
              "      <td>real estate</td>\n",
              "      <td>50</td>\n",
              "      <td>none</td>\n",
              "      <td>own</td>\n",
              "      <td>2</td>\n",
              "      <td>employee with official position</td>\n",
              "      <td>1</td>\n",
              "      <td>yes</td>\n",
              "      <td>no</td>\n",
              "      <td>good</td>\n",
              "    </tr>\n",
              "    <tr>\n",
              "      <th>2</th>\n",
              "      <td>0 &lt;= Rs. &lt; 2000</td>\n",
              "      <td>36</td>\n",
              "      <td>75%-100%</td>\n",
              "      <td>none taken/all settled</td>\n",
              "      <td>Business</td>\n",
              "      <td>19410</td>\n",
              "      <td>25-50%</td>\n",
              "      <td>Rs. &lt; 1000</td>\n",
              "      <td>more than 7 years</td>\n",
              "      <td>4</td>\n",
              "      <td>single male</td>\n",
              "      <td>no one</td>\n",
              "      <td>more than 3 years</td>\n",
              "      <td>Unknown</td>\n",
              "      <td>61</td>\n",
              "      <td>none</td>\n",
              "      <td>free</td>\n",
              "      <td>1</td>\n",
              "      <td>employed either in management, self or in high...</td>\n",
              "      <td>1</td>\n",
              "      <td>yes</td>\n",
              "      <td>no</td>\n",
              "      <td>bad</td>\n",
              "    </tr>\n",
              "    <tr>\n",
              "      <th>3</th>\n",
              "      <td>0 &lt;= Rs. &lt; 2000</td>\n",
              "      <td>48</td>\n",
              "      <td>75%-100%</td>\n",
              "      <td>none taken/all settled</td>\n",
              "      <td>Business</td>\n",
              "      <td>144090</td>\n",
              "      <td>75%-100%</td>\n",
              "      <td>Rs. &lt; 1000</td>\n",
              "      <td>1 to 4 years</td>\n",
              "      <td>2</td>\n",
              "      <td>single male</td>\n",
              "      <td>no one</td>\n",
              "      <td>1 to 2 years</td>\n",
              "      <td>Other cars etc.</td>\n",
              "      <td>25</td>\n",
              "      <td>none</td>\n",
              "      <td>own</td>\n",
              "      <td>1</td>\n",
              "      <td>employee with official position</td>\n",
              "      <td>1</td>\n",
              "      <td>yes</td>\n",
              "      <td>no</td>\n",
              "      <td>bad</td>\n",
              "    </tr>\n",
              "    <tr>\n",
              "      <th>4</th>\n",
              "      <td>no checking account</td>\n",
              "      <td>24</td>\n",
              "      <td>75%-100%</td>\n",
              "      <td>all settled till now</td>\n",
              "      <td>electronics</td>\n",
              "      <td>31690</td>\n",
              "      <td>50%-75%</td>\n",
              "      <td>Rs. &lt; 1000</td>\n",
              "      <td>less than 1 year</td>\n",
              "      <td>4</td>\n",
              "      <td>divorced or separated or married female</td>\n",
              "      <td>no one</td>\n",
              "      <td>more than 3 years</td>\n",
              "      <td>life insurance/building society</td>\n",
              "      <td>26</td>\n",
              "      <td>none</td>\n",
              "      <td>own</td>\n",
              "      <td>1</td>\n",
              "      <td>employee with official position</td>\n",
              "      <td>1</td>\n",
              "      <td>yes</td>\n",
              "      <td>no</td>\n",
              "      <td>good</td>\n",
              "    </tr>\n",
              "  </tbody>\n",
              "</table>\n",
              "</div>"
            ],
            "text/plain": [
              "                  Cbal  Cdur pctile_dur  ... telephone foreign  creditScore\n",
              "0      0 <= Rs. < 2000     9        25%  ...       yes      no         good\n",
              "1      0 <= Rs. < 2000    15     25-50%  ...       yes      no         good\n",
              "2      0 <= Rs. < 2000    36   75%-100%  ...       yes      no          bad\n",
              "3      0 <= Rs. < 2000    48   75%-100%  ...       yes      no          bad\n",
              "4  no checking account    24   75%-100%  ...       yes      no         good\n",
              "\n",
              "[5 rows x 23 columns]"
            ]
          },
          "metadata": {},
          "execution_count": 31
        }
      ]
    },
    {
      "cell_type": "code",
      "metadata": {
        "colab": {
          "base_uri": "https://localhost:8080/",
          "height": 236
        },
        "id": "Df9tbBTO_gPY",
        "outputId": "159a5ac3-5ceb-4422-a2ab-8e1d8b1b6d0a"
      },
      "source": [
        "# checking the relation between 'pctile_dur' and 'creditScore' w.r.t. median values of 'InRate'\n",
        "\n",
        "pd.crosstab(index = data_1['pctile_dur'], columns = data_1['creditScore'], values = data_1['InRate'], aggfunc = 'median', margins = True)"
      ],
      "execution_count": 32,
      "outputs": [
        {
          "output_type": "execute_result",
          "data": {
            "text/html": [
              "<div>\n",
              "<style scoped>\n",
              "    .dataframe tbody tr th:only-of-type {\n",
              "        vertical-align: middle;\n",
              "    }\n",
              "\n",
              "    .dataframe tbody tr th {\n",
              "        vertical-align: top;\n",
              "    }\n",
              "\n",
              "    .dataframe thead th {\n",
              "        text-align: right;\n",
              "    }\n",
              "</style>\n",
              "<table border=\"1\" class=\"dataframe\">\n",
              "  <thead>\n",
              "    <tr style=\"text-align: right;\">\n",
              "      <th>creditScore</th>\n",
              "      <th>bad</th>\n",
              "      <th>good</th>\n",
              "      <th>All</th>\n",
              "    </tr>\n",
              "    <tr>\n",
              "      <th>pctile_dur</th>\n",
              "      <th></th>\n",
              "      <th></th>\n",
              "      <th></th>\n",
              "    </tr>\n",
              "  </thead>\n",
              "  <tbody>\n",
              "    <tr>\n",
              "      <th>25%</th>\n",
              "      <td>3</td>\n",
              "      <td>2</td>\n",
              "      <td>2</td>\n",
              "    </tr>\n",
              "    <tr>\n",
              "      <th>25-50%</th>\n",
              "      <td>4</td>\n",
              "      <td>3</td>\n",
              "      <td>4</td>\n",
              "    </tr>\n",
              "    <tr>\n",
              "      <th>50%-75%</th>\n",
              "      <td>4</td>\n",
              "      <td>3</td>\n",
              "      <td>3</td>\n",
              "    </tr>\n",
              "    <tr>\n",
              "      <th>75%-100%</th>\n",
              "      <td>4</td>\n",
              "      <td>4</td>\n",
              "      <td>4</td>\n",
              "    </tr>\n",
              "    <tr>\n",
              "      <th>All</th>\n",
              "      <td>4</td>\n",
              "      <td>3</td>\n",
              "      <td>3</td>\n",
              "    </tr>\n",
              "  </tbody>\n",
              "</table>\n",
              "</div>"
            ],
            "text/plain": [
              "creditScore  bad  good  All\n",
              "pctile_dur                 \n",
              "25%            3     2    2\n",
              "25-50%         4     3    4\n",
              "50%-75%        4     3    3\n",
              "75%-100%       4     4    4\n",
              "All            4     3    3"
            ]
          },
          "metadata": {},
          "execution_count": 32
        }
      ]
    },
    {
      "cell_type": "markdown",
      "metadata": {
        "id": "7WP-LekhG4zg"
      },
      "source": [
        "Interpretation:\n",
        "\n",
        "The output of above code expression can be explained in terms of two classes of clients: those who are likely to be defaulters and those who are likely to be non-defaulters. In the first class of defaulters, clients who take a loan for less than 12 months or 1 year have median instalment rate of 3%, those who take a loan between 12 and 18 months (18 exclusive) have median instalment rate of 4%, those who take a loan between 18 and 24 months (24 exclusive) have median instalment rate of 4%, and lastly, those who take a loan for more than 24 months have median instalment rate of 4%. \n",
        "\n",
        "In the second class of non-defaulters, clients who take a loan for less than 12 months or 1 year have median instalment rate of 2%, those who take a loan between 12 and 18 months (18 exclusive) have median instalment rate of 3%, those who take a loan between 18 and 24 months (24 exclusive) have median instalment rate of 3%, and lastly, those who take a loan for more than 24 months have median instalment rate of 4%. "
      ]
    },
    {
      "cell_type": "code",
      "metadata": {
        "colab": {
          "base_uri": "https://localhost:8080/",
          "height": 236
        },
        "id": "mtkrU3IZL7Ri",
        "outputId": "5b7fcf91-d8ff-4f12-87d1-36b129cf1646"
      },
      "source": [
        "# checking the relation between 'pctile_amt' and 'creditScore' w.r.t. median values of 'InRate'\n",
        "\n",
        "pd.crosstab(index = data_1['pctile_amt'], columns = data_1['creditScore'], values = data_1['InRate'], aggfunc = 'median', margins = True)"
      ],
      "execution_count": 33,
      "outputs": [
        {
          "output_type": "execute_result",
          "data": {
            "text/html": [
              "<div>\n",
              "<style scoped>\n",
              "    .dataframe tbody tr th:only-of-type {\n",
              "        vertical-align: middle;\n",
              "    }\n",
              "\n",
              "    .dataframe tbody tr th {\n",
              "        vertical-align: top;\n",
              "    }\n",
              "\n",
              "    .dataframe thead th {\n",
              "        text-align: right;\n",
              "    }\n",
              "</style>\n",
              "<table border=\"1\" class=\"dataframe\">\n",
              "  <thead>\n",
              "    <tr style=\"text-align: right;\">\n",
              "      <th>creditScore</th>\n",
              "      <th>bad</th>\n",
              "      <th>good</th>\n",
              "      <th>All</th>\n",
              "    </tr>\n",
              "    <tr>\n",
              "      <th>pctile_amt</th>\n",
              "      <th></th>\n",
              "      <th></th>\n",
              "      <th></th>\n",
              "    </tr>\n",
              "  </thead>\n",
              "  <tbody>\n",
              "    <tr>\n",
              "      <th>25%</th>\n",
              "      <td>4</td>\n",
              "      <td>4</td>\n",
              "      <td>4</td>\n",
              "    </tr>\n",
              "    <tr>\n",
              "      <th>25-50%</th>\n",
              "      <td>4</td>\n",
              "      <td>4</td>\n",
              "      <td>4</td>\n",
              "    </tr>\n",
              "    <tr>\n",
              "      <th>50%-75%</th>\n",
              "      <td>4</td>\n",
              "      <td>3</td>\n",
              "      <td>3</td>\n",
              "    </tr>\n",
              "    <tr>\n",
              "      <th>75%-100%</th>\n",
              "      <td>3</td>\n",
              "      <td>2</td>\n",
              "      <td>2</td>\n",
              "    </tr>\n",
              "    <tr>\n",
              "      <th>All</th>\n",
              "      <td>4</td>\n",
              "      <td>3</td>\n",
              "      <td>3</td>\n",
              "    </tr>\n",
              "  </tbody>\n",
              "</table>\n",
              "</div>"
            ],
            "text/plain": [
              "creditScore  bad  good  All\n",
              "pctile_amt                 \n",
              "25%            4     4    4\n",
              "25-50%         4     4    4\n",
              "50%-75%        4     3    3\n",
              "75%-100%       3     2    2\n",
              "All            4     3    3"
            ]
          },
          "metadata": {},
          "execution_count": 33
        }
      ]
    },
    {
      "cell_type": "markdown",
      "metadata": {
        "id": "zjr4D2IyMwVq"
      },
      "source": [
        "Interpretation:\n",
        "\n",
        "Firstly, restating the criteria for percentile values in 'Camt':\n",
        "\n",
        "values > 0 and values < 13535 - 25th percentile\n",
        "\n",
        "values >= 13535 and values < 23075 - 25th-50th percentile\n",
        "\n",
        "values >= 23075 and values < 39602 - 50th-75th percentile\n",
        "\n",
        "values >= 39602  -  75th-100th percentile\n",
        "\n",
        "The output of above code expression can be explained in terms of two classes of clients: those who are likely to be defaulters and those who are likely to be non-defaulters. In the first class of defaulters, clients who take a loan for less than Rs. 13535 have median instalment rate of 4%, those who take a loan for amounts greater than Rs. 13535 and less than Rs. 23075 have median instalment rate of 4%, those who take a loan for amounts greater than or equal to Rs. 23075 and less than Rs. 39602 have median instalment rate of 4%, and lastly, those who take a loan for amounts greater than or equal to Rs. 39602 have median instalment rate of 3%. \n",
        "\n",
        "In the second class of non-defaulters, clients who take a loan for loan for amounts less than Rs. 13535 have median instalment rate of 4%, those who take a loan loan for amounts greater than Rs. 13535 and less than Rs. 23075 have median instalment rate of 4%, those who take a loan for amounts greater than or equal to Rs. 23075 and less than Rs. 39602 have median instalment rate of 3%, and lastly, those those who take a loan for amounts greater than or equal to Rs. 39602 have median instalment rate of 2%. \n",
        "\n",
        "Overall, we are unable to depict a proper pattern between the instalment rates and defaulters or non-defaulters clearly as there is not much difference between instalment rates in each of the two categories. Usually, people assume in most of the cases that instalment rates in case of defaulters could be high. "
      ]
    },
    {
      "cell_type": "code",
      "metadata": {
        "colab": {
          "base_uri": "https://localhost:8080/"
        },
        "id": "AbozLqNuZ7y8",
        "outputId": "2761b132-376c-43b7-d13f-c150bf6daa9b"
      },
      "source": [
        "# now, we will check the relation between 'Sbal' and 'creditScore' by first checking the counts of unique values in 'Sbal' \n",
        "\n",
        "data_1['Sbal'].value_counts()"
      ],
      "execution_count": 34,
      "outputs": [
        {
          "output_type": "execute_result",
          "data": {
            "text/plain": [
              "Rs. < 1000              603\n",
              "no savings account      183\n",
              "1000 <= Rs. < 5,000     103\n",
              "5000 <= Rs. < 10,000     63\n",
              "Rs. >= 10,000            48\n",
              "Name: Sbal, dtype: int64"
            ]
          },
          "metadata": {},
          "execution_count": 34
        }
      ]
    },
    {
      "cell_type": "code",
      "metadata": {
        "colab": {
          "base_uri": "https://localhost:8080/",
          "height": 268
        },
        "id": "JGufeI99tj-B",
        "outputId": "2ac42962-48eb-4cf5-e2ce-e201c559d03a"
      },
      "source": [
        "# we will check the relation between the 'Sbal' and 'creditScore' to understand whether this feature has an influence \n",
        "# on the likelihood of a client to become a defaulter or non-defaulter\n",
        "\n",
        "pd.crosstab(index = data_1['Sbal'], columns = data_1['creditScore'], values = data_1['creditScore'], aggfunc = 'count', margins = True, normalize = True)"
      ],
      "execution_count": 35,
      "outputs": [
        {
          "output_type": "execute_result",
          "data": {
            "text/html": [
              "<div>\n",
              "<style scoped>\n",
              "    .dataframe tbody tr th:only-of-type {\n",
              "        vertical-align: middle;\n",
              "    }\n",
              "\n",
              "    .dataframe tbody tr th {\n",
              "        vertical-align: top;\n",
              "    }\n",
              "\n",
              "    .dataframe thead th {\n",
              "        text-align: right;\n",
              "    }\n",
              "</style>\n",
              "<table border=\"1\" class=\"dataframe\">\n",
              "  <thead>\n",
              "    <tr style=\"text-align: right;\">\n",
              "      <th>creditScore</th>\n",
              "      <th>bad</th>\n",
              "      <th>good</th>\n",
              "      <th>All</th>\n",
              "    </tr>\n",
              "    <tr>\n",
              "      <th>Sbal</th>\n",
              "      <th></th>\n",
              "      <th></th>\n",
              "      <th></th>\n",
              "    </tr>\n",
              "  </thead>\n",
              "  <tbody>\n",
              "    <tr>\n",
              "      <th>1000 &lt;= Rs. &lt; 5,000</th>\n",
              "      <td>0.034</td>\n",
              "      <td>0.069</td>\n",
              "      <td>0.103</td>\n",
              "    </tr>\n",
              "    <tr>\n",
              "      <th>5000 &lt;= Rs. &lt; 10,000</th>\n",
              "      <td>0.011</td>\n",
              "      <td>0.052</td>\n",
              "      <td>0.063</td>\n",
              "    </tr>\n",
              "    <tr>\n",
              "      <th>Rs. &lt; 1000</th>\n",
              "      <td>0.217</td>\n",
              "      <td>0.386</td>\n",
              "      <td>0.603</td>\n",
              "    </tr>\n",
              "    <tr>\n",
              "      <th>Rs. &gt;= 10,000</th>\n",
              "      <td>0.006</td>\n",
              "      <td>0.042</td>\n",
              "      <td>0.048</td>\n",
              "    </tr>\n",
              "    <tr>\n",
              "      <th>no savings account</th>\n",
              "      <td>0.032</td>\n",
              "      <td>0.151</td>\n",
              "      <td>0.183</td>\n",
              "    </tr>\n",
              "    <tr>\n",
              "      <th>All</th>\n",
              "      <td>0.300</td>\n",
              "      <td>0.700</td>\n",
              "      <td>1.000</td>\n",
              "    </tr>\n",
              "  </tbody>\n",
              "</table>\n",
              "</div>"
            ],
            "text/plain": [
              "creditScore             bad   good    All\n",
              "Sbal                                     \n",
              "1000 <= Rs. < 5,000   0.034  0.069  0.103\n",
              "5000 <= Rs. < 10,000  0.011  0.052  0.063\n",
              "Rs. < 1000            0.217  0.386  0.603\n",
              "Rs. >= 10,000         0.006  0.042  0.048\n",
              "no savings account    0.032  0.151  0.183\n",
              "All                   0.300  0.700  1.000"
            ]
          },
          "metadata": {},
          "execution_count": 35
        }
      ]
    },
    {
      "cell_type": "markdown",
      "metadata": {
        "id": "bs88vhHCw6ks"
      },
      "source": [
        "Interpretation:\n",
        "\n",
        "Highest proportion of likely defaulters have less than Rs. 1000 in their savings account and lowest proportion of likely defaulters have greater than or equal to Rs. 10000 in their savings account. This inference clearly attests to the usual understanding that people who have less savings are more likely to default on their loan payments but it is not that usual for people who have greater savings to default on their loan payments. \n",
        "\n",
        "Highest proportion of likely non-defaulters have no savings account, but it is possible that they have savings account in other banks. Lowest proportion of likely non-defaulters have greater than or equal to Rs. 10000. This inference can be considered when taken in association with another important feature, 'Cbal' that gives the information about balance of these clients in checking account. Hence, relation between checking account and savings account is required to be identified to have further and clearer understanding of the likely sources of funds that clients may use to pay their loans. "
      ]
    },
    {
      "cell_type": "code",
      "metadata": {
        "colab": {
          "base_uri": "https://localhost:8080/",
          "height": 422
        },
        "id": "aUHSoWgz3q23",
        "outputId": "1359e25f-5308-4246-ff63-1a381b7de814"
      },
      "source": [
        "# now, comparing the relation between 'Cbal' w.r.t. the target variable, 'creditScore' to that of 'Sbal' with the target variable\n",
        "\n",
        "data_1[['Cbal', 'Sbal', 'creditScore']]\n"
      ],
      "execution_count": 36,
      "outputs": [
        {
          "output_type": "execute_result",
          "data": {
            "text/html": [
              "<div>\n",
              "<style scoped>\n",
              "    .dataframe tbody tr th:only-of-type {\n",
              "        vertical-align: middle;\n",
              "    }\n",
              "\n",
              "    .dataframe tbody tr th {\n",
              "        vertical-align: top;\n",
              "    }\n",
              "\n",
              "    .dataframe thead th {\n",
              "        text-align: right;\n",
              "    }\n",
              "</style>\n",
              "<table border=\"1\" class=\"dataframe\">\n",
              "  <thead>\n",
              "    <tr style=\"text-align: right;\">\n",
              "      <th></th>\n",
              "      <th>Cbal</th>\n",
              "      <th>Sbal</th>\n",
              "      <th>creditScore</th>\n",
              "    </tr>\n",
              "  </thead>\n",
              "  <tbody>\n",
              "    <tr>\n",
              "      <th>0</th>\n",
              "      <td>0 &lt;= Rs. &lt; 2000</td>\n",
              "      <td>Rs. &lt; 1000</td>\n",
              "      <td>good</td>\n",
              "    </tr>\n",
              "    <tr>\n",
              "      <th>1</th>\n",
              "      <td>0 &lt;= Rs. &lt; 2000</td>\n",
              "      <td>no savings account</td>\n",
              "      <td>good</td>\n",
              "    </tr>\n",
              "    <tr>\n",
              "      <th>2</th>\n",
              "      <td>0 &lt;= Rs. &lt; 2000</td>\n",
              "      <td>Rs. &lt; 1000</td>\n",
              "      <td>bad</td>\n",
              "    </tr>\n",
              "    <tr>\n",
              "      <th>3</th>\n",
              "      <td>0 &lt;= Rs. &lt; 2000</td>\n",
              "      <td>Rs. &lt; 1000</td>\n",
              "      <td>bad</td>\n",
              "    </tr>\n",
              "    <tr>\n",
              "      <th>4</th>\n",
              "      <td>no checking account</td>\n",
              "      <td>Rs. &lt; 1000</td>\n",
              "      <td>good</td>\n",
              "    </tr>\n",
              "    <tr>\n",
              "      <th>...</th>\n",
              "      <td>...</td>\n",
              "      <td>...</td>\n",
              "      <td>...</td>\n",
              "    </tr>\n",
              "    <tr>\n",
              "      <th>995</th>\n",
              "      <td>no checking account</td>\n",
              "      <td>no savings account</td>\n",
              "      <td>good</td>\n",
              "    </tr>\n",
              "    <tr>\n",
              "      <th>996</th>\n",
              "      <td>0 &lt;= Rs. &lt; 2000</td>\n",
              "      <td>no savings account</td>\n",
              "      <td>bad</td>\n",
              "    </tr>\n",
              "    <tr>\n",
              "      <th>997</th>\n",
              "      <td>no checking account</td>\n",
              "      <td>Rs. &lt; 1000</td>\n",
              "      <td>good</td>\n",
              "    </tr>\n",
              "    <tr>\n",
              "      <th>998</th>\n",
              "      <td>Rs. &gt;=2000</td>\n",
              "      <td>Rs. &lt; 1000</td>\n",
              "      <td>good</td>\n",
              "    </tr>\n",
              "    <tr>\n",
              "      <th>999</th>\n",
              "      <td>Rs. &lt; 0</td>\n",
              "      <td>Rs. &lt; 1000</td>\n",
              "      <td>bad</td>\n",
              "    </tr>\n",
              "  </tbody>\n",
              "</table>\n",
              "<p>1000 rows × 3 columns</p>\n",
              "</div>"
            ],
            "text/plain": [
              "                    Cbal                Sbal creditScore\n",
              "0        0 <= Rs. < 2000          Rs. < 1000        good\n",
              "1        0 <= Rs. < 2000  no savings account        good\n",
              "2        0 <= Rs. < 2000          Rs. < 1000         bad\n",
              "3        0 <= Rs. < 2000          Rs. < 1000         bad\n",
              "4    no checking account          Rs. < 1000        good\n",
              "..                   ...                 ...         ...\n",
              "995  no checking account  no savings account        good\n",
              "996      0 <= Rs. < 2000  no savings account         bad\n",
              "997  no checking account          Rs. < 1000        good\n",
              "998           Rs. >=2000          Rs. < 1000        good\n",
              "999              Rs. < 0          Rs. < 1000         bad\n",
              "\n",
              "[1000 rows x 3 columns]"
            ]
          },
          "metadata": {},
          "execution_count": 36
        }
      ]
    },
    {
      "cell_type": "code",
      "metadata": {
        "id": "iywghBOdDDbI"
      },
      "source": [
        "grouped_data = data_1.groupby(by = ['creditScore', 'Cbal', 'Sbal']).agg({'creditScore': 'count'})"
      ],
      "execution_count": 37,
      "outputs": []
    },
    {
      "cell_type": "code",
      "metadata": {
        "colab": {
          "base_uri": "https://localhost:8080/",
          "height": 1000
        },
        "id": "k6iH52nwEiBL",
        "outputId": "23225c3d-44b0-4004-969e-775359cb0369"
      },
      "source": [
        "grouped_data"
      ],
      "execution_count": 38,
      "outputs": [
        {
          "output_type": "execute_result",
          "data": {
            "text/html": [
              "<div>\n",
              "<style scoped>\n",
              "    .dataframe tbody tr th:only-of-type {\n",
              "        vertical-align: middle;\n",
              "    }\n",
              "\n",
              "    .dataframe tbody tr th {\n",
              "        vertical-align: top;\n",
              "    }\n",
              "\n",
              "    .dataframe thead th {\n",
              "        text-align: right;\n",
              "    }\n",
              "</style>\n",
              "<table border=\"1\" class=\"dataframe\">\n",
              "  <thead>\n",
              "    <tr style=\"text-align: right;\">\n",
              "      <th></th>\n",
              "      <th></th>\n",
              "      <th></th>\n",
              "      <th>creditScore</th>\n",
              "    </tr>\n",
              "    <tr>\n",
              "      <th>creditScore</th>\n",
              "      <th>Cbal</th>\n",
              "      <th>Sbal</th>\n",
              "      <th></th>\n",
              "    </tr>\n",
              "  </thead>\n",
              "  <tbody>\n",
              "    <tr>\n",
              "      <th rowspan=\"18\" valign=\"top\">bad</th>\n",
              "      <th rowspan=\"4\" valign=\"top\">Rs. &lt; 0</th>\n",
              "      <th>1000 &lt;= Rs. &lt; 5,000</th>\n",
              "      <td>5</td>\n",
              "    </tr>\n",
              "    <tr>\n",
              "      <th>5000 &lt;= Rs. &lt; 10,000</th>\n",
              "      <td>2</td>\n",
              "    </tr>\n",
              "    <tr>\n",
              "      <th>Rs. &lt; 1000</th>\n",
              "      <td>114</td>\n",
              "    </tr>\n",
              "    <tr>\n",
              "      <th>no savings account</th>\n",
              "      <td>14</td>\n",
              "    </tr>\n",
              "    <tr>\n",
              "      <th rowspan=\"5\" valign=\"top\">0 &lt;= Rs. &lt; 2000</th>\n",
              "      <th>1000 &lt;= Rs. &lt; 5,000</th>\n",
              "      <td>24</td>\n",
              "    </tr>\n",
              "    <tr>\n",
              "      <th>5000 &lt;= Rs. &lt; 10,000</th>\n",
              "      <td>3</td>\n",
              "    </tr>\n",
              "    <tr>\n",
              "      <th>Rs. &lt; 1000</th>\n",
              "      <td>67</td>\n",
              "    </tr>\n",
              "    <tr>\n",
              "      <th>Rs. &gt;= 10,000</th>\n",
              "      <td>4</td>\n",
              "    </tr>\n",
              "    <tr>\n",
              "      <th>no savings account</th>\n",
              "      <td>7</td>\n",
              "    </tr>\n",
              "    <tr>\n",
              "      <th rowspan=\"4\" valign=\"top\">Rs. &gt;=2000</th>\n",
              "      <th>1000 &lt;= Rs. &lt; 5,000</th>\n",
              "      <td>1</td>\n",
              "    </tr>\n",
              "    <tr>\n",
              "      <th>5000 &lt;= Rs. &lt; 10,000</th>\n",
              "      <td>1</td>\n",
              "    </tr>\n",
              "    <tr>\n",
              "      <th>Rs. &lt; 1000</th>\n",
              "      <td>10</td>\n",
              "    </tr>\n",
              "    <tr>\n",
              "      <th>no savings account</th>\n",
              "      <td>2</td>\n",
              "    </tr>\n",
              "    <tr>\n",
              "      <th rowspan=\"5\" valign=\"top\">no checking account</th>\n",
              "      <th>1000 &lt;= Rs. &lt; 5,000</th>\n",
              "      <td>4</td>\n",
              "    </tr>\n",
              "    <tr>\n",
              "      <th>5000 &lt;= Rs. &lt; 10,000</th>\n",
              "      <td>5</td>\n",
              "    </tr>\n",
              "    <tr>\n",
              "      <th>Rs. &lt; 1000</th>\n",
              "      <td>26</td>\n",
              "    </tr>\n",
              "    <tr>\n",
              "      <th>Rs. &gt;= 10,000</th>\n",
              "      <td>2</td>\n",
              "    </tr>\n",
              "    <tr>\n",
              "      <th>no savings account</th>\n",
              "      <td>9</td>\n",
              "    </tr>\n",
              "    <tr>\n",
              "      <th rowspan=\"20\" valign=\"top\">good</th>\n",
              "      <th rowspan=\"5\" valign=\"top\">Rs. &lt; 0</th>\n",
              "      <th>1000 &lt;= Rs. &lt; 5,000</th>\n",
              "      <td>7</td>\n",
              "    </tr>\n",
              "    <tr>\n",
              "      <th>5000 &lt;= Rs. &lt; 10,000</th>\n",
              "      <td>6</td>\n",
              "    </tr>\n",
              "    <tr>\n",
              "      <th>Rs. &lt; 1000</th>\n",
              "      <td>105</td>\n",
              "    </tr>\n",
              "    <tr>\n",
              "      <th>Rs. &gt;= 10,000</th>\n",
              "      <td>6</td>\n",
              "    </tr>\n",
              "    <tr>\n",
              "      <th>no savings account</th>\n",
              "      <td>15</td>\n",
              "    </tr>\n",
              "    <tr>\n",
              "      <th rowspan=\"5\" valign=\"top\">0 &lt;= Rs. &lt; 2000</th>\n",
              "      <th>1000 &lt;= Rs. &lt; 5,000</th>\n",
              "      <td>23</td>\n",
              "    </tr>\n",
              "    <tr>\n",
              "      <th>5000 &lt;= Rs. &lt; 10,000</th>\n",
              "      <td>8</td>\n",
              "    </tr>\n",
              "    <tr>\n",
              "      <th>Rs. &lt; 1000</th>\n",
              "      <td>85</td>\n",
              "    </tr>\n",
              "    <tr>\n",
              "      <th>Rs. &gt;= 10,000</th>\n",
              "      <td>10</td>\n",
              "    </tr>\n",
              "    <tr>\n",
              "      <th>no savings account</th>\n",
              "      <td>38</td>\n",
              "    </tr>\n",
              "    <tr>\n",
              "      <th rowspan=\"5\" valign=\"top\">Rs. &gt;=2000</th>\n",
              "      <th>1000 &lt;= Rs. &lt; 5,000</th>\n",
              "      <td>4</td>\n",
              "    </tr>\n",
              "    <tr>\n",
              "      <th>5000 &lt;= Rs. &lt; 10,000</th>\n",
              "      <td>3</td>\n",
              "    </tr>\n",
              "    <tr>\n",
              "      <th>Rs. &lt; 1000</th>\n",
              "      <td>31</td>\n",
              "    </tr>\n",
              "    <tr>\n",
              "      <th>Rs. &gt;= 10,000</th>\n",
              "      <td>3</td>\n",
              "    </tr>\n",
              "    <tr>\n",
              "      <th>no savings account</th>\n",
              "      <td>8</td>\n",
              "    </tr>\n",
              "    <tr>\n",
              "      <th rowspan=\"5\" valign=\"top\">no checking account</th>\n",
              "      <th>1000 &lt;= Rs. &lt; 5,000</th>\n",
              "      <td>35</td>\n",
              "    </tr>\n",
              "    <tr>\n",
              "      <th>5000 &lt;= Rs. &lt; 10,000</th>\n",
              "      <td>35</td>\n",
              "    </tr>\n",
              "    <tr>\n",
              "      <th>Rs. &lt; 1000</th>\n",
              "      <td>165</td>\n",
              "    </tr>\n",
              "    <tr>\n",
              "      <th>Rs. &gt;= 10,000</th>\n",
              "      <td>23</td>\n",
              "    </tr>\n",
              "    <tr>\n",
              "      <th>no savings account</th>\n",
              "      <td>90</td>\n",
              "    </tr>\n",
              "  </tbody>\n",
              "</table>\n",
              "</div>"
            ],
            "text/plain": [
              "                                                      creditScore\n",
              "creditScore Cbal                Sbal                             \n",
              "bad          Rs. < 0            1000 <= Rs. < 5,000             5\n",
              "                                5000 <= Rs. < 10,000            2\n",
              "                                Rs. < 1000                    114\n",
              "                                no savings account             14\n",
              "            0 <= Rs. < 2000     1000 <= Rs. < 5,000            24\n",
              "                                5000 <= Rs. < 10,000            3\n",
              "                                Rs. < 1000                     67\n",
              "                                Rs. >= 10,000                   4\n",
              "                                no savings account              7\n",
              "            Rs. >=2000          1000 <= Rs. < 5,000             1\n",
              "                                5000 <= Rs. < 10,000            1\n",
              "                                Rs. < 1000                     10\n",
              "                                no savings account              2\n",
              "            no checking account 1000 <= Rs. < 5,000             4\n",
              "                                5000 <= Rs. < 10,000            5\n",
              "                                Rs. < 1000                     26\n",
              "                                Rs. >= 10,000                   2\n",
              "                                no savings account              9\n",
              "good         Rs. < 0            1000 <= Rs. < 5,000             7\n",
              "                                5000 <= Rs. < 10,000            6\n",
              "                                Rs. < 1000                    105\n",
              "                                Rs. >= 10,000                   6\n",
              "                                no savings account             15\n",
              "            0 <= Rs. < 2000     1000 <= Rs. < 5,000            23\n",
              "                                5000 <= Rs. < 10,000            8\n",
              "                                Rs. < 1000                     85\n",
              "                                Rs. >= 10,000                  10\n",
              "                                no savings account             38\n",
              "            Rs. >=2000          1000 <= Rs. < 5,000             4\n",
              "                                5000 <= Rs. < 10,000            3\n",
              "                                Rs. < 1000                     31\n",
              "                                Rs. >= 10,000                   3\n",
              "                                no savings account              8\n",
              "            no checking account 1000 <= Rs. < 5,000            35\n",
              "                                5000 <= Rs. < 10,000           35\n",
              "                                Rs. < 1000                    165\n",
              "                                Rs. >= 10,000                  23\n",
              "                                no savings account             90"
            ]
          },
          "metadata": {},
          "execution_count": 38
        }
      ]
    },
    {
      "cell_type": "markdown",
      "metadata": {
        "id": "8utvdQc6SXQK"
      },
      "source": [
        "Inference:\n",
        "\n",
        "The output of above code expression gives a lot of insights and also present problems in the dataset. Highest number of clients claimed to be likely defaulters have both negative balance in the checking accounts and less than Rs. 1000 in their savings accounts. However, few likely defaulters do not have both checking accounts and savings accounts. Overall, we have observed that a considerable number of likely defaulters are claimed to have less than Rs. 1000 in their savings account whatever the amount they have in checking account or in cases they have no checking accounts. \n",
        "\n",
        "In contrast to the defaulters, non-defaulters have both negative balance in the checking accounts and less than Rs. 1000 in their savings accounts. Moreover, clients, who have both negative balance in the checking accounts and less than Rs. 1000 in their savings accounts are higher in number and clients, who have no checking account and have less than Rs. 1000 in their savings accounts are also claimed to be non-defaulters. Again, there are considerable number of clients, who are claimed as non-defaulters if they do not have both checking and savings accounts. \n",
        "\n",
        "One important concern these inferences have raised is that some of the clients, who are claimed to be likely non-defaulters in the dataset either not have both savings and checking accounts or, clients don't have enough balance in savings or checking accounts. "
      ]
    },
    {
      "cell_type": "markdown",
      "metadata": {
        "id": "Xmzul-D0_pxk"
      },
      "source": [
        "Important Observation:\n",
        "\n",
        "We know that feature, 'Cbal' also has a value, 'no checking account' as 'Sbal' has value of 'no savings account'. Hence, we can compare the rows in which 'Cbal' and 'Sbal' have these respective values to identify whether such clients are classified as likely defaulters or non-defaulters. If these clients are labeled as likely non-defaulter in the dataset, then either the person, who collected the data has collected it in incorrect manner and made completely invalid claims or the client has another source of funds, which he has used to make loan payments and is not mentioned in the dataset. Study of existence of co-applicants, if any, and existing credits at other financial institutions as given in the dataset. "
      ]
    },
    {
      "cell_type": "markdown",
      "metadata": {
        "id": "33oFxNboGYEK"
      },
      "source": [
        "\n",
        "There is another problem with the given dataset. We don't know what framework or parameters the person, who has collected the data has taken in order to make claims and label whether a client is likely to default or not default on loan payments based on the features given in the dataset. This inference is also made in accordance with the lack of important information such as interest rates, disposable income, etc. "
      ]
    },
    {
      "cell_type": "code",
      "metadata": {
        "id": "LWowZA1x9CBn",
        "colab": {
          "base_uri": "https://localhost:8080/"
        },
        "outputId": "4fe057a4-05c9-4fe5-bc9c-f665b9bd6cb4"
      },
      "source": [
        "# checking the relation between feature, 'Edur' and target variable, 'creditScore' \n",
        "\n",
        "# first, checking the total number of unique values in 'Edur' \n",
        "\n",
        "data_1['Edur'].value_counts()"
      ],
      "execution_count": 39,
      "outputs": [
        {
          "output_type": "execute_result",
          "data": {
            "text/plain": [
              "1 to 4 years         339\n",
              "more than 7 years    253\n",
              "4 to 7 years         174\n",
              "less than 1 year     172\n",
              "not employed          62\n",
              "Name: Edur, dtype: int64"
            ]
          },
          "metadata": {},
          "execution_count": 39
        }
      ]
    },
    {
      "cell_type": "markdown",
      "metadata": {
        "id": "K1DcfD0mM51h"
      },
      "source": [
        "Interpretation:\n",
        "\n",
        "There are very few unique values in feature 'Edur'. "
      ]
    },
    {
      "cell_type": "code",
      "metadata": {
        "colab": {
          "base_uri": "https://localhost:8080/",
          "height": 268
        },
        "id": "BPJkHeQ7NQ6H",
        "outputId": "75f8293a-6eb4-4d8e-efd7-bdedcc41ed56"
      },
      "source": [
        "# checking the relation between feature 'Edur' and 'creditScore'\n",
        "\n",
        "pd.crosstab(index = data_1['Edur'], columns = data_1['creditScore'], values = data_1['creditScore'], aggfunc = 'count', margins = True, normalize= True)"
      ],
      "execution_count": 40,
      "outputs": [
        {
          "output_type": "execute_result",
          "data": {
            "text/html": [
              "<div>\n",
              "<style scoped>\n",
              "    .dataframe tbody tr th:only-of-type {\n",
              "        vertical-align: middle;\n",
              "    }\n",
              "\n",
              "    .dataframe tbody tr th {\n",
              "        vertical-align: top;\n",
              "    }\n",
              "\n",
              "    .dataframe thead th {\n",
              "        text-align: right;\n",
              "    }\n",
              "</style>\n",
              "<table border=\"1\" class=\"dataframe\">\n",
              "  <thead>\n",
              "    <tr style=\"text-align: right;\">\n",
              "      <th>creditScore</th>\n",
              "      <th>bad</th>\n",
              "      <th>good</th>\n",
              "      <th>All</th>\n",
              "    </tr>\n",
              "    <tr>\n",
              "      <th>Edur</th>\n",
              "      <th></th>\n",
              "      <th></th>\n",
              "      <th></th>\n",
              "    </tr>\n",
              "  </thead>\n",
              "  <tbody>\n",
              "    <tr>\n",
              "      <th>1 to 4 years</th>\n",
              "      <td>0.104</td>\n",
              "      <td>0.235</td>\n",
              "      <td>0.339</td>\n",
              "    </tr>\n",
              "    <tr>\n",
              "      <th>4 to 7 years</th>\n",
              "      <td>0.039</td>\n",
              "      <td>0.135</td>\n",
              "      <td>0.174</td>\n",
              "    </tr>\n",
              "    <tr>\n",
              "      <th>less than 1 year</th>\n",
              "      <td>0.070</td>\n",
              "      <td>0.102</td>\n",
              "      <td>0.172</td>\n",
              "    </tr>\n",
              "    <tr>\n",
              "      <th>more than 7 years</th>\n",
              "      <td>0.064</td>\n",
              "      <td>0.189</td>\n",
              "      <td>0.253</td>\n",
              "    </tr>\n",
              "    <tr>\n",
              "      <th>not employed</th>\n",
              "      <td>0.023</td>\n",
              "      <td>0.039</td>\n",
              "      <td>0.062</td>\n",
              "    </tr>\n",
              "    <tr>\n",
              "      <th>All</th>\n",
              "      <td>0.300</td>\n",
              "      <td>0.700</td>\n",
              "      <td>1.000</td>\n",
              "    </tr>\n",
              "  </tbody>\n",
              "</table>\n",
              "</div>"
            ],
            "text/plain": [
              "creditScore          bad   good    All\n",
              "Edur                                  \n",
              "1 to 4 years       0.104  0.235  0.339\n",
              "4 to 7 years       0.039  0.135  0.174\n",
              "less than 1 year   0.070  0.102  0.172\n",
              "more than 7 years  0.064  0.189  0.253\n",
              "not employed       0.023  0.039  0.062\n",
              "All                0.300  0.700  1.000"
            ]
          },
          "metadata": {},
          "execution_count": 40
        }
      ]
    },
    {
      "cell_type": "code",
      "metadata": {
        "colab": {
          "base_uri": "https://localhost:8080/"
        },
        "id": "BAnz26YQPThJ",
        "outputId": "925acc03-a8dc-4170-8ce2-26c9c561f5cf"
      },
      "source": [
        "# checking the counts of values in feature 'InRate'\n",
        "\n",
        "data_1['InRate'].value_counts()"
      ],
      "execution_count": 41,
      "outputs": [
        {
          "output_type": "execute_result",
          "data": {
            "text/plain": [
              "4    476\n",
              "2    231\n",
              "3    157\n",
              "1    136\n",
              "Name: InRate, dtype: int64"
            ]
          },
          "metadata": {},
          "execution_count": 41
        }
      ]
    },
    {
      "cell_type": "code",
      "metadata": {
        "colab": {
          "base_uri": "https://localhost:8080/",
          "height": 175
        },
        "id": "0LvFIzN9PWyM",
        "outputId": "a8a3d36a-3432-4c96-bdce-1b1ce2ad7327"
      },
      "source": [
        "# checking the relation between 'InRate' and 'creditScore'\n",
        "\n",
        "pd.crosstab(index = data_1['creditScore'], columns = data_1['creditScore'], \n",
        "            values = data_1['InRate'], aggfunc = 'median', margins = True)"
      ],
      "execution_count": 42,
      "outputs": [
        {
          "output_type": "execute_result",
          "data": {
            "text/html": [
              "<div>\n",
              "<style scoped>\n",
              "    .dataframe tbody tr th:only-of-type {\n",
              "        vertical-align: middle;\n",
              "    }\n",
              "\n",
              "    .dataframe tbody tr th {\n",
              "        vertical-align: top;\n",
              "    }\n",
              "\n",
              "    .dataframe thead th {\n",
              "        text-align: right;\n",
              "    }\n",
              "</style>\n",
              "<table border=\"1\" class=\"dataframe\">\n",
              "  <thead>\n",
              "    <tr style=\"text-align: right;\">\n",
              "      <th>creditScore</th>\n",
              "      <th>bad</th>\n",
              "      <th>good</th>\n",
              "      <th>All</th>\n",
              "    </tr>\n",
              "    <tr>\n",
              "      <th>creditScore</th>\n",
              "      <th></th>\n",
              "      <th></th>\n",
              "      <th></th>\n",
              "    </tr>\n",
              "  </thead>\n",
              "  <tbody>\n",
              "    <tr>\n",
              "      <th>bad</th>\n",
              "      <td>4.0</td>\n",
              "      <td>NaN</td>\n",
              "      <td>4</td>\n",
              "    </tr>\n",
              "    <tr>\n",
              "      <th>good</th>\n",
              "      <td>NaN</td>\n",
              "      <td>3.0</td>\n",
              "      <td>3</td>\n",
              "    </tr>\n",
              "    <tr>\n",
              "      <th>All</th>\n",
              "      <td>4.0</td>\n",
              "      <td>3.0</td>\n",
              "      <td>3</td>\n",
              "    </tr>\n",
              "  </tbody>\n",
              "</table>\n",
              "</div>"
            ],
            "text/plain": [
              "creditScore  bad  good  All\n",
              "creditScore                \n",
              "bad          4.0   NaN    4\n",
              "good         NaN   3.0    3\n",
              "All          4.0   3.0    3"
            ]
          },
          "metadata": {},
          "execution_count": 42
        }
      ]
    },
    {
      "cell_type": "markdown",
      "metadata": {
        "id": "0tDT656H1tfv"
      },
      "source": [
        "Interpretation:\n",
        "\n",
        "The output of above code expression shows that the defaulters have a median instalment rate of 4 and non-defaulters have a median instalment rate of 3. "
      ]
    },
    {
      "cell_type": "code",
      "metadata": {
        "colab": {
          "base_uri": "https://localhost:8080/"
        },
        "id": "EBHroO0JO2Bp",
        "outputId": "cc758168-25a5-41b0-f536-7e41a98e79be"
      },
      "source": [
        "# checking the counts of values in feature 'MSG'\n",
        "\n",
        "data_1['MSG'].value_counts()"
      ],
      "execution_count": 43,
      "outputs": [
        {
          "output_type": "execute_result",
          "data": {
            "text/plain": [
              "single male                                548\n",
              "divorced or separated or married female    310\n",
              "married or widowed male                     92\n",
              "divorced or separated male                  50\n",
              "Name: MSG, dtype: int64"
            ]
          },
          "metadata": {},
          "execution_count": 43
        }
      ]
    },
    {
      "cell_type": "code",
      "metadata": {
        "colab": {
          "base_uri": "https://localhost:8080/",
          "height": 236
        },
        "id": "O4T1RO-URrfi",
        "outputId": "b122360a-4fc0-403e-ccd2-77d95c6942f2"
      },
      "source": [
        "# checking the relation between 'MSG' and 'creditScore'\n",
        "\n",
        "pd.crosstab(index = data_1['MSG'], columns = data_1['creditScore'], values = data_1['creditScore'], \n",
        "            aggfunc = 'count', margins = True, normalize = True)"
      ],
      "execution_count": 44,
      "outputs": [
        {
          "output_type": "execute_result",
          "data": {
            "text/html": [
              "<div>\n",
              "<style scoped>\n",
              "    .dataframe tbody tr th:only-of-type {\n",
              "        vertical-align: middle;\n",
              "    }\n",
              "\n",
              "    .dataframe tbody tr th {\n",
              "        vertical-align: top;\n",
              "    }\n",
              "\n",
              "    .dataframe thead th {\n",
              "        text-align: right;\n",
              "    }\n",
              "</style>\n",
              "<table border=\"1\" class=\"dataframe\">\n",
              "  <thead>\n",
              "    <tr style=\"text-align: right;\">\n",
              "      <th>creditScore</th>\n",
              "      <th>bad</th>\n",
              "      <th>good</th>\n",
              "      <th>All</th>\n",
              "    </tr>\n",
              "    <tr>\n",
              "      <th>MSG</th>\n",
              "      <th></th>\n",
              "      <th></th>\n",
              "      <th></th>\n",
              "    </tr>\n",
              "  </thead>\n",
              "  <tbody>\n",
              "    <tr>\n",
              "      <th>divorced or separated male</th>\n",
              "      <td>0.020</td>\n",
              "      <td>0.030</td>\n",
              "      <td>0.050</td>\n",
              "    </tr>\n",
              "    <tr>\n",
              "      <th>divorced or separated or married female</th>\n",
              "      <td>0.109</td>\n",
              "      <td>0.201</td>\n",
              "      <td>0.310</td>\n",
              "    </tr>\n",
              "    <tr>\n",
              "      <th>married or widowed male</th>\n",
              "      <td>0.025</td>\n",
              "      <td>0.067</td>\n",
              "      <td>0.092</td>\n",
              "    </tr>\n",
              "    <tr>\n",
              "      <th>single male</th>\n",
              "      <td>0.146</td>\n",
              "      <td>0.402</td>\n",
              "      <td>0.548</td>\n",
              "    </tr>\n",
              "    <tr>\n",
              "      <th>All</th>\n",
              "      <td>0.300</td>\n",
              "      <td>0.700</td>\n",
              "      <td>1.000</td>\n",
              "    </tr>\n",
              "  </tbody>\n",
              "</table>\n",
              "</div>"
            ],
            "text/plain": [
              "creditScore                                bad   good    All\n",
              "MSG                                                         \n",
              "divorced or separated male               0.020  0.030  0.050\n",
              "divorced or separated or married female  0.109  0.201  0.310\n",
              "married or widowed male                  0.025  0.067  0.092\n",
              "single male                              0.146  0.402  0.548\n",
              "All                                      0.300  0.700  1.000"
            ]
          },
          "metadata": {},
          "execution_count": 44
        }
      ]
    },
    {
      "cell_type": "markdown",
      "metadata": {
        "id": "8TAJ_ipd2UlB"
      },
      "source": [
        "Interpretation:\n",
        "\n",
        "Feature 'MSG' refers to marital status and gender of the client. The output of above code expression shows that the highest proportion of defaulters are single male clients and highest proportion of non-defaulters are also single male clients. In contrast, the lowest proportion of both defaulters and non-defaulters fall in the category of 'divorced or separated males'. Overall, there is higher proportion of non-defaulters than defaulters in the given dataset. "
      ]
    },
    {
      "cell_type": "code",
      "metadata": {
        "colab": {
          "base_uri": "https://localhost:8080/"
        },
        "id": "OIVH_aFiOgMR",
        "outputId": "d1893727-3ac6-4692-c24b-53e61aaefa63"
      },
      "source": [
        "# checking the counts of values of 'Oparties' in the dataset\n",
        "\n",
        "data_1['Oparties'].value_counts()"
      ],
      "execution_count": 45,
      "outputs": [
        {
          "output_type": "execute_result",
          "data": {
            "text/plain": [
              "no one               907\n",
              "yes, guarantor        52\n",
              "yes, co-applicant     41\n",
              "Name: Oparties, dtype: int64"
            ]
          },
          "metadata": {},
          "execution_count": 45
        }
      ]
    },
    {
      "cell_type": "code",
      "metadata": {
        "colab": {
          "base_uri": "https://localhost:8080/",
          "height": 205
        },
        "id": "9coF91PecCkY",
        "outputId": "0430ee14-cc2b-4a5b-d67a-283e022d0504"
      },
      "source": [
        "# checking the relation between 'Oparties' and 'creditScore'\n",
        "\n",
        "pd.crosstab(index = data_1['Oparties'], columns = data_1['creditScore'], values = data_1['creditScore'], \n",
        "            aggfunc = 'count', margins = True, normalize = True)"
      ],
      "execution_count": 46,
      "outputs": [
        {
          "output_type": "execute_result",
          "data": {
            "text/html": [
              "<div>\n",
              "<style scoped>\n",
              "    .dataframe tbody tr th:only-of-type {\n",
              "        vertical-align: middle;\n",
              "    }\n",
              "\n",
              "    .dataframe tbody tr th {\n",
              "        vertical-align: top;\n",
              "    }\n",
              "\n",
              "    .dataframe thead th {\n",
              "        text-align: right;\n",
              "    }\n",
              "</style>\n",
              "<table border=\"1\" class=\"dataframe\">\n",
              "  <thead>\n",
              "    <tr style=\"text-align: right;\">\n",
              "      <th>creditScore</th>\n",
              "      <th>bad</th>\n",
              "      <th>good</th>\n",
              "      <th>All</th>\n",
              "    </tr>\n",
              "    <tr>\n",
              "      <th>Oparties</th>\n",
              "      <th></th>\n",
              "      <th></th>\n",
              "      <th></th>\n",
              "    </tr>\n",
              "  </thead>\n",
              "  <tbody>\n",
              "    <tr>\n",
              "      <th>no one</th>\n",
              "      <td>0.272</td>\n",
              "      <td>0.635</td>\n",
              "      <td>0.907</td>\n",
              "    </tr>\n",
              "    <tr>\n",
              "      <th>yes, co-applicant</th>\n",
              "      <td>0.018</td>\n",
              "      <td>0.023</td>\n",
              "      <td>0.041</td>\n",
              "    </tr>\n",
              "    <tr>\n",
              "      <th>yes, guarantor</th>\n",
              "      <td>0.010</td>\n",
              "      <td>0.042</td>\n",
              "      <td>0.052</td>\n",
              "    </tr>\n",
              "    <tr>\n",
              "      <th>All</th>\n",
              "      <td>0.300</td>\n",
              "      <td>0.700</td>\n",
              "      <td>1.000</td>\n",
              "    </tr>\n",
              "  </tbody>\n",
              "</table>\n",
              "</div>"
            ],
            "text/plain": [
              "creditScore          bad   good    All\n",
              "Oparties                              \n",
              "no one             0.272  0.635  0.907\n",
              "yes, co-applicant  0.018  0.023  0.041\n",
              "yes, guarantor     0.010  0.042  0.052\n",
              "All                0.300  0.700  1.000"
            ]
          },
          "metadata": {},
          "execution_count": 46
        }
      ]
    },
    {
      "cell_type": "markdown",
      "metadata": {
        "id": "_8pCrtqE3r4s"
      },
      "source": [
        "Interpretation:\n",
        "\n",
        "The output of above code expression shows that highest proportion of defaulters have no co-applicant/guarantor for the loan that they availed from the institution and lowest proportion of defaulters had a guarantor.  The highest proportion of non-defaulters have no co-applicant/guarantor for the loan that they availed from the institution and lowest proportion of non-defaulters have a co-applicant. "
      ]
    },
    {
      "cell_type": "markdown",
      "metadata": {
        "id": "IL727lNMTxcx"
      },
      "source": [
        "Important Observation:\n",
        "\n",
        "It was observed and problematized earlier that features in the dataset that indicate potential source of funds held by the clients in their accounts versus their likelihood to default or not default on loans as the values in two features do not sufficiently explain the credit scores of clients. Moreover, there is also lack of information about facts such as disposable income, interest rate, etc. This information is required to be checked in association with values in other features such as instalment plans, other properties and existing credits of clients to understand whether there is sufficient justification to claim whether a client is likely to be a defaulter or non-defaulter.  \n",
        "\n",
        "There can be two conditions in which a client can be a non-defaulter despite having no income in accounts. First, client can allow the institution to take ownership of the collateral that is submitted as a mortgage at the time of availing the loan. Second, client could have applied for the loan with a co-applicant and that co-applicant ultimately made all the loan payments on behalf of the client. "
      ]
    },
    {
      "cell_type": "code",
      "metadata": {
        "id": "HpF8HbbAaaz_"
      },
      "source": [
        "# focusing on features, 'Cbal', 'Chist', 'Sbal', 'Edur', 'Oparties', 'Prop', 'Cpur', 'age', 'inPlans', 'Htype', 'NumCred' and 'creditScore' to understand \n",
        "# justification for making claims about the likelihood of a client to become a defaulter or non-defaulter\n",
        "\n",
        "iit_1 = data_1.copy(deep = True)"
      ],
      "execution_count": 47,
      "outputs": []
    },
    {
      "cell_type": "code",
      "metadata": {
        "colab": {
          "base_uri": "https://localhost:8080/"
        },
        "id": "96JW0QXK1l3L",
        "outputId": "2ce99169-ba43-4484-d74e-2a1ff4f9afe9"
      },
      "source": [
        "iit_1.dtypes"
      ],
      "execution_count": 48,
      "outputs": [
        {
          "output_type": "execute_result",
          "data": {
            "text/plain": [
              "Cbal           object\n",
              "Cdur            int64\n",
              "pctile_dur     object\n",
              "Chist          object\n",
              "Cpur           object\n",
              "Camt            int64\n",
              "pctile_amt     object\n",
              "Sbal           object\n",
              "Edur           object\n",
              "InRate          int64\n",
              "MSG            object\n",
              "Oparties       object\n",
              "Rdur           object\n",
              "Prop           object\n",
              "age             int64\n",
              "inPlans        object\n",
              "Htype          object\n",
              "NumCred         int64\n",
              "JobType        object\n",
              "Ndepend         int64\n",
              "telephone      object\n",
              "foreign        object\n",
              "creditScore    object\n",
              "dtype: object"
            ]
          },
          "metadata": {},
          "execution_count": 48
        }
      ]
    },
    {
      "cell_type": "code",
      "metadata": {
        "id": "UJh5Zd9Ygg9K",
        "colab": {
          "base_uri": "https://localhost:8080/",
          "height": 519
        },
        "outputId": "ec640172-ec2e-43d8-dfda-3cef2ab9d389"
      },
      "source": [
        "# to make analysis more organized, we will focus on the rows in iit_1 dataframe that specify either the income held by the clients in their accounts is very low \n",
        "# or the clients do not own any accounts at all and then the patterns between features in these rows could be studied in relation to \n",
        "# the target variable, creditScore\n",
        "\n",
        "iit_1.head()\n"
      ],
      "execution_count": 49,
      "outputs": [
        {
          "output_type": "execute_result",
          "data": {
            "text/html": [
              "<div>\n",
              "<style scoped>\n",
              "    .dataframe tbody tr th:only-of-type {\n",
              "        vertical-align: middle;\n",
              "    }\n",
              "\n",
              "    .dataframe tbody tr th {\n",
              "        vertical-align: top;\n",
              "    }\n",
              "\n",
              "    .dataframe thead th {\n",
              "        text-align: right;\n",
              "    }\n",
              "</style>\n",
              "<table border=\"1\" class=\"dataframe\">\n",
              "  <thead>\n",
              "    <tr style=\"text-align: right;\">\n",
              "      <th></th>\n",
              "      <th>Cbal</th>\n",
              "      <th>Cdur</th>\n",
              "      <th>pctile_dur</th>\n",
              "      <th>Chist</th>\n",
              "      <th>Cpur</th>\n",
              "      <th>Camt</th>\n",
              "      <th>pctile_amt</th>\n",
              "      <th>Sbal</th>\n",
              "      <th>Edur</th>\n",
              "      <th>InRate</th>\n",
              "      <th>MSG</th>\n",
              "      <th>Oparties</th>\n",
              "      <th>Rdur</th>\n",
              "      <th>Prop</th>\n",
              "      <th>age</th>\n",
              "      <th>inPlans</th>\n",
              "      <th>Htype</th>\n",
              "      <th>NumCred</th>\n",
              "      <th>JobType</th>\n",
              "      <th>Ndepend</th>\n",
              "      <th>telephone</th>\n",
              "      <th>foreign</th>\n",
              "      <th>creditScore</th>\n",
              "    </tr>\n",
              "  </thead>\n",
              "  <tbody>\n",
              "    <tr>\n",
              "      <th>0</th>\n",
              "      <td>0 &lt;= Rs. &lt; 2000</td>\n",
              "      <td>9</td>\n",
              "      <td>25%</td>\n",
              "      <td>all settled till now</td>\n",
              "      <td>Business</td>\n",
              "      <td>13790</td>\n",
              "      <td>25-50%</td>\n",
              "      <td>Rs. &lt; 1000</td>\n",
              "      <td>1 to 4 years</td>\n",
              "      <td>2</td>\n",
              "      <td>married or widowed male</td>\n",
              "      <td>no one</td>\n",
              "      <td>less than a year</td>\n",
              "      <td>real estate</td>\n",
              "      <td>27</td>\n",
              "      <td>bank</td>\n",
              "      <td>own</td>\n",
              "      <td>1</td>\n",
              "      <td>employee with official position</td>\n",
              "      <td>1</td>\n",
              "      <td>yes</td>\n",
              "      <td>no</td>\n",
              "      <td>good</td>\n",
              "    </tr>\n",
              "    <tr>\n",
              "      <th>1</th>\n",
              "      <td>0 &lt;= Rs. &lt; 2000</td>\n",
              "      <td>15</td>\n",
              "      <td>25-50%</td>\n",
              "      <td>dues not paid earlier</td>\n",
              "      <td>electronics</td>\n",
              "      <td>15250</td>\n",
              "      <td>25-50%</td>\n",
              "      <td>no savings account</td>\n",
              "      <td>more than 7 years</td>\n",
              "      <td>4</td>\n",
              "      <td>single male</td>\n",
              "      <td>yes, guarantor</td>\n",
              "      <td>more than 3 years</td>\n",
              "      <td>real estate</td>\n",
              "      <td>50</td>\n",
              "      <td>none</td>\n",
              "      <td>own</td>\n",
              "      <td>2</td>\n",
              "      <td>employee with official position</td>\n",
              "      <td>1</td>\n",
              "      <td>yes</td>\n",
              "      <td>no</td>\n",
              "      <td>good</td>\n",
              "    </tr>\n",
              "    <tr>\n",
              "      <th>2</th>\n",
              "      <td>0 &lt;= Rs. &lt; 2000</td>\n",
              "      <td>36</td>\n",
              "      <td>75%-100%</td>\n",
              "      <td>none taken/all settled</td>\n",
              "      <td>Business</td>\n",
              "      <td>19410</td>\n",
              "      <td>25-50%</td>\n",
              "      <td>Rs. &lt; 1000</td>\n",
              "      <td>more than 7 years</td>\n",
              "      <td>4</td>\n",
              "      <td>single male</td>\n",
              "      <td>no one</td>\n",
              "      <td>more than 3 years</td>\n",
              "      <td>Unknown</td>\n",
              "      <td>61</td>\n",
              "      <td>none</td>\n",
              "      <td>free</td>\n",
              "      <td>1</td>\n",
              "      <td>employed either in management, self or in high...</td>\n",
              "      <td>1</td>\n",
              "      <td>yes</td>\n",
              "      <td>no</td>\n",
              "      <td>bad</td>\n",
              "    </tr>\n",
              "    <tr>\n",
              "      <th>3</th>\n",
              "      <td>0 &lt;= Rs. &lt; 2000</td>\n",
              "      <td>48</td>\n",
              "      <td>75%-100%</td>\n",
              "      <td>none taken/all settled</td>\n",
              "      <td>Business</td>\n",
              "      <td>144090</td>\n",
              "      <td>75%-100%</td>\n",
              "      <td>Rs. &lt; 1000</td>\n",
              "      <td>1 to 4 years</td>\n",
              "      <td>2</td>\n",
              "      <td>single male</td>\n",
              "      <td>no one</td>\n",
              "      <td>1 to 2 years</td>\n",
              "      <td>Other cars etc.</td>\n",
              "      <td>25</td>\n",
              "      <td>none</td>\n",
              "      <td>own</td>\n",
              "      <td>1</td>\n",
              "      <td>employee with official position</td>\n",
              "      <td>1</td>\n",
              "      <td>yes</td>\n",
              "      <td>no</td>\n",
              "      <td>bad</td>\n",
              "    </tr>\n",
              "    <tr>\n",
              "      <th>4</th>\n",
              "      <td>no checking account</td>\n",
              "      <td>24</td>\n",
              "      <td>75%-100%</td>\n",
              "      <td>all settled till now</td>\n",
              "      <td>electronics</td>\n",
              "      <td>31690</td>\n",
              "      <td>50%-75%</td>\n",
              "      <td>Rs. &lt; 1000</td>\n",
              "      <td>less than 1 year</td>\n",
              "      <td>4</td>\n",
              "      <td>divorced or separated or married female</td>\n",
              "      <td>no one</td>\n",
              "      <td>more than 3 years</td>\n",
              "      <td>life insurance/building society</td>\n",
              "      <td>26</td>\n",
              "      <td>none</td>\n",
              "      <td>own</td>\n",
              "      <td>1</td>\n",
              "      <td>employee with official position</td>\n",
              "      <td>1</td>\n",
              "      <td>yes</td>\n",
              "      <td>no</td>\n",
              "      <td>good</td>\n",
              "    </tr>\n",
              "  </tbody>\n",
              "</table>\n",
              "</div>"
            ],
            "text/plain": [
              "                  Cbal  Cdur pctile_dur  ... telephone foreign  creditScore\n",
              "0      0 <= Rs. < 2000     9        25%  ...       yes      no         good\n",
              "1      0 <= Rs. < 2000    15     25-50%  ...       yes      no         good\n",
              "2      0 <= Rs. < 2000    36   75%-100%  ...       yes      no          bad\n",
              "3      0 <= Rs. < 2000    48   75%-100%  ...       yes      no          bad\n",
              "4  no checking account    24   75%-100%  ...       yes      no         good\n",
              "\n",
              "[5 rows x 23 columns]"
            ]
          },
          "metadata": {},
          "execution_count": 49
        }
      ]
    },
    {
      "cell_type": "code",
      "metadata": {
        "colab": {
          "base_uri": "https://localhost:8080/",
          "height": 505
        },
        "id": "O-jVJGQ5BY5u",
        "outputId": "8ce51fac-2504-4013-ab71-e5d5c99e3351"
      },
      "source": [
        "# checking the unique values in each of the other columns when client has no checking account or 'Cbal' has the value, 'no checking account' to identify\n",
        "# the patterns\n",
        "\n",
        "cols = iit_1.columns\n",
        "display(iit_1.loc[((iit_1['Cbal'].str.startswith('no')) & (iit_1['Sbal'].str.startswith('no')) & (iit_1['Chist'].str.startswith('all')) &\n",
        "                  (iit_1['Oparties'].str.startswith('no')) & (iit_1['Edur'].str.startswith('not')), cols)])\n",
        "\n"
      ],
      "execution_count": 50,
      "outputs": [
        {
          "output_type": "display_data",
          "data": {
            "text/html": [
              "<div>\n",
              "<style scoped>\n",
              "    .dataframe tbody tr th:only-of-type {\n",
              "        vertical-align: middle;\n",
              "    }\n",
              "\n",
              "    .dataframe tbody tr th {\n",
              "        vertical-align: top;\n",
              "    }\n",
              "\n",
              "    .dataframe thead th {\n",
              "        text-align: right;\n",
              "    }\n",
              "</style>\n",
              "<table border=\"1\" class=\"dataframe\">\n",
              "  <thead>\n",
              "    <tr style=\"text-align: right;\">\n",
              "      <th></th>\n",
              "      <th>Cbal</th>\n",
              "      <th>Cdur</th>\n",
              "      <th>pctile_dur</th>\n",
              "      <th>Chist</th>\n",
              "      <th>Cpur</th>\n",
              "      <th>Camt</th>\n",
              "      <th>pctile_amt</th>\n",
              "      <th>Sbal</th>\n",
              "      <th>Edur</th>\n",
              "      <th>InRate</th>\n",
              "      <th>MSG</th>\n",
              "      <th>Oparties</th>\n",
              "      <th>Rdur</th>\n",
              "      <th>Prop</th>\n",
              "      <th>age</th>\n",
              "      <th>inPlans</th>\n",
              "      <th>Htype</th>\n",
              "      <th>NumCred</th>\n",
              "      <th>JobType</th>\n",
              "      <th>Ndepend</th>\n",
              "      <th>telephone</th>\n",
              "      <th>foreign</th>\n",
              "      <th>creditScore</th>\n",
              "    </tr>\n",
              "  </thead>\n",
              "  <tbody>\n",
              "    <tr>\n",
              "      <th>115</th>\n",
              "      <td>no checking account</td>\n",
              "      <td>30</td>\n",
              "      <td>75%-100%</td>\n",
              "      <td>all settled</td>\n",
              "      <td>new vehicle</td>\n",
              "      <td>74730</td>\n",
              "      <td>75%-100%</td>\n",
              "      <td>no savings account</td>\n",
              "      <td>not employed</td>\n",
              "      <td>4</td>\n",
              "      <td>divorced or separated or married female</td>\n",
              "      <td>no one</td>\n",
              "      <td>less than a year</td>\n",
              "      <td>real estate</td>\n",
              "      <td>53</td>\n",
              "      <td>bank</td>\n",
              "      <td>own</td>\n",
              "      <td>1</td>\n",
              "      <td>employed either in management, self or in high...</td>\n",
              "      <td>1</td>\n",
              "      <td>yes</td>\n",
              "      <td>no</td>\n",
              "      <td>bad</td>\n",
              "    </tr>\n",
              "    <tr>\n",
              "      <th>413</th>\n",
              "      <td>no checking account</td>\n",
              "      <td>6</td>\n",
              "      <td>25%</td>\n",
              "      <td>all settled till now</td>\n",
              "      <td>retaining</td>\n",
              "      <td>12260</td>\n",
              "      <td>25%</td>\n",
              "      <td>no savings account</td>\n",
              "      <td>not employed</td>\n",
              "      <td>4</td>\n",
              "      <td>single male</td>\n",
              "      <td>no one</td>\n",
              "      <td>more than 3 years</td>\n",
              "      <td>life insurance/building society</td>\n",
              "      <td>36</td>\n",
              "      <td>none</td>\n",
              "      <td>own</td>\n",
              "      <td>1</td>\n",
              "      <td>employed either in management, self or in high...</td>\n",
              "      <td>2</td>\n",
              "      <td>yes</td>\n",
              "      <td>no</td>\n",
              "      <td>good</td>\n",
              "    </tr>\n",
              "    <tr>\n",
              "      <th>512</th>\n",
              "      <td>no checking account</td>\n",
              "      <td>24</td>\n",
              "      <td>75%-100%</td>\n",
              "      <td>all settled till now</td>\n",
              "      <td>new vehicle</td>\n",
              "      <td>54210</td>\n",
              "      <td>75%-100%</td>\n",
              "      <td>no savings account</td>\n",
              "      <td>not employed</td>\n",
              "      <td>2</td>\n",
              "      <td>divorced or separated or married female</td>\n",
              "      <td>no one</td>\n",
              "      <td>more than 3 years</td>\n",
              "      <td>life insurance/building society</td>\n",
              "      <td>26</td>\n",
              "      <td>none</td>\n",
              "      <td>pays rent</td>\n",
              "      <td>1</td>\n",
              "      <td>employed either in management, self or in high...</td>\n",
              "      <td>1</td>\n",
              "      <td>yes</td>\n",
              "      <td>no</td>\n",
              "      <td>good</td>\n",
              "    </tr>\n",
              "    <tr>\n",
              "      <th>887</th>\n",
              "      <td>no checking account</td>\n",
              "      <td>12</td>\n",
              "      <td>25-50%</td>\n",
              "      <td>all settled till now</td>\n",
              "      <td>second hand vehicle</td>\n",
              "      <td>28470</td>\n",
              "      <td>50%-75%</td>\n",
              "      <td>no savings account</td>\n",
              "      <td>not employed</td>\n",
              "      <td>4</td>\n",
              "      <td>single male</td>\n",
              "      <td>no one</td>\n",
              "      <td>more than 3 years</td>\n",
              "      <td>Unknown</td>\n",
              "      <td>38</td>\n",
              "      <td>none</td>\n",
              "      <td>own</td>\n",
              "      <td>1</td>\n",
              "      <td>employed either in management, self or in high...</td>\n",
              "      <td>1</td>\n",
              "      <td>yes</td>\n",
              "      <td>no</td>\n",
              "      <td>good</td>\n",
              "    </tr>\n",
              "  </tbody>\n",
              "</table>\n",
              "</div>"
            ],
            "text/plain": [
              "                    Cbal  Cdur pctile_dur  ... telephone foreign  creditScore\n",
              "115  no checking account    30   75%-100%  ...       yes      no          bad\n",
              "413  no checking account     6        25%  ...       yes      no         good\n",
              "512  no checking account    24   75%-100%  ...       yes      no         good\n",
              "887  no checking account    12     25-50%  ...       yes      no         good\n",
              "\n",
              "[4 rows x 23 columns]"
            ]
          },
          "metadata": {}
        }
      ]
    },
    {
      "cell_type": "markdown",
      "metadata": {
        "id": "dlxGC7qlNajC"
      },
      "source": [
        "Important Observation:\n",
        "\n",
        "In the above code expression, we chose to select specific rows of the dataframe w.r.t. certain values of features to interpret the inconsistency of information in dataframe and possible irregularities in the data collection process. We had observed our earlier cues while selecting the rows in which the clients do not have both savings and checking accounts as given in features 'Sbal' and 'Cbal'. It is claimed in the dataset that these clients are likely to be non-defaulters and that emerged as a concern that led to further investigation of values in other features along with 'Cbal' and 'Sbal' for interpretation of values that could give an indication that the client is in a position to make the loan payments and not become a defaulter. \n",
        "\n",
        "Thus, we selected the rows with information about the clients that not only are without savings and checking accounts but without a co-applicant/guarantor, has settled all the payments till date. It is also important to note that the properties owned by the clients are mentioned in the 'Prop' column but we do not know exactly whether these properties were mortgaged as loan collateral to the financial institution and whether the data collector has used these possible loan collaterals as one of the criteria to erroneously claim that the client is not likely to default on the loan payments as we are unable to figure out the source of funds for loan payments by looking at information in other features. \n",
        "\n",
        "Moreover, a contradictory information is also evident in the selected rows. The features 'Edur' and 'JobType' contain contradictory information that indicate the inconsistent details in dataframe. The overall inference after analysing the selected rows is that the data is inconsistent in these rows that suggest erroneous data collection practices employed by the collector of the given dataset. Moreover, it is difficult to conclude from these rows that the client is not likely default on the loan payments when it is mentioned that the client has no guarantor/co-applicant, the client has no income stated in checking and savings accounts and also data collector has failed to incorporate interest rate, disposable income, and collateral details in the dataset to provide enough justification for making the claims that the client is not likely to default on loan payments. \n",
        "\n"
      ]
    },
    {
      "cell_type": "code",
      "metadata": {
        "id": "sJ2z8ufnqF0H",
        "colab": {
          "base_uri": "https://localhost:8080/",
          "height": 253
        },
        "outputId": "1c6a329e-811e-485a-dd2a-7ce05ab395bb"
      },
      "source": [
        "# now select similarly the rows in which 'Cbal' has the value of 'Rs. < 0' and 'Sbal' has the value of 'Rs. < 1000',\n",
        "# 'Oparties' is 'no one' and 'Chist' is 'none taken/all settled'\n",
        "\n",
        "cols = iit_1.columns\n",
        "display(iit_1.loc[((iit_1['Cbal'].str.startswith('Rs.')) & (iit_1['Sbal'].str.startswith('Rs.')) & (iit_1['Chist'].str.startswith('none')) & \n",
        "                   (iit_1['Oparties'].str.startswith('no')), cols)])\n"
      ],
      "execution_count": 51,
      "outputs": [
        {
          "output_type": "display_data",
          "data": {
            "text/html": [
              "<div>\n",
              "<style scoped>\n",
              "    .dataframe tbody tr th:only-of-type {\n",
              "        vertical-align: middle;\n",
              "    }\n",
              "\n",
              "    .dataframe tbody tr th {\n",
              "        vertical-align: top;\n",
              "    }\n",
              "\n",
              "    .dataframe thead th {\n",
              "        text-align: right;\n",
              "    }\n",
              "</style>\n",
              "<table border=\"1\" class=\"dataframe\">\n",
              "  <thead>\n",
              "    <tr style=\"text-align: right;\">\n",
              "      <th></th>\n",
              "      <th>Cbal</th>\n",
              "      <th>Cdur</th>\n",
              "      <th>pctile_dur</th>\n",
              "      <th>Chist</th>\n",
              "      <th>Cpur</th>\n",
              "      <th>Camt</th>\n",
              "      <th>pctile_amt</th>\n",
              "      <th>Sbal</th>\n",
              "      <th>Edur</th>\n",
              "      <th>InRate</th>\n",
              "      <th>MSG</th>\n",
              "      <th>Oparties</th>\n",
              "      <th>Rdur</th>\n",
              "      <th>Prop</th>\n",
              "      <th>age</th>\n",
              "      <th>inPlans</th>\n",
              "      <th>Htype</th>\n",
              "      <th>NumCred</th>\n",
              "      <th>JobType</th>\n",
              "      <th>Ndepend</th>\n",
              "      <th>telephone</th>\n",
              "      <th>foreign</th>\n",
              "      <th>creditScore</th>\n",
              "    </tr>\n",
              "  </thead>\n",
              "  <tbody>\n",
              "    <tr>\n",
              "      <th>660</th>\n",
              "      <td>Rs. &gt;=2000</td>\n",
              "      <td>9</td>\n",
              "      <td>25%</td>\n",
              "      <td>none taken/all settled</td>\n",
              "      <td>electronics</td>\n",
              "      <td>13250</td>\n",
              "      <td>25%</td>\n",
              "      <td>Rs. &lt; 1000</td>\n",
              "      <td>less than 1 year</td>\n",
              "      <td>4</td>\n",
              "      <td>single male</td>\n",
              "      <td>no one</td>\n",
              "      <td>1 to 2 years</td>\n",
              "      <td>Other cars etc.</td>\n",
              "      <td>34</td>\n",
              "      <td>none</td>\n",
              "      <td>own</td>\n",
              "      <td>2</td>\n",
              "      <td>employed either in management, self or in high...</td>\n",
              "      <td>1</td>\n",
              "      <td>yes</td>\n",
              "      <td>no</td>\n",
              "      <td>bad</td>\n",
              "    </tr>\n",
              "    <tr>\n",
              "      <th>926</th>\n",
              "      <td>Rs. &gt;=2000</td>\n",
              "      <td>42</td>\n",
              "      <td>75%-100%</td>\n",
              "      <td>none taken/all settled</td>\n",
              "      <td>Business</td>\n",
              "      <td>62770</td>\n",
              "      <td>75%-100%</td>\n",
              "      <td>Rs. &lt; 1000</td>\n",
              "      <td>less than 1 year</td>\n",
              "      <td>2</td>\n",
              "      <td>divorced or separated male</td>\n",
              "      <td>no one</td>\n",
              "      <td>less than a year</td>\n",
              "      <td>life insurance/building society</td>\n",
              "      <td>33</td>\n",
              "      <td>none</td>\n",
              "      <td>own</td>\n",
              "      <td>2</td>\n",
              "      <td>employee with official position</td>\n",
              "      <td>1</td>\n",
              "      <td>no</td>\n",
              "      <td>no</td>\n",
              "      <td>good</td>\n",
              "    </tr>\n",
              "  </tbody>\n",
              "</table>\n",
              "</div>"
            ],
            "text/plain": [
              "           Cbal  Cdur pctile_dur  ... telephone foreign  creditScore\n",
              "660  Rs. >=2000     9        25%  ...       yes      no          bad\n",
              "926  Rs. >=2000    42   75%-100%  ...        no      no         good\n",
              "\n",
              "[2 rows x 23 columns]"
            ]
          },
          "metadata": {}
        }
      ]
    },
    {
      "cell_type": "markdown",
      "metadata": {
        "id": "ysOeOpZU27Tj"
      },
      "source": [
        "Interpretation:\n",
        "\n",
        "In the output of above code expression, it can be observed that there are 2 rows selected that give information about 2 clients - one is not likely to default on loan payments and other is likely to default on loan payments. However, the relation between the features does not again suggest much about the income of the clients clearly when compared with the loan amount as mentioned in feature 'Camt'. \n",
        "\n",
        "We also do not know the interest rates charged by the financial institution as the client would have to pay both principal loan amount and interest to the lending financial institution. Also, one potential source of funds for these clients to pay off their loans i.e., savings account or 'Sbal' has less than Rs. 1000 but checking account or 'Cbal' has greater than or equal to Rs. 2000. This alone cannot give sufficient information when compared with the considerable loan amount value in 'Camt'. Also, the clients are employed, but we do not know their income to make a proper inference about their capacity to make the loan payments. \n",
        "\n",
        "---\n",
        "\n",
        "**Observation:**\n",
        "\n",
        "Overall, we have concluded from the output of above two code expressions that the given dataset lacks information pertaining to income of the clients,  interest charged on their loans and the collateral used by the clients at the time of availing the loan from the institution. The amount in the accounts is also specified in the form of range in which the highest level i.e., '>= Rs. 2000' and 'Rs. >= 10000' does not provide details about the upper limit of amount for informed comparison with the loan amount value in feature 'Camt'. \n",
        "\n",
        "Also, it is important to observe here the clients have taken either no loans or they have settled the payments of all their previous loans as mentioned in 'Chist'. \n",
        "\n",
        "The data collector could have supported his argument for clients' likelihood of becoming a defaulter or not instead by providing clear details about whether loan was taken previously and whether it was settled by the client as per the loan duration in 'Cdur' set by the financial institution. This information, if provided, could have really helped us in understanding the clients' propensity to pay their loans and hence, make an estimation of their likelihood to default or not default on loan payments. \n",
        "\n",
        "\n",
        "Please check the following link that suggests the likelihood of clients to default on loan payments is explained by the total loan amount or total credit divided by the total income and interest rates are also considered to ascertain credit risks for the lending institution. Moreover, the levels of other existing loans or debts are also accounted for before making a claim that a client is likely to be a defaulter or non-defaulter. In case of the given dataset, existing number of credits or debts of the clients are mentioned in feature 'NumCred' but that does not enable us to reach a proper conclusion about default likelihood when we do not know the total amount of other existing credits availed by the clients. The information about total levels of existing credits availed by the clients is significant for the lending institution as it indicates the possible risks of offering loans to these clients. \n",
        "Please check https://www.investopedia.com/ask/answers/022415/what-factors-are-taken-account-quantify-credit-risk.asp\n",
        "\n"
      ]
    },
    {
      "cell_type": "markdown",
      "metadata": {
        "id": "ygOqgRz0e3yn"
      },
      "source": [
        "**Thoughts about analysis:**\n",
        "\n",
        "---\n",
        "\n",
        "It is not advised to perform analysis when there are incomplete features in the dataset that do not faciliate the analyst to study the patterns and relations between features to estimate the likelihood of loan default risks to the institution. Please check this link: https://3qdigital.com/blog/implications-poor-incomplete-data-collection/ . Using this dataset to understand the default likelihood could have serious economic implications for the lending institution as the institution will use the insights to inform its operational practices and client profiling procedures for carrying out loan disbursements. The given dataset would not be able to fulfill the objectives of the lending institution to better recognize likely defaulters and reduce the number of bad loans disbursed by the institution. This conclusion is made after gathering information about the actual practices that are used in the financial services industry to gauge the credit risk by estimating the likelihood of clients to default or not default on their loan payments (Please check the link https://www.investopedia.com/ask/answers/022415/what-factors-are-taken-account-quantify-credit-risk.asp ). \n",
        "\n",
        "---\n",
        "\n",
        "**Information for the readers:**\n",
        "\n",
        "We will carry out the analysis of the dataset for the classification of likely bad and good loans. However, it is then up to the reader to either accede to the analysis or ignore it as we have already stated that the analysis using this dataset won't carry much substance with regard to its business application in the lending institution, 'Cautious plc'. In the given case study problem, we have understood that carrying out the analysis won't support the business goals of Cautious plc. to reduce the risks of offering the loans to the likely defaulters. \n"
      ]
    },
    {
      "cell_type": "markdown",
      "metadata": {
        "id": "BzBs_IhUKFse"
      },
      "source": [
        "Before beginning the rest of the analysis, we would check whether the dataset is an imbalanced one w.r.t. the distribution of two categories 'good' and 'bad' in the target variable 'creditScore'. Usually, the criteria that is defined for imbalanced dataset is the class ratio of 4:1 or more. Hence, if the ratio of two classes 'good' and 'bad' loans in the given dataset is 4:1 or more then, the dataset can be called an imbalanced dataset. Please check this link for details: https://machinelearningmastery.com/tactics-to-combat-imbalanced-classes-in-your-machine-learning-dataset/\n"
      ]
    },
    {
      "cell_type": "code",
      "metadata": {
        "colab": {
          "base_uri": "https://localhost:8080/"
        },
        "id": "UHZZsJ90_TLe",
        "outputId": "4fc0443e-e374-46d4-a5b9-29654e0faa92"
      },
      "source": [
        "# checking the counts of values of two categories, 'good' and 'bad' in target variable, 'creditScore'\n",
        "\n",
        "data_1['creditScore'].value_counts()"
      ],
      "execution_count": 52,
      "outputs": [
        {
          "output_type": "execute_result",
          "data": {
            "text/plain": [
              "good    700\n",
              "bad     300\n",
              "Name: creditScore, dtype: int64"
            ]
          },
          "metadata": {},
          "execution_count": 52
        }
      ]
    },
    {
      "cell_type": "markdown",
      "metadata": {
        "id": "XihnRwDWFWpY"
      },
      "source": [
        "The output of above code expression suggests that the ratio of two classes in the given dataset is 2.33:1, which is less than and not more than threshold ratio of 4:1. Hence, the given dataset is not an imbalanced dataset. "
      ]
    },
    {
      "cell_type": "code",
      "metadata": {
        "colab": {
          "base_uri": "https://localhost:8080/"
        },
        "id": "R0Y7wsUKd06I",
        "outputId": "beda590f-7002-4145-f95b-ef8b70e70b8e"
      },
      "source": [
        "# we will now check the relation between target variable, 'creditScore' and each of the rest of the features in the given dataset\n",
        "\n",
        "# counts of values in feature 'Rdur' before checking the relation between 'Rdur' and 'creditScore'\n",
        "\n",
        "data_1['Rdur'].value_counts()"
      ],
      "execution_count": 53,
      "outputs": [
        {
          "output_type": "execute_result",
          "data": {
            "text/plain": [
              "more than 3 years    413\n",
              "1 to 2 years         308\n",
              "2 to 3 years         149\n",
              "less than a year     130\n",
              "Name: Rdur, dtype: int64"
            ]
          },
          "metadata": {},
          "execution_count": 53
        }
      ]
    },
    {
      "cell_type": "code",
      "metadata": {
        "colab": {
          "base_uri": "https://localhost:8080/",
          "height": 236
        },
        "id": "pmSTkLRJfsgS",
        "outputId": "b235c692-2135-44dd-e700-5100dece5cfd"
      },
      "source": [
        "# checking the relation between 'Rdur' and 'creditScore' \n",
        "\n",
        "pd.crosstab(index = data_1['Rdur'], columns = data_1['creditScore'], values = data_1['creditScore'], aggfunc = 'count', margins = True, normalize = True)"
      ],
      "execution_count": 54,
      "outputs": [
        {
          "output_type": "execute_result",
          "data": {
            "text/html": [
              "<div>\n",
              "<style scoped>\n",
              "    .dataframe tbody tr th:only-of-type {\n",
              "        vertical-align: middle;\n",
              "    }\n",
              "\n",
              "    .dataframe tbody tr th {\n",
              "        vertical-align: top;\n",
              "    }\n",
              "\n",
              "    .dataframe thead th {\n",
              "        text-align: right;\n",
              "    }\n",
              "</style>\n",
              "<table border=\"1\" class=\"dataframe\">\n",
              "  <thead>\n",
              "    <tr style=\"text-align: right;\">\n",
              "      <th>creditScore</th>\n",
              "      <th>bad</th>\n",
              "      <th>good</th>\n",
              "      <th>All</th>\n",
              "    </tr>\n",
              "    <tr>\n",
              "      <th>Rdur</th>\n",
              "      <th></th>\n",
              "      <th></th>\n",
              "      <th></th>\n",
              "    </tr>\n",
              "  </thead>\n",
              "  <tbody>\n",
              "    <tr>\n",
              "      <th>1 to 2 years</th>\n",
              "      <td>0.097</td>\n",
              "      <td>0.211</td>\n",
              "      <td>0.308</td>\n",
              "    </tr>\n",
              "    <tr>\n",
              "      <th>2 to 3 years</th>\n",
              "      <td>0.043</td>\n",
              "      <td>0.106</td>\n",
              "      <td>0.149</td>\n",
              "    </tr>\n",
              "    <tr>\n",
              "      <th>less than a year</th>\n",
              "      <td>0.036</td>\n",
              "      <td>0.094</td>\n",
              "      <td>0.130</td>\n",
              "    </tr>\n",
              "    <tr>\n",
              "      <th>more than 3 years</th>\n",
              "      <td>0.124</td>\n",
              "      <td>0.289</td>\n",
              "      <td>0.413</td>\n",
              "    </tr>\n",
              "    <tr>\n",
              "      <th>All</th>\n",
              "      <td>0.300</td>\n",
              "      <td>0.700</td>\n",
              "      <td>1.000</td>\n",
              "    </tr>\n",
              "  </tbody>\n",
              "</table>\n",
              "</div>"
            ],
            "text/plain": [
              "creditScore          bad   good    All\n",
              "Rdur                                  \n",
              "1 to 2 years       0.097  0.211  0.308\n",
              "2 to 3 years       0.043  0.106  0.149\n",
              "less than a year   0.036  0.094  0.130\n",
              "more than 3 years  0.124  0.289  0.413\n",
              "All                0.300  0.700  1.000"
            ]
          },
          "metadata": {},
          "execution_count": 54
        }
      ]
    },
    {
      "cell_type": "markdown",
      "metadata": {
        "id": "6EKrXX917lIs"
      },
      "source": [
        "Interpretation:\n",
        "\n",
        "'Rdur' in the given dataset refers to the duration in current residence in years. The output of above code expression shows that the highest proportion of defaulters have stayed in their residence for more than 3 years and lowest proportion of defaulters have stayed in their current residence for less than a year. \n",
        "\n",
        "In contrast, highest proportion of non-defaulters have stayed in their current residence for more than 3 years and lowest proportion of non-defaulters have stayed in the current residence for less than a year."
      ]
    },
    {
      "cell_type": "code",
      "metadata": {
        "colab": {
          "base_uri": "https://localhost:8080/",
          "height": 236
        },
        "id": "UHAYMcGViJ9S",
        "outputId": "46b1a792-25a1-4d31-9e0c-9545767825d0"
      },
      "source": [
        "# checking the relation between 'Prop', which refers to other properties owned by the client and target variable, 'creditScore'\n",
        "\n",
        "pd.crosstab(index = data_1['Prop'], columns = data_1['creditScore'], values = data_1['creditScore'], aggfunc = 'count', \n",
        "            margins = True, normalize = True)"
      ],
      "execution_count": 55,
      "outputs": [
        {
          "output_type": "execute_result",
          "data": {
            "text/html": [
              "<div>\n",
              "<style scoped>\n",
              "    .dataframe tbody tr th:only-of-type {\n",
              "        vertical-align: middle;\n",
              "    }\n",
              "\n",
              "    .dataframe tbody tr th {\n",
              "        vertical-align: top;\n",
              "    }\n",
              "\n",
              "    .dataframe thead th {\n",
              "        text-align: right;\n",
              "    }\n",
              "</style>\n",
              "<table border=\"1\" class=\"dataframe\">\n",
              "  <thead>\n",
              "    <tr style=\"text-align: right;\">\n",
              "      <th>creditScore</th>\n",
              "      <th>bad</th>\n",
              "      <th>good</th>\n",
              "      <th>All</th>\n",
              "    </tr>\n",
              "    <tr>\n",
              "      <th>Prop</th>\n",
              "      <th></th>\n",
              "      <th></th>\n",
              "      <th></th>\n",
              "    </tr>\n",
              "  </thead>\n",
              "  <tbody>\n",
              "    <tr>\n",
              "      <th>Other cars etc.</th>\n",
              "      <td>0.102</td>\n",
              "      <td>0.230</td>\n",
              "      <td>0.332</td>\n",
              "    </tr>\n",
              "    <tr>\n",
              "      <th>Unknown</th>\n",
              "      <td>0.067</td>\n",
              "      <td>0.087</td>\n",
              "      <td>0.154</td>\n",
              "    </tr>\n",
              "    <tr>\n",
              "      <th>life insurance/building society</th>\n",
              "      <td>0.071</td>\n",
              "      <td>0.161</td>\n",
              "      <td>0.232</td>\n",
              "    </tr>\n",
              "    <tr>\n",
              "      <th>real estate</th>\n",
              "      <td>0.060</td>\n",
              "      <td>0.222</td>\n",
              "      <td>0.282</td>\n",
              "    </tr>\n",
              "    <tr>\n",
              "      <th>All</th>\n",
              "      <td>0.300</td>\n",
              "      <td>0.700</td>\n",
              "      <td>1.000</td>\n",
              "    </tr>\n",
              "  </tbody>\n",
              "</table>\n",
              "</div>"
            ],
            "text/plain": [
              "creditScore                        bad   good    All\n",
              "Prop                                                \n",
              "Other cars etc.                  0.102  0.230  0.332\n",
              "Unknown                          0.067  0.087  0.154\n",
              "life insurance/building society  0.071  0.161  0.232\n",
              "real estate                      0.060  0.222  0.282\n",
              "All                              0.300  0.700  1.000"
            ]
          },
          "metadata": {},
          "execution_count": 55
        }
      ]
    },
    {
      "cell_type": "markdown",
      "metadata": {
        "id": "8Fe9c_BFJxPy"
      },
      "source": [
        "Interpretation:\n",
        "\n",
        "The output of above code expression shows that the highest proportion of defaulters have other cars, etc. as other properties owned by them and lowest proportion of defaulters have real estate as other properties owned by them. \n",
        "\n",
        "In contrast, the highest proportion of non-defaulters have other cars, etc. as other properties owned by them and the lowest proportion of non-defaulters have unknown properties owned by them. \n"
      ]
    },
    {
      "cell_type": "code",
      "metadata": {
        "colab": {
          "base_uri": "https://localhost:8080/"
        },
        "id": "bflS_8-nlc0g",
        "outputId": "2460db0f-4afc-472d-e414-34f7c6b0f178"
      },
      "source": [
        "# checking the relation between 'Age' and 'creditScore' by first checking the unique values in 'Age' column for defaulters and non-defaulters\n",
        "\n",
        "len(data_1['age'].unique())\n"
      ],
      "execution_count": 56,
      "outputs": [
        {
          "output_type": "execute_result",
          "data": {
            "text/plain": [
              "53"
            ]
          },
          "metadata": {},
          "execution_count": 56
        }
      ]
    },
    {
      "cell_type": "code",
      "metadata": {
        "colab": {
          "base_uri": "https://localhost:8080/",
          "height": 175
        },
        "id": "Df_buuq1mWOn",
        "outputId": "8b9a1eef-fa90-48f3-fc89-1a1d25f9e822"
      },
      "source": [
        "# checking the relation between 'age' and 'creditScore' \n",
        "\n",
        "pd.crosstab(index = data_1['creditScore'], columns = data_1['creditScore'], values = data_1['age'], aggfunc = 'median', margins = True)\n"
      ],
      "execution_count": 57,
      "outputs": [
        {
          "output_type": "execute_result",
          "data": {
            "text/html": [
              "<div>\n",
              "<style scoped>\n",
              "    .dataframe tbody tr th:only-of-type {\n",
              "        vertical-align: middle;\n",
              "    }\n",
              "\n",
              "    .dataframe tbody tr th {\n",
              "        vertical-align: top;\n",
              "    }\n",
              "\n",
              "    .dataframe thead th {\n",
              "        text-align: right;\n",
              "    }\n",
              "</style>\n",
              "<table border=\"1\" class=\"dataframe\">\n",
              "  <thead>\n",
              "    <tr style=\"text-align: right;\">\n",
              "      <th>creditScore</th>\n",
              "      <th>bad</th>\n",
              "      <th>good</th>\n",
              "      <th>All</th>\n",
              "    </tr>\n",
              "    <tr>\n",
              "      <th>creditScore</th>\n",
              "      <th></th>\n",
              "      <th></th>\n",
              "      <th></th>\n",
              "    </tr>\n",
              "  </thead>\n",
              "  <tbody>\n",
              "    <tr>\n",
              "      <th>bad</th>\n",
              "      <td>31.0</td>\n",
              "      <td>NaN</td>\n",
              "      <td>31</td>\n",
              "    </tr>\n",
              "    <tr>\n",
              "      <th>good</th>\n",
              "      <td>NaN</td>\n",
              "      <td>34.0</td>\n",
              "      <td>34</td>\n",
              "    </tr>\n",
              "    <tr>\n",
              "      <th>All</th>\n",
              "      <td>31.0</td>\n",
              "      <td>34.0</td>\n",
              "      <td>33</td>\n",
              "    </tr>\n",
              "  </tbody>\n",
              "</table>\n",
              "</div>"
            ],
            "text/plain": [
              "creditScore   bad  good  All\n",
              "creditScore                 \n",
              "bad          31.0   NaN   31\n",
              "good          NaN  34.0   34\n",
              "All          31.0  34.0   33"
            ]
          },
          "metadata": {},
          "execution_count": 57
        }
      ]
    },
    {
      "cell_type": "markdown",
      "metadata": {
        "id": "SaOaULQAMcGh"
      },
      "source": [
        "Interpretation:\n",
        "\n",
        "The output of above code expression shows that the defaulters have median age of 31 years and non-defaulters have median age of 34 years in the given dataset. "
      ]
    },
    {
      "cell_type": "code",
      "metadata": {
        "colab": {
          "base_uri": "https://localhost:8080/"
        },
        "id": "0yV3eaJhnhLw",
        "outputId": "6dfac7ea-bb69-4069-fa02-a5dc9858337c"
      },
      "source": [
        "# checking the counts of unique values in feature 'inPlans' \n",
        "\n",
        "data_1['inPlans'].value_counts()"
      ],
      "execution_count": 58,
      "outputs": [
        {
          "output_type": "execute_result",
          "data": {
            "text/plain": [
              "none      814\n",
              "bank      139\n",
              "stores     47\n",
              "Name: inPlans, dtype: int64"
            ]
          },
          "metadata": {},
          "execution_count": 58
        }
      ]
    },
    {
      "cell_type": "markdown",
      "metadata": {
        "id": "AYC091oZpdgR"
      },
      "source": [
        "Interpretation:\n",
        "\n",
        "The output of above code expression shows that most of the clients either defaulters or non-defaulters have no instalment plans and least number of the clients whether defaulters or not have made instalments in stores. "
      ]
    },
    {
      "cell_type": "code",
      "metadata": {
        "colab": {
          "base_uri": "https://localhost:8080/",
          "height": 205
        },
        "id": "7RaXoNSmqfsR",
        "outputId": "4d2626a7-4267-46a3-fdc0-1518a2d63a31"
      },
      "source": [
        "# checking the relation between 'inPlans' and 'creditScore' \n",
        "\n",
        "pd.crosstab(index = data_1['inPlans'], columns = data_1['creditScore'], \n",
        "            values = data_1['creditScore'], aggfunc = 'count', margins = True, normalize = True)"
      ],
      "execution_count": 59,
      "outputs": [
        {
          "output_type": "execute_result",
          "data": {
            "text/html": [
              "<div>\n",
              "<style scoped>\n",
              "    .dataframe tbody tr th:only-of-type {\n",
              "        vertical-align: middle;\n",
              "    }\n",
              "\n",
              "    .dataframe tbody tr th {\n",
              "        vertical-align: top;\n",
              "    }\n",
              "\n",
              "    .dataframe thead th {\n",
              "        text-align: right;\n",
              "    }\n",
              "</style>\n",
              "<table border=\"1\" class=\"dataframe\">\n",
              "  <thead>\n",
              "    <tr style=\"text-align: right;\">\n",
              "      <th>creditScore</th>\n",
              "      <th>bad</th>\n",
              "      <th>good</th>\n",
              "      <th>All</th>\n",
              "    </tr>\n",
              "    <tr>\n",
              "      <th>inPlans</th>\n",
              "      <th></th>\n",
              "      <th></th>\n",
              "      <th></th>\n",
              "    </tr>\n",
              "  </thead>\n",
              "  <tbody>\n",
              "    <tr>\n",
              "      <th>bank</th>\n",
              "      <td>0.057</td>\n",
              "      <td>0.082</td>\n",
              "      <td>0.139</td>\n",
              "    </tr>\n",
              "    <tr>\n",
              "      <th>none</th>\n",
              "      <td>0.224</td>\n",
              "      <td>0.590</td>\n",
              "      <td>0.814</td>\n",
              "    </tr>\n",
              "    <tr>\n",
              "      <th>stores</th>\n",
              "      <td>0.019</td>\n",
              "      <td>0.028</td>\n",
              "      <td>0.047</td>\n",
              "    </tr>\n",
              "    <tr>\n",
              "      <th>All</th>\n",
              "      <td>0.300</td>\n",
              "      <td>0.700</td>\n",
              "      <td>1.000</td>\n",
              "    </tr>\n",
              "  </tbody>\n",
              "</table>\n",
              "</div>"
            ],
            "text/plain": [
              "creditScore    bad   good    All\n",
              "inPlans                         \n",
              "bank         0.057  0.082  0.139\n",
              "none         0.224  0.590  0.814\n",
              "stores       0.019  0.028  0.047\n",
              "All          0.300  0.700  1.000"
            ]
          },
          "metadata": {},
          "execution_count": 59
        }
      ]
    },
    {
      "cell_type": "markdown",
      "metadata": {
        "id": "PTo8Yp-qti9m"
      },
      "source": [
        "Interpretation:\n",
        "\n",
        "Highest proportion of defaulters have made no investments and highest proportion of non-defaulters have made no investments too. Lowest proportion of defaulters have made investments in stores and lowest proportion of non-defaulters have made investments in stores too. "
      ]
    },
    {
      "cell_type": "code",
      "metadata": {
        "colab": {
          "base_uri": "https://localhost:8080/"
        },
        "id": "kJZPWY0vunc5",
        "outputId": "f19e79e3-3dba-41b5-dbff-f216e7608ce7"
      },
      "source": [
        "# checking the counts of unique values in 'Htype' \n",
        "\n",
        "data_1['Htype'].value_counts()"
      ],
      "execution_count": 60,
      "outputs": [
        {
          "output_type": "execute_result",
          "data": {
            "text/plain": [
              "own          713\n",
              "pays rent    179\n",
              "free         108\n",
              "Name: Htype, dtype: int64"
            ]
          },
          "metadata": {},
          "execution_count": 60
        }
      ]
    },
    {
      "cell_type": "markdown",
      "metadata": {
        "id": "yWHybHNxwO68"
      },
      "source": [
        "Most of the clients given in this dataset have their own property and lowest number of clients live for free. "
      ]
    },
    {
      "cell_type": "code",
      "metadata": {
        "colab": {
          "base_uri": "https://localhost:8080/",
          "height": 205
        },
        "id": "SEAQ35L1vAmC",
        "outputId": "b39bb762-319c-4bca-d799-6daa89077139"
      },
      "source": [
        "# checking the relation between 'Htype' and 'creditScore' \n",
        "\n",
        "pd.crosstab(index = data_1['Htype'], columns = data_1['creditScore'], values = data_1['creditScore'], aggfunc = 'count', \n",
        "            margins = True, normalize = True)"
      ],
      "execution_count": 61,
      "outputs": [
        {
          "output_type": "execute_result",
          "data": {
            "text/html": [
              "<div>\n",
              "<style scoped>\n",
              "    .dataframe tbody tr th:only-of-type {\n",
              "        vertical-align: middle;\n",
              "    }\n",
              "\n",
              "    .dataframe tbody tr th {\n",
              "        vertical-align: top;\n",
              "    }\n",
              "\n",
              "    .dataframe thead th {\n",
              "        text-align: right;\n",
              "    }\n",
              "</style>\n",
              "<table border=\"1\" class=\"dataframe\">\n",
              "  <thead>\n",
              "    <tr style=\"text-align: right;\">\n",
              "      <th>creditScore</th>\n",
              "      <th>bad</th>\n",
              "      <th>good</th>\n",
              "      <th>All</th>\n",
              "    </tr>\n",
              "    <tr>\n",
              "      <th>Htype</th>\n",
              "      <th></th>\n",
              "      <th></th>\n",
              "      <th></th>\n",
              "    </tr>\n",
              "  </thead>\n",
              "  <tbody>\n",
              "    <tr>\n",
              "      <th>free</th>\n",
              "      <td>0.044</td>\n",
              "      <td>0.064</td>\n",
              "      <td>0.108</td>\n",
              "    </tr>\n",
              "    <tr>\n",
              "      <th>own</th>\n",
              "      <td>0.186</td>\n",
              "      <td>0.527</td>\n",
              "      <td>0.713</td>\n",
              "    </tr>\n",
              "    <tr>\n",
              "      <th>pays rent</th>\n",
              "      <td>0.070</td>\n",
              "      <td>0.109</td>\n",
              "      <td>0.179</td>\n",
              "    </tr>\n",
              "    <tr>\n",
              "      <th>All</th>\n",
              "      <td>0.300</td>\n",
              "      <td>0.700</td>\n",
              "      <td>1.000</td>\n",
              "    </tr>\n",
              "  </tbody>\n",
              "</table>\n",
              "</div>"
            ],
            "text/plain": [
              "creditScore    bad   good    All\n",
              "Htype                           \n",
              "free         0.044  0.064  0.108\n",
              "own          0.186  0.527  0.713\n",
              "pays rent    0.070  0.109  0.179\n",
              "All          0.300  0.700  1.000"
            ]
          },
          "metadata": {},
          "execution_count": 61
        }
      ]
    },
    {
      "cell_type": "markdown",
      "metadata": {
        "id": "Mnbobr9txKSo"
      },
      "source": [
        "Interpretation:\n",
        "\n",
        "Highest proportion of both defaulters and non-defaulters have house type of their own and lowest proportion of both defaulters and non-defaulters live for free. "
      ]
    },
    {
      "cell_type": "code",
      "metadata": {
        "colab": {
          "base_uri": "https://localhost:8080/"
        },
        "id": "cV4Yj0IIykGs",
        "outputId": "fb57bf03-8051-4557-a38f-bf1096f49950"
      },
      "source": [
        "# checking the counts of unique values 'NumCred', that indicates the number of existing credits of the clients.\n",
        "\n",
        "data_1['NumCred'].value_counts()"
      ],
      "execution_count": 62,
      "outputs": [
        {
          "output_type": "execute_result",
          "data": {
            "text/plain": [
              "1    633\n",
              "2    333\n",
              "3     28\n",
              "4      6\n",
              "Name: NumCred, dtype: int64"
            ]
          },
          "metadata": {},
          "execution_count": 62
        }
      ]
    },
    {
      "cell_type": "code",
      "metadata": {
        "colab": {
          "base_uri": "https://localhost:8080/",
          "height": 236
        },
        "id": "Vc-mhmK9zDuC",
        "outputId": "5157d7cb-cc93-4fb7-8be6-dc1322806752"
      },
      "source": [
        "# checking the relation between 'NumCred' and 'creditScore'\n",
        "\n",
        "pd.crosstab(index = data_1['NumCred'], columns = data_1['creditScore'], values = data_1['NumCred'], aggfunc = 'count', margins = True)"
      ],
      "execution_count": 63,
      "outputs": [
        {
          "output_type": "execute_result",
          "data": {
            "text/html": [
              "<div>\n",
              "<style scoped>\n",
              "    .dataframe tbody tr th:only-of-type {\n",
              "        vertical-align: middle;\n",
              "    }\n",
              "\n",
              "    .dataframe tbody tr th {\n",
              "        vertical-align: top;\n",
              "    }\n",
              "\n",
              "    .dataframe thead th {\n",
              "        text-align: right;\n",
              "    }\n",
              "</style>\n",
              "<table border=\"1\" class=\"dataframe\">\n",
              "  <thead>\n",
              "    <tr style=\"text-align: right;\">\n",
              "      <th>creditScore</th>\n",
              "      <th>bad</th>\n",
              "      <th>good</th>\n",
              "      <th>All</th>\n",
              "    </tr>\n",
              "    <tr>\n",
              "      <th>NumCred</th>\n",
              "      <th></th>\n",
              "      <th></th>\n",
              "      <th></th>\n",
              "    </tr>\n",
              "  </thead>\n",
              "  <tbody>\n",
              "    <tr>\n",
              "      <th>1</th>\n",
              "      <td>200</td>\n",
              "      <td>433</td>\n",
              "      <td>633</td>\n",
              "    </tr>\n",
              "    <tr>\n",
              "      <th>2</th>\n",
              "      <td>92</td>\n",
              "      <td>241</td>\n",
              "      <td>333</td>\n",
              "    </tr>\n",
              "    <tr>\n",
              "      <th>3</th>\n",
              "      <td>6</td>\n",
              "      <td>22</td>\n",
              "      <td>28</td>\n",
              "    </tr>\n",
              "    <tr>\n",
              "      <th>4</th>\n",
              "      <td>2</td>\n",
              "      <td>4</td>\n",
              "      <td>6</td>\n",
              "    </tr>\n",
              "    <tr>\n",
              "      <th>All</th>\n",
              "      <td>300</td>\n",
              "      <td>700</td>\n",
              "      <td>1000</td>\n",
              "    </tr>\n",
              "  </tbody>\n",
              "</table>\n",
              "</div>"
            ],
            "text/plain": [
              "creditScore  bad  good   All\n",
              "NumCred                     \n",
              "1            200   433   633\n",
              "2             92   241   333\n",
              "3              6    22    28\n",
              "4              2     4     6\n",
              "All          300   700  1000"
            ]
          },
          "metadata": {},
          "execution_count": 63
        }
      ]
    },
    {
      "cell_type": "markdown",
      "metadata": {
        "id": "f_LI6sA5Tnc6"
      },
      "source": [
        "Interpretation:\n",
        "\n",
        "The output of above code expression shows that highest proportion of defaulters have one existing credit and lowest proportion of defaulters have 4 existing credits. However, the highest proportion of non-defaulters have one existing credit and lowest proportion of non-defaulters have 4 existing credits in the given dataset. "
      ]
    },
    {
      "cell_type": "code",
      "metadata": {
        "colab": {
          "base_uri": "https://localhost:8080/"
        },
        "id": "p3HxCkyrU_VJ",
        "outputId": "a1aaf3f6-ec04-4a09-b554-7cdb17d2b5d7"
      },
      "source": [
        "# checking the counts of values in 'JobType' \n",
        "\n",
        "data_1['JobType'].value_counts()"
      ],
      "execution_count": 64,
      "outputs": [
        {
          "output_type": "execute_result",
          "data": {
            "text/plain": [
              "employee with official position                            630\n",
              "resident unskilled                                         200\n",
              "employed either in management, self or in high position    148\n",
              "non resident either unemployed or  unskilled                22\n",
              "Name: JobType, dtype: int64"
            ]
          },
          "metadata": {},
          "execution_count": 64
        }
      ]
    },
    {
      "cell_type": "code",
      "metadata": {
        "colab": {
          "base_uri": "https://localhost:8080/",
          "height": 236
        },
        "id": "GWqPurcK07-K",
        "outputId": "e0485c8a-4095-4d95-b081-05fc8d41f723"
      },
      "source": [
        "# checking the relation between 'JobType' and 'creditScore'\n",
        "\n",
        "pd.crosstab(index = data_1['JobType'], columns = data_1['creditScore'], values = data_1['creditScore'], \n",
        "            aggfunc = 'count', margins = True, normalize = True)"
      ],
      "execution_count": 65,
      "outputs": [
        {
          "output_type": "execute_result",
          "data": {
            "text/html": [
              "<div>\n",
              "<style scoped>\n",
              "    .dataframe tbody tr th:only-of-type {\n",
              "        vertical-align: middle;\n",
              "    }\n",
              "\n",
              "    .dataframe tbody tr th {\n",
              "        vertical-align: top;\n",
              "    }\n",
              "\n",
              "    .dataframe thead th {\n",
              "        text-align: right;\n",
              "    }\n",
              "</style>\n",
              "<table border=\"1\" class=\"dataframe\">\n",
              "  <thead>\n",
              "    <tr style=\"text-align: right;\">\n",
              "      <th>creditScore</th>\n",
              "      <th>bad</th>\n",
              "      <th>good</th>\n",
              "      <th>All</th>\n",
              "    </tr>\n",
              "    <tr>\n",
              "      <th>JobType</th>\n",
              "      <th></th>\n",
              "      <th></th>\n",
              "      <th></th>\n",
              "    </tr>\n",
              "  </thead>\n",
              "  <tbody>\n",
              "    <tr>\n",
              "      <th>employed either in management, self or in high position</th>\n",
              "      <td>0.051</td>\n",
              "      <td>0.097</td>\n",
              "      <td>0.148</td>\n",
              "    </tr>\n",
              "    <tr>\n",
              "      <th>employee with official position</th>\n",
              "      <td>0.186</td>\n",
              "      <td>0.444</td>\n",
              "      <td>0.630</td>\n",
              "    </tr>\n",
              "    <tr>\n",
              "      <th>non resident either unemployed or  unskilled</th>\n",
              "      <td>0.007</td>\n",
              "      <td>0.015</td>\n",
              "      <td>0.022</td>\n",
              "    </tr>\n",
              "    <tr>\n",
              "      <th>resident unskilled</th>\n",
              "      <td>0.056</td>\n",
              "      <td>0.144</td>\n",
              "      <td>0.200</td>\n",
              "    </tr>\n",
              "    <tr>\n",
              "      <th>All</th>\n",
              "      <td>0.300</td>\n",
              "      <td>0.700</td>\n",
              "      <td>1.000</td>\n",
              "    </tr>\n",
              "  </tbody>\n",
              "</table>\n",
              "</div>"
            ],
            "text/plain": [
              "creditScore                                           bad   good    All\n",
              "JobType                                                                \n",
              "employed either in management, self or in high ...  0.051  0.097  0.148\n",
              "employee with official position                     0.186  0.444  0.630\n",
              "non resident either unemployed or  unskilled        0.007  0.015  0.022\n",
              "resident unskilled                                  0.056  0.144  0.200\n",
              "All                                                 0.300  0.700  1.000"
            ]
          },
          "metadata": {},
          "execution_count": 65
        }
      ]
    },
    {
      "cell_type": "code",
      "metadata": {
        "colab": {
          "base_uri": "https://localhost:8080/"
        },
        "id": "mSmayxdX15K9",
        "outputId": "153a60cc-be72-4c0d-ae00-9de83846d1d7"
      },
      "source": [
        "# checking the counts of unique values in 'Ndepend' \n",
        "\n",
        "data_1['Ndepend'].value_counts()"
      ],
      "execution_count": 66,
      "outputs": [
        {
          "output_type": "execute_result",
          "data": {
            "text/plain": [
              "1    845\n",
              "2    155\n",
              "Name: Ndepend, dtype: int64"
            ]
          },
          "metadata": {},
          "execution_count": 66
        }
      ]
    },
    {
      "cell_type": "code",
      "metadata": {
        "colab": {
          "base_uri": "https://localhost:8080/",
          "height": 175
        },
        "id": "HhZVFY7o2QnT",
        "outputId": "b19e0361-63d0-4a70-d826-89707c9d2246"
      },
      "source": [
        "# checking the relation between 'Ndepend' and 'creditScore'\n",
        "\n",
        "pd.crosstab(index = data_1['Ndepend'], columns = data_1['creditScore'], values = data_1['creditScore'], aggfunc = 'count', \n",
        "            margins = True, normalize = True)"
      ],
      "execution_count": 67,
      "outputs": [
        {
          "output_type": "execute_result",
          "data": {
            "text/html": [
              "<div>\n",
              "<style scoped>\n",
              "    .dataframe tbody tr th:only-of-type {\n",
              "        vertical-align: middle;\n",
              "    }\n",
              "\n",
              "    .dataframe tbody tr th {\n",
              "        vertical-align: top;\n",
              "    }\n",
              "\n",
              "    .dataframe thead th {\n",
              "        text-align: right;\n",
              "    }\n",
              "</style>\n",
              "<table border=\"1\" class=\"dataframe\">\n",
              "  <thead>\n",
              "    <tr style=\"text-align: right;\">\n",
              "      <th>creditScore</th>\n",
              "      <th>bad</th>\n",
              "      <th>good</th>\n",
              "      <th>All</th>\n",
              "    </tr>\n",
              "    <tr>\n",
              "      <th>Ndepend</th>\n",
              "      <th></th>\n",
              "      <th></th>\n",
              "      <th></th>\n",
              "    </tr>\n",
              "  </thead>\n",
              "  <tbody>\n",
              "    <tr>\n",
              "      <th>1</th>\n",
              "      <td>0.254</td>\n",
              "      <td>0.591</td>\n",
              "      <td>0.845</td>\n",
              "    </tr>\n",
              "    <tr>\n",
              "      <th>2</th>\n",
              "      <td>0.046</td>\n",
              "      <td>0.109</td>\n",
              "      <td>0.155</td>\n",
              "    </tr>\n",
              "    <tr>\n",
              "      <th>All</th>\n",
              "      <td>0.300</td>\n",
              "      <td>0.700</td>\n",
              "      <td>1.000</td>\n",
              "    </tr>\n",
              "  </tbody>\n",
              "</table>\n",
              "</div>"
            ],
            "text/plain": [
              "creditScore    bad   good    All\n",
              "Ndepend                         \n",
              "1            0.254  0.591  0.845\n",
              "2            0.046  0.109  0.155\n",
              "All          0.300  0.700  1.000"
            ]
          },
          "metadata": {},
          "execution_count": 67
        }
      ]
    },
    {
      "cell_type": "markdown",
      "metadata": {
        "id": "PU3uIlm7Yq_m"
      },
      "source": [
        "Interpretation:\n",
        "\n",
        "Higher proportion of both defaulters and non-defaulters have one dependent. "
      ]
    },
    {
      "cell_type": "code",
      "metadata": {
        "colab": {
          "base_uri": "https://localhost:8080/"
        },
        "id": "3FpoYNU93Atl",
        "outputId": "006798f9-7ced-47ea-ed51-f68aa3444479"
      },
      "source": [
        "# checking the counts of unique values in 'telephone'\n",
        "\n",
        "data_1['telephone'].value_counts()"
      ],
      "execution_count": 68,
      "outputs": [
        {
          "output_type": "execute_result",
          "data": {
            "text/plain": [
              "no     596\n",
              "yes    404\n",
              "Name: telephone, dtype: int64"
            ]
          },
          "metadata": {},
          "execution_count": 68
        }
      ]
    },
    {
      "cell_type": "code",
      "metadata": {
        "colab": {
          "base_uri": "https://localhost:8080/",
          "height": 175
        },
        "id": "k65IJzt85QXN",
        "outputId": "1a397278-7141-49e2-fbb1-1cd477a02be3"
      },
      "source": [
        "# checking the relation between 'telephone' and 'creditScore'\n",
        "\n",
        "pd.crosstab(index = data_1['telephone'], columns = data_1['creditScore'], values = data_1['creditScore'], \n",
        "            aggfunc = 'count', margins = True, normalize = True)"
      ],
      "execution_count": 69,
      "outputs": [
        {
          "output_type": "execute_result",
          "data": {
            "text/html": [
              "<div>\n",
              "<style scoped>\n",
              "    .dataframe tbody tr th:only-of-type {\n",
              "        vertical-align: middle;\n",
              "    }\n",
              "\n",
              "    .dataframe tbody tr th {\n",
              "        vertical-align: top;\n",
              "    }\n",
              "\n",
              "    .dataframe thead th {\n",
              "        text-align: right;\n",
              "    }\n",
              "</style>\n",
              "<table border=\"1\" class=\"dataframe\">\n",
              "  <thead>\n",
              "    <tr style=\"text-align: right;\">\n",
              "      <th>creditScore</th>\n",
              "      <th>bad</th>\n",
              "      <th>good</th>\n",
              "      <th>All</th>\n",
              "    </tr>\n",
              "    <tr>\n",
              "      <th>telephone</th>\n",
              "      <th></th>\n",
              "      <th></th>\n",
              "      <th></th>\n",
              "    </tr>\n",
              "  </thead>\n",
              "  <tbody>\n",
              "    <tr>\n",
              "      <th>no</th>\n",
              "      <td>0.187</td>\n",
              "      <td>0.409</td>\n",
              "      <td>0.596</td>\n",
              "    </tr>\n",
              "    <tr>\n",
              "      <th>yes</th>\n",
              "      <td>0.113</td>\n",
              "      <td>0.291</td>\n",
              "      <td>0.404</td>\n",
              "    </tr>\n",
              "    <tr>\n",
              "      <th>All</th>\n",
              "      <td>0.300</td>\n",
              "      <td>0.700</td>\n",
              "      <td>1.000</td>\n",
              "    </tr>\n",
              "  </tbody>\n",
              "</table>\n",
              "</div>"
            ],
            "text/plain": [
              "creditScore    bad   good    All\n",
              "telephone                       \n",
              "no           0.187  0.409  0.596\n",
              "yes          0.113  0.291  0.404\n",
              "All          0.300  0.700  1.000"
            ]
          },
          "metadata": {},
          "execution_count": 69
        }
      ]
    },
    {
      "cell_type": "markdown",
      "metadata": {
        "id": "ABR1tEU8dqDq"
      },
      "source": [
        "Interpretation:\n",
        "\n",
        "Higher proportion of both defaulters and non-defaulters have no telephone numbers. "
      ]
    },
    {
      "cell_type": "code",
      "metadata": {
        "id": "ueP-DCDj6erM",
        "colab": {
          "base_uri": "https://localhost:8080/"
        },
        "outputId": "3a7a5724-6d44-471d-ad06-44a71cccd5f6"
      },
      "source": [
        "# checking the counts of values in feature 'foreign'\n",
        "\n",
        "data_1['foreign'].value_counts()"
      ],
      "execution_count": 70,
      "outputs": [
        {
          "output_type": "execute_result",
          "data": {
            "text/plain": [
              "no     963\n",
              "yes     37\n",
              "Name: foreign, dtype: int64"
            ]
          },
          "metadata": {},
          "execution_count": 70
        }
      ]
    },
    {
      "cell_type": "markdown",
      "metadata": {
        "id": "kvcLaZSFeu3Q"
      },
      "source": [
        "Interpretation:\n",
        "\n",
        "Most of the clients are not foreign workers in the dataset. "
      ]
    },
    {
      "cell_type": "code",
      "metadata": {
        "colab": {
          "base_uri": "https://localhost:8080/",
          "height": 175
        },
        "id": "uHjagvDxfQ0I",
        "outputId": "63dd4c8c-7da6-4391-a505-137dac40c786"
      },
      "source": [
        "# checking the relation of 'foreign' with target variable, 'creditScore'\n",
        "\n",
        "pd.crosstab(index = data_1['foreign'], columns = data_1['creditScore'], values = data_1['creditScore'], \n",
        "            aggfunc = 'count', margins = True, normalize = True)"
      ],
      "execution_count": 71,
      "outputs": [
        {
          "output_type": "execute_result",
          "data": {
            "text/html": [
              "<div>\n",
              "<style scoped>\n",
              "    .dataframe tbody tr th:only-of-type {\n",
              "        vertical-align: middle;\n",
              "    }\n",
              "\n",
              "    .dataframe tbody tr th {\n",
              "        vertical-align: top;\n",
              "    }\n",
              "\n",
              "    .dataframe thead th {\n",
              "        text-align: right;\n",
              "    }\n",
              "</style>\n",
              "<table border=\"1\" class=\"dataframe\">\n",
              "  <thead>\n",
              "    <tr style=\"text-align: right;\">\n",
              "      <th>creditScore</th>\n",
              "      <th>bad</th>\n",
              "      <th>good</th>\n",
              "      <th>All</th>\n",
              "    </tr>\n",
              "    <tr>\n",
              "      <th>foreign</th>\n",
              "      <th></th>\n",
              "      <th></th>\n",
              "      <th></th>\n",
              "    </tr>\n",
              "  </thead>\n",
              "  <tbody>\n",
              "    <tr>\n",
              "      <th>no</th>\n",
              "      <td>0.296</td>\n",
              "      <td>0.667</td>\n",
              "      <td>0.963</td>\n",
              "    </tr>\n",
              "    <tr>\n",
              "      <th>yes</th>\n",
              "      <td>0.004</td>\n",
              "      <td>0.033</td>\n",
              "      <td>0.037</td>\n",
              "    </tr>\n",
              "    <tr>\n",
              "      <th>All</th>\n",
              "      <td>0.300</td>\n",
              "      <td>0.700</td>\n",
              "      <td>1.000</td>\n",
              "    </tr>\n",
              "  </tbody>\n",
              "</table>\n",
              "</div>"
            ],
            "text/plain": [
              "creditScore    bad   good    All\n",
              "foreign                         \n",
              "no           0.296  0.667  0.963\n",
              "yes          0.004  0.033  0.037\n",
              "All          0.300  0.700  1.000"
            ]
          },
          "metadata": {},
          "execution_count": 71
        }
      ]
    },
    {
      "cell_type": "markdown",
      "metadata": {
        "id": "urmdTffChu1H"
      },
      "source": [
        "Interpretation:\n",
        "\n",
        "Higher proportion of both defaulters and non-defaulters are indicated as 'no' in the given dataset. "
      ]
    },
    {
      "cell_type": "markdown",
      "metadata": {
        "id": "bbg3IxZ0iw7_"
      },
      "source": [
        "now, we will visualize each of the features against the target variable, 'creditScore' to understand the relations between features and label and view possible strong influence of the features on the target variable, 'creditScore' in classification of bad versus good loans.\n"
      ]
    },
    {
      "cell_type": "code",
      "metadata": {
        "id": "VSHCBSzmhrVZ"
      },
      "source": [
        "# importing necessary packages\n",
        "\n",
        "import matplotlib.pyplot as plt\n",
        "\n",
        "import seaborn as sns"
      ],
      "execution_count": 72,
      "outputs": []
    },
    {
      "cell_type": "code",
      "metadata": {
        "id": "jE7ecLV5kRqZ",
        "colab": {
          "base_uri": "https://localhost:8080/"
        },
        "outputId": "14fc58d5-5fe7-4863-a3ae-af60042f585c"
      },
      "source": [
        "# checking the data types of columns in data_1 dataframe\n",
        "\n",
        "data_1.dtypes"
      ],
      "execution_count": 73,
      "outputs": [
        {
          "output_type": "execute_result",
          "data": {
            "text/plain": [
              "Cbal           object\n",
              "Cdur            int64\n",
              "pctile_dur     object\n",
              "Chist          object\n",
              "Cpur           object\n",
              "Camt            int64\n",
              "pctile_amt     object\n",
              "Sbal           object\n",
              "Edur           object\n",
              "InRate          int64\n",
              "MSG            object\n",
              "Oparties       object\n",
              "Rdur           object\n",
              "Prop           object\n",
              "age             int64\n",
              "inPlans        object\n",
              "Htype          object\n",
              "NumCred         int64\n",
              "JobType        object\n",
              "Ndepend         int64\n",
              "telephone      object\n",
              "foreign        object\n",
              "creditScore    object\n",
              "dtype: object"
            ]
          },
          "metadata": {},
          "execution_count": 73
        }
      ]
    },
    {
      "cell_type": "code",
      "metadata": {
        "id": "I0z9WmCcUis6"
      },
      "source": [
        "# checking relation between independent features\n",
        "\n",
        "corr_1 = data_1.select_dtypes(include = ['int64']).corr()"
      ],
      "execution_count": 74,
      "outputs": []
    },
    {
      "cell_type": "code",
      "metadata": {
        "colab": {
          "base_uri": "https://localhost:8080/",
          "height": 236
        },
        "id": "P75iGT9DVEWf",
        "outputId": "b2d2007c-24c0-4f60-ddef-b5bac61ab097"
      },
      "source": [
        "corr_1"
      ],
      "execution_count": 75,
      "outputs": [
        {
          "output_type": "execute_result",
          "data": {
            "text/html": [
              "<div>\n",
              "<style scoped>\n",
              "    .dataframe tbody tr th:only-of-type {\n",
              "        vertical-align: middle;\n",
              "    }\n",
              "\n",
              "    .dataframe tbody tr th {\n",
              "        vertical-align: top;\n",
              "    }\n",
              "\n",
              "    .dataframe thead th {\n",
              "        text-align: right;\n",
              "    }\n",
              "</style>\n",
              "<table border=\"1\" class=\"dataframe\">\n",
              "  <thead>\n",
              "    <tr style=\"text-align: right;\">\n",
              "      <th></th>\n",
              "      <th>Cdur</th>\n",
              "      <th>Camt</th>\n",
              "      <th>InRate</th>\n",
              "      <th>age</th>\n",
              "      <th>NumCred</th>\n",
              "      <th>Ndepend</th>\n",
              "    </tr>\n",
              "  </thead>\n",
              "  <tbody>\n",
              "    <tr>\n",
              "      <th>Cdur</th>\n",
              "      <td>1.000000</td>\n",
              "      <td>0.624984</td>\n",
              "      <td>0.074749</td>\n",
              "      <td>-0.036136</td>\n",
              "      <td>-0.011284</td>\n",
              "      <td>-0.023834</td>\n",
              "    </tr>\n",
              "    <tr>\n",
              "      <th>Camt</th>\n",
              "      <td>0.624984</td>\n",
              "      <td>1.000000</td>\n",
              "      <td>-0.271316</td>\n",
              "      <td>0.032716</td>\n",
              "      <td>0.020795</td>\n",
              "      <td>0.017142</td>\n",
              "    </tr>\n",
              "    <tr>\n",
              "      <th>InRate</th>\n",
              "      <td>0.074749</td>\n",
              "      <td>-0.271316</td>\n",
              "      <td>1.000000</td>\n",
              "      <td>0.058266</td>\n",
              "      <td>0.021669</td>\n",
              "      <td>-0.071207</td>\n",
              "    </tr>\n",
              "    <tr>\n",
              "      <th>age</th>\n",
              "      <td>-0.036136</td>\n",
              "      <td>0.032716</td>\n",
              "      <td>0.058266</td>\n",
              "      <td>1.000000</td>\n",
              "      <td>0.149254</td>\n",
              "      <td>0.118201</td>\n",
              "    </tr>\n",
              "    <tr>\n",
              "      <th>NumCred</th>\n",
              "      <td>-0.011284</td>\n",
              "      <td>0.020795</td>\n",
              "      <td>0.021669</td>\n",
              "      <td>0.149254</td>\n",
              "      <td>1.000000</td>\n",
              "      <td>0.109667</td>\n",
              "    </tr>\n",
              "    <tr>\n",
              "      <th>Ndepend</th>\n",
              "      <td>-0.023834</td>\n",
              "      <td>0.017142</td>\n",
              "      <td>-0.071207</td>\n",
              "      <td>0.118201</td>\n",
              "      <td>0.109667</td>\n",
              "      <td>1.000000</td>\n",
              "    </tr>\n",
              "  </tbody>\n",
              "</table>\n",
              "</div>"
            ],
            "text/plain": [
              "             Cdur      Camt    InRate       age   NumCred   Ndepend\n",
              "Cdur     1.000000  0.624984  0.074749 -0.036136 -0.011284 -0.023834\n",
              "Camt     0.624984  1.000000 -0.271316  0.032716  0.020795  0.017142\n",
              "InRate   0.074749 -0.271316  1.000000  0.058266  0.021669 -0.071207\n",
              "age     -0.036136  0.032716  0.058266  1.000000  0.149254  0.118201\n",
              "NumCred -0.011284  0.020795  0.021669  0.149254  1.000000  0.109667\n",
              "Ndepend -0.023834  0.017142 -0.071207  0.118201  0.109667  1.000000"
            ]
          },
          "metadata": {},
          "execution_count": 75
        }
      ]
    },
    {
      "cell_type": "markdown",
      "metadata": {
        "id": "r4Hm9k9KVMeY"
      },
      "source": [
        "Interpretation:\n",
        "\n",
        "The output of above code expression shows relation between independent numeric features in the dataframe. It is observed that 'Camt' and 'Cdur' has positive linear relationship but it is not that strong in nature. Other pairs of independent features do not have strong positive or negative linear relationship. This case study problem is a classification problem in which we have to classify the target variable i.e.; 'creditScore' into two categories - good and bad loans. We can check for relations between other pairs of independent features and relations between a particular independent feature and target variable 'creditScore'. The visual representation of features against target variable can also help in identifying the relationships in the given dataset. \n",
        "\n",
        "In addition, it is also important to state again that there exists a relation between loan amount, loan duration and instalment rate as all of these features are connected to each other. Hence, we have observed that there is a moderate positive positive linear relation between 'Camt' and 'Cdur'. However, instalment rate is a categorical variable. Hence, it is not observed in the above output. "
      ]
    },
    {
      "cell_type": "code",
      "metadata": {
        "colab": {
          "base_uri": "https://localhost:8080/",
          "height": 335
        },
        "id": "lcbg4fzPYVvl",
        "outputId": "2532f913-a4db-4f4e-9517-3f3ece53b85e"
      },
      "source": [
        "# checking the distribution of data in feature 'Cdur' \n",
        "\n",
        "sns.distplot(data_1['Cdur'])\n",
        "plt.show()"
      ],
      "execution_count": 76,
      "outputs": [
        {
          "output_type": "stream",
          "name": "stderr",
          "text": [
            "/usr/local/lib/python3.7/dist-packages/seaborn/distributions.py:2619: FutureWarning: `distplot` is a deprecated function and will be removed in a future version. Please adapt your code to use either `displot` (a figure-level function with similar flexibility) or `histplot` (an axes-level function for histograms).\n",
            "  warnings.warn(msg, FutureWarning)\n"
          ]
        },
        {
          "output_type": "display_data",
          "data": {
            "image/png": "[encoded data removed]",
            "text/plain": [
              "<Figure size 432x288 with 1 Axes>"
            ]
          },
          "metadata": {
            "needs_background": "light"
          }
        }
      ]
    },
    {
      "cell_type": "markdown",
      "metadata": {
        "id": "epW0osIjZh6A"
      },
      "source": [
        "Interpretation:\n",
        "\n",
        "The above plot shows asymmetric distribution of data in feature 'Cdur'. We will later check the distribution using the values in the created feature, 'pctile_dur' that will show the distribution as per the percentile values in 'Cdur'. However, it is evident in the plot that the data do not follow Gaussian distribution as it is skewed to the right. "
      ]
    },
    {
      "cell_type": "code",
      "metadata": {
        "colab": {
          "base_uri": "https://localhost:8080/",
          "height": 297
        },
        "id": "CUlkKOaMbm5G",
        "outputId": "8f11ddf1-cdbb-41c3-8ecd-76c119ccfa33"
      },
      "source": [
        "sns.histplot(data_1['Cdur'])"
      ],
      "execution_count": 77,
      "outputs": [
        {
          "output_type": "execute_result",
          "data": {
            "text/plain": [
              "<matplotlib.axes._subplots.AxesSubplot at 0x7f7df0084f50>"
            ]
          },
          "metadata": {},
          "execution_count": 77
        },
        {
          "output_type": "display_data",
          "data": {
            "image/png": "[encoded data removed]",
            "text/plain": [
              "<Figure size 432x288 with 1 Axes>"
            ]
          },
          "metadata": {
            "needs_background": "light"
          }
        }
      ]
    },
    {
      "cell_type": "code",
      "metadata": {
        "colab": {
          "base_uri": "https://localhost:8080/",
          "height": 300
        },
        "id": "ocSYI-GucCBA",
        "outputId": "a3de0293-23ba-488c-b5b3-252a6bfce47f"
      },
      "source": [
        "# checking the distribution of data in 'Cdur' w.r.t. target variable, 'creditScore'\n",
        "\n",
        "sns.histplot(x = 'Cdur', data = data_1, hue = 'creditScore')"
      ],
      "execution_count": 78,
      "outputs": [
        {
          "output_type": "execute_result",
          "data": {
            "text/plain": [
              "<matplotlib.axes._subplots.AxesSubplot at 0x7f7defbf0a50>"
            ]
          },
          "metadata": {},
          "execution_count": 78
        },
        {
          "output_type": "display_data",
          "data": {
            "image/png": "[encoded data removed]",
            "text/plain": [
              "<Figure size 432x288 with 1 Axes>"
            ]
          },
          "metadata": {
            "needs_background": "light"
          }
        }
      ]
    },
    {
      "cell_type": "markdown",
      "metadata": {
        "id": "r9voZDCDdXa7"
      },
      "source": [
        "Interpretation:\n",
        "\n",
        "After checking the distribution of data w.r.t. target feature, 'creditScore', it is observed that most of the loans claimed as 'good' in the given dataset have the duration in the range between 1 to 24 months. The bad loans are in the range between 1 to 35 months. "
      ]
    },
    {
      "cell_type": "code",
      "metadata": {
        "colab": {
          "base_uri": "https://localhost:8080/",
          "height": 346
        },
        "id": "1sxEImZaY5Om",
        "outputId": "25bbe26a-4347-438c-ece5-ab9ebaf2c2a9"
      },
      "source": [
        "# checking the distribution of data in feature 'Camt' \n",
        "\n",
        "sns.distplot(data_1['Camt'])\n",
        "plt.show()"
      ],
      "execution_count": 79,
      "outputs": [
        {
          "output_type": "stream",
          "name": "stderr",
          "text": [
            "/usr/local/lib/python3.7/dist-packages/seaborn/distributions.py:2619: FutureWarning: `distplot` is a deprecated function and will be removed in a future version. Please adapt your code to use either `displot` (a figure-level function with similar flexibility) or `histplot` (an axes-level function for histograms).\n",
            "  warnings.warn(msg, FutureWarning)\n"
          ]
        },
        {
          "output_type": "display_data",
          "data": {
            "image/png": "[encoded data removed]",
            "text/plain": [
              "<Figure size 432x288 with 1 Axes>"
            ]
          },
          "metadata": {
            "needs_background": "light"
          }
        }
      ]
    },
    {
      "cell_type": "markdown",
      "metadata": {
        "id": "qmV0a-2Iat4e"
      },
      "source": [
        "Interpretation:\n",
        "\n",
        "Above plot shows that the data in 'Camt' do not follow Gaussian distribution as the data is skewed to the right. For this feature, we will again analyse the distribution by using feature, 'pctile_amt' that contains the percentile values in 'Camt' "
      ]
    },
    {
      "cell_type": "code",
      "metadata": {
        "colab": {
          "base_uri": "https://localhost:8080/",
          "height": 297
        },
        "id": "CiJQz6WLZKJM",
        "outputId": "9f6d6ff3-7fa0-47f0-f952-74239d7dc808"
      },
      "source": [
        "# checking the distribution in 'Camt' w.r.t. the target variable 'creditScore'\n",
        "\n",
        "sns.histplot(x = 'Camt', data = data_1, hue = 'creditScore')"
      ],
      "execution_count": 80,
      "outputs": [
        {
          "output_type": "execute_result",
          "data": {
            "text/plain": [
              "<matplotlib.axes._subplots.AxesSubplot at 0x7f7def9d5890>"
            ]
          },
          "metadata": {},
          "execution_count": 80
        },
        {
          "output_type": "display_data",
          "data": {
            "image/png": "[encoded data removed]",
            "text/plain": [
              "<Figure size 432x288 with 1 Axes>"
            ]
          },
          "metadata": {
            "needs_background": "light"
          }
        }
      ]
    },
    {
      "cell_type": "markdown",
      "metadata": {
        "id": "BIKYp1iyfrBf"
      },
      "source": [
        "Interpretation:\n",
        "\n",
        "The above plot shows that most of the loan amounts lie in the range between 0 to 38000 for both the loan categories. It is also important to mention again here that the values in feature 'Camt' have the problem of high cardinality. "
      ]
    },
    {
      "cell_type": "code",
      "metadata": {
        "colab": {
          "base_uri": "https://localhost:8080/",
          "height": 355
        },
        "id": "kEtCALgAijz4",
        "outputId": "f6890b9b-8918-42de-aeb1-c947356f9da4"
      },
      "source": [
        "# checking the distribution of data in feature 'age' \n",
        "\n",
        "sns.distplot(data_1['age'])"
      ],
      "execution_count": 81,
      "outputs": [
        {
          "output_type": "stream",
          "name": "stderr",
          "text": [
            "/usr/local/lib/python3.7/dist-packages/seaborn/distributions.py:2619: FutureWarning: `distplot` is a deprecated function and will be removed in a future version. Please adapt your code to use either `displot` (a figure-level function with similar flexibility) or `histplot` (an axes-level function for histograms).\n",
            "  warnings.warn(msg, FutureWarning)\n"
          ]
        },
        {
          "output_type": "execute_result",
          "data": {
            "text/plain": [
              "<matplotlib.axes._subplots.AxesSubplot at 0x7f7def9635d0>"
            ]
          },
          "metadata": {},
          "execution_count": 81
        },
        {
          "output_type": "display_data",
          "data": {
            "image/png": "[encoded data removed]",
            "text/plain": [
              "<Figure size 432x288 with 1 Axes>"
            ]
          },
          "metadata": {
            "needs_background": "light"
          }
        }
      ]
    },
    {
      "cell_type": "markdown",
      "metadata": {
        "id": "AdSctqzYjFKi"
      },
      "source": [
        "Interpretation:\n",
        "\n",
        "Above plot shows that data in the feature do not follow Gaussian distribution as the data is skewed to the right. "
      ]
    },
    {
      "cell_type": "code",
      "metadata": {
        "colab": {
          "base_uri": "https://localhost:8080/",
          "height": 300
        },
        "id": "AWu-J86tjhkE",
        "outputId": "f975fb9e-c1f2-4404-82c7-02a279a38b4e"
      },
      "source": [
        "# now, we will check the distribution in feature 'age' w.r.t. target variable 'creditScore' \n",
        "# to understand the representation of bad loans\n",
        "\n",
        "sns.histplot(x = 'age', data = data_1, hue = 'creditScore')\n"
      ],
      "execution_count": 82,
      "outputs": [
        {
          "output_type": "execute_result",
          "data": {
            "text/plain": [
              "<matplotlib.axes._subplots.AxesSubplot at 0x7f7def7164d0>"
            ]
          },
          "metadata": {},
          "execution_count": 82
        },
        {
          "output_type": "display_data",
          "data": {
            "image/png": "[encoded data removed]",
            "text/plain": [
              "<Figure size 432x288 with 1 Axes>"
            ]
          },
          "metadata": {
            "needs_background": "light"
          }
        }
      ]
    },
    {
      "cell_type": "markdown",
      "metadata": {
        "id": "vtcdZb9Rku_X"
      },
      "source": [
        "Interpretation:\n",
        "\n",
        "The above plot shows that most of the bad loans exist for clients that are between 0 to 35 years in age. "
      ]
    },
    {
      "cell_type": "code",
      "metadata": {
        "colab": {
          "base_uri": "https://localhost:8080/",
          "height": 297
        },
        "id": "zCoRYL3YqWsn",
        "outputId": "f49e504a-6b90-46fc-a9bc-908fdc23e07f"
      },
      "source": [
        "# checking the distribution of data in feature 'Cbal'\n",
        "\n",
        "sns.countplot(y = 'Cbal', hue = 'creditScore', data = data_1)"
      ],
      "execution_count": 83,
      "outputs": [
        {
          "output_type": "execute_result",
          "data": {
            "text/plain": [
              "<matplotlib.axes._subplots.AxesSubplot at 0x7f7def715f10>"
            ]
          },
          "metadata": {},
          "execution_count": 83
        },
        {
          "output_type": "display_data",
          "data": {
            "image/png": "[encoded data removed]",
            "text/plain": [
              "<Figure size 432x288 with 1 Axes>"
            ]
          },
          "metadata": {
            "needs_background": "light"
          }
        }
      ]
    },
    {
      "cell_type": "markdown",
      "metadata": {
        "id": "egkGT2dot5Fj"
      },
      "source": [
        "Interpretation:\n",
        "\n",
        "Above plot shows that the clients, who have no checking account are claimed to comprise of highest number of good loans. \n",
        "\n",
        "In addition, there is not much difference between two loan categories for clients, who have negative balance in their checking accounts. \n",
        "\n"
      ]
    },
    {
      "cell_type": "code",
      "metadata": {
        "colab": {
          "base_uri": "https://localhost:8080/",
          "height": 297
        },
        "id": "OS2uWHMkv3De",
        "outputId": "ab9b8c6c-fb0a-41d8-d805-1c5fa6bf065b"
      },
      "source": [
        "# checking the distribution of data in 'pctile_dur' that contains percentile values in 'Cdur' w.r.t. target variable, 'creditScore' \n",
        "\n",
        "sns.countplot(y = 'pctile_dur', hue = 'creditScore', data = data_1)"
      ],
      "execution_count": 84,
      "outputs": [
        {
          "output_type": "execute_result",
          "data": {
            "text/plain": [
              "<matplotlib.axes._subplots.AxesSubplot at 0x7f7def9a6fd0>"
            ]
          },
          "metadata": {},
          "execution_count": 84
        },
        {
          "output_type": "display_data",
          "data": {
            "image/png": "[encoded data removed]",
            "text/plain": [
              "<Figure size 432x288 with 1 Axes>"
            ]
          },
          "metadata": {
            "needs_background": "light"
          }
        }
      ]
    },
    {
      "cell_type": "markdown",
      "metadata": {
        "id": "V-WgBOb7xY0i"
      },
      "source": [
        "Interpretation:\n",
        "\n",
        "Since the above plot contains percentile values in 'Cdur', the distribution of data in 'Cdur' is interpreted as follows:\n",
        "\n",
        "values > 0 but < 12 comprise of lower 25% of the data\n",
        "\n",
        "values >= 12 but < 18 comprise of first 25%-50% of the data\n",
        "\n",
        "values >= 18 but < 24 comprise of 50%-75% of data\n",
        "\n",
        "values >= 24 comprise of 75%-100% of data\n",
        "\n",
        "The above plot shows that highest number of good loans are taken for a duration of more than 24 months or 2 years. Highest number of bad loans are also taken for a duration of more than 24 months in the 75%-100% range. Lowest number of bad loans are claimed to be taken for a period of less than 12 months or 1 year. \n"
      ]
    },
    {
      "cell_type": "code",
      "metadata": {
        "colab": {
          "base_uri": "https://localhost:8080/",
          "height": 297
        },
        "id": "gtARHidVzMO0",
        "outputId": "15a8f8cf-ba08-4075-ad4c-06ca4cfcd7ec"
      },
      "source": [
        "# checking the distribution of data in 'Chist' w.r.t. the target variable, 'creditScore'\n",
        "\n",
        "sns.countplot(y = 'Chist', hue = 'creditScore', data = data_1)"
      ],
      "execution_count": 85,
      "outputs": [
        {
          "output_type": "execute_result",
          "data": {
            "text/plain": [
              "<matplotlib.axes._subplots.AxesSubplot at 0x7f7df20b7fd0>"
            ]
          },
          "metadata": {},
          "execution_count": 85
        },
        {
          "output_type": "display_data",
          "data": {
            "image/png": "[encoded data removed]",
            "text/plain": [
              "<Figure size 432x288 with 1 Axes>"
            ]
          },
          "metadata": {
            "needs_background": "light"
          }
        }
      ]
    },
    {
      "cell_type": "markdown",
      "metadata": {
        "id": "waumXLWQ0YFB"
      },
      "source": [
        "\n",
        "Interpretation:\n",
        "\n",
        "Above plot shows that most of the loans that are claimed as 'good' are settled by the clients till now. This holds true for bad loans too. There is not much of a difference between the two loan categories for clients, who have settled all the loans. It was pointed out earlier that the given dataset has failed to properly describe the payments of previous loans by the given clients. A loan, whether settled or not settled is not enough to study the behavior of clients when it comes to estimating their likelihood to default or not default on loan payments. The online investigation of relevant articles have enabled us to understand that type of previous loans and previous loan amounts are crucial for more accurate identification of client behavior when it comes to estimating the default likelihood on loan payments as it is possible that the type of current loans of clients given in this dataset is totally different from their previous loans. If this happened to be true, it is again ambiguous to understand the client's propensity to make scheduled loan payments when the current loan type is different from the past loan type as the credit risks involved for the lending institution are different when the same client is availing the loan. Please check this link for details: https://www.investopedia.com/terms/c/credit_score.asp\n",
        "\n"
      ]
    },
    {
      "cell_type": "code",
      "metadata": {
        "colab": {
          "base_uri": "https://localhost:8080/",
          "height": 297
        },
        "id": "-Or2cKky-rPO",
        "outputId": "9e3e6005-12c7-44dd-9aa0-c3bf7b4a8647"
      },
      "source": [
        "# checking the distribution of data in 'Cpur' w.r.t. the target variable, 'creditScore'\n",
        "\n",
        "sns.countplot(y = 'Cpur', hue = 'creditScore', data = data_1)"
      ],
      "execution_count": 86,
      "outputs": [
        {
          "output_type": "execute_result",
          "data": {
            "text/plain": [
              "<matplotlib.axes._subplots.AxesSubplot at 0x7f7def68a910>"
            ]
          },
          "metadata": {},
          "execution_count": 86
        },
        {
          "output_type": "display_data",
          "data": {
            "image/png": "[encoded data removed]",
            "text/plain": [
              "<Figure size 432x288 with 1 Axes>"
            ]
          },
          "metadata": {
            "needs_background": "light"
          }
        }
      ]
    },
    {
      "cell_type": "markdown",
      "metadata": {
        "id": "AVg_0sqUDKW5"
      },
      "source": [
        "Interpretation:\n",
        "\n",
        "Above plot shows that most of the likely bad loans are taken by the clients for the purpose of used vehicles in the given dataset. "
      ]
    },
    {
      "cell_type": "code",
      "metadata": {
        "colab": {
          "base_uri": "https://localhost:8080/",
          "height": 297
        },
        "id": "CiLWvcjiEheW",
        "outputId": "c7b0597b-d3ca-431f-9a21-ad85686a1fc4"
      },
      "source": [
        "# checking the distribution of data in 'pctile_amt', which contains percentile values in 'Camt', w.r.t. target variable, 'creditScore'\n",
        "\n",
        "sns.countplot(y = 'pctile_amt', hue = 'creditScore', data = data_1)\n"
      ],
      "execution_count": 87,
      "outputs": [
        {
          "output_type": "execute_result",
          "data": {
            "text/plain": [
              "<matplotlib.axes._subplots.AxesSubplot at 0x7f7def6b3d50>"
            ]
          },
          "metadata": {},
          "execution_count": 87
        },
        {
          "output_type": "display_data",
          "data": {
            "image/png": "[encoded data removed]",
            "text/plain": [
              "<Figure size 432x288 with 1 Axes>"
            ]
          },
          "metadata": {
            "needs_background": "light"
          }
        }
      ]
    },
    {
      "cell_type": "markdown",
      "metadata": {
        "id": "vb1JitInF4AP"
      },
      "source": [
        "Interpretation:\n",
        "\n",
        "The percentile values in 'Camt' can be understood in the following manner:\n",
        "\n",
        "values > 0 and values < 13535 - 25th percentile\n",
        "\n",
        "values >= 13535 and values < 23075 - 25th-50th percentile\n",
        "\n",
        "values >= 23075 and values < 39602 - 50th-75th percentile\n",
        "\n",
        "values >= 39602 - 75th-100th percentile\n",
        "\n",
        "Above plot shows that most of the likely bad loans are taken by the clients for the amount greater than Rs. 39602 and both least likely bad loans and most likely good loans are taken by clients for amount ranging between Rs. 23075 and Rs. 39602. \n",
        "\n",
        "Again, we cannot ascertain how the data collector has reached this conclusion in the given dataset when there are no clear details about the income of clients as values in 'Cbal' and 'Sbal' are presented in the form of range. We also do not know about the disposable income that has been used to calculate the instalment rate in the given dataset. Although the data collector has mentioned the details of other properties in order to indicate that the clients have the capacity to make scheduled loan payments to the lending institution, the data collector has failed to provide the collateral details. The information about previous loan types, previous loan amounts, interest rates and levels of existing credits(only number of existing credits is provided) is also not mentioned in the dataset that are important to reach a valid conclusion for classification of loans. "
      ]
    },
    {
      "cell_type": "code",
      "metadata": {
        "colab": {
          "base_uri": "https://localhost:8080/",
          "height": 297
        },
        "id": "mQgU65DiXQkk",
        "outputId": "253e9fbc-0cd3-436a-bb5c-0333177e9d34"
      },
      "source": [
        "# checking the distribution of data in 'Sbal' w.r.t. target variable, 'creditScore'\n",
        "\n",
        "sns.countplot(y = 'Sbal', hue = 'creditScore', data = data_1)"
      ],
      "execution_count": 88,
      "outputs": [
        {
          "output_type": "execute_result",
          "data": {
            "text/plain": [
              "<matplotlib.axes._subplots.AxesSubplot at 0x7f7df20c75d0>"
            ]
          },
          "metadata": {},
          "execution_count": 88
        },
        {
          "output_type": "display_data",
          "data": {
            "image/png": "[encoded data removed]",
            "text/plain": [
              "<Figure size 432x288 with 1 Axes>"
            ]
          },
          "metadata": {
            "needs_background": "light"
          }
        }
      ]
    },
    {
      "cell_type": "markdown",
      "metadata": {
        "id": "RqokAhFGXhOO"
      },
      "source": [
        "\n",
        "Interpretation:\n",
        "\n",
        "Above plot shows that the clients are likely to both default and not default on loans in highest numbers when the amount in their savings account is less than Rs. 1000. The lowest number of likely bad loans are observed for the clients, who have greater than or equal to Rs. 10000 in their savings accounts. "
      ]
    },
    {
      "cell_type": "code",
      "metadata": {
        "colab": {
          "base_uri": "https://localhost:8080/",
          "height": 297
        },
        "id": "R2enf_d2ZAcX",
        "outputId": "26859524-b769-4cbb-97cb-0936713aacce"
      },
      "source": [
        "# checking the distribution of data in 'Edur' w.r.t. target variable, 'creditScore'\n",
        "\n",
        "sns.countplot(y = 'Edur', hue = 'creditScore', data = data_1)"
      ],
      "execution_count": 89,
      "outputs": [
        {
          "output_type": "execute_result",
          "data": {
            "text/plain": [
              "<matplotlib.axes._subplots.AxesSubplot at 0x7f7def490c10>"
            ]
          },
          "metadata": {},
          "execution_count": 89
        },
        {
          "output_type": "display_data",
          "data": {
            "image/png": "[encoded data removed]",
            "text/plain": [
              "<Figure size 432x288 with 1 Axes>"
            ]
          },
          "metadata": {
            "needs_background": "light"
          }
        }
      ]
    },
    {
      "cell_type": "markdown",
      "metadata": {
        "id": "33P0Ds1VZisX"
      },
      "source": [
        "Interpretation:\n",
        "\n",
        "Highest number of both defaulters and non-defaulters are clients, who have worked for a period of 1 to 4 years and lowest number of both defaulters and not defaulters have not worked. "
      ]
    },
    {
      "cell_type": "code",
      "metadata": {
        "colab": {
          "base_uri": "https://localhost:8080/",
          "height": 297
        },
        "id": "hHoY89IxaGp7",
        "outputId": "471022e2-4a17-464d-b0ec-09016ebbacd7"
      },
      "source": [
        "# checking the distribution of data in 'InRate' w.r.t. target variable, 'creditScore'\n",
        "\n",
        "sns.countplot(y = 'InRate', hue = 'creditScore', data = data_1)"
      ],
      "execution_count": 90,
      "outputs": [
        {
          "output_type": "execute_result",
          "data": {
            "text/plain": [
              "<matplotlib.axes._subplots.AxesSubplot at 0x7f7def416110>"
            ]
          },
          "metadata": {},
          "execution_count": 90
        },
        {
          "output_type": "display_data",
          "data": {
            "image/png": "[encoded data removed]",
            "text/plain": [
              "<Figure size 432x288 with 1 Axes>"
            ]
          },
          "metadata": {
            "needs_background": "light"
          }
        }
      ]
    },
    {
      "cell_type": "markdown",
      "metadata": {
        "id": "uKnIGhNYaWmV"
      },
      "source": [
        "Interpretation:\n",
        "\n",
        "Highest number of defaulters and non-defaulters have taken loans from the lending institution at an instalment rate of 4%. "
      ]
    },
    {
      "cell_type": "code",
      "metadata": {
        "colab": {
          "base_uri": "https://localhost:8080/",
          "height": 297
        },
        "id": "SNAHYKYKaqRX",
        "outputId": "67e37e2f-d826-4569-b1bd-2f9439778695"
      },
      "source": [
        "# checking the distribution of data in 'MSG' w.r.t. target variable, 'creditScore'\n",
        "\n",
        "sns.countplot(y = 'MSG', hue = 'creditScore', data = data_1)"
      ],
      "execution_count": 91,
      "outputs": [
        {
          "output_type": "execute_result",
          "data": {
            "text/plain": [
              "<matplotlib.axes._subplots.AxesSubplot at 0x7f7def373950>"
            ]
          },
          "metadata": {},
          "execution_count": 91
        },
        {
          "output_type": "display_data",
          "data": {
            "image/png": "[encoded data removed]",
            "text/plain": [
              "<Figure size 432x288 with 1 Axes>"
            ]
          },
          "metadata": {
            "needs_background": "light"
          }
        }
      ]
    },
    {
      "cell_type": "markdown",
      "metadata": {
        "id": "OOBfAsGYa1Ej"
      },
      "source": [
        "\n",
        "Interpretation:\n",
        "\n",
        "Above plot shows that highest number of both defaulters and non-defaulters are single males and lowest number of both defaulters and non-defaulters are divorced or separated males. "
      ]
    },
    {
      "cell_type": "code",
      "metadata": {
        "colab": {
          "base_uri": "https://localhost:8080/",
          "height": 297
        },
        "id": "iKBG5QFbcZ5o",
        "outputId": "95b5e894-e61f-46d2-a672-cd21e7a27592"
      },
      "source": [
        "# checking the distribution of data in 'Oparties' w.r.t. target variable, 'creditScore'\n",
        "\n",
        "sns.countplot(y = 'Oparties', hue = 'creditScore', data = data_1)"
      ],
      "execution_count": 92,
      "outputs": [
        {
          "output_type": "execute_result",
          "data": {
            "text/plain": [
              "<matplotlib.axes._subplots.AxesSubplot at 0x7f7def2e5ed0>"
            ]
          },
          "metadata": {},
          "execution_count": 92
        },
        {
          "output_type": "display_data",
          "data": {
            "image/png": "[encoded data removed]",
            "text/plain": [
              "<Figure size 432x288 with 1 Axes>"
            ]
          },
          "metadata": {
            "needs_background": "light"
          }
        }
      ]
    },
    {
      "cell_type": "markdown",
      "metadata": {
        "id": "oddKY7tcc9PL"
      },
      "source": [
        "\n",
        "Interpretation:\n",
        "\n",
        "Above plot shows that highest number of both defaulters and non-defaulters have availed loans from the lending institution with no co-applicants/guarantors in the given dataset. "
      ]
    },
    {
      "cell_type": "code",
      "metadata": {
        "colab": {
          "base_uri": "https://localhost:8080/",
          "height": 297
        },
        "id": "Q5yqvAgBdX6Q",
        "outputId": "0ece8389-91fa-4a75-f4ea-56b0447b89ca"
      },
      "source": [
        "# checking the distribution of data in 'Rdur' w.r.t. target variable, 'creditScore'\n",
        "\n",
        "sns.countplot(y = 'Rdur', hue = 'creditScore', data = data_1)"
      ],
      "execution_count": 93,
      "outputs": [
        {
          "output_type": "execute_result",
          "data": {
            "text/plain": [
              "<matplotlib.axes._subplots.AxesSubplot at 0x7f7def2d9390>"
            ]
          },
          "metadata": {},
          "execution_count": 93
        },
        {
          "output_type": "display_data",
          "data": {
            "image/png": "[encoded data removed]",
            "text/plain": [
              "<Figure size 432x288 with 1 Axes>"
            ]
          },
          "metadata": {
            "needs_background": "light"
          }
        }
      ]
    },
    {
      "cell_type": "markdown",
      "metadata": {
        "id": "5rejSZZNd-SL"
      },
      "source": [
        "\n",
        "Interpretation:\n",
        "\n",
        "Above plot shows that highest number of both defaulters and non-defaulters have stayed in their current residence for a period of more than 3 years and lowest number of both defaulters and non-defaulters have stayed in their current residence for less than a year in the given dataset. "
      ]
    },
    {
      "cell_type": "code",
      "metadata": {
        "colab": {
          "base_uri": "https://localhost:8080/",
          "height": 297
        },
        "id": "Gi4hyYFkeqLd",
        "outputId": "72438d68-0ed5-4078-e23c-9332d7c779fb"
      },
      "source": [
        "# checking the distribution of data in 'Prop' w.r.t. target variable, 'creditScore'\n",
        "\n",
        "sns.countplot(y = 'Prop', hue = 'creditScore', data = data_1)"
      ],
      "execution_count": 94,
      "outputs": [
        {
          "output_type": "execute_result",
          "data": {
            "text/plain": [
              "<matplotlib.axes._subplots.AxesSubplot at 0x7f7def1c66d0>"
            ]
          },
          "metadata": {},
          "execution_count": 94
        },
        {
          "output_type": "display_data",
          "data": {
            "image/png": "[encoded data removed]",
            "text/plain": [
              "<Figure size 432x288 with 1 Axes>"
            ]
          },
          "metadata": {
            "needs_background": "light"
          }
        }
      ]
    },
    {
      "cell_type": "markdown",
      "metadata": {
        "id": "85dNZsBSfpAI"
      },
      "source": [
        "\n",
        "Interpretation:\n",
        "\n",
        "Above plot shows that clients, who have other cars, etc. as properties comprise of the highest number of defaulters and non-defaulters in the given dataset. However, clients, who have unknown properties comprise of the lowest number of defaulters and non-defaulters in the given dataset.\n"
      ]
    },
    {
      "cell_type": "code",
      "metadata": {
        "colab": {
          "base_uri": "https://localhost:8080/",
          "height": 297
        },
        "id": "YsWu2FYjreYa",
        "outputId": "f47f7b5f-41ed-4140-94ea-bb03df31892c"
      },
      "source": [
        "# checking the distribution of data in 'inPlans' , w.r.t. target variable, 'creditScore'\n",
        "\n",
        "sns.countplot(y = 'inPlans', hue = 'creditScore', data = data_1)"
      ],
      "execution_count": 95,
      "outputs": [
        {
          "output_type": "execute_result",
          "data": {
            "text/plain": [
              "<matplotlib.axes._subplots.AxesSubplot at 0x7f7def975450>"
            ]
          },
          "metadata": {},
          "execution_count": 95
        },
        {
          "output_type": "display_data",
          "data": {
            "image/png": "[encoded data removed]",
            "text/plain": [
              "<Figure size 432x288 with 1 Axes>"
            ]
          },
          "metadata": {
            "needs_background": "light"
          }
        }
      ]
    },
    {
      "cell_type": "markdown",
      "metadata": {
        "id": "mRC9SSIOspQv"
      },
      "source": [
        "\n",
        "Interpretation:\n",
        "\n",
        "Above plot shows that the highest number of both defaulters and non-defaulters have 'none' instalment plans and lowest number of both defaulters and non-defaulters have instalment plans in stores. \n"
      ]
    },
    {
      "cell_type": "code",
      "metadata": {
        "colab": {
          "base_uri": "https://localhost:8080/",
          "height": 297
        },
        "id": "KcwtdRAYtY5B",
        "outputId": "c208b280-baad-49f9-e2f5-b276fd72ff61"
      },
      "source": [
        "# checking the distribution of data in 'Htype' w.r.t. target variable, 'creditScore'\n",
        "\n",
        "sns.countplot(y = 'Htype', hue = 'creditScore', data = data_1)"
      ],
      "execution_count": 96,
      "outputs": [
        {
          "output_type": "execute_result",
          "data": {
            "text/plain": [
              "<matplotlib.axes._subplots.AxesSubplot at 0x7f7def479f90>"
            ]
          },
          "metadata": {},
          "execution_count": 96
        },
        {
          "output_type": "display_data",
          "data": {
            "image/png": "[encoded data removed]",
            "text/plain": [
              "<Figure size 432x288 with 1 Axes>"
            ]
          },
          "metadata": {
            "needs_background": "light"
          }
        }
      ]
    },
    {
      "cell_type": "markdown",
      "metadata": {
        "id": "6PYFKOl2wfu8"
      },
      "source": [
        "\n",
        "Interpretation:\n",
        "\n",
        "Above plot shows that the highest number of both defaulters and non-defaulters have their own house while lowest number of defaulters and non-defaulters are living for free as per the values in the given dataset. "
      ]
    },
    {
      "cell_type": "code",
      "metadata": {
        "colab": {
          "base_uri": "https://localhost:8080/",
          "height": 297
        },
        "id": "-FmySpsox5xy",
        "outputId": "0eaf6e9b-0971-442d-a6cd-773e5f1370d2"
      },
      "source": [
        "# checking the distribution of data in 'NumCred' w.r.t. target variable, 'creditScore'\n",
        "\n",
        "sns.countplot(y = 'NumCred', hue = 'creditScore', data = data_1)"
      ],
      "execution_count": 97,
      "outputs": [
        {
          "output_type": "execute_result",
          "data": {
            "text/plain": [
              "<matplotlib.axes._subplots.AxesSubplot at 0x7f7def08a2d0>"
            ]
          },
          "metadata": {},
          "execution_count": 97
        },
        {
          "output_type": "display_data",
          "data": {
            "image/png": "[encoded data removed]",
            "text/plain": [
              "<Figure size 432x288 with 1 Axes>"
            ]
          },
          "metadata": {
            "needs_background": "light"
          }
        }
      ]
    },
    {
      "cell_type": "markdown",
      "metadata": {
        "id": "ZNFtH3JAzu_-"
      },
      "source": [
        "\n",
        "Interpretation:\n",
        "\n",
        "Above plot shows that the highest number of both defaulters and non-defaulters have one existing credit. In contrast, lowest number of defaulters and non-defaulters have four existing credits in the given dataset. However, it is not mentioned whether the clients have had these existing credits from the lending institution, Cautious plc or from other institution. "
      ]
    },
    {
      "cell_type": "code",
      "metadata": {
        "colab": {
          "base_uri": "https://localhost:8080/",
          "height": 297
        },
        "id": "50rT2Ca416Pi",
        "outputId": "9536fdfe-9c85-4d60-e5c3-753c9a4c3d70"
      },
      "source": [
        "# checking the distribution of data in 'JobType' w.r.t. target variable, 'creditScore'\n",
        "\n",
        "sns.countplot(y = 'JobType', hue = 'creditScore', data = data_1)"
      ],
      "execution_count": 98,
      "outputs": [
        {
          "output_type": "execute_result",
          "data": {
            "text/plain": [
              "<matplotlib.axes._subplots.AxesSubplot at 0x7f7def08a890>"
            ]
          },
          "metadata": {},
          "execution_count": 98
        },
        {
          "output_type": "display_data",
          "data": {
            "image/png": "[encoded data removed]",
            "text/plain": [
              "<Figure size 432x288 with 1 Axes>"
            ]
          },
          "metadata": {
            "needs_background": "light"
          }
        }
      ]
    },
    {
      "cell_type": "markdown",
      "metadata": {
        "id": "FrpqMeUK2YHW"
      },
      "source": [
        "Interpretation:\n",
        "\n",
        "Above plot shows that the highest number of likely defaulters and non-defaulters are labeled as employees with official position. In contrast, the lowest number of defaulters and non-defaulters are either unemployed or unskilled non-resident clients in the given dataset. "
      ]
    },
    {
      "cell_type": "code",
      "metadata": {
        "colab": {
          "base_uri": "https://localhost:8080/",
          "height": 297
        },
        "id": "XPyh_ujL29n1",
        "outputId": "e7ad5126-32c1-47cf-8467-468ce6a33055"
      },
      "source": [
        "# checking the distribution of data in 'Ndepend' w.r.t. target variable, 'creditScore'\n",
        "\n",
        "sns.countplot(y = 'Ndepend', hue = 'creditScore', data = data_1)"
      ],
      "execution_count": 99,
      "outputs": [
        {
          "output_type": "execute_result",
          "data": {
            "text/plain": [
              "<matplotlib.axes._subplots.AxesSubplot at 0x7f7deeffe650>"
            ]
          },
          "metadata": {},
          "execution_count": 99
        },
        {
          "output_type": "display_data",
          "data": {
            "image/png": "[encoded data removed]",
            "text/plain": [
              "<Figure size 432x288 with 1 Axes>"
            ]
          },
          "metadata": {
            "needs_background": "light"
          }
        }
      ]
    },
    {
      "cell_type": "markdown",
      "metadata": {
        "id": "RpopvTie3iBi"
      },
      "source": [
        "\n",
        "Interpretation:\n",
        "\n",
        "Above plot shows that higher number of defaulters and non-defaulters have only one dependent while rest of the defaulters and non-defaulters have two dependents in the dataset. "
      ]
    },
    {
      "cell_type": "code",
      "metadata": {
        "colab": {
          "base_uri": "https://localhost:8080/",
          "height": 297
        },
        "id": "k641p99U4Dw2",
        "outputId": "ac32785f-04dc-4b0f-f171-924ca67b9f5a"
      },
      "source": [
        "# checking the distribution of data in 'telephone'  w.r.t. target variable, 'creditScore'\n",
        "\n",
        "sns.countplot(y = 'telephone', hue = 'creditScore', data = data_1)"
      ],
      "execution_count": 100,
      "outputs": [
        {
          "output_type": "execute_result",
          "data": {
            "text/plain": [
              "<matplotlib.axes._subplots.AxesSubplot at 0x7f7deef67e50>"
            ]
          },
          "metadata": {},
          "execution_count": 100
        },
        {
          "output_type": "display_data",
          "data": {
            "image/png": "[encoded data removed]",
            "text/plain": [
              "<Figure size 432x288 with 1 Axes>"
            ]
          },
          "metadata": {
            "needs_background": "light"
          }
        }
      ]
    },
    {
      "cell_type": "markdown",
      "metadata": {
        "id": "mYaWSMHd4UMV"
      },
      "source": [
        "\n",
        "Interpretation:\n",
        "\n",
        "Above plot shows that higher number of defaulters and non-defaulters in the given dataset have no telephone number but rest of the defaulters and non-defaulters do have a telephone number. "
      ]
    },
    {
      "cell_type": "code",
      "metadata": {
        "colab": {
          "base_uri": "https://localhost:8080/",
          "height": 297
        },
        "id": "Q4pgZuxg41Gp",
        "outputId": "e4bab7a4-cff8-4c0b-fd69-fb05d5e4f675"
      },
      "source": [
        "# checking the distribution of data in 'foreign' w.r.t. target variable, 'creditScore'\n",
        "\n",
        "sns.countplot(y = 'foreign', hue = 'creditScore', data = data_1)"
      ],
      "execution_count": 101,
      "outputs": [
        {
          "output_type": "execute_result",
          "data": {
            "text/plain": [
              "<matplotlib.axes._subplots.AxesSubplot at 0x7f7deeedd510>"
            ]
          },
          "metadata": {},
          "execution_count": 101
        },
        {
          "output_type": "display_data",
          "data": {
            "image/png": "[encoded data removed]",
            "text/plain": [
              "<Figure size 432x288 with 1 Axes>"
            ]
          },
          "metadata": {
            "needs_background": "light"
          }
        }
      ]
    },
    {
      "cell_type": "markdown",
      "metadata": {
        "id": "iZZl99Ny4-ib"
      },
      "source": [
        "\n",
        "Interpretation:\n",
        "\n",
        "Above plot shows that higher number of both defaulters and non-defaulters are not working abroad but lower number of defaulters and non-defaulters are working abroad. "
      ]
    },
    {
      "cell_type": "code",
      "metadata": {
        "colab": {
          "base_uri": "https://localhost:8080/",
          "height": 297
        },
        "id": "vW2aMYrr6KN5",
        "outputId": "b5ccacdf-0dbe-4f7a-ef24-4982be3862c1"
      },
      "source": [
        "# checking the distribution of data in the target variable, 'creditScore' in the given dataset\n",
        "\n",
        "sns.countplot(y = 'creditScore', data = data_1)"
      ],
      "execution_count": 102,
      "outputs": [
        {
          "output_type": "execute_result",
          "data": {
            "text/plain": [
              "<matplotlib.axes._subplots.AxesSubplot at 0x7f7deeea4c90>"
            ]
          },
          "metadata": {},
          "execution_count": 102
        },
        {
          "output_type": "display_data",
          "data": {
            "image/png": "[encoded data removed]",
            "text/plain": [
              "<Figure size 432x288 with 1 Axes>"
            ]
          },
          "metadata": {
            "needs_background": "light"
          }
        }
      ]
    },
    {
      "cell_type": "markdown",
      "metadata": {
        "id": "_w5QGBEN6rXx"
      },
      "source": [
        "\n",
        "Interpretation:\n",
        "\n",
        "There are higher number of likely non-defaulters than defaulters in the given dataset. "
      ]
    },
    {
      "cell_type": "code",
      "metadata": {
        "colab": {
          "base_uri": "https://localhost:8080/",
          "height": 297
        },
        "id": "31sevysI6_7A",
        "outputId": "a0b5a372-3937-4c60-dfdf-3f64881722dd"
      },
      "source": [
        "# now, we will visualize the relation between loan amount in 'Camt' and loan duration in 'Cdur' as we stated earlier that\n",
        "# loan duration is fixed after information about the loan amount and interest rate. \n",
        "# Instalment rate depends on loan amount, interest rate and tenure of the loan. \n",
        "# In the given dataset, we have instalment rate, loan duration and loan amount. However, we are unable to connect all of these features to \n",
        "# make a coherent meaning as the information about loan interest rates is not available. Moreover, instalment rate is expressed as a \n",
        "# percentage of disposable income but we are not informed about the mode of instalments whether monthly, yearly, or quarterly. \n",
        "# Also, there are no details about disposable income. \n",
        "\n",
        "# checking the relation between loan amount, 'Camt' and loan duration, 'Cdur' in the given dataset\n",
        "sns.scatterplot(x = 'Camt', y = 'Cdur', data = data_1)\n"
      ],
      "execution_count": 103,
      "outputs": [
        {
          "output_type": "execute_result",
          "data": {
            "text/plain": [
              "<matplotlib.axes._subplots.AxesSubplot at 0x7f7deee30f10>"
            ]
          },
          "metadata": {},
          "execution_count": 103
        },
        {
          "output_type": "display_data",
          "data": {
            "image/png": "[encoded data removed]",
            "text/plain": [
              "<Figure size 432x288 with 1 Axes>"
            ]
          },
          "metadata": {
            "needs_background": "light"
          }
        }
      ]
    },
    {
      "cell_type": "markdown",
      "metadata": {
        "id": "KQmNAlOHKA2L"
      },
      "source": [
        "Interpretation:\n",
        "\n",
        "Above plot shows moderate positive linear relationship between loan amount and loan duration. This relation was also observed in the correlation between these two features. "
      ]
    },
    {
      "cell_type": "code",
      "metadata": {
        "colab": {
          "base_uri": "https://localhost:8080/",
          "height": 297
        },
        "id": "-tXpF9XDJw2x",
        "outputId": "87a1da8a-a249-47d7-cdbb-7564de93eca1"
      },
      "source": [
        "# checking the relation between instalment rate in 'InRate' and loan duration in 'Cdur' \n",
        "sns.lineplot(x = 'InRate', y = 'Cdur', data = data_1)\n"
      ],
      "execution_count": 104,
      "outputs": [
        {
          "output_type": "execute_result",
          "data": {
            "text/plain": [
              "<matplotlib.axes._subplots.AxesSubplot at 0x7f7deede2ad0>"
            ]
          },
          "metadata": {},
          "execution_count": 104
        },
        {
          "output_type": "display_data",
          "data": {
            "image/png": "[encoded data removed]",
            "text/plain": [
              "<Figure size 432x288 with 1 Axes>"
            ]
          },
          "metadata": {
            "needs_background": "light"
          }
        }
      ]
    },
    {
      "cell_type": "markdown",
      "metadata": {
        "id": "GddbDHOfOA9G"
      },
      "source": [
        "\n",
        "Interpretation:\n",
        "\n",
        "Above plot shows first a positive relation between loan duration and instalment rate - when loan duration increases, instalment rate increases. Then, it is observed that there is negative relation between loan duration and instalment rate when loan duration is greater than 21 months and instalment rate is greater than 2 percent. The trend is again observed to become positive for instalment rates greater than 3 percent and loan duration around 21 months. \n",
        "\n",
        "However, we cannot infer an absolute relation between these features because loan duration itself depends on loan amount and instalment rate is expressed as a percentage of disposable income and that income could vary for clients given in the dataset. Also, we do not know whether instalment rate is applied monthly or yearly. "
      ]
    },
    {
      "cell_type": "code",
      "metadata": {
        "colab": {
          "base_uri": "https://localhost:8080/",
          "height": 298
        },
        "id": "hNw6-DPhSLSf",
        "outputId": "ede9ccb8-2e29-49db-886c-8c451ca48d89"
      },
      "source": [
        "# checking the relation between instalment rate in 'InRate' and loan amount in 'Cdur' \n",
        "sns.lineplot(x = 'InRate', y = 'Camt', data = data_1)"
      ],
      "execution_count": 105,
      "outputs": [
        {
          "output_type": "execute_result",
          "data": {
            "text/plain": [
              "<matplotlib.axes._subplots.AxesSubplot at 0x7f7deedb5910>"
            ]
          },
          "metadata": {},
          "execution_count": 105
        },
        {
          "output_type": "display_data",
          "data": {
            "image/png": "[encoded data removed]",
            "text/plain": [
              "<Figure size 432x288 with 1 Axes>"
            ]
          },
          "metadata": {
            "needs_background": "light"
          }
        }
      ]
    },
    {
      "cell_type": "markdown",
      "metadata": {
        "id": "Ps7QO9XDSVK1"
      },
      "source": [
        "Interpretation:\n",
        "\n",
        "Above plot shows that loan amount is close to Rs. 43000 and does not change much when the instalment rate is between 1 percent and 2 percent. However, the loan amount varies from Rs. 43000 to Rs. 26000 when the instalment rate is between 2 percent and 4 percent. Again, this plot does not give sufficient information as we had stated earlier that instalment rate is in relation to the disposable income, which is not available in the dataset and can vary for distinct clients."
      ]
    },
    {
      "cell_type": "code",
      "metadata": {
        "colab": {
          "base_uri": "https://localhost:8080/",
          "height": 732
        },
        "id": "J-EPIi_uHRbb",
        "outputId": "f185748d-a9d0-42c7-8603-8e17c123b039"
      },
      "source": [
        "# now, we will check whether the instalment rate is also influenced by the purpose of loans availed by the clients\n",
        "\n",
        "# checking the relation between instalment rate in 'InRate' and loan purpose in 'Cpur' \n",
        "plt.figure(figsize = (12, 12))\n",
        "sns.countplot(y = 'Cpur', hue = 'InRate', data = data_1)"
      ],
      "execution_count": 106,
      "outputs": [
        {
          "output_type": "execute_result",
          "data": {
            "text/plain": [
              "<matplotlib.axes._subplots.AxesSubplot at 0x7f7deed18f90>"
            ]
          },
          "metadata": {},
          "execution_count": 106
        },
        {
          "output_type": "display_data",
          "data": {
            "image/png": "[encoded data removed]",
            "text/plain": [
              "<Figure size 864x864 with 1 Axes>"
            ]
          },
          "metadata": {
            "needs_background": "light"
          }
        }
      ]
    },
    {
      "cell_type": "markdown",
      "metadata": {
        "id": "wjfjECK3JpTP"
      },
      "source": [
        "Interpretation:\n",
        "\n",
        "Above plot shows that for all the type of loans given in the dataset, instalment rate is either 4% or 2% of the client's disposable income in most of the cases. However, we could have been able to interpret more accurate inference if we had details of disposable income in the given dataset. The given datset is found to be incomplete without essential details that are required to classify the likely bad loans more accurately. "
      ]
    },
    {
      "cell_type": "code",
      "metadata": {
        "colab": {
          "base_uri": "https://localhost:8080/"
        },
        "id": "Ar-36b5WLpD3",
        "outputId": "c3f39579-7f67-4d88-87b8-c5d1dce036ba"
      },
      "source": [
        "# after visualizing the representation of features and label separately and checking the relation between them, we will focus back on the \n",
        "# values in the dataset and apply proper processing techniques to make the dataset suitable for classification of bad loans \n",
        "\n",
        "# checking the data types in data_1 dataframe\n",
        "\n",
        "data_1.dtypes"
      ],
      "execution_count": 107,
      "outputs": [
        {
          "output_type": "execute_result",
          "data": {
            "text/plain": [
              "Cbal           object\n",
              "Cdur            int64\n",
              "pctile_dur     object\n",
              "Chist          object\n",
              "Cpur           object\n",
              "Camt            int64\n",
              "pctile_amt     object\n",
              "Sbal           object\n",
              "Edur           object\n",
              "InRate          int64\n",
              "MSG            object\n",
              "Oparties       object\n",
              "Rdur           object\n",
              "Prop           object\n",
              "age             int64\n",
              "inPlans        object\n",
              "Htype          object\n",
              "NumCred         int64\n",
              "JobType        object\n",
              "Ndepend         int64\n",
              "telephone      object\n",
              "foreign        object\n",
              "creditScore    object\n",
              "dtype: object"
            ]
          },
          "metadata": {},
          "execution_count": 107
        }
      ]
    },
    {
      "cell_type": "markdown",
      "metadata": {
        "id": "7hO5r884n1UM"
      },
      "source": [
        "High Cardinality in feature 'Camt':\n",
        "\n",
        "---\n",
        "\n",
        "In the given dataset, 'age', 'Camt' and 'Cdur' are numerical variables and rest are categorical variables as we had observed that the unique values in some of the features are few integral values and these values are ordinal in nature. \n",
        "\n",
        "However, the feature 'Camt' that refers to the loan amount has the problem of high cardinality. Please check the following link that presents a similar problem of a quantitative feature with high cardinality. There are unique values equal to length of feature column. \n",
        "\n",
        "Please check this link: https://scikit-learn.org/stable/auto_examples/inspection/plot_permutation_importance.html?highlight=high%20cardinality. \n",
        "\n",
        "However, loan amount is an important feature because it is relevant for predicting the default likelihood of clients in the actual settings in financial lending institutions. Hence, the feature cannot be dropped from the dataset with respect to this particular case study problem on classification of bad loans. \n"
      ]
    },
    {
      "cell_type": "markdown",
      "metadata": {
        "id": "JJFRvr3ZAOJN"
      },
      "source": [
        "\n",
        "---\n",
        "\n",
        "Choice of Suitable Metric for Evaluating the Classification of Bad Loans:\n",
        "\n",
        "---\n",
        "\n",
        "In this particular case study, the major goal is to enable the lending institution, Cautious plc in making more informed decisions in disbursement of loans based on the insights from the classification model for bad loans. Since there are two categories in the label of given dataset that are required to be classified and the focus of this case study is on classification of bad loans, bad loans will correspond to \"positive class\" and good loans will correspond to \"negative class\".  The basic evaluation of classification model is done first by making a confusion matrix that consists of 4 values, True Positive (TP), False Positive (FP) or Type I error, True Negative (TN), and False Negative (FN) or Type II error. Here, positive class will refer to the category that we are focusing on in this case study i.e.; bad loans and negative class will refer to good loans. The classification model that we choose to suggest to the lending institution should be able to minimize both the false positives and the false negatives in order to have better classification of bad loans. \n",
        "\n",
        "\n",
        "Meaning of attributes in confusion matrix in this classification problem:\n",
        "__________________________________________________________________________\n",
        "True positive: Loans that are actually bad are correctly classified by the model as bad loans.\n",
        "\n",
        "False positive: Loans that are actually good are erroneously classified as bad loans by the model. If more good loans are classified as bad loans by the model and lending institution adopts this model for making decisions about loan disbursements, then the institution would end up losing considerable opportunities for making revenue. \n",
        "\n",
        "True negative: In this case, loans that are actually good are correctly classified by the model as good loans. \n",
        "\n",
        "False Negative: Loans that are actually bad are erroneously classified as good loans by the model. Such cases can also affect the revenue of lending institution because if the model is adopted the institution will disburse loans to clients that will default on the loan payments. \n",
        "\n",
        "Since we have to minimize both false positives and false negatives for better classification of bad loans, it can be achieved by increasing precision and recall respectively. However, the cost of false negatives is greater than the cost of false positives for the lending institution in this case study. Thus, we would prefer classification models with ability to better reduce false negatives to false positives. \n",
        "\n",
        "Precision = TP/(TP + FP) - thus, increase in precision implies decrease in false positives\n",
        "\n",
        "Recall or Sensitivity = TP / (TP + FN) - thus, increase in recall or sensitivity implies decrease in false negatives. \n",
        "\n",
        "However, issues can still arise when we choose precision and recall as the metrics in the classification. The two categories in the label or target variable that are required to be classified are labeled as 0 and 1 (for good loans and bad loans respectively) and the classification algorithm predicts bad loans on the basis of probability that observations are close to 0 or negative cases and probability that observations are close to 1 or positive cases. Thus, the analyst has to select a probability value as classification threshold for classifying positive and negative cases. This approach can result in two kinds of discrepancies that influence the better evaluation of classification model for bad loans. One kind of discrepancy is higher precision and lower recall values and another kind of discrepancy is lower precision and higher recall values. Any one of these discrepancies if present, would not allow us in achieving the objectives of our analysis to build a model with higher recall and higher precision values for better classification of bad loans. \n",
        "\n",
        "F1 Score, a metric that is harmonic average of Precision and Recall is advised to be used in cases in which the balance between the values of Precision and Recall is required. Please check this link for details - https://www.analyticsvidhya.com/blog/2020/10/how-to-choose-evaluation-metrics-for-classification-model/ . Hence, we will use F1 Score as metric for evaluating the classification of bad loans. In addition, ROC/AUC Curve can also enable us in comparing the models each built by using a distinct classification threshold. But, F1 score can allow for better balance to achieve high precision and high recall values in the given case study problem. \n"
      ]
    },
    {
      "cell_type": "markdown",
      "metadata": {
        "id": "hlWXeOEalQsX"
      },
      "source": [
        "---\n",
        "\n",
        "Baseline Classification of Bad Loans using Repeated Stratified K-fold Cross Validation:\n",
        "\n",
        "---\n",
        "\n",
        "In the given dataset, it is claimed that 70 percent of the loans are likely good loans and rest of the 30 percent loans are likely bad loans. Using K-fold cross validation algorithm would not be appropriate as each of the folds or K values to which the distinct portions from the complete dataset are allocated may not get sufficient number of examples or observations from both the classes or loan categories in the target variable. Hence, Repeated Stratified K-fold Cross Validation algorithm is more appropriate for classification of bad loans in the given dataset. "
      ]
    },
    {
      "cell_type": "code",
      "metadata": {
        "id": "N5u0uqr4YnR1"
      },
      "source": [
        "# before carrying out Repeated Stratified K-fold Cross Validation, we will prepare the dataset by first mapping the categorical features \n",
        "# by using One-Hot Encoder algorithm for classification of bad loans. \n",
        "# This approach is advised for implementation because it allows the classification model to learn different weights \n",
        "# for each unique value in a categorical feature without being misled by manual encoding of categorical features by ordered numeric values \n"
      ],
      "execution_count": 108,
      "outputs": []
    },
    {
      "cell_type": "code",
      "metadata": {
        "colab": {
          "base_uri": "https://localhost:8080/"
        },
        "id": "_oFYq9SYauRB",
        "outputId": "a18dcc8f-8d0d-4981-bee9-d15868b19a64"
      },
      "source": [
        "# checking the data types of features and label in dataframe\n",
        "\n",
        "data.dtypes"
      ],
      "execution_count": 109,
      "outputs": [
        {
          "output_type": "execute_result",
          "data": {
            "text/plain": [
              "Cbal           object\n",
              "Cdur            int64\n",
              "Chist          object\n",
              "Cpur           object\n",
              "Camt            int64\n",
              "Sbal           object\n",
              "Edur           object\n",
              "InRate          int64\n",
              "MSG            object\n",
              "Oparties       object\n",
              "Rdur           object\n",
              "Prop           object\n",
              "age             int64\n",
              "inPlans        object\n",
              "Htype          object\n",
              "NumCred         int64\n",
              "JobType        object\n",
              "Ndepend         int64\n",
              "telephone      object\n",
              "foreign        object\n",
              "creditScore    object\n",
              "dtype: object"
            ]
          },
          "metadata": {},
          "execution_count": 109
        }
      ]
    },
    {
      "cell_type": "markdown",
      "metadata": {
        "id": "WsDZqlDudPEq"
      },
      "source": [
        "One-Hot encoding can be carried out on features and label that are of 'object' data types. Also, quantitative variables have different scales and hence, these variables are required to be scaled. "
      ]
    },
    {
      "cell_type": "code",
      "metadata": {
        "id": "A43fmUQShliQ"
      },
      "source": [
        "# selecting the variables that require one-hot encoding in the given dataset and in case of target categorical variable\n",
        "# bad loans will be encoded as 1 and rest of the loans will be encoded as 0 \n",
        "\n",
        "encode_var = ['Cbal', 'Chist', 'Cpur', 'Sbal', 'Edur', 'MSG', 'Oparties', 'Rdur', 'Prop', 'inPlans', 'Htype', 'JobType', 'telephone', 'foreign']"
      ],
      "execution_count": 110,
      "outputs": []
    },
    {
      "cell_type": "code",
      "metadata": {
        "id": "m5oG0D57kUn8"
      },
      "source": [
        "# getting numeric features as a list \n",
        "\n",
        "num_var = ['Cdur', 'Camt', 'InRate', 'age', 'NumCred', 'Ndepend']"
      ],
      "execution_count": 111,
      "outputs": []
    },
    {
      "cell_type": "code",
      "metadata": {
        "id": "flSXJubv1qrr"
      },
      "source": [
        "# first, we will make a copy of the original dataframe and then separate the dataset into features and label\n",
        "\n",
        "iit_var = data.copy(deep = True)"
      ],
      "execution_count": 112,
      "outputs": []
    },
    {
      "cell_type": "code",
      "metadata": {
        "id": "s3yU_BH327CA"
      },
      "source": [
        "# separating the features and label in the dataset\n",
        "\n",
        "feat_var, tar_var = iit_var.drop(['creditScore'], axis = 1), iit_var['creditScore']"
      ],
      "execution_count": 113,
      "outputs": []
    },
    {
      "cell_type": "code",
      "metadata": {
        "id": "XMpTfYzGDFDQ"
      },
      "source": [
        "# importing necessary packages for one-hot encoding and column transformation\n",
        "\n",
        "from sklearn.preprocessing import OneHotEncoder\n",
        "\n",
        "from sklearn.preprocessing import StandardScaler \n",
        "\n",
        "from sklearn.compose import ColumnTransformer\n",
        "\n",
        "from sklearn.pipeline import Pipeline"
      ],
      "execution_count": 114,
      "outputs": []
    },
    {
      "cell_type": "code",
      "metadata": {
        "id": "PvjUaDfeDwa6"
      },
      "source": [
        "# transforming the categorical and numeric features in feat_var dataframe\n",
        "\n",
        "num_transformer = Pipeline(steps = [('scaler', StandardScaler())])\n",
        "\n",
        "cat_transformer = Pipeline(steps = [('encoder', OneHotEncoder(handle_unknown= 'ignore'))])\n"
      ],
      "execution_count": 115,
      "outputs": []
    },
    {
      "cell_type": "code",
      "metadata": {
        "id": "gbS9z1hdpKg1"
      },
      "source": [
        "# now, applying the numerical and categorical transformers to the ColumnTransformer method \n",
        "\n",
        "columnTransformer = ColumnTransformer(transformers = [('num', num_transformer, num_var), ('cat', cat_transformer, encode_var)])"
      ],
      "execution_count": 116,
      "outputs": []
    },
    {
      "cell_type": "code",
      "metadata": {
        "id": "8H3oYYU7t90v"
      },
      "source": [
        "# fitting the column transformers to feat_var that contains features of the dataset given in this case study\n",
        "\n",
        "feat_var = columnTransformer.fit_transform(feat_var)"
      ],
      "execution_count": 117,
      "outputs": []
    },
    {
      "cell_type": "code",
      "metadata": {
        "colab": {
          "base_uri": "https://localhost:8080/"
        },
        "id": "h1s3_hoQ0wA9",
        "outputId": "f97ae70a-ea48-407d-a335-a28f62055380"
      },
      "source": [
        "# now, we will encode the target variable, 'creditScore' with 0 and 1 values \n",
        "\n",
        "tar_list = []\n",
        "for i in tar_var.index:\n",
        "  if tar_var[i] == 'bad':\n",
        "    tar_list.append(1)\n",
        "  if tar_var[i] == 'good':\n",
        "    tar_list.append(0)\n"
      ],
      "execution_count": 118,
      "outputs": [
        {
          "output_type": "execute_result",
          "data": {
            "text/plain": [
              "[0,\n",
              " 0,\n",
              " 1,\n",
              " 1,\n",
              " 0,\n",
              " 0,\n",
              " 0,\n",
              " 0,\n",
              " 1,\n",
              " 0,\n",
              " 0,\n",
              " 0,\n",
              " 0,\n",
              " 0,\n",
              " 1,\n",
              " 0,\n",
              " 1,\n",
              " 0,\n",
              " 0,\n",
              " 0,\n",
              " 1,\n",
              " 0,\n",
              " 0,\n",
              " 0,\n",
              " 0,\n",
              " 0,\n",
              " 0,\n",
              " 1,\n",
              " 0,\n",
              " 1,\n",
              " 0,\n",
              " 0,\n",
              " 1,\n",
              " 0,\n",
              " 0,\n",
              " 1,\n",
              " 0,\n",
              " 0,\n",
              " 0,\n",
              " 0,\n",
              " 0,\n",
              " 0,\n",
              " 0,\n",
              " 0,\n",
              " 0,\n",
              " 1,\n",
              " 1,\n",
              " 0,\n",
              " 0,\n",
              " 0,\n",
              " 0,\n",
              " 0,\n",
              " 0,\n",
              " 1,\n",
              " 0,\n",
              " 0,\n",
              " 1,\n",
              " 0,\n",
              " 1,\n",
              " 0,\n",
              " 1,\n",
              " 0,\n",
              " 0,\n",
              " 0,\n",
              " 1,\n",
              " 0,\n",
              " 0,\n",
              " 1,\n",
              " 0,\n",
              " 1,\n",
              " 0,\n",
              " 1,\n",
              " 0,\n",
              " 0,\n",
              " 0,\n",
              " 0,\n",
              " 0,\n",
              " 1,\n",
              " 0,\n",
              " 0,\n",
              " 0,\n",
              " 0,\n",
              " 0,\n",
              " 1,\n",
              " 0,\n",
              " 0,\n",
              " 0,\n",
              " 0,\n",
              " 0,\n",
              " 0,\n",
              " 0,\n",
              " 0,\n",
              " 0,\n",
              " 0,\n",
              " 0,\n",
              " 1,\n",
              " 0,\n",
              " 0,\n",
              " 0,\n",
              " 0,\n",
              " 0,\n",
              " 0,\n",
              " 0,\n",
              " 0,\n",
              " 0,\n",
              " 0,\n",
              " 1,\n",
              " 0,\n",
              " 0,\n",
              " 1,\n",
              " 1,\n",
              " 0,\n",
              " 1,\n",
              " 0,\n",
              " 1,\n",
              " 1,\n",
              " 0,\n",
              " 0,\n",
              " 0,\n",
              " 0,\n",
              " 1,\n",
              " 1,\n",
              " 1,\n",
              " 0,\n",
              " 1,\n",
              " 0,\n",
              " 1,\n",
              " 0,\n",
              " 1,\n",
              " 0,\n",
              " 1,\n",
              " 1,\n",
              " 1,\n",
              " 0,\n",
              " 1,\n",
              " 1,\n",
              " 0,\n",
              " 1,\n",
              " 0,\n",
              " 1,\n",
              " 0,\n",
              " 0,\n",
              " 0,\n",
              " 1,\n",
              " 0,\n",
              " 0,\n",
              " 0,\n",
              " 0,\n",
              " 0,\n",
              " 0,\n",
              " 0,\n",
              " 0,\n",
              " 1,\n",
              " 1,\n",
              " 0,\n",
              " 0,\n",
              " 0,\n",
              " 0,\n",
              " 0,\n",
              " 0,\n",
              " 0,\n",
              " 0,\n",
              " 0,\n",
              " 0,\n",
              " 0,\n",
              " 0,\n",
              " 1,\n",
              " 1,\n",
              " 1,\n",
              " 0,\n",
              " 1,\n",
              " 0,\n",
              " 0,\n",
              " 0,\n",
              " 0,\n",
              " 1,\n",
              " 1,\n",
              " 1,\n",
              " 0,\n",
              " 0,\n",
              " 1,\n",
              " 0,\n",
              " 1,\n",
              " 0,\n",
              " 0,\n",
              " 0,\n",
              " 0,\n",
              " 0,\n",
              " 0,\n",
              " 1,\n",
              " 0,\n",
              " 0,\n",
              " 1,\n",
              " 0,\n",
              " 0,\n",
              " 0,\n",
              " 0,\n",
              " 1,\n",
              " 0,\n",
              " 0,\n",
              " 0,\n",
              " 0,\n",
              " 0,\n",
              " 0,\n",
              " 0,\n",
              " 1,\n",
              " 0,\n",
              " 0,\n",
              " 1,\n",
              " 0,\n",
              " 0,\n",
              " 0,\n",
              " 0,\n",
              " 1,\n",
              " 1,\n",
              " 0,\n",
              " 0,\n",
              " 0,\n",
              " 1,\n",
              " 0,\n",
              " 0,\n",
              " 0,\n",
              " 0,\n",
              " 0,\n",
              " 0,\n",
              " 0,\n",
              " 0,\n",
              " 0,\n",
              " 0,\n",
              " 1,\n",
              " 0,\n",
              " 1,\n",
              " 0,\n",
              " 0,\n",
              " 0,\n",
              " 1,\n",
              " 0,\n",
              " 0,\n",
              " 0,\n",
              " 0,\n",
              " 0,\n",
              " 1,\n",
              " 1,\n",
              " 0,\n",
              " 1,\n",
              " 0,\n",
              " 0,\n",
              " 1,\n",
              " 1,\n",
              " 0,\n",
              " 0,\n",
              " 0,\n",
              " 0,\n",
              " 1,\n",
              " 0,\n",
              " 1,\n",
              " 0,\n",
              " 0,\n",
              " 0,\n",
              " 0,\n",
              " 1,\n",
              " 1,\n",
              " 0,\n",
              " 0,\n",
              " 0,\n",
              " 0,\n",
              " 0,\n",
              " 0,\n",
              " 0,\n",
              " 0,\n",
              " 0,\n",
              " 1,\n",
              " 1,\n",
              " 1,\n",
              " 1,\n",
              " 1,\n",
              " 0,\n",
              " 1,\n",
              " 0,\n",
              " 0,\n",
              " 0,\n",
              " 0,\n",
              " 0,\n",
              " 0,\n",
              " 0,\n",
              " 0,\n",
              " 0,\n",
              " 0,\n",
              " 0,\n",
              " 1,\n",
              " 0,\n",
              " 1,\n",
              " 0,\n",
              " 1,\n",
              " 0,\n",
              " 1,\n",
              " 0,\n",
              " 1,\n",
              " 0,\n",
              " 1,\n",
              " 0,\n",
              " 0,\n",
              " 0,\n",
              " 0,\n",
              " 1,\n",
              " 0,\n",
              " 0,\n",
              " 0,\n",
              " 1,\n",
              " 0,\n",
              " 0,\n",
              " 0,\n",
              " 0,\n",
              " 0,\n",
              " 1,\n",
              " 1,\n",
              " 0,\n",
              " 0,\n",
              " 1,\n",
              " 0,\n",
              " 0,\n",
              " 1,\n",
              " 0,\n",
              " 0,\n",
              " 0,\n",
              " 0,\n",
              " 0,\n",
              " 0,\n",
              " 0,\n",
              " 0,\n",
              " 0,\n",
              " 0,\n",
              " 0,\n",
              " 0,\n",
              " 0,\n",
              " 0,\n",
              " 0,\n",
              " 0,\n",
              " 1,\n",
              " 0,\n",
              " 0,\n",
              " 0,\n",
              " 1,\n",
              " 0,\n",
              " 0,\n",
              " 1,\n",
              " 0,\n",
              " 0,\n",
              " 0,\n",
              " 1,\n",
              " 0,\n",
              " 0,\n",
              " 1,\n",
              " 0,\n",
              " 1,\n",
              " 0,\n",
              " 1,\n",
              " 0,\n",
              " 0,\n",
              " 1,\n",
              " 0,\n",
              " 0,\n",
              " 0,\n",
              " 0,\n",
              " 1,\n",
              " 0,\n",
              " 0,\n",
              " 0,\n",
              " 0,\n",
              " 1,\n",
              " 0,\n",
              " 1,\n",
              " 0,\n",
              " 0,\n",
              " 0,\n",
              " 1,\n",
              " 0,\n",
              " 0,\n",
              " 0,\n",
              " 1,\n",
              " 0,\n",
              " 0,\n",
              " 0,\n",
              " 1,\n",
              " 1,\n",
              " 0,\n",
              " 1,\n",
              " 0,\n",
              " 0,\n",
              " 1,\n",
              " 0,\n",
              " 0,\n",
              " 0,\n",
              " 0,\n",
              " 1,\n",
              " 0,\n",
              " 0,\n",
              " 1,\n",
              " 0,\n",
              " 0,\n",
              " 0,\n",
              " 0,\n",
              " 0,\n",
              " 0,\n",
              " 0,\n",
              " 0,\n",
              " 1,\n",
              " 0,\n",
              " 0,\n",
              " 0,\n",
              " 1,\n",
              " 1,\n",
              " 1,\n",
              " 0,\n",
              " 1,\n",
              " 1,\n",
              " 0,\n",
              " 0,\n",
              " 0,\n",
              " 0,\n",
              " 0,\n",
              " 0,\n",
              " 0,\n",
              " 0,\n",
              " 0,\n",
              " 1,\n",
              " 0,\n",
              " 0,\n",
              " 0,\n",
              " 0,\n",
              " 0,\n",
              " 1,\n",
              " 0,\n",
              " 0,\n",
              " 0,\n",
              " 1,\n",
              " 1,\n",
              " 0,\n",
              " 0,\n",
              " 0,\n",
              " 1,\n",
              " 0,\n",
              " 0,\n",
              " 1,\n",
              " 1,\n",
              " 1,\n",
              " 0,\n",
              " 1,\n",
              " 0,\n",
              " 0,\n",
              " 1,\n",
              " 0,\n",
              " 0,\n",
              " 0,\n",
              " 0,\n",
              " 0,\n",
              " 0,\n",
              " 1,\n",
              " 0,\n",
              " 0,\n",
              " 0,\n",
              " 1,\n",
              " 1,\n",
              " 0,\n",
              " 0,\n",
              " 0,\n",
              " 0,\n",
              " 0,\n",
              " 1,\n",
              " 0,\n",
              " 0,\n",
              " 1,\n",
              " 0,\n",
              " 0,\n",
              " 0,\n",
              " 1,\n",
              " 0,\n",
              " 0,\n",
              " 1,\n",
              " 0,\n",
              " 1,\n",
              " 0,\n",
              " 1,\n",
              " 1,\n",
              " 0,\n",
              " 1,\n",
              " 0,\n",
              " 0,\n",
              " 1,\n",
              " 0,\n",
              " 0,\n",
              " 0,\n",
              " 1,\n",
              " 0,\n",
              " 0,\n",
              " 1,\n",
              " 1,\n",
              " 1,\n",
              " 1,\n",
              " 1,\n",
              " 0,\n",
              " 1,\n",
              " 0,\n",
              " 1,\n",
              " 0,\n",
              " 0,\n",
              " 1,\n",
              " 0,\n",
              " 0,\n",
              " 1,\n",
              " 1,\n",
              " 0,\n",
              " 0,\n",
              " 0,\n",
              " 0,\n",
              " 0,\n",
              " 0,\n",
              " 0,\n",
              " 1,\n",
              " 0,\n",
              " 1,\n",
              " 0,\n",
              " 0,\n",
              " 1,\n",
              " 0,\n",
              " 1,\n",
              " 0,\n",
              " 0,\n",
              " 1,\n",
              " 1,\n",
              " 0,\n",
              " 0,\n",
              " 0,\n",
              " 1,\n",
              " 1,\n",
              " 1,\n",
              " 1,\n",
              " 1,\n",
              " 1,\n",
              " 0,\n",
              " 0,\n",
              " 1,\n",
              " 1,\n",
              " 1,\n",
              " 0,\n",
              " 0,\n",
              " 0,\n",
              " 1,\n",
              " 0,\n",
              " 0,\n",
              " 1,\n",
              " 1,\n",
              " 0,\n",
              " 0,\n",
              " 1,\n",
              " 0,\n",
              " 0,\n",
              " 0,\n",
              " 1,\n",
              " 0,\n",
              " 0,\n",
              " 1,\n",
              " 1,\n",
              " 0,\n",
              " 1,\n",
              " 0,\n",
              " 0,\n",
              " 1,\n",
              " 0,\n",
              " 0,\n",
              " 0,\n",
              " 1,\n",
              " 0,\n",
              " 1,\n",
              " 1,\n",
              " 0,\n",
              " 0,\n",
              " 0,\n",
              " 0,\n",
              " 1,\n",
              " 1,\n",
              " 0,\n",
              " 1,\n",
              " 0,\n",
              " 0,\n",
              " 1,\n",
              " 0,\n",
              " 1,\n",
              " 1,\n",
              " 1,\n",
              " 0,\n",
              " 1,\n",
              " 1,\n",
              " 1,\n",
              " 0,\n",
              " 0,\n",
              " 1,\n",
              " 0,\n",
              " 0,\n",
              " 0,\n",
              " 0,\n",
              " 1,\n",
              " 0,\n",
              " 0,\n",
              " 0,\n",
              " 0,\n",
              " 0,\n",
              " 0,\n",
              " 1,\n",
              " 0,\n",
              " 0,\n",
              " 0,\n",
              " 0,\n",
              " 0,\n",
              " 1,\n",
              " 0,\n",
              " 0,\n",
              " 1,\n",
              " 0,\n",
              " 0,\n",
              " 0,\n",
              " 0,\n",
              " 0,\n",
              " 0,\n",
              " 0,\n",
              " 0,\n",
              " 0,\n",
              " 0,\n",
              " 0,\n",
              " 0,\n",
              " 0,\n",
              " 0,\n",
              " 0,\n",
              " 0,\n",
              " 0,\n",
              " 0,\n",
              " 0,\n",
              " 0,\n",
              " 0,\n",
              " 0,\n",
              " 1,\n",
              " 1,\n",
              " 0,\n",
              " 0,\n",
              " 0,\n",
              " 0,\n",
              " 1,\n",
              " 1,\n",
              " 0,\n",
              " 0,\n",
              " 0,\n",
              " 1,\n",
              " 0,\n",
              " 0,\n",
              " 1,\n",
              " 0,\n",
              " 0,\n",
              " 0,\n",
              " 0,\n",
              " 0,\n",
              " 1,\n",
              " 1,\n",
              " 1,\n",
              " 0,\n",
              " 1,\n",
              " 0,\n",
              " 0,\n",
              " 1,\n",
              " 1,\n",
              " 0,\n",
              " 0,\n",
              " 1,\n",
              " 0,\n",
              " 0,\n",
              " 0,\n",
              " 0,\n",
              " 1,\n",
              " 0,\n",
              " 0,\n",
              " 1,\n",
              " 0,\n",
              " 0,\n",
              " 0,\n",
              " 0,\n",
              " 0,\n",
              " 0,\n",
              " 0,\n",
              " 1,\n",
              " 0,\n",
              " 0,\n",
              " 0,\n",
              " 1,\n",
              " 0,\n",
              " 0,\n",
              " 1,\n",
              " 1,\n",
              " 0,\n",
              " 1,\n",
              " 0,\n",
              " 1,\n",
              " 0,\n",
              " 1,\n",
              " 0,\n",
              " 1,\n",
              " 0,\n",
              " 0,\n",
              " 1,\n",
              " 0,\n",
              " 0,\n",
              " 0,\n",
              " 0,\n",
              " 1,\n",
              " 0,\n",
              " 0,\n",
              " 0,\n",
              " 1,\n",
              " 0,\n",
              " 0,\n",
              " 0,\n",
              " 0,\n",
              " 1,\n",
              " 0,\n",
              " 0,\n",
              " 1,\n",
              " 0,\n",
              " 0,\n",
              " 0,\n",
              " 0,\n",
              " 1,\n",
              " 1,\n",
              " 1,\n",
              " 0,\n",
              " 0,\n",
              " 0,\n",
              " 0,\n",
              " 0,\n",
              " 1,\n",
              " 0,\n",
              " 0,\n",
              " 0,\n",
              " 0,\n",
              " 0,\n",
              " 0,\n",
              " 0,\n",
              " 0,\n",
              " 1,\n",
              " 0,\n",
              " 0,\n",
              " 0,\n",
              " 1,\n",
              " 0,\n",
              " 0,\n",
              " 1,\n",
              " 1,\n",
              " 1,\n",
              " 0,\n",
              " 0,\n",
              " 0,\n",
              " 0,\n",
              " 1,\n",
              " 0,\n",
              " 0,\n",
              " 1,\n",
              " 0,\n",
              " 0,\n",
              " 0,\n",
              " 1,\n",
              " 1,\n",
              " 1,\n",
              " 0,\n",
              " 0,\n",
              " 1,\n",
              " 1,\n",
              " 0,\n",
              " 1,\n",
              " 1,\n",
              " 0,\n",
              " 0,\n",
              " 0,\n",
              " 0,\n",
              " 1,\n",
              " 0,\n",
              " 1,\n",
              " 0,\n",
              " 0,\n",
              " 0,\n",
              " 1,\n",
              " 0,\n",
              " 0,\n",
              " 1,\n",
              " 1,\n",
              " 0,\n",
              " 0,\n",
              " 1,\n",
              " 0,\n",
              " 0,\n",
              " 0,\n",
              " 0,\n",
              " 1,\n",
              " 0,\n",
              " 0,\n",
              " 1,\n",
              " 1,\n",
              " 0,\n",
              " 1,\n",
              " 0,\n",
              " 0,\n",
              " 0,\n",
              " 0,\n",
              " 0,\n",
              " 0,\n",
              " 0,\n",
              " 0,\n",
              " 0,\n",
              " 0,\n",
              " 0,\n",
              " 0,\n",
              " 0,\n",
              " 1,\n",
              " 0,\n",
              " 0,\n",
              " 0,\n",
              " 0,\n",
              " 0,\n",
              " 1,\n",
              " 1,\n",
              " 0,\n",
              " 1,\n",
              " 0,\n",
              " 0,\n",
              " 0,\n",
              " 0,\n",
              " 0,\n",
              " 0,\n",
              " 0,\n",
              " 0,\n",
              " 0,\n",
              " 0,\n",
              " 0,\n",
              " 1,\n",
              " 1,\n",
              " 0,\n",
              " 0,\n",
              " 0,\n",
              " 0,\n",
              " 0,\n",
              " 0,\n",
              " 0,\n",
              " 0,\n",
              " 0,\n",
              " 0,\n",
              " 1,\n",
              " 0,\n",
              " 0,\n",
              " 1,\n",
              " 1,\n",
              " 0,\n",
              " 1,\n",
              " 1,\n",
              " 1,\n",
              " 0,\n",
              " 0,\n",
              " 1,\n",
              " 0,\n",
              " 1,\n",
              " 1,\n",
              " 0,\n",
              " 1,\n",
              " 0,\n",
              " 0,\n",
              " 0,\n",
              " 1,\n",
              " 0,\n",
              " 0,\n",
              " 0,\n",
              " 1,\n",
              " 1,\n",
              " 0,\n",
              " 1,\n",
              " 0,\n",
              " 0,\n",
              " 0,\n",
              " 0,\n",
              " 0,\n",
              " 0,\n",
              " 0,\n",
              " 1,\n",
              " 0,\n",
              " 1,\n",
              " 1,\n",
              " 0,\n",
              " 1,\n",
              " 1,\n",
              " 1,\n",
              " 0,\n",
              " 0,\n",
              " 0,\n",
              " 0,\n",
              " 1,\n",
              " 0,\n",
              " 0,\n",
              " 0,\n",
              " 0,\n",
              " 1,\n",
              " 0,\n",
              " 0,\n",
              " 1,\n",
              " 0,\n",
              " 0,\n",
              " 0,\n",
              " 0,\n",
              " 0,\n",
              " 1,\n",
              " 1,\n",
              " 0,\n",
              " 0,\n",
              " 0,\n",
              " 0,\n",
              " 1,\n",
              " 1,\n",
              " 1,\n",
              " 1,\n",
              " 0,\n",
              " 1,\n",
              " 0,\n",
              " 0,\n",
              " 0,\n",
              " 0,\n",
              " 0,\n",
              " 0,\n",
              " 0,\n",
              " 0,\n",
              " 0,\n",
              " 0,\n",
              " 0,\n",
              " 0,\n",
              " 0,\n",
              " 0,\n",
              " 1,\n",
              " 0,\n",
              " 0,\n",
              " 1,\n",
              " 0,\n",
              " 0,\n",
              " 1,\n",
              " 0,\n",
              " 0,\n",
              " 0,\n",
              " 0,\n",
              " 1,\n",
              " 1,\n",
              " 1,\n",
              " 0,\n",
              " 1,\n",
              " 0,\n",
              " 1,\n",
              " 0,\n",
              " 0,\n",
              " 1,\n",
              " 0,\n",
              " 0,\n",
              " 0,\n",
              " 0,\n",
              " 0,\n",
              " 0,\n",
              " 0,\n",
              " 0,\n",
              " 0,\n",
              " 0,\n",
              " 1,\n",
              " 0,\n",
              " 0,\n",
              " 0,\n",
              " 0,\n",
              " 0,\n",
              " 1,\n",
              " 0,\n",
              " 1,\n",
              " 0,\n",
              " 0,\n",
              " 0,\n",
              " 0,\n",
              " 0,\n",
              " 0,\n",
              " 1,\n",
              " 0,\n",
              " 0,\n",
              " 0,\n",
              " 0,\n",
              " 0,\n",
              " 0,\n",
              " 0,\n",
              " 0,\n",
              " 0,\n",
              " 1,\n",
              " 0,\n",
              " 1,\n",
              " 0,\n",
              " 0,\n",
              " 1]"
            ]
          },
          "metadata": {},
          "execution_count": 118
        }
      ]
    },
    {
      "cell_type": "code",
      "metadata": {
        "id": "HlmW8Lhz4L9p"
      },
      "source": [
        "# converting tar_list into series and changing the values in tar_var \n",
        "tar_ser = pd.Series(tar_list)\n",
        "\n",
        "tar_var = tar_ser"
      ],
      "execution_count": 119,
      "outputs": []
    },
    {
      "cell_type": "code",
      "metadata": {
        "colab": {
          "base_uri": "https://localhost:8080/"
        },
        "id": "n3HboI0t5myg",
        "outputId": "d0a05ea7-1046-4c31-ceec-3991749060dc"
      },
      "source": [
        "# checking the observations in tar_var\n",
        "\n",
        "tar_var.head()"
      ],
      "execution_count": 120,
      "outputs": [
        {
          "output_type": "execute_result",
          "data": {
            "text/plain": [
              "0    0\n",
              "1    0\n",
              "2    1\n",
              "3    1\n",
              "4    0\n",
              "dtype: int64"
            ]
          },
          "metadata": {},
          "execution_count": 120
        }
      ]
    },
    {
      "cell_type": "code",
      "metadata": {
        "id": "uSqfGseo56Ad"
      },
      "source": [
        "# importing the packages for cross-validation and Repeated Stratified K-fold algorithm and classification model evaluation \n",
        "\n",
        "from sklearn.model_selection import cross_val_score\n",
        "from sklearn.model_selection import RepeatedStratifiedKFold\n",
        "\n",
        "from sklearn.metrics import make_scorer\n",
        "\n",
        "# importing metric F1 score to have better balance balance between precision and recall for better classification of bad loans\n",
        "from sklearn.metrics import f1_score\n",
        "\n",
        "# defining a function for evaluating the classification model for bad loans built using Repeated Stratified K-fold algorithm \n",
        "\n",
        "def evaluate_model(feat_var, tar_var, model):\n",
        "  cross_val = RepeatedStratifiedKFold(n_splits = 10, n_repeats = 3, random_state = 1)\n",
        "  # defining the metric for classification model. we stated earlier that F1 score will be more appropriate in this case study for better classification \n",
        "  # of bad loans\n",
        "  metric = make_scorer(f1_score)\n",
        "  scores = cross_val_score(model, feat_var, tar_var, scoring = metric, cv = cross_val, n_jobs = -1)\n",
        "  return scores\n",
        "\n",
        "# in the given case study problem, we will first create a model that classifies bad loans that have less number of examples in the dataset\n",
        "# to establish a greater recall score, which is our major objective for this analysis, and baseline precision score in which we will set the value of \n",
        "# 'constant' argument as 1, which refers to the category of bad loans. \n",
        "\n",
        "# importing necessary packages\n",
        "from sklearn.dummy import DummyClassifier\n"
      ],
      "execution_count": 121,
      "outputs": []
    },
    {
      "cell_type": "code",
      "metadata": {
        "id": "i_0Q8n3YLE2t"
      },
      "source": [
        "# Using Repeated Stratified K-fold algorithm for building the model an then using the metric 'F1 score' for evaluation is an approach \n",
        "# to observe the improvements in the classification performance \n",
        "\n",
        "# defining the model\n",
        "model = DummyClassifier(strategy='constant', constant=1)\n",
        "\n",
        "# evaluating the model \n",
        "scores = evaluate_model(feat_var, tar_var, model)"
      ],
      "execution_count": 122,
      "outputs": []
    },
    {
      "cell_type": "code",
      "metadata": {
        "colab": {
          "base_uri": "https://localhost:8080/"
        },
        "id": "kl_iH5VoNy6v",
        "outputId": "2485acc5-6fc1-4309-dbe9-c72804071dd0"
      },
      "source": [
        "# checking the performance of the classification model for bad loans\n",
        "\n",
        "print('Mean F1: %.3f (%.3f)' % (np.mean(scores), np.std(scores)))"
      ],
      "execution_count": 123,
      "outputs": [
        {
          "output_type": "stream",
          "name": "stdout",
          "text": [
            "Mean F1: 0.462 (0.000)\n"
          ]
        }
      ]
    },
    {
      "cell_type": "markdown",
      "metadata": {
        "id": "t3gqTSiXRyBr"
      },
      "source": [
        "The output of above code expression gives us the baseline performance for classification of bad loans. If later models give a performance greater than 0.462, then they are an improvement over the baseline classification model. However, if their performance in terms of F1 score is less than 0.462, then it does not suggest an improvement. "
      ]
    },
    {
      "cell_type": "code",
      "metadata": {
        "id": "y42SR_m3DuoU"
      },
      "source": [
        "# we can also evaluate the classification model by focusing more on recall/sensitivity than on precision as higher recall or sensitivity values \n",
        "# means that the false negatives have decreased and that suggests the lending institution won't offer loans to clients, which are likely to be defaulters \n",
        "# but are incorrectly classified as likely non-defaulters. In order to achieve this aim, the metric, F-beta metric with value of beta as 2 will be used. \n",
        "\n",
        "from sklearn.metrics import fbeta_score\n",
        "\n",
        "# defining a function for fbeta_score \n",
        "\n",
        "def f2(y_true, y_pred):\n",
        "\treturn fbeta_score(y_true, y_pred, beta=2)\n",
        " \n",
        "# defining another function for evaluating the classification model \n",
        "def evaluate_model_1(feat_var, tar_var, model):\n",
        "  cross_val = RepeatedStratifiedKFold(n_splits = 10, n_repeats = 3, random_state = 1)\n",
        "  # defining the metric for classification model. we stated earlier that F1 score will be more appropriate in this case study for better classification \n",
        "  # of bad loans\n",
        "  metric = make_scorer(f2)\n",
        "  scores_val = cross_val_score(model, feat_var, tar_var, scoring = metric, cv = cross_val, n_jobs = -1)\n",
        "  return scores_val\n"
      ],
      "execution_count": 124,
      "outputs": []
    },
    {
      "cell_type": "code",
      "metadata": {
        "id": "5THXFyVIJSET"
      },
      "source": [
        "# defining the model\n",
        "model = DummyClassifier(strategy='constant', constant=1)\n",
        "\n",
        "# evaluating the model \n",
        "scores_val = evaluate_model_1(feat_var, tar_var, model)"
      ],
      "execution_count": 125,
      "outputs": []
    },
    {
      "cell_type": "code",
      "metadata": {
        "colab": {
          "base_uri": "https://localhost:8080/"
        },
        "id": "MRKegIh4JhHZ",
        "outputId": "ad5c35b1-b114-4660-e2ed-040cf153b8e5"
      },
      "source": [
        "# checking the performance of the classification model for bad loans\n",
        "\n",
        "print('Mean F2: %.3f (%.3f)' % (np.mean(scores_val), np.std(scores_val)))"
      ],
      "execution_count": 126,
      "outputs": [
        {
          "output_type": "stream",
          "name": "stdout",
          "text": [
            "Mean F2: 0.682 (0.000)\n"
          ]
        }
      ]
    },
    {
      "cell_type": "markdown",
      "metadata": {
        "id": "RvCZiTYPJvX1"
      },
      "source": [
        "Interpretation:\n",
        "\n",
        "The output of above code expression gives F2 score as 0.682, which is better than earlier F1 score of 0.462. This can be becuase there is more emphasis on minimizing false negatives that could inform the decision making at the lending institution to avoid offering loans to likely defaulters, who are incorrectly classified as good. "
      ]
    },
    {
      "cell_type": "code",
      "metadata": {
        "id": "qwcVRWmhT8mM"
      },
      "source": [
        "# now, we cannot treat high cardinality values in 'Camt' as it is numerical data and 'Camt' is an important feature with respect to this case study problem.\n",
        "# Hence, this feature cannot be dropped from the dataset. However, we can remove rows from the dataset that have contradictory information such as that earlier \n",
        "# found in 'Edur' and 'JobType' to build a classification model again for bad loans\n",
        "# However, we also stated earlier that use of the given dataset to build a classification model will not find \n",
        "# significant business applications in lending institution as the dataset lacks important features,details and has errors such as contradictory information\n",
        "\n",
        "# selecting the rows in the dataset with contradictory values in 'Edur' and 'JobType' and removing them\n",
        "sel_rows = iit_var.loc[(iit_var['Edur'].str.startswith('not')), :]\n",
        "\n"
      ],
      "execution_count": 127,
      "outputs": []
    },
    {
      "cell_type": "markdown",
      "metadata": {
        "id": "P2kl2-JMrkU3"
      },
      "source": [
        "Checking the contradictory information in sel_rows by checking the counts of unique values in both 'Edur' and 'JobType' features"
      ]
    },
    {
      "cell_type": "code",
      "metadata": {
        "colab": {
          "base_uri": "https://localhost:8080/"
        },
        "id": "q8hXnsKFqo5B",
        "outputId": "5f201277-c27b-4525-eddc-46b4984a9bbb"
      },
      "source": [
        "# checking the counts of unique values in 'Edur' in sel_rows\n",
        "\n",
        "sel_rows['Edur'].value_counts()\n"
      ],
      "execution_count": 128,
      "outputs": [
        {
          "output_type": "execute_result",
          "data": {
            "text/plain": [
              "not employed    62\n",
              "Name: Edur, dtype: int64"
            ]
          },
          "metadata": {},
          "execution_count": 128
        }
      ]
    },
    {
      "cell_type": "code",
      "metadata": {
        "colab": {
          "base_uri": "https://localhost:8080/"
        },
        "id": "ItVgStQBrxvw",
        "outputId": "b79807ca-ed7c-4aa2-d8d8-1beff4edde45"
      },
      "source": [
        "# now, checking the counts of unique values in 'JobType' in sel_rows\n",
        "\n",
        "sel_rows['JobType'].value_counts()"
      ],
      "execution_count": 129,
      "outputs": [
        {
          "output_type": "execute_result",
          "data": {
            "text/plain": [
              "employed either in management, self or in high position    33\n",
              "non resident either unemployed or  unskilled               16\n",
              "employee with official position                            12\n",
              "resident unskilled                                          1\n",
              "Name: JobType, dtype: int64"
            ]
          },
          "metadata": {},
          "execution_count": 129
        }
      ]
    },
    {
      "cell_type": "markdown",
      "metadata": {
        "id": "ds62H5Q-sNBz"
      },
      "source": [
        "Observation: \n",
        "\n",
        "The output of above two code expressions shows that 45 rows contain contradictory information and are required to be removed from the dataset before building the classification model. In each of these 45 rows, the value in 'Edur' suggests that the client is not employed and it is completely opposite to the corresponding values in 'JobType' that suggest that the client is employed. This discrepancy in information further raises doubts on the data recording and collection procedures utilized by the data collector to create the dataset given in this case study problem. Thus, we will remove these 45 rows and build a classification model to check whether there are any improvements in the performance w.r.t. F1 score. However, the better performance of classification model is still doubtful because the justification for making the claims whether a loan is likely to be bad or good is not clearly understood from the given features and is also not in accordance with the industry practices followed to measure credit risk. "
      ]
    },
    {
      "cell_type": "code",
      "metadata": {
        "id": "6i3D37nUz2_y"
      },
      "source": [
        "# removing rows with contradictory information from the iit_var dataframe\n",
        "\n",
        "iit_var.drop(iit_var[(iit_var['Edur'].str.startswith('not')) & (iit_var['JobType'].str.startswith('employed'))].index, inplace = True)"
      ],
      "execution_count": 130,
      "outputs": []
    },
    {
      "cell_type": "markdown",
      "metadata": {
        "id": "fer0BcGD4PCM"
      },
      "source": [
        "The above code expression should have removed 33 rows from the dataset with contradictory information. The rest of 12 rows are also required to be removed from the dataset.  "
      ]
    },
    {
      "cell_type": "code",
      "metadata": {
        "colab": {
          "base_uri": "https://localhost:8080/"
        },
        "id": "AiM1yWnx6CN4",
        "outputId": "e5a4cd8b-d141-42e7-952b-6b4970ff4bec"
      },
      "source": [
        "# verifying whether the rows are removed from the dataframe\n",
        "\n",
        "len(iit_var.loc[((iit_var['Edur'].str.startswith('not')) & (iit_var['JobType'].str.startswith('employed'))), :])"
      ],
      "execution_count": 131,
      "outputs": [
        {
          "output_type": "execute_result",
          "data": {
            "text/plain": [
              "0"
            ]
          },
          "metadata": {},
          "execution_count": 131
        }
      ]
    },
    {
      "cell_type": "markdown",
      "metadata": {
        "id": "ahdmwfoS7nBm"
      },
      "source": [
        "The output of above code expression shows that all the 33 rows are removed. "
      ]
    },
    {
      "cell_type": "code",
      "metadata": {
        "id": "0I5wVxBo7v4I"
      },
      "source": [
        "# removing the remaining 12 rows with contradictory information in 'Edur' and 'JobType' \n",
        "\n",
        "iit_var.drop(iit_var[(iit_var['Edur'].str.startswith('not')) & (iit_var['JobType'].str.startswith('employee'))].index, inplace = True)"
      ],
      "execution_count": 132,
      "outputs": []
    },
    {
      "cell_type": "code",
      "metadata": {
        "colab": {
          "base_uri": "https://localhost:8080/"
        },
        "id": "b6_jUq3G9K6v",
        "outputId": "0c3d2529-d1a1-44b1-8636-9ef0b4a9abb5"
      },
      "source": [
        "# verifying whether the 12 rows are removed from the dataframe\n",
        "\n",
        "len(iit_var.loc[((iit_var['Edur'].str.startswith('not')) & (iit_var['JobType'].str.startswith('employee'))), :])"
      ],
      "execution_count": 133,
      "outputs": [
        {
          "output_type": "execute_result",
          "data": {
            "text/plain": [
              "0"
            ]
          },
          "metadata": {},
          "execution_count": 133
        }
      ]
    },
    {
      "cell_type": "markdown",
      "metadata": {
        "id": "3d2rghIf951q"
      },
      "source": [
        "The output of above code expression shows that the 12 rows are removed from the dataframe."
      ]
    },
    {
      "cell_type": "code",
      "metadata": {
        "id": "RxFEVREc-nBv"
      },
      "source": [
        "# now, separating the dataset into features and label \n",
        "\n",
        "feat_var1, tar_var1 = iit_var.drop(['creditScore'], axis = 1), iit_var['creditScore']\n"
      ],
      "execution_count": 134,
      "outputs": []
    },
    {
      "cell_type": "code",
      "metadata": {
        "id": "o1kqhsUMOpiK"
      },
      "source": [
        "# transforming the categorical and numeric features in feat_var1 dataframe\n",
        "\n",
        "num_transformer1 = Pipeline(steps = [('scaler', StandardScaler())])\n",
        "\n",
        "cat_transformer1 = Pipeline(steps = [('encoder', OneHotEncoder(handle_unknown= 'ignore'))])\n"
      ],
      "execution_count": 135,
      "outputs": []
    },
    {
      "cell_type": "code",
      "metadata": {
        "id": "QFFlAzsvQyiy"
      },
      "source": [
        "# categorical features \n",
        "\n",
        "encode_var = ['Cbal', 'Chist', 'Cpur', 'Sbal', 'Edur', 'MSG', 'Oparties', 'Rdur', 'Prop', 'inPlans', 'Htype', 'JobType', 'telephone', 'foreign']"
      ],
      "execution_count": 136,
      "outputs": []
    },
    {
      "cell_type": "code",
      "metadata": {
        "id": "D3-Fh7XYQ9hC"
      },
      "source": [
        "# numerical features\n",
        "\n",
        "num_var = ['Cdur', 'Camt', 'InRate', 'age', 'NumCred', 'Ndepend']"
      ],
      "execution_count": 137,
      "outputs": []
    },
    {
      "cell_type": "code",
      "metadata": {
        "id": "NYuq8eWiQn3H"
      },
      "source": [
        "# now, applying the numerical and categorical transformers to the ColumnTransformer method \n",
        "\n",
        "columnTransformer_1 = ColumnTransformer(transformers = [('num', num_transformer1, num_var), ('cat', cat_transformer1, encode_var)])"
      ],
      "execution_count": 138,
      "outputs": []
    },
    {
      "cell_type": "code",
      "metadata": {
        "id": "lX6oTX6URZpT"
      },
      "source": [
        "# fitting the column transformers to feat_var1 that contains features of the dataset given in this case study\n",
        "\n",
        "feat_var1 = columnTransformer_1.fit_transform(feat_var1)"
      ],
      "execution_count": 139,
      "outputs": []
    },
    {
      "cell_type": "code",
      "metadata": {
        "colab": {
          "base_uri": "https://localhost:8080/"
        },
        "id": "A0r0Br8GRtf9",
        "outputId": "e3239057-a49b-4e5c-9b4a-c1b235fda58d"
      },
      "source": [
        "# now, we will encode the target variable, 'creditScore' in tar_var1 with 0 and 1 values \n",
        "\n",
        "tar_list_1 = []\n",
        "for i in tar_var1.index:\n",
        "  if tar_var1[i] == 'bad':\n",
        "    tar_list_1.append(1)\n",
        "  if tar_var1[i] == 'good':\n",
        "    tar_list_1.append(0)\n"
      ],
      "execution_count": 140,
      "outputs": [
        {
          "output_type": "execute_result",
          "data": {
            "text/plain": [
              "[0,\n",
              " 0,\n",
              " 1,\n",
              " 1,\n",
              " 0,\n",
              " 0,\n",
              " 0,\n",
              " 0,\n",
              " 1,\n",
              " 0,\n",
              " 0,\n",
              " 0,\n",
              " 0,\n",
              " 0,\n",
              " 1,\n",
              " 0,\n",
              " 1,\n",
              " 0,\n",
              " 0,\n",
              " 0,\n",
              " 1,\n",
              " 0,\n",
              " 0,\n",
              " 0,\n",
              " 0,\n",
              " 0,\n",
              " 0,\n",
              " 1,\n",
              " 0,\n",
              " 1,\n",
              " 0,\n",
              " 0,\n",
              " 1,\n",
              " 0,\n",
              " 0,\n",
              " 1,\n",
              " 0,\n",
              " 0,\n",
              " 0,\n",
              " 0,\n",
              " 0,\n",
              " 0,\n",
              " 0,\n",
              " 0,\n",
              " 0,\n",
              " 1,\n",
              " 1,\n",
              " 0,\n",
              " 0,\n",
              " 0,\n",
              " 0,\n",
              " 0,\n",
              " 0,\n",
              " 1,\n",
              " 0,\n",
              " 0,\n",
              " 1,\n",
              " 0,\n",
              " 1,\n",
              " 0,\n",
              " 1,\n",
              " 0,\n",
              " 0,\n",
              " 0,\n",
              " 1,\n",
              " 0,\n",
              " 0,\n",
              " 1,\n",
              " 1,\n",
              " 0,\n",
              " 1,\n",
              " 0,\n",
              " 0,\n",
              " 0,\n",
              " 0,\n",
              " 0,\n",
              " 1,\n",
              " 0,\n",
              " 0,\n",
              " 0,\n",
              " 0,\n",
              " 0,\n",
              " 1,\n",
              " 0,\n",
              " 0,\n",
              " 0,\n",
              " 0,\n",
              " 0,\n",
              " 0,\n",
              " 0,\n",
              " 0,\n",
              " 0,\n",
              " 0,\n",
              " 0,\n",
              " 1,\n",
              " 0,\n",
              " 0,\n",
              " 0,\n",
              " 0,\n",
              " 0,\n",
              " 0,\n",
              " 0,\n",
              " 0,\n",
              " 0,\n",
              " 0,\n",
              " 0,\n",
              " 1,\n",
              " 1,\n",
              " 0,\n",
              " 0,\n",
              " 1,\n",
              " 0,\n",
              " 0,\n",
              " 0,\n",
              " 0,\n",
              " 1,\n",
              " 1,\n",
              " 1,\n",
              " 0,\n",
              " 1,\n",
              " 0,\n",
              " 1,\n",
              " 0,\n",
              " 1,\n",
              " 0,\n",
              " 1,\n",
              " 1,\n",
              " 1,\n",
              " 0,\n",
              " 1,\n",
              " 1,\n",
              " 0,\n",
              " 1,\n",
              " 0,\n",
              " 1,\n",
              " 0,\n",
              " 0,\n",
              " 0,\n",
              " 1,\n",
              " 0,\n",
              " 0,\n",
              " 0,\n",
              " 0,\n",
              " 0,\n",
              " 0,\n",
              " 0,\n",
              " 0,\n",
              " 1,\n",
              " 0,\n",
              " 0,\n",
              " 0,\n",
              " 0,\n",
              " 0,\n",
              " 0,\n",
              " 0,\n",
              " 0,\n",
              " 0,\n",
              " 0,\n",
              " 0,\n",
              " 0,\n",
              " 1,\n",
              " 1,\n",
              " 1,\n",
              " 0,\n",
              " 1,\n",
              " 0,\n",
              " 0,\n",
              " 0,\n",
              " 0,\n",
              " 1,\n",
              " 1,\n",
              " 0,\n",
              " 0,\n",
              " 1,\n",
              " 0,\n",
              " 1,\n",
              " 0,\n",
              " 0,\n",
              " 0,\n",
              " 0,\n",
              " 0,\n",
              " 0,\n",
              " 0,\n",
              " 0,\n",
              " 1,\n",
              " 0,\n",
              " 0,\n",
              " 0,\n",
              " 0,\n",
              " 1,\n",
              " 0,\n",
              " 0,\n",
              " 0,\n",
              " 0,\n",
              " 0,\n",
              " 0,\n",
              " 0,\n",
              " 1,\n",
              " 0,\n",
              " 0,\n",
              " 1,\n",
              " 0,\n",
              " 0,\n",
              " 0,\n",
              " 1,\n",
              " 1,\n",
              " 0,\n",
              " 0,\n",
              " 0,\n",
              " 1,\n",
              " 0,\n",
              " 0,\n",
              " 0,\n",
              " 0,\n",
              " 0,\n",
              " 0,\n",
              " 0,\n",
              " 0,\n",
              " 0,\n",
              " 1,\n",
              " 0,\n",
              " 1,\n",
              " 0,\n",
              " 0,\n",
              " 0,\n",
              " 1,\n",
              " 0,\n",
              " 0,\n",
              " 0,\n",
              " 0,\n",
              " 0,\n",
              " 1,\n",
              " 1,\n",
              " 0,\n",
              " 1,\n",
              " 0,\n",
              " 0,\n",
              " 1,\n",
              " 1,\n",
              " 0,\n",
              " 0,\n",
              " 0,\n",
              " 0,\n",
              " 1,\n",
              " 0,\n",
              " 1,\n",
              " 0,\n",
              " 0,\n",
              " 0,\n",
              " 0,\n",
              " 1,\n",
              " 0,\n",
              " 0,\n",
              " 0,\n",
              " 0,\n",
              " 0,\n",
              " 0,\n",
              " 0,\n",
              " 0,\n",
              " 1,\n",
              " 1,\n",
              " 1,\n",
              " 1,\n",
              " 1,\n",
              " 0,\n",
              " 1,\n",
              " 0,\n",
              " 0,\n",
              " 0,\n",
              " 0,\n",
              " 0,\n",
              " 0,\n",
              " 0,\n",
              " 0,\n",
              " 0,\n",
              " 0,\n",
              " 0,\n",
              " 1,\n",
              " 0,\n",
              " 1,\n",
              " 1,\n",
              " 0,\n",
              " 1,\n",
              " 0,\n",
              " 1,\n",
              " 0,\n",
              " 1,\n",
              " 0,\n",
              " 0,\n",
              " 0,\n",
              " 0,\n",
              " 1,\n",
              " 0,\n",
              " 0,\n",
              " 0,\n",
              " 1,\n",
              " 0,\n",
              " 0,\n",
              " 0,\n",
              " 0,\n",
              " 0,\n",
              " 1,\n",
              " 1,\n",
              " 0,\n",
              " 1,\n",
              " 0,\n",
              " 0,\n",
              " 0,\n",
              " 0,\n",
              " 0,\n",
              " 0,\n",
              " 0,\n",
              " 0,\n",
              " 0,\n",
              " 0,\n",
              " 0,\n",
              " 0,\n",
              " 0,\n",
              " 0,\n",
              " 0,\n",
              " 1,\n",
              " 0,\n",
              " 0,\n",
              " 0,\n",
              " 1,\n",
              " 0,\n",
              " 0,\n",
              " 1,\n",
              " 0,\n",
              " 0,\n",
              " 0,\n",
              " 1,\n",
              " 0,\n",
              " 0,\n",
              " 0,\n",
              " 1,\n",
              " 0,\n",
              " 1,\n",
              " 0,\n",
              " 0,\n",
              " 1,\n",
              " 0,\n",
              " 0,\n",
              " 0,\n",
              " 0,\n",
              " 1,\n",
              " 0,\n",
              " 0,\n",
              " 0,\n",
              " 0,\n",
              " 1,\n",
              " 0,\n",
              " 1,\n",
              " 0,\n",
              " 0,\n",
              " 1,\n",
              " 0,\n",
              " 0,\n",
              " 0,\n",
              " 1,\n",
              " 0,\n",
              " 0,\n",
              " 0,\n",
              " 1,\n",
              " 1,\n",
              " 0,\n",
              " 1,\n",
              " 0,\n",
              " 0,\n",
              " 1,\n",
              " 0,\n",
              " 0,\n",
              " 0,\n",
              " 0,\n",
              " 1,\n",
              " 0,\n",
              " 0,\n",
              " 1,\n",
              " 0,\n",
              " 0,\n",
              " 0,\n",
              " 0,\n",
              " 0,\n",
              " 0,\n",
              " 0,\n",
              " 0,\n",
              " 1,\n",
              " 0,\n",
              " 0,\n",
              " 0,\n",
              " 1,\n",
              " 1,\n",
              " 1,\n",
              " 1,\n",
              " 1,\n",
              " 0,\n",
              " 0,\n",
              " 0,\n",
              " 0,\n",
              " 0,\n",
              " 0,\n",
              " 0,\n",
              " 0,\n",
              " 0,\n",
              " 0,\n",
              " 0,\n",
              " 0,\n",
              " 0,\n",
              " 0,\n",
              " 1,\n",
              " 0,\n",
              " 0,\n",
              " 0,\n",
              " 1,\n",
              " 1,\n",
              " 0,\n",
              " 0,\n",
              " 0,\n",
              " 1,\n",
              " 0,\n",
              " 0,\n",
              " 1,\n",
              " 1,\n",
              " 1,\n",
              " 0,\n",
              " 0,\n",
              " 0,\n",
              " 1,\n",
              " 0,\n",
              " 0,\n",
              " 0,\n",
              " 0,\n",
              " 0,\n",
              " 0,\n",
              " 1,\n",
              " 0,\n",
              " 0,\n",
              " 0,\n",
              " 1,\n",
              " 1,\n",
              " 0,\n",
              " 0,\n",
              " 0,\n",
              " 0,\n",
              " 0,\n",
              " 1,\n",
              " 0,\n",
              " 0,\n",
              " 1,\n",
              " 0,\n",
              " 0,\n",
              " 0,\n",
              " 1,\n",
              " 0,\n",
              " 1,\n",
              " 0,\n",
              " 1,\n",
              " 0,\n",
              " 1,\n",
              " 1,\n",
              " 0,\n",
              " 0,\n",
              " 0,\n",
              " 1,\n",
              " 0,\n",
              " 0,\n",
              " 0,\n",
              " 1,\n",
              " 0,\n",
              " 0,\n",
              " 1,\n",
              " 1,\n",
              " 1,\n",
              " 1,\n",
              " 1,\n",
              " 0,\n",
              " 1,\n",
              " 0,\n",
              " 1,\n",
              " 0,\n",
              " 0,\n",
              " 1,\n",
              " 0,\n",
              " 0,\n",
              " 1,\n",
              " 1,\n",
              " 0,\n",
              " 0,\n",
              " 0,\n",
              " 0,\n",
              " 0,\n",
              " 0,\n",
              " 1,\n",
              " 0,\n",
              " 1,\n",
              " 0,\n",
              " 0,\n",
              " 1,\n",
              " 0,\n",
              " 1,\n",
              " 0,\n",
              " 0,\n",
              " 1,\n",
              " 1,\n",
              " 0,\n",
              " 0,\n",
              " 0,\n",
              " 1,\n",
              " 1,\n",
              " 1,\n",
              " 1,\n",
              " 1,\n",
              " 1,\n",
              " 0,\n",
              " 0,\n",
              " 1,\n",
              " 1,\n",
              " 1,\n",
              " 0,\n",
              " 0,\n",
              " 0,\n",
              " 1,\n",
              " 0,\n",
              " 0,\n",
              " 1,\n",
              " 0,\n",
              " 0,\n",
              " 1,\n",
              " 0,\n",
              " 0,\n",
              " 0,\n",
              " 1,\n",
              " 0,\n",
              " 0,\n",
              " 1,\n",
              " 1,\n",
              " 0,\n",
              " 1,\n",
              " 0,\n",
              " 0,\n",
              " 1,\n",
              " 0,\n",
              " 0,\n",
              " 0,\n",
              " 1,\n",
              " 0,\n",
              " 1,\n",
              " 1,\n",
              " 0,\n",
              " 0,\n",
              " 0,\n",
              " 0,\n",
              " 1,\n",
              " 1,\n",
              " 0,\n",
              " 1,\n",
              " 0,\n",
              " 0,\n",
              " 1,\n",
              " 0,\n",
              " 1,\n",
              " 1,\n",
              " 1,\n",
              " 0,\n",
              " 1,\n",
              " 1,\n",
              " 1,\n",
              " 0,\n",
              " 1,\n",
              " 0,\n",
              " 0,\n",
              " 0,\n",
              " 0,\n",
              " 1,\n",
              " 0,\n",
              " 0,\n",
              " 0,\n",
              " 0,\n",
              " 1,\n",
              " 0,\n",
              " 0,\n",
              " 0,\n",
              " 0,\n",
              " 0,\n",
              " 1,\n",
              " 0,\n",
              " 0,\n",
              " 1,\n",
              " 0,\n",
              " 0,\n",
              " 0,\n",
              " 0,\n",
              " 0,\n",
              " 0,\n",
              " 0,\n",
              " 0,\n",
              " 0,\n",
              " 0,\n",
              " 0,\n",
              " 0,\n",
              " 0,\n",
              " 0,\n",
              " 0,\n",
              " 0,\n",
              " 0,\n",
              " 0,\n",
              " 0,\n",
              " 0,\n",
              " 0,\n",
              " 0,\n",
              " 1,\n",
              " 1,\n",
              " 0,\n",
              " 0,\n",
              " 0,\n",
              " 0,\n",
              " 1,\n",
              " 1,\n",
              " 0,\n",
              " 0,\n",
              " 0,\n",
              " 1,\n",
              " 0,\n",
              " 0,\n",
              " 1,\n",
              " 0,\n",
              " 0,\n",
              " 0,\n",
              " 0,\n",
              " 0,\n",
              " 1,\n",
              " 1,\n",
              " 1,\n",
              " 0,\n",
              " 1,\n",
              " 0,\n",
              " 0,\n",
              " 1,\n",
              " 1,\n",
              " 0,\n",
              " 0,\n",
              " 1,\n",
              " 0,\n",
              " 0,\n",
              " 0,\n",
              " 0,\n",
              " 1,\n",
              " 0,\n",
              " 0,\n",
              " 1,\n",
              " 0,\n",
              " 0,\n",
              " 0,\n",
              " 0,\n",
              " 0,\n",
              " 0,\n",
              " 1,\n",
              " 0,\n",
              " 0,\n",
              " 0,\n",
              " 1,\n",
              " 0,\n",
              " 0,\n",
              " 1,\n",
              " 1,\n",
              " 0,\n",
              " 1,\n",
              " 0,\n",
              " 1,\n",
              " 0,\n",
              " 1,\n",
              " 0,\n",
              " 1,\n",
              " 0,\n",
              " 0,\n",
              " 1,\n",
              " 0,\n",
              " 0,\n",
              " 0,\n",
              " 0,\n",
              " 1,\n",
              " 0,\n",
              " 0,\n",
              " 0,\n",
              " 1,\n",
              " 0,\n",
              " 0,\n",
              " 0,\n",
              " 1,\n",
              " 0,\n",
              " 0,\n",
              " 1,\n",
              " 0,\n",
              " 0,\n",
              " 0,\n",
              " 1,\n",
              " 1,\n",
              " 1,\n",
              " 0,\n",
              " 0,\n",
              " 0,\n",
              " 0,\n",
              " 0,\n",
              " 1,\n",
              " 0,\n",
              " 0,\n",
              " 0,\n",
              " 0,\n",
              " 0,\n",
              " 0,\n",
              " 0,\n",
              " 0,\n",
              " 1,\n",
              " 0,\n",
              " 0,\n",
              " 1,\n",
              " 0,\n",
              " 0,\n",
              " 1,\n",
              " 1,\n",
              " 1,\n",
              " 0,\n",
              " 0,\n",
              " 0,\n",
              " 1,\n",
              " 0,\n",
              " 0,\n",
              " 1,\n",
              " 0,\n",
              " 0,\n",
              " 0,\n",
              " 1,\n",
              " 1,\n",
              " 1,\n",
              " 0,\n",
              " 0,\n",
              " 1,\n",
              " 1,\n",
              " 0,\n",
              " 1,\n",
              " 1,\n",
              " 0,\n",
              " 0,\n",
              " 0,\n",
              " 0,\n",
              " 1,\n",
              " 0,\n",
              " 1,\n",
              " 0,\n",
              " 0,\n",
              " 0,\n",
              " 1,\n",
              " 0,\n",
              " 0,\n",
              " 1,\n",
              " 1,\n",
              " 0,\n",
              " 0,\n",
              " 1,\n",
              " 0,\n",
              " 0,\n",
              " 0,\n",
              " 0,\n",
              " 1,\n",
              " 0,\n",
              " 0,\n",
              " 1,\n",
              " 1,\n",
              " 0,\n",
              " 1,\n",
              " 0,\n",
              " 0,\n",
              " 0,\n",
              " 0,\n",
              " 0,\n",
              " 0,\n",
              " 0,\n",
              " 0,\n",
              " 0,\n",
              " 0,\n",
              " 0,\n",
              " 0,\n",
              " 0,\n",
              " 1,\n",
              " 0,\n",
              " 0,\n",
              " 0,\n",
              " 0,\n",
              " 0,\n",
              " 1,\n",
              " 1,\n",
              " 0,\n",
              " 1,\n",
              " 0,\n",
              " 0,\n",
              " 0,\n",
              " 0,\n",
              " 0,\n",
              " 0,\n",
              " 0,\n",
              " 0,\n",
              " 0,\n",
              " 0,\n",
              " 0,\n",
              " 1,\n",
              " 1,\n",
              " 0,\n",
              " 0,\n",
              " 0,\n",
              " 0,\n",
              " 0,\n",
              " 0,\n",
              " 0,\n",
              " 0,\n",
              " 0,\n",
              " 0,\n",
              " 1,\n",
              " 0,\n",
              " 0,\n",
              " 1,\n",
              " 1,\n",
              " 0,\n",
              " 1,\n",
              " 1,\n",
              " 0,\n",
              " 0,\n",
              " 1,\n",
              " 0,\n",
              " 1,\n",
              " 1,\n",
              " 0,\n",
              " 1,\n",
              " 0,\n",
              " 0,\n",
              " 0,\n",
              " 1,\n",
              " 0,\n",
              " 0,\n",
              " 0,\n",
              " 1,\n",
              " 1,\n",
              " 0,\n",
              " 1,\n",
              " 0,\n",
              " 0,\n",
              " 0,\n",
              " 0,\n",
              " 0,\n",
              " 0,\n",
              " 0,\n",
              " 1,\n",
              " 1,\n",
              " 1,\n",
              " 0,\n",
              " 1,\n",
              " 1,\n",
              " 0,\n",
              " 0,\n",
              " 0,\n",
              " 0,\n",
              " 1,\n",
              " 0,\n",
              " 0,\n",
              " 0,\n",
              " 0,\n",
              " 1,\n",
              " 0,\n",
              " 0,\n",
              " 1,\n",
              " 0,\n",
              " 0,\n",
              " 0,\n",
              " 0,\n",
              " 0,\n",
              " 1,\n",
              " 1,\n",
              " 0,\n",
              " 0,\n",
              " 0,\n",
              " 0,\n",
              " 1,\n",
              " 1,\n",
              " 1,\n",
              " 0,\n",
              " 1,\n",
              " 0,\n",
              " 0,\n",
              " 0,\n",
              " 0,\n",
              " 0,\n",
              " 0,\n",
              " 0,\n",
              " 0,\n",
              " 0,\n",
              " 0,\n",
              " 0,\n",
              " 1,\n",
              " 0,\n",
              " 1,\n",
              " 0,\n",
              " 0,\n",
              " 1,\n",
              " 0,\n",
              " 0,\n",
              " 0,\n",
              " 0,\n",
              " 1,\n",
              " 1,\n",
              " 0,\n",
              " 1,\n",
              " 0,\n",
              " 1,\n",
              " 0,\n",
              " 0,\n",
              " 1,\n",
              " 0,\n",
              " 0,\n",
              " 0,\n",
              " 0,\n",
              " 0,\n",
              " 0,\n",
              " 0,\n",
              " 0,\n",
              " 0,\n",
              " 0,\n",
              " 1,\n",
              " 0,\n",
              " 0,\n",
              " 0,\n",
              " 0,\n",
              " 0,\n",
              " 1,\n",
              " 0,\n",
              " 1,\n",
              " 0,\n",
              " 0,\n",
              " 0,\n",
              " 0,\n",
              " 0,\n",
              " 0,\n",
              " 1,\n",
              " 0,\n",
              " 0,\n",
              " 0,\n",
              " 0,\n",
              " 0,\n",
              " 0,\n",
              " 0,\n",
              " 0,\n",
              " 0,\n",
              " 1,\n",
              " 0,\n",
              " 0,\n",
              " 0,\n",
              " 1]"
            ]
          },
          "metadata": {},
          "execution_count": 140
        }
      ]
    },
    {
      "cell_type": "code",
      "metadata": {
        "id": "3I_qg9RQUDbu"
      },
      "source": [
        "# converting tar_list_1 into series and changing the values in tar_var1\n",
        "tar_ser_1 = pd.Series(tar_list_1)\n",
        "\n",
        "tar_var1 = tar_ser_1"
      ],
      "execution_count": 141,
      "outputs": []
    },
    {
      "cell_type": "code",
      "metadata": {
        "id": "7xoKXWFqUXGG"
      },
      "source": [
        "# building the classification model again by using Repeated Stratified K-fold cross validation and F1 score metric after removing \n",
        "# rows with contradictory information from the dataframe\n",
        "\n",
        "# defining the model\n",
        "model = DummyClassifier(strategy='constant', constant=1)\n",
        "\n",
        "# evaluating the model \n",
        "scores = evaluate_model(feat_var1, tar_var1, model)"
      ],
      "execution_count": 142,
      "outputs": []
    },
    {
      "cell_type": "code",
      "metadata": {
        "colab": {
          "base_uri": "https://localhost:8080/"
        },
        "id": "n-C3_fpkVijQ",
        "outputId": "ee4a6603-9346-4027-bf8e-dc66690056c3"
      },
      "source": [
        "# checking the performance of the classification model for bad loans\n",
        "\n",
        "print('Mean F1: %.3f (%.3f)' % (np.mean(scores), np.std(scores)))"
      ],
      "execution_count": 143,
      "outputs": [
        {
          "output_type": "stream",
          "name": "stdout",
          "text": [
            "Mean F1: 0.456 (0.004)\n"
          ]
        }
      ]
    },
    {
      "cell_type": "markdown",
      "metadata": {
        "id": "oIR9nHwLVm95"
      },
      "source": [
        "The output of above code expression shows a decrease in value of F1 score from earlier value of 0.462. "
      ]
    },
    {
      "cell_type": "code",
      "metadata": {
        "id": "PrSxm7x7V7Hb"
      },
      "source": [
        "# defining the model\n",
        "model = DummyClassifier(strategy='constant', constant=1)\n",
        "\n",
        "# evaluating the model using F2-score metric\n",
        "scores_val = evaluate_model_1(feat_var1, tar_var1, model)"
      ],
      "execution_count": 144,
      "outputs": []
    },
    {
      "cell_type": "code",
      "metadata": {
        "colab": {
          "base_uri": "https://localhost:8080/"
        },
        "id": "B6-BUXGaWMSM",
        "outputId": "abbcf2e6-2b58-4623-dda4-839b4b17cc4a"
      },
      "source": [
        "# checking the performance of the classification model for bad loans\n",
        "\n",
        "print('Mean F2: %.3f (%.3f)' % (np.mean(scores_val), np.std(scores_val)))"
      ],
      "execution_count": 145,
      "outputs": [
        {
          "output_type": "stream",
          "name": "stdout",
          "text": [
            "Mean F2: 0.677 (0.004)\n"
          ]
        }
      ]
    },
    {
      "cell_type": "markdown",
      "metadata": {
        "id": "XJOz6EuwWpBX"
      },
      "source": [
        "Interpretation:\n",
        "\n",
        "The output of above code expression shows that the value of F2 score has also decreased from 0.682 to 0.677. Although there is not much decrease in the value, the value of metric should increase from the previous one as the value of 1 is considered the best for each of the F1-scores and F2-scores. But, values close to 0 are considered the worst. "
      ]
    },
    {
      "cell_type": "markdown",
      "metadata": {
        "id": "kDYG885MmIX9"
      },
      "source": [
        "**Very Important Point:**\n",
        "\n",
        "In this case study problem, the given dataset is not imbalanced with respect to ratio of number of examples in each of the two loan classes respectively. However, bad loans themselves carry higher cost implications than good loans for the lending institution. Thus, the classification of bad loans in the given dataset presents a imbalanced classification problem in which the costs of false negative is much worse than false positive for the lending institution. In such imbalanced classification problems, **cost-sensitive learning** is advised. Please check the link for details: https://machinelearningmastery.com/cost-sensitive-learning-for-imbalanced-classification/ . \n",
        "\n",
        "Thus, in order to have sufficient representation from each of the classes of loan categories in the dataset and to account for their differential costs, \"oversampling\" from minority loan category that has relatively lower number of observations is required for building a better classification model that can result in less number of false negatives. In this specific case study problem, we will use SMOTEENN method that itself combines two methods:\n",
        "1) SMOTE(Synthetic Minority Oversampling Technique) for oversampling from the minority class i.e.; bad loans and,\n",
        "2) ENN (Edited Nearest Neighbors) for undersampling. It removes the samples close to the decision boundary that separates the two classes. We will also use LDA (Linear Discriminant Analysis) algorithm for carrying out dimensionality reduction in the dataset. \n",
        "\n",
        "It is also important to consider that the given dataset lacks important features, details and has inconsistent information that makes this dataset not suitable to build a classification model for bad loans and provide insights to Cautious plc, the lending insitution for use in its business applications.  \n"
      ]
    },
    {
      "cell_type": "code",
      "metadata": {
        "id": "pgak-e0WwWfe"
      },
      "source": [
        "# importing necessary packages\n",
        "\n",
        "from sklearn.model_selection import train_test_split as tts\n",
        "\n",
        "from sklearn.metrics import classification_report\n",
        "\n",
        "from sklearn.discriminant_analysis import LinearDiscriminantAnalysis\n",
        "\n",
        "from imblearn.combine import SMOTEENN\n",
        "\n",
        "from imblearn.under_sampling import EditedNearestNeighbours"
      ],
      "execution_count": 197,
      "outputs": []
    },
    {
      "cell_type": "code",
      "metadata": {
        "id": "zXIJO7AKXeFU"
      },
      "source": [
        "# first of all, we will tweak some of the numerical features by converting them into category as their values are ordinal in nature and are integers.\n",
        "# These features are 'InRate', 'NumCred' and 'Ndepend' and they will be one-hot encoded after conversion into categorical data types\n",
        "\n",
        "iit_var['InRate'] = iit_var['InRate'].astype('category')\n",
        "\n",
        "iit_var['NumCred'] = iit_var['NumCred'].astype('category')\n",
        "\n",
        "iit_var['Ndepend'] = iit_var['Ndepend'].astype('category')\n",
        "\n",
        "encode_var1 = ['Cbal', 'Chist', 'Cpur', 'Sbal', 'Edur', 'InRate', 'MSG', 'Oparties', 'Rdur', 'Prop', 'inPlans', 'Htype', 'NumCred', \n",
        "               'JobType', 'Ndepend', 'telephone', 'foreign']\n",
        "\n",
        "num_var1 = num_var = ['Cdur', 'Camt', 'age']"
      ],
      "execution_count": 167,
      "outputs": []
    },
    {
      "cell_type": "code",
      "metadata": {
        "id": "mpr3DRJsSHGO"
      },
      "source": [
        "# separating the features and label in the dataframe \n",
        "\n",
        "feat_var2, tar_var2 = iit_var.drop(['creditScore'], axis = 1), iit_var['creditScore']"
      ],
      "execution_count": 202,
      "outputs": []
    },
    {
      "cell_type": "markdown",
      "metadata": {
        "id": "YM5fOXf0TuhI"
      },
      "source": [
        "Next, we will one-hot encode the categorical variables and scale the numerical variables in feat_var2. The values in tar_var2, which is the label or target variable will be encoded as 0 and 1 for good and bad loans respectively. "
      ]
    },
    {
      "cell_type": "code",
      "metadata": {
        "id": "1gBJnkPAUxhG"
      },
      "source": [
        "# transforming the categorical and numeric features in feat_var2 dataframe\n",
        "\n",
        "num_transformer2 = Pipeline(steps = [('scaler', StandardScaler())])\n",
        "\n",
        "cat_transformer2 = Pipeline(steps = [('encoder', OneHotEncoder(handle_unknown= 'ignore'))])"
      ],
      "execution_count": 204,
      "outputs": []
    },
    {
      "cell_type": "code",
      "metadata": {
        "id": "ZZ7IuK-3WALL"
      },
      "source": [
        "# now, applying the numerical and categorical transformers to the ColumnTransformer method \n",
        "\n",
        "columnTransformer_2 = ColumnTransformer(transformers = [('num', num_transformer2, num_var1), ('cat', cat_transformer2, encode_var1)])"
      ],
      "execution_count": 205,
      "outputs": []
    },
    {
      "cell_type": "code",
      "metadata": {
        "id": "VVaLqycmIq-K"
      },
      "source": [
        "feat_var2 = columnTransformer_2.fit_transform(feat_var2)"
      ],
      "execution_count": 206,
      "outputs": []
    },
    {
      "cell_type": "code",
      "metadata": {
        "id": "ncVVNFvZZxry"
      },
      "source": [
        "# now, encoding the values as 0 and 1 in tar_var2 dataframe\n",
        "\n",
        "tar_list_2 = []\n",
        "for i in tar_var2.index:\n",
        "  if tar_var2[i] == 'bad':\n",
        "    tar_list_2.append(1)\n",
        "  if tar_var2[i] == 'good':\n",
        "    tar_list_2.append(0)\n"
      ],
      "execution_count": 207,
      "outputs": []
    },
    {
      "cell_type": "code",
      "metadata": {
        "id": "8I4FYg_LcS31"
      },
      "source": [
        "# converting tar_list_2 into series and changing the values in tar_var2\n",
        "tar_ser_2 = pd.Series(tar_list_2)\n",
        "\n",
        "tar_var2 = tar_ser_2"
      ],
      "execution_count": 208,
      "outputs": []
    },
    {
      "cell_type": "code",
      "metadata": {
        "id": "SQNhshR70Mgj"
      },
      "source": [
        "# defining model for evaluation\n",
        "model = LinearDiscriminantAnalysis()\n",
        "# defining the data sampling\n",
        "sampling = SMOTEENN(enn=EditedNearestNeighbours(sampling_strategy='majority'))"
      ],
      "execution_count": 209,
      "outputs": []
    },
    {
      "cell_type": "code",
      "metadata": {
        "id": "4vcrA3Vy0Yfl"
      },
      "source": [
        "# importing necessary package\n",
        "from imblearn.pipeline import Pipeline\n",
        "\n",
        "# scale, then sample, then fit model\n",
        "pipeline = Pipeline([('s', sampling), ('m',model)])"
      ],
      "execution_count": 210,
      "outputs": []
    },
    {
      "cell_type": "code",
      "metadata": {
        "id": "AJSkTQgGJGWl"
      },
      "source": [
        "feat_var2 = feat_var2.toarray()"
      ],
      "execution_count": 213,
      "outputs": []
    },
    {
      "cell_type": "code",
      "metadata": {
        "colab": {
          "base_uri": "https://localhost:8080/"
        },
        "id": "uJhc6Z_eFOjx",
        "outputId": "97f332c4-b3ae-4883-8673-ed76c19cda1b"
      },
      "source": [
        "feat_train, feat_test, tar_train, tar_test = tts(feat_var2, tar_var2, random_state=42)\n",
        "\n",
        "pipeline.fit(feat_train, tar_train) \n",
        "\n",
        "predictions = pipeline.predict(feat_test)\n"
      ],
      "execution_count": 214,
      "outputs": [
        {
          "output_type": "stream",
          "name": "stderr",
          "text": [
            "/usr/local/lib/python3.7/dist-packages/sklearn/utils/deprecation.py:87: FutureWarning: Function safe_indexing is deprecated; safe_indexing is deprecated in version 0.22 and will be removed in version 0.24.\n",
            "  warnings.warn(msg, category=FutureWarning)\n",
            "/usr/local/lib/python3.7/dist-packages/sklearn/utils/deprecation.py:87: FutureWarning: Function safe_indexing is deprecated; safe_indexing is deprecated in version 0.22 and will be removed in version 0.24.\n",
            "  warnings.warn(msg, category=FutureWarning)\n",
            "/usr/local/lib/python3.7/dist-packages/sklearn/utils/deprecation.py:87: FutureWarning: Function safe_indexing is deprecated; safe_indexing is deprecated in version 0.22 and will be removed in version 0.24.\n",
            "  warnings.warn(msg, category=FutureWarning)\n"
          ]
        }
      ]
    },
    {
      "cell_type": "markdown",
      "metadata": {
        "id": "gIdc-W--TyEI"
      },
      "source": [
        "Getting the Metrics for the Classification of Bad Loans (Class 1)"
      ]
    },
    {
      "cell_type": "code",
      "metadata": {
        "colab": {
          "base_uri": "https://localhost:8080/"
        },
        "id": "4-wO5ep3RN4_",
        "outputId": "ab4c3d46-2341-4859-cb8a-104b9481efaa"
      },
      "source": [
        "# precision \n",
        "\n",
        "from sklearn import metrics\n",
        "\n",
        "metrics.precision_score(tar_test, predictions)"
      ],
      "execution_count": 216,
      "outputs": [
        {
          "output_type": "execute_result",
          "data": {
            "text/plain": [
              "0.41379310344827586"
            ]
          },
          "metadata": {},
          "execution_count": 216
        }
      ]
    },
    {
      "cell_type": "markdown",
      "metadata": {
        "id": "eijTkMufT--T"
      },
      "source": [
        "The output of above code expression gives the precision value or percentage of positive predictions or bad loan predictions that were correct. However, we are looking for higher recall values to minimize the false negatives, which could have more adverse effects on the revenue of the lending institution as bad loans are incorrectly classified as good loans. "
      ]
    },
    {
      "cell_type": "code",
      "metadata": {
        "colab": {
          "base_uri": "https://localhost:8080/"
        },
        "id": "o3KCqHkaRZGZ",
        "outputId": "f0f5da22-3f08-4774-8992-8e0505a9862e"
      },
      "source": [
        "# recall\n",
        "\n",
        "metrics.recall_score(tar_test, predictions)"
      ],
      "execution_count": 217,
      "outputs": [
        {
          "output_type": "execute_result",
          "data": {
            "text/plain": [
              "0.8823529411764706"
            ]
          },
          "metadata": {},
          "execution_count": 217
        }
      ]
    },
    {
      "cell_type": "markdown",
      "metadata": {
        "id": "MtHmXuRTVQBw"
      },
      "source": [
        "The output of above code expression shows a much higher recall value than precision value. We stated earlier that higher recall values will enable better classification of bad loans in this specific case study problem. "
      ]
    },
    {
      "cell_type": "code",
      "metadata": {
        "colab": {
          "base_uri": "https://localhost:8080/"
        },
        "id": "fvDOaxhxRjnD",
        "outputId": "31bb9cd9-b6fb-42df-bd51-965701c16738"
      },
      "source": [
        "# F1-score\n",
        "\n",
        "metrics.f1_score(tar_test, predictions)"
      ],
      "execution_count": 218,
      "outputs": [
        {
          "output_type": "execute_result",
          "data": {
            "text/plain": [
              "0.5633802816901409"
            ]
          },
          "metadata": {},
          "execution_count": 218
        }
      ]
    },
    {
      "cell_type": "markdown",
      "metadata": {
        "id": "8OGL_hQwVuzR"
      },
      "source": [
        "The output of above code expression gives the F1-score or the harmonic average of precision and recall values. The value of F1-score is lower relative to the evaluation done earlier using Repeated Stratified K-fold cross-validation. However, it is important to have more emphasis or weightage on recall or sensitivity values as it could help in better classification of bad loans. Hence, we will also consider F2-score values. "
      ]
    },
    {
      "cell_type": "code",
      "metadata": {
        "colab": {
          "base_uri": "https://localhost:8080/"
        },
        "id": "fkGwwX8HRx8Y",
        "outputId": "20bf09a6-b406-4807-b077-5dd9e09ededc"
      },
      "source": [
        "# F2-score\n",
        "\n",
        "metrics.fbeta_score(tar_test, predictions, beta=2)"
      ],
      "execution_count": 219,
      "outputs": [
        {
          "output_type": "execute_result",
          "data": {
            "text/plain": [
              "0.7194244604316546"
            ]
          },
          "metadata": {},
          "execution_count": 219
        }
      ]
    },
    {
      "cell_type": "markdown",
      "metadata": {
        "id": "No5rmmVaW0PR"
      },
      "source": [
        "The output of above code expression shows a very high value of F2-score i.e.; 0.719 in comparison to the previous value of 0.677. This value shows improvement in the classification performance. "
      ]
    },
    {
      "cell_type": "markdown",
      "metadata": {
        "id": "ntRnqKwKXjCJ"
      },
      "source": [
        "Summary:\n",
        "\n",
        "This case study assignment is completed with the purpose of presenting the comprehensive aspects of the problem and the details of the given dataset to the reader without overlooking the suitability of the given dataset in classification of bad loans for use in business applications by Cautious plc. It is concluded that the given dataset lacks important features, details and presents inconsistent information that can raise doubts about the classification of bad loans. The extensive research about wider practices of lending institutions has supported this conclusion and relevant links are provided for reference in this assignment file. Furthermore, it is observed that there is no clear justification for making the claims whether a loan is likely to a good or bad with respect to the lack of complete information in the features given in the dataset. Although the classification model is built using the dataset to show the results of the predictions, it is doubtful whether the analysis performed using the given dataset is suitable for business applications in lending institution. "
      ]
    }
  ]
}